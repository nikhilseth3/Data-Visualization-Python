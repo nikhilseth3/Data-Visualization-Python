{
 "cells": [
  {
   "cell_type": "code",
   "execution_count": 14,
   "metadata": {},
   "outputs": [],
   "source": [
    "import pandas as pd\n",
    "import numpy as np\n",
    "\n",
    "%matplotlib inline"
   ]
  },
  {
   "cell_type": "code",
   "execution_count": 2,
   "metadata": {},
   "outputs": [],
   "source": [
    "from plotly import __version__"
   ]
  },
  {
   "cell_type": "code",
   "execution_count": 3,
   "metadata": {},
   "outputs": [
    {
     "name": "stdout",
     "output_type": "stream",
     "text": [
      "4.6.0\n"
     ]
    }
   ],
   "source": [
    "print(__version__)"
   ]
  },
  {
   "cell_type": "code",
   "execution_count": 4,
   "metadata": {},
   "outputs": [],
   "source": [
    "import cufflinks as cf"
   ]
  },
  {
   "cell_type": "code",
   "execution_count": 5,
   "metadata": {},
   "outputs": [],
   "source": [
    "from plotly.offline import download_plotlyjs,init_notebook_mode,plot,iplot"
   ]
  },
  {
   "cell_type": "code",
   "execution_count": 7,
   "metadata": {},
   "outputs": [
    {
     "data": {
      "text/html": [
       "        <script type=\"text/javascript\">\n",
       "        window.PlotlyConfig = {MathJaxConfig: 'local'};\n",
       "        if (window.MathJax) {MathJax.Hub.Config({SVG: {font: \"STIX-Web\"}});}\n",
       "        if (typeof require !== 'undefined') {\n",
       "        require.undef(\"plotly\");\n",
       "        requirejs.config({\n",
       "            paths: {\n",
       "                'plotly': ['https://cdn.plot.ly/plotly-latest.min']\n",
       "            }\n",
       "        });\n",
       "        require(['plotly'], function(Plotly) {\n",
       "            window._Plotly = Plotly;\n",
       "        });\n",
       "        }\n",
       "        </script>\n",
       "        "
      ]
     },
     "metadata": {},
     "output_type": "display_data"
    }
   ],
   "source": [
    "init_notebook_mode(connected=True)    # accessing the pyplot offline \n",
    "\n",
    "# online version is paid"
   ]
  },
  {
   "cell_type": "code",
   "execution_count": 8,
   "metadata": {},
   "outputs": [
    {
     "data": {
      "text/html": [
       "        <script type=\"text/javascript\">\n",
       "        window.PlotlyConfig = {MathJaxConfig: 'local'};\n",
       "        if (window.MathJax) {MathJax.Hub.Config({SVG: {font: \"STIX-Web\"}});}\n",
       "        if (typeof require !== 'undefined') {\n",
       "        require.undef(\"plotly\");\n",
       "        requirejs.config({\n",
       "            paths: {\n",
       "                'plotly': ['https://cdn.plot.ly/plotly-latest.min']\n",
       "            }\n",
       "        });\n",
       "        require(['plotly'], function(Plotly) {\n",
       "            window._Plotly = Plotly;\n",
       "        });\n",
       "        }\n",
       "        </script>\n",
       "        "
      ]
     },
     "metadata": {},
     "output_type": "display_data"
    }
   ],
   "source": [
    "cf.go_offline()   # using cufflinks offline"
   ]
  },
  {
   "cell_type": "code",
   "execution_count": 10,
   "metadata": {},
   "outputs": [],
   "source": [
    "df = pd.DataFrame(np.random.randn(100,4),columns='A B C D'.split())"
   ]
  },
  {
   "cell_type": "code",
   "execution_count": 11,
   "metadata": {},
   "outputs": [
    {
     "data": {
      "text/html": [
       "<div>\n",
       "<style scoped>\n",
       "    .dataframe tbody tr th:only-of-type {\n",
       "        vertical-align: middle;\n",
       "    }\n",
       "\n",
       "    .dataframe tbody tr th {\n",
       "        vertical-align: top;\n",
       "    }\n",
       "\n",
       "    .dataframe thead th {\n",
       "        text-align: right;\n",
       "    }\n",
       "</style>\n",
       "<table border=\"1\" class=\"dataframe\">\n",
       "  <thead>\n",
       "    <tr style=\"text-align: right;\">\n",
       "      <th></th>\n",
       "      <th>A</th>\n",
       "      <th>B</th>\n",
       "      <th>C</th>\n",
       "      <th>D</th>\n",
       "    </tr>\n",
       "  </thead>\n",
       "  <tbody>\n",
       "    <tr>\n",
       "      <th>0</th>\n",
       "      <td>-0.043854</td>\n",
       "      <td>2.954683</td>\n",
       "      <td>0.695595</td>\n",
       "      <td>0.134821</td>\n",
       "    </tr>\n",
       "    <tr>\n",
       "      <th>1</th>\n",
       "      <td>-0.730195</td>\n",
       "      <td>1.236583</td>\n",
       "      <td>-0.745110</td>\n",
       "      <td>1.331072</td>\n",
       "    </tr>\n",
       "    <tr>\n",
       "      <th>2</th>\n",
       "      <td>-0.349683</td>\n",
       "      <td>2.104708</td>\n",
       "      <td>-1.309255</td>\n",
       "      <td>-1.856840</td>\n",
       "    </tr>\n",
       "    <tr>\n",
       "      <th>3</th>\n",
       "      <td>-1.061282</td>\n",
       "      <td>0.663312</td>\n",
       "      <td>-1.148968</td>\n",
       "      <td>-1.082669</td>\n",
       "    </tr>\n",
       "    <tr>\n",
       "      <th>4</th>\n",
       "      <td>0.659180</td>\n",
       "      <td>0.153854</td>\n",
       "      <td>-2.149990</td>\n",
       "      <td>-1.486176</td>\n",
       "    </tr>\n",
       "    <tr>\n",
       "      <th>...</th>\n",
       "      <td>...</td>\n",
       "      <td>...</td>\n",
       "      <td>...</td>\n",
       "      <td>...</td>\n",
       "    </tr>\n",
       "    <tr>\n",
       "      <th>95</th>\n",
       "      <td>-0.180858</td>\n",
       "      <td>-0.290195</td>\n",
       "      <td>-0.224309</td>\n",
       "      <td>0.378756</td>\n",
       "    </tr>\n",
       "    <tr>\n",
       "      <th>96</th>\n",
       "      <td>0.181660</td>\n",
       "      <td>0.278583</td>\n",
       "      <td>0.151215</td>\n",
       "      <td>0.179976</td>\n",
       "    </tr>\n",
       "    <tr>\n",
       "      <th>97</th>\n",
       "      <td>-0.622503</td>\n",
       "      <td>0.122942</td>\n",
       "      <td>-0.354354</td>\n",
       "      <td>-0.568273</td>\n",
       "    </tr>\n",
       "    <tr>\n",
       "      <th>98</th>\n",
       "      <td>-1.080194</td>\n",
       "      <td>-1.172652</td>\n",
       "      <td>-0.166061</td>\n",
       "      <td>-0.631836</td>\n",
       "    </tr>\n",
       "    <tr>\n",
       "      <th>99</th>\n",
       "      <td>0.678496</td>\n",
       "      <td>0.913153</td>\n",
       "      <td>-0.317154</td>\n",
       "      <td>-0.593903</td>\n",
       "    </tr>\n",
       "  </tbody>\n",
       "</table>\n",
       "<p>100 rows × 4 columns</p>\n",
       "</div>"
      ],
      "text/plain": [
       "           A         B         C         D\n",
       "0  -0.043854  2.954683  0.695595  0.134821\n",
       "1  -0.730195  1.236583 -0.745110  1.331072\n",
       "2  -0.349683  2.104708 -1.309255 -1.856840\n",
       "3  -1.061282  0.663312 -1.148968 -1.082669\n",
       "4   0.659180  0.153854 -2.149990 -1.486176\n",
       "..       ...       ...       ...       ...\n",
       "95 -0.180858 -0.290195 -0.224309  0.378756\n",
       "96  0.181660  0.278583  0.151215  0.179976\n",
       "97 -0.622503  0.122942 -0.354354 -0.568273\n",
       "98 -1.080194 -1.172652 -0.166061 -0.631836\n",
       "99  0.678496  0.913153 -0.317154 -0.593903\n",
       "\n",
       "[100 rows x 4 columns]"
      ]
     },
     "execution_count": 11,
     "metadata": {},
     "output_type": "execute_result"
    }
   ],
   "source": [
    "df"
   ]
  },
  {
   "cell_type": "code",
   "execution_count": 12,
   "metadata": {},
   "outputs": [],
   "source": [
    "df2 = pd.DataFrame({'Category':['A','B','C'], 'Values':[32,43,50]})\n",
    "\n",
    "# 2 columns"
   ]
  },
  {
   "cell_type": "code",
   "execution_count": 13,
   "metadata": {},
   "outputs": [
    {
     "data": {
      "text/html": [
       "<div>\n",
       "<style scoped>\n",
       "    .dataframe tbody tr th:only-of-type {\n",
       "        vertical-align: middle;\n",
       "    }\n",
       "\n",
       "    .dataframe tbody tr th {\n",
       "        vertical-align: top;\n",
       "    }\n",
       "\n",
       "    .dataframe thead th {\n",
       "        text-align: right;\n",
       "    }\n",
       "</style>\n",
       "<table border=\"1\" class=\"dataframe\">\n",
       "  <thead>\n",
       "    <tr style=\"text-align: right;\">\n",
       "      <th></th>\n",
       "      <th>Category</th>\n",
       "      <th>Values</th>\n",
       "    </tr>\n",
       "  </thead>\n",
       "  <tbody>\n",
       "    <tr>\n",
       "      <th>0</th>\n",
       "      <td>A</td>\n",
       "      <td>32</td>\n",
       "    </tr>\n",
       "    <tr>\n",
       "      <th>1</th>\n",
       "      <td>B</td>\n",
       "      <td>43</td>\n",
       "    </tr>\n",
       "    <tr>\n",
       "      <th>2</th>\n",
       "      <td>C</td>\n",
       "      <td>50</td>\n",
       "    </tr>\n",
       "  </tbody>\n",
       "</table>\n",
       "</div>"
      ],
      "text/plain": [
       "  Category  Values\n",
       "0        A      32\n",
       "1        B      43\n",
       "2        C      50"
      ]
     },
     "execution_count": 13,
     "metadata": {},
     "output_type": "execute_result"
    }
   ],
   "source": [
    "df2"
   ]
  },
  {
   "cell_type": "code",
   "execution_count": 17,
   "metadata": {},
   "outputs": [
    {
     "data": {
      "text/plain": [
       "<matplotlib.axes._subplots.AxesSubplot at 0x2288586fd48>"
      ]
     },
     "execution_count": 17,
     "metadata": {},
     "output_type": "execute_result"
    },
    {
     "data": {
      "image/png": "[encoded data removed]",
      "text/plain": [
       "<Figure size 432x288 with 1 Axes>"
      ]
     },
     "metadata": {
      "needs_background": "light"
     },
     "output_type": "display_data"
    }
   ],
   "source": [
    "df.plot()    # normal plot"
   ]
  },
  {
   "cell_type": "code",
   "execution_count": 18,
   "metadata": {},
   "outputs": [
    {
     "data": {
      "application/vnd.plotly.v1+json": {
       "config": {
        "linkText": "Export to plot.ly",
        "plotlyServerURL": "https://plot.ly",
        "showLink": true
       },
       "data": [
        {
         "line": {
          "color": "rgba(255, 153, 51, 1.0)",
          "dash": "solid",
          "shape": "linear",
          "width": 1.3
         },
         "mode": "lines",
         "name": "A",
         "text": "",
         "type": "scatter",
         "x": [
          0,
          1,
          2,
          3,
          4,
          5,
          6,
          7,
          8,
          9,
          10,
          11,
          12,
          13,
          14,
          15,
          16,
          17,
          18,
          19,
          20,
          21,
          22,
          23,
          24,
          25,
          26,
          27,
          28,
          29,
          30,
          31,
          32,
          33,
          34,
          35,
          36,
          37,
          38,
          39,
          40,
          41,
          42,
          43,
          44,
          45,
          46,
          47,
          48,
          49,
          50,
          51,
          52,
          53,
          54,
          55,
          56,
          57,
          58,
          59,
          60,
          61,
          62,
          63,
          64,
          65,
          66,
          67,
          68,
          69,
          70,
          71,
          72,
          73,
          74,
          75,
          76,
          77,
          78,
          79,
          80,
          81,
          82,
          83,
          84,
          85,
          86,
          87,
          88,
          89,
          90,
          91,
          92,
          93,
          94,
          95,
          96,
          97,
          98,
          99
         ],
         "y": [
          -0.04385431780971637,
          -0.7301948168187024,
          -0.3496833695728504,
          -1.0612823737313737,
          0.6591799683260353,
          0.12428679487969375,
          -0.2628424807417794,
          2.908786492446553,
          0.5339220569380786,
          -1.5102640304281827,
          -0.2153849878718799,
          0.14062569399657224,
          -1.2095030942021077,
          0.45284316632611793,
          -1.616644761050487,
          1.2057735309487918,
          -0.27850860903850416,
          0.2661868200566413,
          -0.04888824105785708,
          0.5466453961210647,
          0.02444249995946009,
          -0.8803134222022471,
          0.3959377294436148,
          -1.0125477805236467,
          -0.5403287337285112,
          -1.3969258083854257,
          -0.6647798643181021,
          0.48996370455519694,
          -0.23702134521007456,
          0.8259808476853691,
          -0.9134122472273268,
          -1.1689396577601616,
          0.5853346423361953,
          0.1165143240319178,
          -0.2537611614822444,
          -0.18422371333987664,
          0.8742866058103691,
          -1.073458978869497,
          -0.11088759020331997,
          -1.23745560196081,
          -0.532207923124355,
          0.4647951367313668,
          -0.42647882860361713,
          0.6951312657084125,
          -1.4214167040692915,
          0.902602666447066,
          0.29741521616193584,
          0.528548856648751,
          0.9014676973634032,
          -0.1607135459165966,
          0.35723359219153533,
          0.23642409792308924,
          -0.3889773534472179,
          -2.4151038247887273,
          -0.09893139723269141,
          0.3183672750508919,
          -1.0378675424182902,
          0.287212016653486,
          -3.79126376982542,
          -0.8481039639987642,
          -0.3083120890222015,
          1.793456070709133,
          -1.195369054487541,
          1.0073436597216414,
          -1.2597272629060985,
          1.8384369506007168,
          0.37605391208689704,
          0.6314748697418396,
          0.5955215842189099,
          -0.10636349138020569,
          -1.4523789133361966,
          2.4449306585882913,
          -0.29666309294170307,
          -0.21758145830572764,
          -0.7779081958035611,
          0.1354671171040796,
          0.15111110801098596,
          -0.8735875946797669,
          2.108292328999151,
          0.5581931925719561,
          -0.028223326518975078,
          0.514591322068852,
          -0.7160014933804951,
          1.0216913238644663,
          -1.3091472140787501,
          0.25368841660167313,
          0.6179071895170258,
          -0.34256487682349746,
          1.4664115902589256,
          0.6724977799274586,
          -0.8666211910244764,
          1.0906099527040427,
          -2.6320438549269682,
          -1.2044405223200088,
          0.09772313314017038,
          -0.18085756910776699,
          0.18166012654149388,
          -0.6225026019819604,
          -1.0801935697404188,
          0.6784957157116219
         ]
        },
        {
         "line": {
          "color": "rgba(55, 128, 191, 1.0)",
          "dash": "solid",
          "shape": "linear",
          "width": 1.3
         },
         "mode": "lines",
         "name": "B",
         "text": "",
         "type": "scatter",
         "x": [
          0,
          1,
          2,
          3,
          4,
          5,
          6,
          7,
          8,
          9,
          10,
          11,
          12,
          13,
          14,
          15,
          16,
          17,
          18,
          19,
          20,
          21,
          22,
          23,
          24,
          25,
          26,
          27,
          28,
          29,
          30,
          31,
          32,
          33,
          34,
          35,
          36,
          37,
          38,
          39,
          40,
          41,
          42,
          43,
          44,
          45,
          46,
          47,
          48,
          49,
          50,
          51,
          52,
          53,
          54,
          55,
          56,
          57,
          58,
          59,
          60,
          61,
          62,
          63,
          64,
          65,
          66,
          67,
          68,
          69,
          70,
          71,
          72,
          73,
          74,
          75,
          76,
          77,
          78,
          79,
          80,
          81,
          82,
          83,
          84,
          85,
          86,
          87,
          88,
          89,
          90,
          91,
          92,
          93,
          94,
          95,
          96,
          97,
          98,
          99
         ],
         "y": [
          2.954682519418268,
          1.2365829943535065,
          2.104707567465196,
          0.6633122537619591,
          0.1538540084551306,
          0.23170758817037124,
          -0.43025246824322605,
          -0.8062172600617752,
          0.046277835727682744,
          -0.1452225853859939,
          -0.657776484401953,
          0.053257950611550565,
          1.5457051738269376,
          -1.3621708275952347,
          -0.15216947551494678,
          -0.7568602100782479,
          0.29130806187656605,
          -1.130874456411832,
          -0.4631759857994132,
          -0.14116155647866782,
          0.7118687205278166,
          -1.5500933264992216,
          0.23684817274769057,
          -0.795400792746069,
          -1.7188704299757898,
          -0.49587136119877157,
          1.0845807749581031,
          1.3216725689195945,
          -0.8772702282109345,
          -0.6533764162042501,
          3.2761707724560956,
          -0.6205202155431992,
          -0.13674014934522996,
          0.3545319778991714,
          0.26694297117685484,
          -0.07977085536555945,
          -0.015089174982792847,
          0.9816931248247944,
          -0.9110304148970944,
          -0.3059876199479298,
          0.6662941303764393,
          -0.23594236213250566,
          0.5387516865350658,
          -0.8591039221027258,
          -0.4438675856675307,
          -0.42581560653971906,
          1.5211561268716567,
          -0.3646030143739634,
          1.4187212257471844,
          0.5596787266396095,
          -0.20374108789784603,
          -0.977789621874286,
          -0.4972843153163968,
          1.0519834196489215,
          0.8798947682126929,
          0.57401381845951,
          0.5221857963465762,
          -0.20410583046198696,
          -0.7271785758926677,
          -0.5507149743855863,
          -0.12348649822361285,
          -0.34865126481223113,
          0.37519336960418925,
          0.2054370890711027,
          -0.3686501583006007,
          -0.9308147821700553,
          -0.5101649714460124,
          -1.312756296156895,
          -0.6872924129121585,
          0.2431653092979941,
          -0.4680574915932994,
          0.25846307724269496,
          1.109367302357436,
          -1.046566276737933,
          -0.4507778326412062,
          -0.9890841839195814,
          -1.1484905543171988,
          0.13438786165027108,
          -2.2366854653203547,
          -1.7598337752374726,
          0.3870442907617244,
          1.2678397112271507,
          1.263679739194867,
          -0.13001732439442706,
          -1.9931688174259747,
          0.6132591928043307,
          0.10547007627853718,
          0.1228225407414566,
          -2.0286967006534655,
          0.4496012985812599,
          -0.40793324413434073,
          1.7038975915424757,
          -0.7621430975695681,
          1.2001373603508956,
          -0.6727126847149263,
          -0.2901948996138198,
          0.2785826649259012,
          0.12294192744039334,
          -1.17265209109376,
          0.9131529756743128
         ]
        },
        {
         "line": {
          "color": "rgba(50, 171, 96, 1.0)",
          "dash": "solid",
          "shape": "linear",
          "width": 1.3
         },
         "mode": "lines",
         "name": "C",
         "text": "",
         "type": "scatter",
         "x": [
          0,
          1,
          2,
          3,
          4,
          5,
          6,
          7,
          8,
          9,
          10,
          11,
          12,
          13,
          14,
          15,
          16,
          17,
          18,
          19,
          20,
          21,
          22,
          23,
          24,
          25,
          26,
          27,
          28,
          29,
          30,
          31,
          32,
          33,
          34,
          35,
          36,
          37,
          38,
          39,
          40,
          41,
          42,
          43,
          44,
          45,
          46,
          47,
          48,
          49,
          50,
          51,
          52,
          53,
          54,
          55,
          56,
          57,
          58,
          59,
          60,
          61,
          62,
          63,
          64,
          65,
          66,
          67,
          68,
          69,
          70,
          71,
          72,
          73,
          74,
          75,
          76,
          77,
          78,
          79,
          80,
          81,
          82,
          83,
          84,
          85,
          86,
          87,
          88,
          89,
          90,
          91,
          92,
          93,
          94,
          95,
          96,
          97,
          98,
          99
         ],
         "y": [
          0.695594519761371,
          -0.7451101083358315,
          -1.3092545798623205,
          -1.148967679813761,
          -2.1499901091118283,
          0.16921733208513434,
          -1.652035274965219,
          -0.06536511772995664,
          -0.451555039427988,
          2.5508875085079254,
          1.6432397771654574,
          2.175007969085216,
          -1.183349169847012,
          -0.2803436459544689,
          0.3113778761058616,
          0.6580789933974976,
          -1.2871858908274494,
          0.9421677539359915,
          -1.27898705793451,
          1.5220905163816603,
          0.172627185075392,
          -0.2920546413135475,
          -3.2200752056661366,
          -0.6595483098958985,
          -0.037209911818583956,
          -1.9113396033227792,
          0.7495406055142672,
          0.6122124912669217,
          -1.649923917785392,
          0.24031623434340352,
          -0.9305668877584682,
          -0.17927603028592373,
          -0.6189685160089439,
          -0.10426964419885773,
          -1.584842525233409,
          1.3008582838270968,
          0.9627046666914726,
          -0.07243392267314792,
          -1.0550103985991441,
          -0.42292256301955466,
          -0.0816781964074479,
          -0.3831036956544528,
          -0.18646700797564847,
          1.9161854583075255,
          1.987584099296576,
          0.503544436898424,
          -1.6917730357682448,
          1.2140789508574432,
          0.9544265944842146,
          0.07235024083734189,
          0.30208565258184666,
          0.8493376013882723,
          0.6094930176110523,
          -0.4197814073474403,
          -0.8892714466838095,
          -0.27573081018871615,
          3.06633035138194,
          1.115310615469231,
          -0.5629187882893806,
          -1.7751598399064026,
          -0.22054072021463594,
          -0.1250791946004363,
          0.20207024305742066,
          0.012822231749756524,
          0.7630588279922778,
          -0.7816538608318876,
          -1.1429232919669339,
          0.2819344067155209,
          -0.8882891798691497,
          0.31157165384845725,
          0.4059458147284747,
          2.6654818835155956,
          0.08870181610828648,
          0.622983938101566,
          0.007318167216649481,
          1.1582841684738987,
          0.3045017436015654,
          -0.96055674405388,
          -1.5729460031035347,
          -1.5352180576477532,
          2.0016917048090974,
          0.32958653439078367,
          0.6779242903392502,
          -0.3490746406178837,
          0.03283304032337678,
          -1.3940960375701712,
          -0.9332614368379432,
          -0.48306539946151844,
          0.03717416280524384,
          -1.9064036857319562,
          -0.46771930351655083,
          0.9276597763861216,
          -0.5758620461840461,
          -0.1980995575800092,
          -0.5506458950883171,
          -0.2243089631924862,
          0.1512145499046544,
          -0.3543541912031643,
          -0.16606095706018428,
          -0.31715418224932196
         ]
        },
        {
         "line": {
          "color": "rgba(128, 0, 128, 1.0)",
          "dash": "solid",
          "shape": "linear",
          "width": 1.3
         },
         "mode": "lines",
         "name": "D",
         "text": "",
         "type": "scatter",
         "x": [
          0,
          1,
          2,
          3,
          4,
          5,
          6,
          7,
          8,
          9,
          10,
          11,
          12,
          13,
          14,
          15,
          16,
          17,
          18,
          19,
          20,
          21,
          22,
          23,
          24,
          25,
          26,
          27,
          28,
          29,
          30,
          31,
          32,
          33,
          34,
          35,
          36,
          37,
          38,
          39,
          40,
          41,
          42,
          43,
          44,
          45,
          46,
          47,
          48,
          49,
          50,
          51,
          52,
          53,
          54,
          55,
          56,
          57,
          58,
          59,
          60,
          61,
          62,
          63,
          64,
          65,
          66,
          67,
          68,
          69,
          70,
          71,
          72,
          73,
          74,
          75,
          76,
          77,
          78,
          79,
          80,
          81,
          82,
          83,
          84,
          85,
          86,
          87,
          88,
          89,
          90,
          91,
          92,
          93,
          94,
          95,
          96,
          97,
          98,
          99
         ],
         "y": [
          0.1348211493105177,
          1.331072068722212,
          -1.856840393991974,
          -1.0826692199085175,
          -1.4861759389019042,
          0.9448367510453909,
          0.9002622575274538,
          0.2399951548724196,
          -2.7173109542978042,
          0.6358996172944497,
          0.013757881283311239,
          -0.30715286666621483,
          0.36698070920852155,
          -0.8241317881946497,
          -1.5208647650174614,
          -0.7354562768430071,
          -1.2537972621985167,
          0.8879858198033864,
          -0.7099413000745913,
          -0.6240399942306015,
          2.2184997482400917,
          0.2566080222408146,
          -0.7233435325170695,
          -0.36585809401055946,
          -1.5176547330218004,
          0.5428843962132254,
          -0.4398698888030055,
          0.343625536158871,
          0.1981011674381106,
          0.8065099979206843,
          -1.3603521867792383,
          -0.17187123307592236,
          -1.6779996175054712,
          0.38561612398650275,
          -2.012641034881616,
          -0.37708334812546124,
          -0.04562884599330884,
          -0.4009859990959282,
          0.6939560396032762,
          -1.78589611443427,
          -1.869929131699314,
          -1.399889560058229,
          0.15886750495167176,
          -0.3242586354086578,
          0.9034370869926133,
          -0.5786721926747008,
          -0.8674333759306216,
          0.3454016300783812,
          -0.20187575531975432,
          0.5731724210192811,
          0.23715723874630953,
          1.106720036550557,
          0.9690019581797024,
          0.5959919953305238,
          1.3582327789677624,
          -0.18367776327384572,
          -1.4022175568766304,
          -0.023017278639227246,
          0.3169347429440951,
          1.6603832291117644,
          -0.8495586844825627,
          1.1618684561968171,
          -0.948641960168968,
          0.4354038402751054,
          1.8365202541015424,
          -0.1825034667378457,
          -0.38320184376570177,
          0.41371927923165663,
          -0.4562605062334397,
          -0.29220079785319764,
          -0.041964047096023624,
          0.9246400743910076,
          0.7486839011837545,
          0.2158078060728754,
          -0.6879751583409635,
          1.2030021629063608,
          1.0873298065069406,
          -1.1628069379634776,
          0.9894835492205013,
          -1.2539601106537022,
          -2.2373877359023164,
          -0.2631588365834419,
          1.361965225380507,
          -0.5719167168501775,
          0.5136380454219858,
          2.68058524805295,
          0.7179977132596467,
          0.9458129117680553,
          -1.8728427934674337,
          1.3507462150713798,
          2.004330894660265,
          -0.6651732025284808,
          -0.328919945248043,
          0.691612592123649,
          1.2548065655832024,
          0.37875592667530106,
          0.17997557036559772,
          -0.5682732751177091,
          -0.6318359329537082,
          -0.5939026606920121
         ]
        }
       ],
       "layout": {
        "legend": {
         "bgcolor": "#F5F6F9",
         "font": {
          "color": "#4D5663"
         }
        },
        "paper_bgcolor": "#F5F6F9",
        "plot_bgcolor": "#F5F6F9",
        "template": {
         "data": {
          "bar": [
           {
            "error_x": {
             "color": "#2a3f5f"
            },
            "error_y": {
             "color": "#2a3f5f"
            },
            "marker": {
             "line": {
              "color": "#E5ECF6",
              "width": 0.5
             }
            },
            "type": "bar"
           }
          ],
          "barpolar": [
           {
            "marker": {
             "line": {
              "color": "#E5ECF6",
              "width": 0.5
             }
            },
            "type": "barpolar"
           }
          ],
          "carpet": [
           {
            "aaxis": {
             "endlinecolor": "#2a3f5f",
             "gridcolor": "white",
             "linecolor": "white",
             "minorgridcolor": "white",
             "startlinecolor": "#2a3f5f"
            },
            "baxis": {
             "endlinecolor": "#2a3f5f",
             "gridcolor": "white",
             "linecolor": "white",
             "minorgridcolor": "white",
             "startlinecolor": "#2a3f5f"
            },
            "type": "carpet"
           }
          ],
          "choropleth": [
           {
            "colorbar": {
             "outlinewidth": 0,
             "ticks": ""
            },
            "type": "choropleth"
           }
          ],
          "contour": [
           {
            "colorbar": {
             "outlinewidth": 0,
             "ticks": ""
            },
            "colorscale": [
             [
              0,
              "#0d0887"
             ],
             [
              0.1111111111111111,
              "#46039f"
             ],
             [
              0.2222222222222222,
              "#7201a8"
             ],
             [
              0.3333333333333333,
              "#9c179e"
             ],
             [
              0.4444444444444444,
              "#bd3786"
             ],
             [
              0.5555555555555556,
              "#d8576b"
             ],
             [
              0.6666666666666666,
              "#ed7953"
             ],
             [
              0.7777777777777778,
              "#fb9f3a"
             ],
             [
              0.8888888888888888,
              "#fdca26"
             ],
             [
              1,
              "#f0f921"
             ]
            ],
            "type": "contour"
           }
          ],
          "contourcarpet": [
           {
            "colorbar": {
             "outlinewidth": 0,
             "ticks": ""
            },
            "type": "contourcarpet"
           }
          ],
          "heatmap": [
           {
            "colorbar": {
             "outlinewidth": 0,
             "ticks": ""
            },
            "colorscale": [
             [
              0,
              "#0d0887"
             ],
             [
              0.1111111111111111,
              "#46039f"
             ],
             [
              0.2222222222222222,
              "#7201a8"
             ],
             [
              0.3333333333333333,
              "#9c179e"
             ],
             [
              0.4444444444444444,
              "#bd3786"
             ],
             [
              0.5555555555555556,
              "#d8576b"
             ],
             [
              0.6666666666666666,
              "#ed7953"
             ],
             [
              0.7777777777777778,
              "#fb9f3a"
             ],
             [
              0.8888888888888888,
              "#fdca26"
             ],
             [
              1,
              "#f0f921"
             ]
            ],
            "type": "heatmap"
           }
          ],
          "heatmapgl": [
           {
            "colorbar": {
             "outlinewidth": 0,
             "ticks": ""
            },
            "colorscale": [
             [
              0,
              "#0d0887"
             ],
             [
              0.1111111111111111,
              "#46039f"
             ],
             [
              0.2222222222222222,
              "#7201a8"
             ],
             [
              0.3333333333333333,
              "#9c179e"
             ],
             [
              0.4444444444444444,
              "#bd3786"
             ],
             [
              0.5555555555555556,
              "#d8576b"
             ],
             [
              0.6666666666666666,
              "#ed7953"
             ],
             [
              0.7777777777777778,
              "#fb9f3a"
             ],
             [
              0.8888888888888888,
              "#fdca26"
             ],
             [
              1,
              "#f0f921"
             ]
            ],
            "type": "heatmapgl"
           }
          ],
          "histogram": [
           {
            "marker": {
             "colorbar": {
              "outlinewidth": 0,
              "ticks": ""
             }
            },
            "type": "histogram"
           }
          ],
          "histogram2d": [
           {
            "colorbar": {
             "outlinewidth": 0,
             "ticks": ""
            },
            "colorscale": [
             [
              0,
              "#0d0887"
             ],
             [
              0.1111111111111111,
              "#46039f"
             ],
             [
              0.2222222222222222,
              "#7201a8"
             ],
             [
              0.3333333333333333,
              "#9c179e"
             ],
             [
              0.4444444444444444,
              "#bd3786"
             ],
             [
              0.5555555555555556,
              "#d8576b"
             ],
             [
              0.6666666666666666,
              "#ed7953"
             ],
             [
              0.7777777777777778,
              "#fb9f3a"
             ],
             [
              0.8888888888888888,
              "#fdca26"
             ],
             [
              1,
              "#f0f921"
             ]
            ],
            "type": "histogram2d"
           }
          ],
          "histogram2dcontour": [
           {
            "colorbar": {
             "outlinewidth": 0,
             "ticks": ""
            },
            "colorscale": [
             [
              0,
              "#0d0887"
             ],
             [
              0.1111111111111111,
              "#46039f"
             ],
             [
              0.2222222222222222,
              "#7201a8"
             ],
             [
              0.3333333333333333,
              "#9c179e"
             ],
             [
              0.4444444444444444,
              "#bd3786"
             ],
             [
              0.5555555555555556,
              "#d8576b"
             ],
             [
              0.6666666666666666,
              "#ed7953"
             ],
             [
              0.7777777777777778,
              "#fb9f3a"
             ],
             [
              0.8888888888888888,
              "#fdca26"
             ],
             [
              1,
              "#f0f921"
             ]
            ],
            "type": "histogram2dcontour"
           }
          ],
          "mesh3d": [
           {
            "colorbar": {
             "outlinewidth": 0,
             "ticks": ""
            },
            "type": "mesh3d"
           }
          ],
          "parcoords": [
           {
            "line": {
             "colorbar": {
              "outlinewidth": 0,
              "ticks": ""
             }
            },
            "type": "parcoords"
           }
          ],
          "pie": [
           {
            "automargin": true,
            "type": "pie"
           }
          ],
          "scatter": [
           {
            "marker": {
             "colorbar": {
              "outlinewidth": 0,
              "ticks": ""
             }
            },
            "type": "scatter"
           }
          ],
          "scatter3d": [
           {
            "line": {
             "colorbar": {
              "outlinewidth": 0,
              "ticks": ""
             }
            },
            "marker": {
             "colorbar": {
              "outlinewidth": 0,
              "ticks": ""
             }
            },
            "type": "scatter3d"
           }
          ],
          "scattercarpet": [
           {
            "marker": {
             "colorbar": {
              "outlinewidth": 0,
              "ticks": ""
             }
            },
            "type": "scattercarpet"
           }
          ],
          "scattergeo": [
           {
            "marker": {
             "colorbar": {
              "outlinewidth": 0,
              "ticks": ""
             }
            },
            "type": "scattergeo"
           }
          ],
          "scattergl": [
           {
            "marker": {
             "colorbar": {
              "outlinewidth": 0,
              "ticks": ""
             }
            },
            "type": "scattergl"
           }
          ],
          "scattermapbox": [
           {
            "marker": {
             "colorbar": {
              "outlinewidth": 0,
              "ticks": ""
             }
            },
            "type": "scattermapbox"
           }
          ],
          "scatterpolar": [
           {
            "marker": {
             "colorbar": {
              "outlinewidth": 0,
              "ticks": ""
             }
            },
            "type": "scatterpolar"
           }
          ],
          "scatterpolargl": [
           {
            "marker": {
             "colorbar": {
              "outlinewidth": 0,
              "ticks": ""
             }
            },
            "type": "scatterpolargl"
           }
          ],
          "scatterternary": [
           {
            "marker": {
             "colorbar": {
              "outlinewidth": 0,
              "ticks": ""
             }
            },
            "type": "scatterternary"
           }
          ],
          "surface": [
           {
            "colorbar": {
             "outlinewidth": 0,
             "ticks": ""
            },
            "colorscale": [
             [
              0,
              "#0d0887"
             ],
             [
              0.1111111111111111,
              "#46039f"
             ],
             [
              0.2222222222222222,
              "#7201a8"
             ],
             [
              0.3333333333333333,
              "#9c179e"
             ],
             [
              0.4444444444444444,
              "#bd3786"
             ],
             [
              0.5555555555555556,
              "#d8576b"
             ],
             [
              0.6666666666666666,
              "#ed7953"
             ],
             [
              0.7777777777777778,
              "#fb9f3a"
             ],
             [
              0.8888888888888888,
              "#fdca26"
             ],
             [
              1,
              "#f0f921"
             ]
            ],
            "type": "surface"
           }
          ],
          "table": [
           {
            "cells": {
             "fill": {
              "color": "#EBF0F8"
             },
             "line": {
              "color": "white"
             }
            },
            "header": {
             "fill": {
              "color": "#C8D4E3"
             },
             "line": {
              "color": "white"
             }
            },
            "type": "table"
           }
          ]
         },
         "layout": {
          "annotationdefaults": {
           "arrowcolor": "#2a3f5f",
           "arrowhead": 0,
           "arrowwidth": 1
          },
          "coloraxis": {
           "colorbar": {
            "outlinewidth": 0,
            "ticks": ""
           }
          },
          "colorscale": {
           "diverging": [
            [
             0,
             "#8e0152"
            ],
            [
             0.1,
             "#c51b7d"
            ],
            [
             0.2,
             "#de77ae"
            ],
            [
             0.3,
             "#f1b6da"
            ],
            [
             0.4,
             "#fde0ef"
            ],
            [
             0.5,
             "#f7f7f7"
            ],
            [
             0.6,
             "#e6f5d0"
            ],
            [
             0.7,
             "#b8e186"
            ],
            [
             0.8,
             "#7fbc41"
            ],
            [
             0.9,
             "#4d9221"
            ],
            [
             1,
             "#276419"
            ]
           ],
           "sequential": [
            [
             0,
             "#0d0887"
            ],
            [
             0.1111111111111111,
             "#46039f"
            ],
            [
             0.2222222222222222,
             "#7201a8"
            ],
            [
             0.3333333333333333,
             "#9c179e"
            ],
            [
             0.4444444444444444,
             "#bd3786"
            ],
            [
             0.5555555555555556,
             "#d8576b"
            ],
            [
             0.6666666666666666,
             "#ed7953"
            ],
            [
             0.7777777777777778,
             "#fb9f3a"
            ],
            [
             0.8888888888888888,
             "#fdca26"
            ],
            [
             1,
             "#f0f921"
            ]
           ],
           "sequentialminus": [
            [
             0,
             "#0d0887"
            ],
            [
             0.1111111111111111,
             "#46039f"
            ],
            [
             0.2222222222222222,
             "#7201a8"
            ],
            [
             0.3333333333333333,
             "#9c179e"
            ],
            [
             0.4444444444444444,
             "#bd3786"
            ],
            [
             0.5555555555555556,
             "#d8576b"
            ],
            [
             0.6666666666666666,
             "#ed7953"
            ],
            [
             0.7777777777777778,
             "#fb9f3a"
            ],
            [
             0.8888888888888888,
             "#fdca26"
            ],
            [
             1,
             "#f0f921"
            ]
           ]
          },
          "colorway": [
           "#636efa",
           "#EF553B",
           "#00cc96",
           "#ab63fa",
           "#FFA15A",
           "#19d3f3",
           "#FF6692",
           "#B6E880",
           "#FF97FF",
           "#FECB52"
          ],
          "font": {
           "color": "#2a3f5f"
          },
          "geo": {
           "bgcolor": "white",
           "lakecolor": "white",
           "landcolor": "#E5ECF6",
           "showlakes": true,
           "showland": true,
           "subunitcolor": "white"
          },
          "hoverlabel": {
           "align": "left"
          },
          "hovermode": "closest",
          "mapbox": {
           "style": "light"
          },
          "paper_bgcolor": "white",
          "plot_bgcolor": "#E5ECF6",
          "polar": {
           "angularaxis": {
            "gridcolor": "white",
            "linecolor": "white",
            "ticks": ""
           },
           "bgcolor": "#E5ECF6",
           "radialaxis": {
            "gridcolor": "white",
            "linecolor": "white",
            "ticks": ""
           }
          },
          "scene": {
           "xaxis": {
            "backgroundcolor": "#E5ECF6",
            "gridcolor": "white",
            "gridwidth": 2,
            "linecolor": "white",
            "showbackground": true,
            "ticks": "",
            "zerolinecolor": "white"
           },
           "yaxis": {
            "backgroundcolor": "#E5ECF6",
            "gridcolor": "white",
            "gridwidth": 2,
            "linecolor": "white",
            "showbackground": true,
            "ticks": "",
            "zerolinecolor": "white"
           },
           "zaxis": {
            "backgroundcolor": "#E5ECF6",
            "gridcolor": "white",
            "gridwidth": 2,
            "linecolor": "white",
            "showbackground": true,
            "ticks": "",
            "zerolinecolor": "white"
           }
          },
          "shapedefaults": {
           "line": {
            "color": "#2a3f5f"
           }
          },
          "ternary": {
           "aaxis": {
            "gridcolor": "white",
            "linecolor": "white",
            "ticks": ""
           },
           "baxis": {
            "gridcolor": "white",
            "linecolor": "white",
            "ticks": ""
           },
           "bgcolor": "#E5ECF6",
           "caxis": {
            "gridcolor": "white",
            "linecolor": "white",
            "ticks": ""
           }
          },
          "title": {
           "x": 0.05
          },
          "xaxis": {
           "automargin": true,
           "gridcolor": "white",
           "linecolor": "white",
           "ticks": "",
           "title": {
            "standoff": 15
           },
           "zerolinecolor": "white",
           "zerolinewidth": 2
          },
          "yaxis": {
           "automargin": true,
           "gridcolor": "white",
           "linecolor": "white",
           "ticks": "",
           "title": {
            "standoff": 15
           },
           "zerolinecolor": "white",
           "zerolinewidth": 2
          }
         }
        },
        "title": {
         "font": {
          "color": "#4D5663"
         }
        },
        "xaxis": {
         "gridcolor": "#E1E5ED",
         "showgrid": true,
         "tickfont": {
          "color": "#4D5663"
         },
         "title": {
          "font": {
           "color": "#4D5663"
          },
          "text": ""
         },
         "zerolinecolor": "#E1E5ED"
        },
        "yaxis": {
         "gridcolor": "#E1E5ED",
         "showgrid": true,
         "tickfont": {
          "color": "#4D5663"
         },
         "title": {
          "font": {
           "color": "#4D5663"
          },
          "text": ""
         },
         "zerolinecolor": "#E1E5ED"
        }
       }
      },
      "text/html": [
       "<div>\n",
       "        \n",
       "        \n",
       "            <div id=\"b714d5bd-26fb-4e50-b3b3-86454b8d763a\" class=\"plotly-graph-div\" style=\"height:525px; width:100%;\"></div>\n",
       "            <script type=\"text/javascript\">\n",
       "                require([\"plotly\"], function(Plotly) {\n",
       "                    window.PLOTLYENV=window.PLOTLYENV || {};\n",
       "                    window.PLOTLYENV.BASE_URL='https://plot.ly';\n",
       "                    \n",
       "                if (document.getElementById(\"b714d5bd-26fb-4e50-b3b3-86454b8d763a\")) {\n",
       "                    Plotly.newPlot(\n",
       "                        'b714d5bd-26fb-4e50-b3b3-86454b8d763a',\n",
       "                        [{\"line\": {\"color\": \"rgba(255, 153, 51, 1.0)\", \"dash\": \"solid\", \"shape\": \"linear\", \"width\": 1.3}, \"mode\": \"lines\", \"name\": \"A\", \"text\": \"\", \"type\": \"scatter\", \"x\": [0, 1, 2, 3, 4, 5, 6, 7, 8, 9, 10, 11, 12, 13, 14, 15, 16, 17, 18, 19, 20, 21, 22, 23, 24, 25, 26, 27, 28, 29, 30, 31, 32, 33, 34, 35, 36, 37, 38, 39, 40, 41, 42, 43, 44, 45, 46, 47, 48, 49, 50, 51, 52, 53, 54, 55, 56, 57, 58, 59, 60, 61, 62, 63, 64, 65, 66, 67, 68, 69, 70, 71, 72, 73, 74, 75, 76, 77, 78, 79, 80, 81, 82, 83, 84, 85, 86, 87, 88, 89, 90, 91, 92, 93, 94, 95, 96, 97, 98, 99], \"y\": [-0.04385431780971637, -0.7301948168187024, -0.3496833695728504, -1.0612823737313737, 0.6591799683260353, 0.12428679487969375, -0.2628424807417794, 2.908786492446553, 0.5339220569380786, -1.5102640304281827, -0.2153849878718799, 0.14062569399657224, -1.2095030942021077, 0.45284316632611793, -1.616644761050487, 1.2057735309487918, -0.27850860903850416, 0.2661868200566413, -0.04888824105785708, 0.5466453961210647, 0.02444249995946009, -0.8803134222022471, 0.3959377294436148, -1.0125477805236467, -0.5403287337285112, -1.3969258083854257, -0.6647798643181021, 0.48996370455519694, -0.23702134521007456, 0.8259808476853691, -0.9134122472273268, -1.1689396577601616, 0.5853346423361953, 0.1165143240319178, -0.2537611614822444, -0.18422371333987664, 0.8742866058103691, -1.073458978869497, -0.11088759020331997, -1.23745560196081, -0.532207923124355, 0.4647951367313668, -0.42647882860361713, 0.6951312657084125, -1.4214167040692915, 0.902602666447066, 0.29741521616193584, 0.528548856648751, 0.9014676973634032, -0.1607135459165966, 0.35723359219153533, 0.23642409792308924, -0.3889773534472179, -2.4151038247887273, -0.09893139723269141, 0.3183672750508919, -1.0378675424182902, 0.287212016653486, -3.79126376982542, -0.8481039639987642, -0.3083120890222015, 1.793456070709133, -1.195369054487541, 1.0073436597216414, -1.2597272629060985, 1.8384369506007168, 0.37605391208689704, 0.6314748697418396, 0.5955215842189099, -0.10636349138020569, -1.4523789133361966, 2.4449306585882913, -0.29666309294170307, -0.21758145830572764, -0.7779081958035611, 0.1354671171040796, 0.15111110801098596, -0.8735875946797669, 2.108292328999151, 0.5581931925719561, -0.028223326518975078, 0.514591322068852, -0.7160014933804951, 1.0216913238644663, -1.3091472140787501, 0.25368841660167313, 0.6179071895170258, -0.34256487682349746, 1.4664115902589256, 0.6724977799274586, -0.8666211910244764, 1.0906099527040427, -2.6320438549269682, -1.2044405223200088, 0.09772313314017038, -0.18085756910776699, 0.18166012654149388, -0.6225026019819604, -1.0801935697404188, 0.6784957157116219]}, {\"line\": {\"color\": \"rgba(55, 128, 191, 1.0)\", \"dash\": \"solid\", \"shape\": \"linear\", \"width\": 1.3}, \"mode\": \"lines\", \"name\": \"B\", \"text\": \"\", \"type\": \"scatter\", \"x\": [0, 1, 2, 3, 4, 5, 6, 7, 8, 9, 10, 11, 12, 13, 14, 15, 16, 17, 18, 19, 20, 21, 22, 23, 24, 25, 26, 27, 28, 29, 30, 31, 32, 33, 34, 35, 36, 37, 38, 39, 40, 41, 42, 43, 44, 45, 46, 47, 48, 49, 50, 51, 52, 53, 54, 55, 56, 57, 58, 59, 60, 61, 62, 63, 64, 65, 66, 67, 68, 69, 70, 71, 72, 73, 74, 75, 76, 77, 78, 79, 80, 81, 82, 83, 84, 85, 86, 87, 88, 89, 90, 91, 92, 93, 94, 95, 96, 97, 98, 99], \"y\": [2.954682519418268, 1.2365829943535065, 2.104707567465196, 0.6633122537619591, 0.1538540084551306, 0.23170758817037124, -0.43025246824322605, -0.8062172600617752, 0.046277835727682744, -0.1452225853859939, -0.657776484401953, 0.053257950611550565, 1.5457051738269376, -1.3621708275952347, -0.15216947551494678, -0.7568602100782479, 0.29130806187656605, -1.130874456411832, -0.4631759857994132, -0.14116155647866782, 0.7118687205278166, -1.5500933264992216, 0.23684817274769057, -0.795400792746069, -1.7188704299757898, -0.49587136119877157, 1.0845807749581031, 1.3216725689195945, -0.8772702282109345, -0.6533764162042501, 3.2761707724560956, -0.6205202155431992, -0.13674014934522996, 0.3545319778991714, 0.26694297117685484, -0.07977085536555945, -0.015089174982792847, 0.9816931248247944, -0.9110304148970944, -0.3059876199479298, 0.6662941303764393, -0.23594236213250566, 0.5387516865350658, -0.8591039221027258, -0.4438675856675307, -0.42581560653971906, 1.5211561268716567, -0.3646030143739634, 1.4187212257471844, 0.5596787266396095, -0.20374108789784603, -0.977789621874286, -0.4972843153163968, 1.0519834196489215, 0.8798947682126929, 0.57401381845951, 0.5221857963465762, -0.20410583046198696, -0.7271785758926677, -0.5507149743855863, -0.12348649822361285, -0.34865126481223113, 0.37519336960418925, 0.2054370890711027, -0.3686501583006007, -0.9308147821700553, -0.5101649714460124, -1.312756296156895, -0.6872924129121585, 0.2431653092979941, -0.4680574915932994, 0.25846307724269496, 1.109367302357436, -1.046566276737933, -0.4507778326412062, -0.9890841839195814, -1.1484905543171988, 0.13438786165027108, -2.2366854653203547, -1.7598337752374726, 0.3870442907617244, 1.2678397112271507, 1.263679739194867, -0.13001732439442706, -1.9931688174259747, 0.6132591928043307, 0.10547007627853718, 0.1228225407414566, -2.0286967006534655, 0.4496012985812599, -0.40793324413434073, 1.7038975915424757, -0.7621430975695681, 1.2001373603508956, -0.6727126847149263, -0.2901948996138198, 0.2785826649259012, 0.12294192744039334, -1.17265209109376, 0.9131529756743128]}, {\"line\": {\"color\": \"rgba(50, 171, 96, 1.0)\", \"dash\": \"solid\", \"shape\": \"linear\", \"width\": 1.3}, \"mode\": \"lines\", \"name\": \"C\", \"text\": \"\", \"type\": \"scatter\", \"x\": [0, 1, 2, 3, 4, 5, 6, 7, 8, 9, 10, 11, 12, 13, 14, 15, 16, 17, 18, 19, 20, 21, 22, 23, 24, 25, 26, 27, 28, 29, 30, 31, 32, 33, 34, 35, 36, 37, 38, 39, 40, 41, 42, 43, 44, 45, 46, 47, 48, 49, 50, 51, 52, 53, 54, 55, 56, 57, 58, 59, 60, 61, 62, 63, 64, 65, 66, 67, 68, 69, 70, 71, 72, 73, 74, 75, 76, 77, 78, 79, 80, 81, 82, 83, 84, 85, 86, 87, 88, 89, 90, 91, 92, 93, 94, 95, 96, 97, 98, 99], \"y\": [0.695594519761371, -0.7451101083358315, -1.3092545798623205, -1.148967679813761, -2.1499901091118283, 0.16921733208513434, -1.652035274965219, -0.06536511772995664, -0.451555039427988, 2.5508875085079254, 1.6432397771654574, 2.175007969085216, -1.183349169847012, -0.2803436459544689, 0.3113778761058616, 0.6580789933974976, -1.2871858908274494, 0.9421677539359915, -1.27898705793451, 1.5220905163816603, 0.172627185075392, -0.2920546413135475, -3.2200752056661366, -0.6595483098958985, -0.037209911818583956, -1.9113396033227792, 0.7495406055142672, 0.6122124912669217, -1.649923917785392, 0.24031623434340352, -0.9305668877584682, -0.17927603028592373, -0.6189685160089439, -0.10426964419885773, -1.584842525233409, 1.3008582838270968, 0.9627046666914726, -0.07243392267314792, -1.0550103985991441, -0.42292256301955466, -0.0816781964074479, -0.3831036956544528, -0.18646700797564847, 1.9161854583075255, 1.987584099296576, 0.503544436898424, -1.6917730357682448, 1.2140789508574432, 0.9544265944842146, 0.07235024083734189, 0.30208565258184666, 0.8493376013882723, 0.6094930176110523, -0.4197814073474403, -0.8892714466838095, -0.27573081018871615, 3.06633035138194, 1.115310615469231, -0.5629187882893806, -1.7751598399064026, -0.22054072021463594, -0.1250791946004363, 0.20207024305742066, 0.012822231749756524, 0.7630588279922778, -0.7816538608318876, -1.1429232919669339, 0.2819344067155209, -0.8882891798691497, 0.31157165384845725, 0.4059458147284747, 2.6654818835155956, 0.08870181610828648, 0.622983938101566, 0.007318167216649481, 1.1582841684738987, 0.3045017436015654, -0.96055674405388, -1.5729460031035347, -1.5352180576477532, 2.0016917048090974, 0.32958653439078367, 0.6779242903392502, -0.3490746406178837, 0.03283304032337678, -1.3940960375701712, -0.9332614368379432, -0.48306539946151844, 0.03717416280524384, -1.9064036857319562, -0.46771930351655083, 0.9276597763861216, -0.5758620461840461, -0.1980995575800092, -0.5506458950883171, -0.2243089631924862, 0.1512145499046544, -0.3543541912031643, -0.16606095706018428, -0.31715418224932196]}, {\"line\": {\"color\": \"rgba(128, 0, 128, 1.0)\", \"dash\": \"solid\", \"shape\": \"linear\", \"width\": 1.3}, \"mode\": \"lines\", \"name\": \"D\", \"text\": \"\", \"type\": \"scatter\", \"x\": [0, 1, 2, 3, 4, 5, 6, 7, 8, 9, 10, 11, 12, 13, 14, 15, 16, 17, 18, 19, 20, 21, 22, 23, 24, 25, 26, 27, 28, 29, 30, 31, 32, 33, 34, 35, 36, 37, 38, 39, 40, 41, 42, 43, 44, 45, 46, 47, 48, 49, 50, 51, 52, 53, 54, 55, 56, 57, 58, 59, 60, 61, 62, 63, 64, 65, 66, 67, 68, 69, 70, 71, 72, 73, 74, 75, 76, 77, 78, 79, 80, 81, 82, 83, 84, 85, 86, 87, 88, 89, 90, 91, 92, 93, 94, 95, 96, 97, 98, 99], \"y\": [0.1348211493105177, 1.331072068722212, -1.856840393991974, -1.0826692199085175, -1.4861759389019042, 0.9448367510453909, 0.9002622575274538, 0.2399951548724196, -2.7173109542978042, 0.6358996172944497, 0.013757881283311239, -0.30715286666621483, 0.36698070920852155, -0.8241317881946497, -1.5208647650174614, -0.7354562768430071, -1.2537972621985167, 0.8879858198033864, -0.7099413000745913, -0.6240399942306015, 2.2184997482400917, 0.2566080222408146, -0.7233435325170695, -0.36585809401055946, -1.5176547330218004, 0.5428843962132254, -0.4398698888030055, 0.343625536158871, 0.1981011674381106, 0.8065099979206843, -1.3603521867792383, -0.17187123307592236, -1.6779996175054712, 0.38561612398650275, -2.012641034881616, -0.37708334812546124, -0.04562884599330884, -0.4009859990959282, 0.6939560396032762, -1.78589611443427, -1.869929131699314, -1.399889560058229, 0.15886750495167176, -0.3242586354086578, 0.9034370869926133, -0.5786721926747008, -0.8674333759306216, 0.3454016300783812, -0.20187575531975432, 0.5731724210192811, 0.23715723874630953, 1.106720036550557, 0.9690019581797024, 0.5959919953305238, 1.3582327789677624, -0.18367776327384572, -1.4022175568766304, -0.023017278639227246, 0.3169347429440951, 1.6603832291117644, -0.8495586844825627, 1.1618684561968171, -0.948641960168968, 0.4354038402751054, 1.8365202541015424, -0.1825034667378457, -0.38320184376570177, 0.41371927923165663, -0.4562605062334397, -0.29220079785319764, -0.041964047096023624, 0.9246400743910076, 0.7486839011837545, 0.2158078060728754, -0.6879751583409635, 1.2030021629063608, 1.0873298065069406, -1.1628069379634776, 0.9894835492205013, -1.2539601106537022, -2.2373877359023164, -0.2631588365834419, 1.361965225380507, -0.5719167168501775, 0.5136380454219858, 2.68058524805295, 0.7179977132596467, 0.9458129117680553, -1.8728427934674337, 1.3507462150713798, 2.004330894660265, -0.6651732025284808, -0.328919945248043, 0.691612592123649, 1.2548065655832024, 0.37875592667530106, 0.17997557036559772, -0.5682732751177091, -0.6318359329537082, -0.5939026606920121]}],\n",
       "                        {\"legend\": {\"bgcolor\": \"#F5F6F9\", \"font\": {\"color\": \"#4D5663\"}}, \"paper_bgcolor\": \"#F5F6F9\", \"plot_bgcolor\": \"#F5F6F9\", \"template\": {\"data\": {\"bar\": [{\"error_x\": {\"color\": \"#2a3f5f\"}, \"error_y\": {\"color\": \"#2a3f5f\"}, \"marker\": {\"line\": {\"color\": \"#E5ECF6\", \"width\": 0.5}}, \"type\": \"bar\"}], \"barpolar\": [{\"marker\": {\"line\": {\"color\": \"#E5ECF6\", \"width\": 0.5}}, \"type\": \"barpolar\"}], \"carpet\": [{\"aaxis\": {\"endlinecolor\": \"#2a3f5f\", \"gridcolor\": \"white\", \"linecolor\": \"white\", \"minorgridcolor\": \"white\", \"startlinecolor\": \"#2a3f5f\"}, \"baxis\": {\"endlinecolor\": \"#2a3f5f\", \"gridcolor\": \"white\", \"linecolor\": \"white\", \"minorgridcolor\": \"white\", \"startlinecolor\": \"#2a3f5f\"}, \"type\": \"carpet\"}], \"choropleth\": [{\"colorbar\": {\"outlinewidth\": 0, \"ticks\": \"\"}, \"type\": \"choropleth\"}], \"contour\": [{\"colorbar\": {\"outlinewidth\": 0, \"ticks\": \"\"}, \"colorscale\": [[0.0, \"#0d0887\"], [0.1111111111111111, \"#46039f\"], [0.2222222222222222, \"#7201a8\"], [0.3333333333333333, \"#9c179e\"], [0.4444444444444444, \"#bd3786\"], [0.5555555555555556, \"#d8576b\"], [0.6666666666666666, \"#ed7953\"], [0.7777777777777778, \"#fb9f3a\"], [0.8888888888888888, \"#fdca26\"], [1.0, \"#f0f921\"]], \"type\": \"contour\"}], \"contourcarpet\": [{\"colorbar\": {\"outlinewidth\": 0, \"ticks\": \"\"}, \"type\": \"contourcarpet\"}], \"heatmap\": [{\"colorbar\": {\"outlinewidth\": 0, \"ticks\": \"\"}, \"colorscale\": [[0.0, \"#0d0887\"], [0.1111111111111111, \"#46039f\"], [0.2222222222222222, \"#7201a8\"], [0.3333333333333333, \"#9c179e\"], [0.4444444444444444, \"#bd3786\"], [0.5555555555555556, \"#d8576b\"], [0.6666666666666666, \"#ed7953\"], [0.7777777777777778, \"#fb9f3a\"], [0.8888888888888888, \"#fdca26\"], [1.0, \"#f0f921\"]], \"type\": \"heatmap\"}], \"heatmapgl\": [{\"colorbar\": {\"outlinewidth\": 0, \"ticks\": \"\"}, \"colorscale\": [[0.0, \"#0d0887\"], [0.1111111111111111, \"#46039f\"], [0.2222222222222222, \"#7201a8\"], [0.3333333333333333, \"#9c179e\"], [0.4444444444444444, \"#bd3786\"], [0.5555555555555556, \"#d8576b\"], [0.6666666666666666, \"#ed7953\"], [0.7777777777777778, \"#fb9f3a\"], [0.8888888888888888, \"#fdca26\"], [1.0, \"#f0f921\"]], \"type\": \"heatmapgl\"}], \"histogram\": [{\"marker\": {\"colorbar\": {\"outlinewidth\": 0, \"ticks\": \"\"}}, \"type\": \"histogram\"}], \"histogram2d\": [{\"colorbar\": {\"outlinewidth\": 0, \"ticks\": \"\"}, \"colorscale\": [[0.0, \"#0d0887\"], [0.1111111111111111, \"#46039f\"], [0.2222222222222222, \"#7201a8\"], [0.3333333333333333, \"#9c179e\"], [0.4444444444444444, \"#bd3786\"], [0.5555555555555556, \"#d8576b\"], [0.6666666666666666, \"#ed7953\"], [0.7777777777777778, \"#fb9f3a\"], [0.8888888888888888, \"#fdca26\"], [1.0, \"#f0f921\"]], \"type\": \"histogram2d\"}], \"histogram2dcontour\": [{\"colorbar\": {\"outlinewidth\": 0, \"ticks\": \"\"}, \"colorscale\": [[0.0, \"#0d0887\"], [0.1111111111111111, \"#46039f\"], [0.2222222222222222, \"#7201a8\"], [0.3333333333333333, \"#9c179e\"], [0.4444444444444444, \"#bd3786\"], [0.5555555555555556, \"#d8576b\"], [0.6666666666666666, \"#ed7953\"], [0.7777777777777778, \"#fb9f3a\"], [0.8888888888888888, \"#fdca26\"], [1.0, \"#f0f921\"]], \"type\": \"histogram2dcontour\"}], \"mesh3d\": [{\"colorbar\": {\"outlinewidth\": 0, \"ticks\": \"\"}, \"type\": \"mesh3d\"}], \"parcoords\": [{\"line\": {\"colorbar\": {\"outlinewidth\": 0, \"ticks\": \"\"}}, \"type\": \"parcoords\"}], \"pie\": [{\"automargin\": true, \"type\": \"pie\"}], \"scatter\": [{\"marker\": {\"colorbar\": {\"outlinewidth\": 0, \"ticks\": \"\"}}, \"type\": \"scatter\"}], \"scatter3d\": [{\"line\": {\"colorbar\": {\"outlinewidth\": 0, \"ticks\": \"\"}}, \"marker\": {\"colorbar\": {\"outlinewidth\": 0, \"ticks\": \"\"}}, \"type\": \"scatter3d\"}], \"scattercarpet\": [{\"marker\": {\"colorbar\": {\"outlinewidth\": 0, \"ticks\": \"\"}}, \"type\": \"scattercarpet\"}], \"scattergeo\": [{\"marker\": {\"colorbar\": {\"outlinewidth\": 0, \"ticks\": \"\"}}, \"type\": \"scattergeo\"}], \"scattergl\": [{\"marker\": {\"colorbar\": {\"outlinewidth\": 0, \"ticks\": \"\"}}, \"type\": \"scattergl\"}], \"scattermapbox\": [{\"marker\": {\"colorbar\": {\"outlinewidth\": 0, \"ticks\": \"\"}}, \"type\": \"scattermapbox\"}], \"scatterpolar\": [{\"marker\": {\"colorbar\": {\"outlinewidth\": 0, \"ticks\": \"\"}}, \"type\": \"scatterpolar\"}], \"scatterpolargl\": [{\"marker\": {\"colorbar\": {\"outlinewidth\": 0, \"ticks\": \"\"}}, \"type\": \"scatterpolargl\"}], \"scatterternary\": [{\"marker\": {\"colorbar\": {\"outlinewidth\": 0, \"ticks\": \"\"}}, \"type\": \"scatterternary\"}], \"surface\": [{\"colorbar\": {\"outlinewidth\": 0, \"ticks\": \"\"}, \"colorscale\": [[0.0, \"#0d0887\"], [0.1111111111111111, \"#46039f\"], [0.2222222222222222, \"#7201a8\"], [0.3333333333333333, \"#9c179e\"], [0.4444444444444444, \"#bd3786\"], [0.5555555555555556, \"#d8576b\"], [0.6666666666666666, \"#ed7953\"], [0.7777777777777778, \"#fb9f3a\"], [0.8888888888888888, \"#fdca26\"], [1.0, \"#f0f921\"]], \"type\": \"surface\"}], \"table\": [{\"cells\": {\"fill\": {\"color\": \"#EBF0F8\"}, \"line\": {\"color\": \"white\"}}, \"header\": {\"fill\": {\"color\": \"#C8D4E3\"}, \"line\": {\"color\": \"white\"}}, \"type\": \"table\"}]}, \"layout\": {\"annotationdefaults\": {\"arrowcolor\": \"#2a3f5f\", \"arrowhead\": 0, \"arrowwidth\": 1}, \"coloraxis\": {\"colorbar\": {\"outlinewidth\": 0, \"ticks\": \"\"}}, \"colorscale\": {\"diverging\": [[0, \"#8e0152\"], [0.1, \"#c51b7d\"], [0.2, \"#de77ae\"], [0.3, \"#f1b6da\"], [0.4, \"#fde0ef\"], [0.5, \"#f7f7f7\"], [0.6, \"#e6f5d0\"], [0.7, \"#b8e186\"], [0.8, \"#7fbc41\"], [0.9, \"#4d9221\"], [1, \"#276419\"]], \"sequential\": [[0.0, \"#0d0887\"], [0.1111111111111111, \"#46039f\"], [0.2222222222222222, \"#7201a8\"], [0.3333333333333333, \"#9c179e\"], [0.4444444444444444, \"#bd3786\"], [0.5555555555555556, \"#d8576b\"], [0.6666666666666666, \"#ed7953\"], [0.7777777777777778, \"#fb9f3a\"], [0.8888888888888888, \"#fdca26\"], [1.0, \"#f0f921\"]], \"sequentialminus\": [[0.0, \"#0d0887\"], [0.1111111111111111, \"#46039f\"], [0.2222222222222222, \"#7201a8\"], [0.3333333333333333, \"#9c179e\"], [0.4444444444444444, \"#bd3786\"], [0.5555555555555556, \"#d8576b\"], [0.6666666666666666, \"#ed7953\"], [0.7777777777777778, \"#fb9f3a\"], [0.8888888888888888, \"#fdca26\"], [1.0, \"#f0f921\"]]}, \"colorway\": [\"#636efa\", \"#EF553B\", \"#00cc96\", \"#ab63fa\", \"#FFA15A\", \"#19d3f3\", \"#FF6692\", \"#B6E880\", \"#FF97FF\", \"#FECB52\"], \"font\": {\"color\": \"#2a3f5f\"}, \"geo\": {\"bgcolor\": \"white\", \"lakecolor\": \"white\", \"landcolor\": \"#E5ECF6\", \"showlakes\": true, \"showland\": true, \"subunitcolor\": \"white\"}, \"hoverlabel\": {\"align\": \"left\"}, \"hovermode\": \"closest\", \"mapbox\": {\"style\": \"light\"}, \"paper_bgcolor\": \"white\", \"plot_bgcolor\": \"#E5ECF6\", \"polar\": {\"angularaxis\": {\"gridcolor\": \"white\", \"linecolor\": \"white\", \"ticks\": \"\"}, \"bgcolor\": \"#E5ECF6\", \"radialaxis\": {\"gridcolor\": \"white\", \"linecolor\": \"white\", \"ticks\": \"\"}}, \"scene\": {\"xaxis\": {\"backgroundcolor\": \"#E5ECF6\", \"gridcolor\": \"white\", \"gridwidth\": 2, \"linecolor\": \"white\", \"showbackground\": true, \"ticks\": \"\", \"zerolinecolor\": \"white\"}, \"yaxis\": {\"backgroundcolor\": \"#E5ECF6\", \"gridcolor\": \"white\", \"gridwidth\": 2, \"linecolor\": \"white\", \"showbackground\": true, \"ticks\": \"\", \"zerolinecolor\": \"white\"}, \"zaxis\": {\"backgroundcolor\": \"#E5ECF6\", \"gridcolor\": \"white\", \"gridwidth\": 2, \"linecolor\": \"white\", \"showbackground\": true, \"ticks\": \"\", \"zerolinecolor\": \"white\"}}, \"shapedefaults\": {\"line\": {\"color\": \"#2a3f5f\"}}, \"ternary\": {\"aaxis\": {\"gridcolor\": \"white\", \"linecolor\": \"white\", \"ticks\": \"\"}, \"baxis\": {\"gridcolor\": \"white\", \"linecolor\": \"white\", \"ticks\": \"\"}, \"bgcolor\": \"#E5ECF6\", \"caxis\": {\"gridcolor\": \"white\", \"linecolor\": \"white\", \"ticks\": \"\"}}, \"title\": {\"x\": 0.05}, \"xaxis\": {\"automargin\": true, \"gridcolor\": \"white\", \"linecolor\": \"white\", \"ticks\": \"\", \"title\": {\"standoff\": 15}, \"zerolinecolor\": \"white\", \"zerolinewidth\": 2}, \"yaxis\": {\"automargin\": true, \"gridcolor\": \"white\", \"linecolor\": \"white\", \"ticks\": \"\", \"title\": {\"standoff\": 15}, \"zerolinecolor\": \"white\", \"zerolinewidth\": 2}}}, \"title\": {\"font\": {\"color\": \"#4D5663\"}}, \"xaxis\": {\"gridcolor\": \"#E1E5ED\", \"showgrid\": true, \"tickfont\": {\"color\": \"#4D5663\"}, \"title\": {\"font\": {\"color\": \"#4D5663\"}, \"text\": \"\"}, \"zerolinecolor\": \"#E1E5ED\"}, \"yaxis\": {\"gridcolor\": \"#E1E5ED\", \"showgrid\": true, \"tickfont\": {\"color\": \"#4D5663\"}, \"title\": {\"font\": {\"color\": \"#4D5663\"}, \"text\": \"\"}, \"zerolinecolor\": \"#E1E5ED\"}},\n",
       "                        {\"showLink\": true, \"linkText\": \"Export to plot.ly\", \"plotlyServerURL\": \"https://plot.ly\", \"responsive\": true}\n",
       "                    ).then(function(){\n",
       "                            \n",
       "var gd = document.getElementById('b714d5bd-26fb-4e50-b3b3-86454b8d763a');\n",
       "var x = new MutationObserver(function (mutations, observer) {{\n",
       "        var display = window.getComputedStyle(gd).display;\n",
       "        if (!display || display === 'none') {{\n",
       "            console.log([gd, 'removed!']);\n",
       "            Plotly.purge(gd);\n",
       "            observer.disconnect();\n",
       "        }}\n",
       "}});\n",
       "\n",
       "// Listen for the removal of the full notebook cells\n",
       "var notebookContainer = gd.closest('#notebook-container');\n",
       "if (notebookContainer) {{\n",
       "    x.observe(notebookContainer, {childList: true});\n",
       "}}\n",
       "\n",
       "// Listen for the clearing of the current output cell\n",
       "var outputEl = gd.closest('.output');\n",
       "if (outputEl) {{\n",
       "    x.observe(outputEl, {childList: true});\n",
       "}}\n",
       "\n",
       "                        })\n",
       "                };\n",
       "                });\n",
       "            </script>\n",
       "        </div>"
      ]
     },
     "metadata": {},
     "output_type": "display_data"
    }
   ],
   "source": [
    "df.iplot() # iplot is plotly's interactive plot"
   ]
  },
  {
   "cell_type": "code",
   "execution_count": 27,
   "metadata": {},
   "outputs": [
    {
     "data": {
      "application/vnd.plotly.v1+json": {
       "config": {
        "linkText": "Export to plot.ly",
        "plotlyServerURL": "https://plot.ly",
        "showLink": true
       },
       "data": [
        {
         "line": {
          "color": "rgba(255, 153, 51, 1.0)",
          "dash": "solid",
          "shape": "linear",
          "width": 1.3
         },
         "mode": "lines",
         "name": "B",
         "text": "",
         "type": "scatter",
         "x": [
          -0.04385431780971637,
          -0.7301948168187024,
          -0.3496833695728504,
          -1.0612823737313737,
          0.6591799683260353,
          0.12428679487969375,
          -0.2628424807417794,
          2.908786492446553,
          0.5339220569380786,
          -1.5102640304281827,
          -0.2153849878718799,
          0.14062569399657224,
          -1.2095030942021077,
          0.45284316632611793,
          -1.616644761050487,
          1.2057735309487918,
          -0.27850860903850416,
          0.2661868200566413,
          -0.04888824105785708,
          0.5466453961210647,
          0.02444249995946009,
          -0.8803134222022471,
          0.3959377294436148,
          -1.0125477805236467,
          -0.5403287337285112,
          -1.3969258083854257,
          -0.6647798643181021,
          0.48996370455519694,
          -0.23702134521007456,
          0.8259808476853691,
          -0.9134122472273268,
          -1.1689396577601616,
          0.5853346423361953,
          0.1165143240319178,
          -0.2537611614822444,
          -0.18422371333987664,
          0.8742866058103691,
          -1.073458978869497,
          -0.11088759020331997,
          -1.23745560196081,
          -0.532207923124355,
          0.4647951367313668,
          -0.42647882860361713,
          0.6951312657084125,
          -1.4214167040692915,
          0.902602666447066,
          0.29741521616193584,
          0.528548856648751,
          0.9014676973634032,
          -0.1607135459165966,
          0.35723359219153533,
          0.23642409792308924,
          -0.3889773534472179,
          -2.4151038247887273,
          -0.09893139723269141,
          0.3183672750508919,
          -1.0378675424182902,
          0.287212016653486,
          -3.79126376982542,
          -0.8481039639987642,
          -0.3083120890222015,
          1.793456070709133,
          -1.195369054487541,
          1.0073436597216414,
          -1.2597272629060985,
          1.8384369506007168,
          0.37605391208689704,
          0.6314748697418396,
          0.5955215842189099,
          -0.10636349138020569,
          -1.4523789133361966,
          2.4449306585882913,
          -0.29666309294170307,
          -0.21758145830572764,
          -0.7779081958035611,
          0.1354671171040796,
          0.15111110801098596,
          -0.8735875946797669,
          2.108292328999151,
          0.5581931925719561,
          -0.028223326518975078,
          0.514591322068852,
          -0.7160014933804951,
          1.0216913238644663,
          -1.3091472140787501,
          0.25368841660167313,
          0.6179071895170258,
          -0.34256487682349746,
          1.4664115902589256,
          0.6724977799274586,
          -0.8666211910244764,
          1.0906099527040427,
          -2.6320438549269682,
          -1.2044405223200088,
          0.09772313314017038,
          -0.18085756910776699,
          0.18166012654149388,
          -0.6225026019819604,
          -1.0801935697404188,
          0.6784957157116219
         ],
         "y": [
          2.954682519418268,
          1.2365829943535065,
          2.104707567465196,
          0.6633122537619591,
          0.1538540084551306,
          0.23170758817037124,
          -0.43025246824322605,
          -0.8062172600617752,
          0.046277835727682744,
          -0.1452225853859939,
          -0.657776484401953,
          0.053257950611550565,
          1.5457051738269376,
          -1.3621708275952347,
          -0.15216947551494678,
          -0.7568602100782479,
          0.29130806187656605,
          -1.130874456411832,
          -0.4631759857994132,
          -0.14116155647866782,
          0.7118687205278166,
          -1.5500933264992216,
          0.23684817274769057,
          -0.795400792746069,
          -1.7188704299757898,
          -0.49587136119877157,
          1.0845807749581031,
          1.3216725689195945,
          -0.8772702282109345,
          -0.6533764162042501,
          3.2761707724560956,
          -0.6205202155431992,
          -0.13674014934522996,
          0.3545319778991714,
          0.26694297117685484,
          -0.07977085536555945,
          -0.015089174982792847,
          0.9816931248247944,
          -0.9110304148970944,
          -0.3059876199479298,
          0.6662941303764393,
          -0.23594236213250566,
          0.5387516865350658,
          -0.8591039221027258,
          -0.4438675856675307,
          -0.42581560653971906,
          1.5211561268716567,
          -0.3646030143739634,
          1.4187212257471844,
          0.5596787266396095,
          -0.20374108789784603,
          -0.977789621874286,
          -0.4972843153163968,
          1.0519834196489215,
          0.8798947682126929,
          0.57401381845951,
          0.5221857963465762,
          -0.20410583046198696,
          -0.7271785758926677,
          -0.5507149743855863,
          -0.12348649822361285,
          -0.34865126481223113,
          0.37519336960418925,
          0.2054370890711027,
          -0.3686501583006007,
          -0.9308147821700553,
          -0.5101649714460124,
          -1.312756296156895,
          -0.6872924129121585,
          0.2431653092979941,
          -0.4680574915932994,
          0.25846307724269496,
          1.109367302357436,
          -1.046566276737933,
          -0.4507778326412062,
          -0.9890841839195814,
          -1.1484905543171988,
          0.13438786165027108,
          -2.2366854653203547,
          -1.7598337752374726,
          0.3870442907617244,
          1.2678397112271507,
          1.263679739194867,
          -0.13001732439442706,
          -1.9931688174259747,
          0.6132591928043307,
          0.10547007627853718,
          0.1228225407414566,
          -2.0286967006534655,
          0.4496012985812599,
          -0.40793324413434073,
          1.7038975915424757,
          -0.7621430975695681,
          1.2001373603508956,
          -0.6727126847149263,
          -0.2901948996138198,
          0.2785826649259012,
          0.12294192744039334,
          -1.17265209109376,
          0.9131529756743128
         ]
        }
       ],
       "layout": {
        "legend": {
         "bgcolor": "#F5F6F9",
         "font": {
          "color": "#4D5663"
         }
        },
        "paper_bgcolor": "#F5F6F9",
        "plot_bgcolor": "#F5F6F9",
        "template": {
         "data": {
          "bar": [
           {
            "error_x": {
             "color": "#2a3f5f"
            },
            "error_y": {
             "color": "#2a3f5f"
            },
            "marker": {
             "line": {
              "color": "#E5ECF6",
              "width": 0.5
             }
            },
            "type": "bar"
           }
          ],
          "barpolar": [
           {
            "marker": {
             "line": {
              "color": "#E5ECF6",
              "width": 0.5
             }
            },
            "type": "barpolar"
           }
          ],
          "carpet": [
           {
            "aaxis": {
             "endlinecolor": "#2a3f5f",
             "gridcolor": "white",
             "linecolor": "white",
             "minorgridcolor": "white",
             "startlinecolor": "#2a3f5f"
            },
            "baxis": {
             "endlinecolor": "#2a3f5f",
             "gridcolor": "white",
             "linecolor": "white",
             "minorgridcolor": "white",
             "startlinecolor": "#2a3f5f"
            },
            "type": "carpet"
           }
          ],
          "choropleth": [
           {
            "colorbar": {
             "outlinewidth": 0,
             "ticks": ""
            },
            "type": "choropleth"
           }
          ],
          "contour": [
           {
            "colorbar": {
             "outlinewidth": 0,
             "ticks": ""
            },
            "colorscale": [
             [
              0,
              "#0d0887"
             ],
             [
              0.1111111111111111,
              "#46039f"
             ],
             [
              0.2222222222222222,
              "#7201a8"
             ],
             [
              0.3333333333333333,
              "#9c179e"
             ],
             [
              0.4444444444444444,
              "#bd3786"
             ],
             [
              0.5555555555555556,
              "#d8576b"
             ],
             [
              0.6666666666666666,
              "#ed7953"
             ],
             [
              0.7777777777777778,
              "#fb9f3a"
             ],
             [
              0.8888888888888888,
              "#fdca26"
             ],
             [
              1,
              "#f0f921"
             ]
            ],
            "type": "contour"
           }
          ],
          "contourcarpet": [
           {
            "colorbar": {
             "outlinewidth": 0,
             "ticks": ""
            },
            "type": "contourcarpet"
           }
          ],
          "heatmap": [
           {
            "colorbar": {
             "outlinewidth": 0,
             "ticks": ""
            },
            "colorscale": [
             [
              0,
              "#0d0887"
             ],
             [
              0.1111111111111111,
              "#46039f"
             ],
             [
              0.2222222222222222,
              "#7201a8"
             ],
             [
              0.3333333333333333,
              "#9c179e"
             ],
             [
              0.4444444444444444,
              "#bd3786"
             ],
             [
              0.5555555555555556,
              "#d8576b"
             ],
             [
              0.6666666666666666,
              "#ed7953"
             ],
             [
              0.7777777777777778,
              "#fb9f3a"
             ],
             [
              0.8888888888888888,
              "#fdca26"
             ],
             [
              1,
              "#f0f921"
             ]
            ],
            "type": "heatmap"
           }
          ],
          "heatmapgl": [
           {
            "colorbar": {
             "outlinewidth": 0,
             "ticks": ""
            },
            "colorscale": [
             [
              0,
              "#0d0887"
             ],
             [
              0.1111111111111111,
              "#46039f"
             ],
             [
              0.2222222222222222,
              "#7201a8"
             ],
             [
              0.3333333333333333,
              "#9c179e"
             ],
             [
              0.4444444444444444,
              "#bd3786"
             ],
             [
              0.5555555555555556,
              "#d8576b"
             ],
             [
              0.6666666666666666,
              "#ed7953"
             ],
             [
              0.7777777777777778,
              "#fb9f3a"
             ],
             [
              0.8888888888888888,
              "#fdca26"
             ],
             [
              1,
              "#f0f921"
             ]
            ],
            "type": "heatmapgl"
           }
          ],
          "histogram": [
           {
            "marker": {
             "colorbar": {
              "outlinewidth": 0,
              "ticks": ""
             }
            },
            "type": "histogram"
           }
          ],
          "histogram2d": [
           {
            "colorbar": {
             "outlinewidth": 0,
             "ticks": ""
            },
            "colorscale": [
             [
              0,
              "#0d0887"
             ],
             [
              0.1111111111111111,
              "#46039f"
             ],
             [
              0.2222222222222222,
              "#7201a8"
             ],
             [
              0.3333333333333333,
              "#9c179e"
             ],
             [
              0.4444444444444444,
              "#bd3786"
             ],
             [
              0.5555555555555556,
              "#d8576b"
             ],
             [
              0.6666666666666666,
              "#ed7953"
             ],
             [
              0.7777777777777778,
              "#fb9f3a"
             ],
             [
              0.8888888888888888,
              "#fdca26"
             ],
             [
              1,
              "#f0f921"
             ]
            ],
            "type": "histogram2d"
           }
          ],
          "histogram2dcontour": [
           {
            "colorbar": {
             "outlinewidth": 0,
             "ticks": ""
            },
            "colorscale": [
             [
              0,
              "#0d0887"
             ],
             [
              0.1111111111111111,
              "#46039f"
             ],
             [
              0.2222222222222222,
              "#7201a8"
             ],
             [
              0.3333333333333333,
              "#9c179e"
             ],
             [
              0.4444444444444444,
              "#bd3786"
             ],
             [
              0.5555555555555556,
              "#d8576b"
             ],
             [
              0.6666666666666666,
              "#ed7953"
             ],
             [
              0.7777777777777778,
              "#fb9f3a"
             ],
             [
              0.8888888888888888,
              "#fdca26"
             ],
             [
              1,
              "#f0f921"
             ]
            ],
            "type": "histogram2dcontour"
           }
          ],
          "mesh3d": [
           {
            "colorbar": {
             "outlinewidth": 0,
             "ticks": ""
            },
            "type": "mesh3d"
           }
          ],
          "parcoords": [
           {
            "line": {
             "colorbar": {
              "outlinewidth": 0,
              "ticks": ""
             }
            },
            "type": "parcoords"
           }
          ],
          "pie": [
           {
            "automargin": true,
            "type": "pie"
           }
          ],
          "scatter": [
           {
            "marker": {
             "colorbar": {
              "outlinewidth": 0,
              "ticks": ""
             }
            },
            "type": "scatter"
           }
          ],
          "scatter3d": [
           {
            "line": {
             "colorbar": {
              "outlinewidth": 0,
              "ticks": ""
             }
            },
            "marker": {
             "colorbar": {
              "outlinewidth": 0,
              "ticks": ""
             }
            },
            "type": "scatter3d"
           }
          ],
          "scattercarpet": [
           {
            "marker": {
             "colorbar": {
              "outlinewidth": 0,
              "ticks": ""
             }
            },
            "type": "scattercarpet"
           }
          ],
          "scattergeo": [
           {
            "marker": {
             "colorbar": {
              "outlinewidth": 0,
              "ticks": ""
             }
            },
            "type": "scattergeo"
           }
          ],
          "scattergl": [
           {
            "marker": {
             "colorbar": {
              "outlinewidth": 0,
              "ticks": ""
             }
            },
            "type": "scattergl"
           }
          ],
          "scattermapbox": [
           {
            "marker": {
             "colorbar": {
              "outlinewidth": 0,
              "ticks": ""
             }
            },
            "type": "scattermapbox"
           }
          ],
          "scatterpolar": [
           {
            "marker": {
             "colorbar": {
              "outlinewidth": 0,
              "ticks": ""
             }
            },
            "type": "scatterpolar"
           }
          ],
          "scatterpolargl": [
           {
            "marker": {
             "colorbar": {
              "outlinewidth": 0,
              "ticks": ""
             }
            },
            "type": "scatterpolargl"
           }
          ],
          "scatterternary": [
           {
            "marker": {
             "colorbar": {
              "outlinewidth": 0,
              "ticks": ""
             }
            },
            "type": "scatterternary"
           }
          ],
          "surface": [
           {
            "colorbar": {
             "outlinewidth": 0,
             "ticks": ""
            },
            "colorscale": [
             [
              0,
              "#0d0887"
             ],
             [
              0.1111111111111111,
              "#46039f"
             ],
             [
              0.2222222222222222,
              "#7201a8"
             ],
             [
              0.3333333333333333,
              "#9c179e"
             ],
             [
              0.4444444444444444,
              "#bd3786"
             ],
             [
              0.5555555555555556,
              "#d8576b"
             ],
             [
              0.6666666666666666,
              "#ed7953"
             ],
             [
              0.7777777777777778,
              "#fb9f3a"
             ],
             [
              0.8888888888888888,
              "#fdca26"
             ],
             [
              1,
              "#f0f921"
             ]
            ],
            "type": "surface"
           }
          ],
          "table": [
           {
            "cells": {
             "fill": {
              "color": "#EBF0F8"
             },
             "line": {
              "color": "white"
             }
            },
            "header": {
             "fill": {
              "color": "#C8D4E3"
             },
             "line": {
              "color": "white"
             }
            },
            "type": "table"
           }
          ]
         },
         "layout": {
          "annotationdefaults": {
           "arrowcolor": "#2a3f5f",
           "arrowhead": 0,
           "arrowwidth": 1
          },
          "coloraxis": {
           "colorbar": {
            "outlinewidth": 0,
            "ticks": ""
           }
          },
          "colorscale": {
           "diverging": [
            [
             0,
             "#8e0152"
            ],
            [
             0.1,
             "#c51b7d"
            ],
            [
             0.2,
             "#de77ae"
            ],
            [
             0.3,
             "#f1b6da"
            ],
            [
             0.4,
             "#fde0ef"
            ],
            [
             0.5,
             "#f7f7f7"
            ],
            [
             0.6,
             "#e6f5d0"
            ],
            [
             0.7,
             "#b8e186"
            ],
            [
             0.8,
             "#7fbc41"
            ],
            [
             0.9,
             "#4d9221"
            ],
            [
             1,
             "#276419"
            ]
           ],
           "sequential": [
            [
             0,
             "#0d0887"
            ],
            [
             0.1111111111111111,
             "#46039f"
            ],
            [
             0.2222222222222222,
             "#7201a8"
            ],
            [
             0.3333333333333333,
             "#9c179e"
            ],
            [
             0.4444444444444444,
             "#bd3786"
            ],
            [
             0.5555555555555556,
             "#d8576b"
            ],
            [
             0.6666666666666666,
             "#ed7953"
            ],
            [
             0.7777777777777778,
             "#fb9f3a"
            ],
            [
             0.8888888888888888,
             "#fdca26"
            ],
            [
             1,
             "#f0f921"
            ]
           ],
           "sequentialminus": [
            [
             0,
             "#0d0887"
            ],
            [
             0.1111111111111111,
             "#46039f"
            ],
            [
             0.2222222222222222,
             "#7201a8"
            ],
            [
             0.3333333333333333,
             "#9c179e"
            ],
            [
             0.4444444444444444,
             "#bd3786"
            ],
            [
             0.5555555555555556,
             "#d8576b"
            ],
            [
             0.6666666666666666,
             "#ed7953"
            ],
            [
             0.7777777777777778,
             "#fb9f3a"
            ],
            [
             0.8888888888888888,
             "#fdca26"
            ],
            [
             1,
             "#f0f921"
            ]
           ]
          },
          "colorway": [
           "#636efa",
           "#EF553B",
           "#00cc96",
           "#ab63fa",
           "#FFA15A",
           "#19d3f3",
           "#FF6692",
           "#B6E880",
           "#FF97FF",
           "#FECB52"
          ],
          "font": {
           "color": "#2a3f5f"
          },
          "geo": {
           "bgcolor": "white",
           "lakecolor": "white",
           "landcolor": "#E5ECF6",
           "showlakes": true,
           "showland": true,
           "subunitcolor": "white"
          },
          "hoverlabel": {
           "align": "left"
          },
          "hovermode": "closest",
          "mapbox": {
           "style": "light"
          },
          "paper_bgcolor": "white",
          "plot_bgcolor": "#E5ECF6",
          "polar": {
           "angularaxis": {
            "gridcolor": "white",
            "linecolor": "white",
            "ticks": ""
           },
           "bgcolor": "#E5ECF6",
           "radialaxis": {
            "gridcolor": "white",
            "linecolor": "white",
            "ticks": ""
           }
          },
          "scene": {
           "xaxis": {
            "backgroundcolor": "#E5ECF6",
            "gridcolor": "white",
            "gridwidth": 2,
            "linecolor": "white",
            "showbackground": true,
            "ticks": "",
            "zerolinecolor": "white"
           },
           "yaxis": {
            "backgroundcolor": "#E5ECF6",
            "gridcolor": "white",
            "gridwidth": 2,
            "linecolor": "white",
            "showbackground": true,
            "ticks": "",
            "zerolinecolor": "white"
           },
           "zaxis": {
            "backgroundcolor": "#E5ECF6",
            "gridcolor": "white",
            "gridwidth": 2,
            "linecolor": "white",
            "showbackground": true,
            "ticks": "",
            "zerolinecolor": "white"
           }
          },
          "shapedefaults": {
           "line": {
            "color": "#2a3f5f"
           }
          },
          "ternary": {
           "aaxis": {
            "gridcolor": "white",
            "linecolor": "white",
            "ticks": ""
           },
           "baxis": {
            "gridcolor": "white",
            "linecolor": "white",
            "ticks": ""
           },
           "bgcolor": "#E5ECF6",
           "caxis": {
            "gridcolor": "white",
            "linecolor": "white",
            "ticks": ""
           }
          },
          "title": {
           "x": 0.05
          },
          "xaxis": {
           "automargin": true,
           "gridcolor": "white",
           "linecolor": "white",
           "ticks": "",
           "title": {
            "standoff": 15
           },
           "zerolinecolor": "white",
           "zerolinewidth": 2
          },
          "yaxis": {
           "automargin": true,
           "gridcolor": "white",
           "linecolor": "white",
           "ticks": "",
           "title": {
            "standoff": 15
           },
           "zerolinecolor": "white",
           "zerolinewidth": 2
          }
         }
        },
        "title": {
         "font": {
          "color": "#4D5663"
         }
        },
        "xaxis": {
         "gridcolor": "#E1E5ED",
         "showgrid": true,
         "tickfont": {
          "color": "#4D5663"
         },
         "title": {
          "font": {
           "color": "#4D5663"
          },
          "text": ""
         },
         "zerolinecolor": "#E1E5ED"
        },
        "yaxis": {
         "gridcolor": "#E1E5ED",
         "showgrid": true,
         "tickfont": {
          "color": "#4D5663"
         },
         "title": {
          "font": {
           "color": "#4D5663"
          },
          "text": ""
         },
         "zerolinecolor": "#E1E5ED"
        }
       }
      },
      "text/html": [
       "<div>\n",
       "        \n",
       "        \n",
       "            <div id=\"ce9d480e-37f2-4957-8aa9-a407cba9325c\" class=\"plotly-graph-div\" style=\"height:525px; width:100%;\"></div>\n",
       "            <script type=\"text/javascript\">\n",
       "                require([\"plotly\"], function(Plotly) {\n",
       "                    window.PLOTLYENV=window.PLOTLYENV || {};\n",
       "                    window.PLOTLYENV.BASE_URL='https://plot.ly';\n",
       "                    \n",
       "                if (document.getElementById(\"ce9d480e-37f2-4957-8aa9-a407cba9325c\")) {\n",
       "                    Plotly.newPlot(\n",
       "                        'ce9d480e-37f2-4957-8aa9-a407cba9325c',\n",
       "                        [{\"line\": {\"color\": \"rgba(255, 153, 51, 1.0)\", \"dash\": \"solid\", \"shape\": \"linear\", \"width\": 1.3}, \"mode\": \"lines\", \"name\": \"B\", \"text\": \"\", \"type\": \"scatter\", \"x\": [-0.04385431780971637, -0.7301948168187024, -0.3496833695728504, -1.0612823737313737, 0.6591799683260353, 0.12428679487969375, -0.2628424807417794, 2.908786492446553, 0.5339220569380786, -1.5102640304281827, -0.2153849878718799, 0.14062569399657224, -1.2095030942021077, 0.45284316632611793, -1.616644761050487, 1.2057735309487918, -0.27850860903850416, 0.2661868200566413, -0.04888824105785708, 0.5466453961210647, 0.02444249995946009, -0.8803134222022471, 0.3959377294436148, -1.0125477805236467, -0.5403287337285112, -1.3969258083854257, -0.6647798643181021, 0.48996370455519694, -0.23702134521007456, 0.8259808476853691, -0.9134122472273268, -1.1689396577601616, 0.5853346423361953, 0.1165143240319178, -0.2537611614822444, -0.18422371333987664, 0.8742866058103691, -1.073458978869497, -0.11088759020331997, -1.23745560196081, -0.532207923124355, 0.4647951367313668, -0.42647882860361713, 0.6951312657084125, -1.4214167040692915, 0.902602666447066, 0.29741521616193584, 0.528548856648751, 0.9014676973634032, -0.1607135459165966, 0.35723359219153533, 0.23642409792308924, -0.3889773534472179, -2.4151038247887273, -0.09893139723269141, 0.3183672750508919, -1.0378675424182902, 0.287212016653486, -3.79126376982542, -0.8481039639987642, -0.3083120890222015, 1.793456070709133, -1.195369054487541, 1.0073436597216414, -1.2597272629060985, 1.8384369506007168, 0.37605391208689704, 0.6314748697418396, 0.5955215842189099, -0.10636349138020569, -1.4523789133361966, 2.4449306585882913, -0.29666309294170307, -0.21758145830572764, -0.7779081958035611, 0.1354671171040796, 0.15111110801098596, -0.8735875946797669, 2.108292328999151, 0.5581931925719561, -0.028223326518975078, 0.514591322068852, -0.7160014933804951, 1.0216913238644663, -1.3091472140787501, 0.25368841660167313, 0.6179071895170258, -0.34256487682349746, 1.4664115902589256, 0.6724977799274586, -0.8666211910244764, 1.0906099527040427, -2.6320438549269682, -1.2044405223200088, 0.09772313314017038, -0.18085756910776699, 0.18166012654149388, -0.6225026019819604, -1.0801935697404188, 0.6784957157116219], \"y\": [2.954682519418268, 1.2365829943535065, 2.104707567465196, 0.6633122537619591, 0.1538540084551306, 0.23170758817037124, -0.43025246824322605, -0.8062172600617752, 0.046277835727682744, -0.1452225853859939, -0.657776484401953, 0.053257950611550565, 1.5457051738269376, -1.3621708275952347, -0.15216947551494678, -0.7568602100782479, 0.29130806187656605, -1.130874456411832, -0.4631759857994132, -0.14116155647866782, 0.7118687205278166, -1.5500933264992216, 0.23684817274769057, -0.795400792746069, -1.7188704299757898, -0.49587136119877157, 1.0845807749581031, 1.3216725689195945, -0.8772702282109345, -0.6533764162042501, 3.2761707724560956, -0.6205202155431992, -0.13674014934522996, 0.3545319778991714, 0.26694297117685484, -0.07977085536555945, -0.015089174982792847, 0.9816931248247944, -0.9110304148970944, -0.3059876199479298, 0.6662941303764393, -0.23594236213250566, 0.5387516865350658, -0.8591039221027258, -0.4438675856675307, -0.42581560653971906, 1.5211561268716567, -0.3646030143739634, 1.4187212257471844, 0.5596787266396095, -0.20374108789784603, -0.977789621874286, -0.4972843153163968, 1.0519834196489215, 0.8798947682126929, 0.57401381845951, 0.5221857963465762, -0.20410583046198696, -0.7271785758926677, -0.5507149743855863, -0.12348649822361285, -0.34865126481223113, 0.37519336960418925, 0.2054370890711027, -0.3686501583006007, -0.9308147821700553, -0.5101649714460124, -1.312756296156895, -0.6872924129121585, 0.2431653092979941, -0.4680574915932994, 0.25846307724269496, 1.109367302357436, -1.046566276737933, -0.4507778326412062, -0.9890841839195814, -1.1484905543171988, 0.13438786165027108, -2.2366854653203547, -1.7598337752374726, 0.3870442907617244, 1.2678397112271507, 1.263679739194867, -0.13001732439442706, -1.9931688174259747, 0.6132591928043307, 0.10547007627853718, 0.1228225407414566, -2.0286967006534655, 0.4496012985812599, -0.40793324413434073, 1.7038975915424757, -0.7621430975695681, 1.2001373603508956, -0.6727126847149263, -0.2901948996138198, 0.2785826649259012, 0.12294192744039334, -1.17265209109376, 0.9131529756743128]}],\n",
       "                        {\"legend\": {\"bgcolor\": \"#F5F6F9\", \"font\": {\"color\": \"#4D5663\"}}, \"paper_bgcolor\": \"#F5F6F9\", \"plot_bgcolor\": \"#F5F6F9\", \"template\": {\"data\": {\"bar\": [{\"error_x\": {\"color\": \"#2a3f5f\"}, \"error_y\": {\"color\": \"#2a3f5f\"}, \"marker\": {\"line\": {\"color\": \"#E5ECF6\", \"width\": 0.5}}, \"type\": \"bar\"}], \"barpolar\": [{\"marker\": {\"line\": {\"color\": \"#E5ECF6\", \"width\": 0.5}}, \"type\": \"barpolar\"}], \"carpet\": [{\"aaxis\": {\"endlinecolor\": \"#2a3f5f\", \"gridcolor\": \"white\", \"linecolor\": \"white\", \"minorgridcolor\": \"white\", \"startlinecolor\": \"#2a3f5f\"}, \"baxis\": {\"endlinecolor\": \"#2a3f5f\", \"gridcolor\": \"white\", \"linecolor\": \"white\", \"minorgridcolor\": \"white\", \"startlinecolor\": \"#2a3f5f\"}, \"type\": \"carpet\"}], \"choropleth\": [{\"colorbar\": {\"outlinewidth\": 0, \"ticks\": \"\"}, \"type\": \"choropleth\"}], \"contour\": [{\"colorbar\": {\"outlinewidth\": 0, \"ticks\": \"\"}, \"colorscale\": [[0.0, \"#0d0887\"], [0.1111111111111111, \"#46039f\"], [0.2222222222222222, \"#7201a8\"], [0.3333333333333333, \"#9c179e\"], [0.4444444444444444, \"#bd3786\"], [0.5555555555555556, \"#d8576b\"], [0.6666666666666666, \"#ed7953\"], [0.7777777777777778, \"#fb9f3a\"], [0.8888888888888888, \"#fdca26\"], [1.0, \"#f0f921\"]], \"type\": \"contour\"}], \"contourcarpet\": [{\"colorbar\": {\"outlinewidth\": 0, \"ticks\": \"\"}, \"type\": \"contourcarpet\"}], \"heatmap\": [{\"colorbar\": {\"outlinewidth\": 0, \"ticks\": \"\"}, \"colorscale\": [[0.0, \"#0d0887\"], [0.1111111111111111, \"#46039f\"], [0.2222222222222222, \"#7201a8\"], [0.3333333333333333, \"#9c179e\"], [0.4444444444444444, \"#bd3786\"], [0.5555555555555556, \"#d8576b\"], [0.6666666666666666, \"#ed7953\"], [0.7777777777777778, \"#fb9f3a\"], [0.8888888888888888, \"#fdca26\"], [1.0, \"#f0f921\"]], \"type\": \"heatmap\"}], \"heatmapgl\": [{\"colorbar\": {\"outlinewidth\": 0, \"ticks\": \"\"}, \"colorscale\": [[0.0, \"#0d0887\"], [0.1111111111111111, \"#46039f\"], [0.2222222222222222, \"#7201a8\"], [0.3333333333333333, \"#9c179e\"], [0.4444444444444444, \"#bd3786\"], [0.5555555555555556, \"#d8576b\"], [0.6666666666666666, \"#ed7953\"], [0.7777777777777778, \"#fb9f3a\"], [0.8888888888888888, \"#fdca26\"], [1.0, \"#f0f921\"]], \"type\": \"heatmapgl\"}], \"histogram\": [{\"marker\": {\"colorbar\": {\"outlinewidth\": 0, \"ticks\": \"\"}}, \"type\": \"histogram\"}], \"histogram2d\": [{\"colorbar\": {\"outlinewidth\": 0, \"ticks\": \"\"}, \"colorscale\": [[0.0, \"#0d0887\"], [0.1111111111111111, \"#46039f\"], [0.2222222222222222, \"#7201a8\"], [0.3333333333333333, \"#9c179e\"], [0.4444444444444444, \"#bd3786\"], [0.5555555555555556, \"#d8576b\"], [0.6666666666666666, \"#ed7953\"], [0.7777777777777778, \"#fb9f3a\"], [0.8888888888888888, \"#fdca26\"], [1.0, \"#f0f921\"]], \"type\": \"histogram2d\"}], \"histogram2dcontour\": [{\"colorbar\": {\"outlinewidth\": 0, \"ticks\": \"\"}, \"colorscale\": [[0.0, \"#0d0887\"], [0.1111111111111111, \"#46039f\"], [0.2222222222222222, \"#7201a8\"], [0.3333333333333333, \"#9c179e\"], [0.4444444444444444, \"#bd3786\"], [0.5555555555555556, \"#d8576b\"], [0.6666666666666666, \"#ed7953\"], [0.7777777777777778, \"#fb9f3a\"], [0.8888888888888888, \"#fdca26\"], [1.0, \"#f0f921\"]], \"type\": \"histogram2dcontour\"}], \"mesh3d\": [{\"colorbar\": {\"outlinewidth\": 0, \"ticks\": \"\"}, \"type\": \"mesh3d\"}], \"parcoords\": [{\"line\": {\"colorbar\": {\"outlinewidth\": 0, \"ticks\": \"\"}}, \"type\": \"parcoords\"}], \"pie\": [{\"automargin\": true, \"type\": \"pie\"}], \"scatter\": [{\"marker\": {\"colorbar\": {\"outlinewidth\": 0, \"ticks\": \"\"}}, \"type\": \"scatter\"}], \"scatter3d\": [{\"line\": {\"colorbar\": {\"outlinewidth\": 0, \"ticks\": \"\"}}, \"marker\": {\"colorbar\": {\"outlinewidth\": 0, \"ticks\": \"\"}}, \"type\": \"scatter3d\"}], \"scattercarpet\": [{\"marker\": {\"colorbar\": {\"outlinewidth\": 0, \"ticks\": \"\"}}, \"type\": \"scattercarpet\"}], \"scattergeo\": [{\"marker\": {\"colorbar\": {\"outlinewidth\": 0, \"ticks\": \"\"}}, \"type\": \"scattergeo\"}], \"scattergl\": [{\"marker\": {\"colorbar\": {\"outlinewidth\": 0, \"ticks\": \"\"}}, \"type\": \"scattergl\"}], \"scattermapbox\": [{\"marker\": {\"colorbar\": {\"outlinewidth\": 0, \"ticks\": \"\"}}, \"type\": \"scattermapbox\"}], \"scatterpolar\": [{\"marker\": {\"colorbar\": {\"outlinewidth\": 0, \"ticks\": \"\"}}, \"type\": \"scatterpolar\"}], \"scatterpolargl\": [{\"marker\": {\"colorbar\": {\"outlinewidth\": 0, \"ticks\": \"\"}}, \"type\": \"scatterpolargl\"}], \"scatterternary\": [{\"marker\": {\"colorbar\": {\"outlinewidth\": 0, \"ticks\": \"\"}}, \"type\": \"scatterternary\"}], \"surface\": [{\"colorbar\": {\"outlinewidth\": 0, \"ticks\": \"\"}, \"colorscale\": [[0.0, \"#0d0887\"], [0.1111111111111111, \"#46039f\"], [0.2222222222222222, \"#7201a8\"], [0.3333333333333333, \"#9c179e\"], [0.4444444444444444, \"#bd3786\"], [0.5555555555555556, \"#d8576b\"], [0.6666666666666666, \"#ed7953\"], [0.7777777777777778, \"#fb9f3a\"], [0.8888888888888888, \"#fdca26\"], [1.0, \"#f0f921\"]], \"type\": \"surface\"}], \"table\": [{\"cells\": {\"fill\": {\"color\": \"#EBF0F8\"}, \"line\": {\"color\": \"white\"}}, \"header\": {\"fill\": {\"color\": \"#C8D4E3\"}, \"line\": {\"color\": \"white\"}}, \"type\": \"table\"}]}, \"layout\": {\"annotationdefaults\": {\"arrowcolor\": \"#2a3f5f\", \"arrowhead\": 0, \"arrowwidth\": 1}, \"coloraxis\": {\"colorbar\": {\"outlinewidth\": 0, \"ticks\": \"\"}}, \"colorscale\": {\"diverging\": [[0, \"#8e0152\"], [0.1, \"#c51b7d\"], [0.2, \"#de77ae\"], [0.3, \"#f1b6da\"], [0.4, \"#fde0ef\"], [0.5, \"#f7f7f7\"], [0.6, \"#e6f5d0\"], [0.7, \"#b8e186\"], [0.8, \"#7fbc41\"], [0.9, \"#4d9221\"], [1, \"#276419\"]], \"sequential\": [[0.0, \"#0d0887\"], [0.1111111111111111, \"#46039f\"], [0.2222222222222222, \"#7201a8\"], [0.3333333333333333, \"#9c179e\"], [0.4444444444444444, \"#bd3786\"], [0.5555555555555556, \"#d8576b\"], [0.6666666666666666, \"#ed7953\"], [0.7777777777777778, \"#fb9f3a\"], [0.8888888888888888, \"#fdca26\"], [1.0, \"#f0f921\"]], \"sequentialminus\": [[0.0, \"#0d0887\"], [0.1111111111111111, \"#46039f\"], [0.2222222222222222, \"#7201a8\"], [0.3333333333333333, \"#9c179e\"], [0.4444444444444444, \"#bd3786\"], [0.5555555555555556, \"#d8576b\"], [0.6666666666666666, \"#ed7953\"], [0.7777777777777778, \"#fb9f3a\"], [0.8888888888888888, \"#fdca26\"], [1.0, \"#f0f921\"]]}, \"colorway\": [\"#636efa\", \"#EF553B\", \"#00cc96\", \"#ab63fa\", \"#FFA15A\", \"#19d3f3\", \"#FF6692\", \"#B6E880\", \"#FF97FF\", \"#FECB52\"], \"font\": {\"color\": \"#2a3f5f\"}, \"geo\": {\"bgcolor\": \"white\", \"lakecolor\": \"white\", \"landcolor\": \"#E5ECF6\", \"showlakes\": true, \"showland\": true, \"subunitcolor\": \"white\"}, \"hoverlabel\": {\"align\": \"left\"}, \"hovermode\": \"closest\", \"mapbox\": {\"style\": \"light\"}, \"paper_bgcolor\": \"white\", \"plot_bgcolor\": \"#E5ECF6\", \"polar\": {\"angularaxis\": {\"gridcolor\": \"white\", \"linecolor\": \"white\", \"ticks\": \"\"}, \"bgcolor\": \"#E5ECF6\", \"radialaxis\": {\"gridcolor\": \"white\", \"linecolor\": \"white\", \"ticks\": \"\"}}, \"scene\": {\"xaxis\": {\"backgroundcolor\": \"#E5ECF6\", \"gridcolor\": \"white\", \"gridwidth\": 2, \"linecolor\": \"white\", \"showbackground\": true, \"ticks\": \"\", \"zerolinecolor\": \"white\"}, \"yaxis\": {\"backgroundcolor\": \"#E5ECF6\", \"gridcolor\": \"white\", \"gridwidth\": 2, \"linecolor\": \"white\", \"showbackground\": true, \"ticks\": \"\", \"zerolinecolor\": \"white\"}, \"zaxis\": {\"backgroundcolor\": \"#E5ECF6\", \"gridcolor\": \"white\", \"gridwidth\": 2, \"linecolor\": \"white\", \"showbackground\": true, \"ticks\": \"\", \"zerolinecolor\": \"white\"}}, \"shapedefaults\": {\"line\": {\"color\": \"#2a3f5f\"}}, \"ternary\": {\"aaxis\": {\"gridcolor\": \"white\", \"linecolor\": \"white\", \"ticks\": \"\"}, \"baxis\": {\"gridcolor\": \"white\", \"linecolor\": \"white\", \"ticks\": \"\"}, \"bgcolor\": \"#E5ECF6\", \"caxis\": {\"gridcolor\": \"white\", \"linecolor\": \"white\", \"ticks\": \"\"}}, \"title\": {\"x\": 0.05}, \"xaxis\": {\"automargin\": true, \"gridcolor\": \"white\", \"linecolor\": \"white\", \"ticks\": \"\", \"title\": {\"standoff\": 15}, \"zerolinecolor\": \"white\", \"zerolinewidth\": 2}, \"yaxis\": {\"automargin\": true, \"gridcolor\": \"white\", \"linecolor\": \"white\", \"ticks\": \"\", \"title\": {\"standoff\": 15}, \"zerolinecolor\": \"white\", \"zerolinewidth\": 2}}}, \"title\": {\"font\": {\"color\": \"#4D5663\"}}, \"xaxis\": {\"gridcolor\": \"#E1E5ED\", \"showgrid\": true, \"tickfont\": {\"color\": \"#4D5663\"}, \"title\": {\"font\": {\"color\": \"#4D5663\"}, \"text\": \"\"}, \"zerolinecolor\": \"#E1E5ED\"}, \"yaxis\": {\"gridcolor\": \"#E1E5ED\", \"showgrid\": true, \"tickfont\": {\"color\": \"#4D5663\"}, \"title\": {\"font\": {\"color\": \"#4D5663\"}, \"text\": \"\"}, \"zerolinecolor\": \"#E1E5ED\"}},\n",
       "                        {\"showLink\": true, \"linkText\": \"Export to plot.ly\", \"plotlyServerURL\": \"https://plot.ly\", \"responsive\": true}\n",
       "                    ).then(function(){\n",
       "                            \n",
       "var gd = document.getElementById('ce9d480e-37f2-4957-8aa9-a407cba9325c');\n",
       "var x = new MutationObserver(function (mutations, observer) {{\n",
       "        var display = window.getComputedStyle(gd).display;\n",
       "        if (!display || display === 'none') {{\n",
       "            console.log([gd, 'removed!']);\n",
       "            Plotly.purge(gd);\n",
       "            observer.disconnect();\n",
       "        }}\n",
       "}});\n",
       "\n",
       "// Listen for the removal of the full notebook cells\n",
       "var notebookContainer = gd.closest('#notebook-container');\n",
       "if (notebookContainer) {{\n",
       "    x.observe(notebookContainer, {childList: true});\n",
       "}}\n",
       "\n",
       "// Listen for the clearing of the current output cell\n",
       "var outputEl = gd.closest('.output');\n",
       "if (outputEl) {{\n",
       "    x.observe(outputEl, {childList: true});\n",
       "}}\n",
       "\n",
       "                        })\n",
       "                };\n",
       "                });\n",
       "            </script>\n",
       "        </div>"
      ]
     },
     "metadata": {},
     "output_type": "display_data"
    }
   ],
   "source": [
    "df.iplot(kind='scatter',x='A',y='B')"
   ]
  },
  {
   "cell_type": "code",
   "execution_count": 26,
   "metadata": {},
   "outputs": [
    {
     "data": {
      "application/vnd.plotly.v1+json": {
       "config": {
        "linkText": "Export to plot.ly",
        "plotlyServerURL": "https://plot.ly",
        "showLink": true
       },
       "data": [
        {
         "line": {
          "color": "rgba(255, 153, 51, 1.0)",
          "dash": "solid",
          "shape": "linear",
          "width": 1.3
         },
         "marker": {
          "size": 20,
          "symbol": "circle"
         },
         "mode": "markers",
         "name": "B",
         "text": "",
         "type": "scatter",
         "x": [
          -0.04385431780971637,
          -0.7301948168187024,
          -0.3496833695728504,
          -1.0612823737313737,
          0.6591799683260353,
          0.12428679487969375,
          -0.2628424807417794,
          2.908786492446553,
          0.5339220569380786,
          -1.5102640304281827,
          -0.2153849878718799,
          0.14062569399657224,
          -1.2095030942021077,
          0.45284316632611793,
          -1.616644761050487,
          1.2057735309487918,
          -0.27850860903850416,
          0.2661868200566413,
          -0.04888824105785708,
          0.5466453961210647,
          0.02444249995946009,
          -0.8803134222022471,
          0.3959377294436148,
          -1.0125477805236467,
          -0.5403287337285112,
          -1.3969258083854257,
          -0.6647798643181021,
          0.48996370455519694,
          -0.23702134521007456,
          0.8259808476853691,
          -0.9134122472273268,
          -1.1689396577601616,
          0.5853346423361953,
          0.1165143240319178,
          -0.2537611614822444,
          -0.18422371333987664,
          0.8742866058103691,
          -1.073458978869497,
          -0.11088759020331997,
          -1.23745560196081,
          -0.532207923124355,
          0.4647951367313668,
          -0.42647882860361713,
          0.6951312657084125,
          -1.4214167040692915,
          0.902602666447066,
          0.29741521616193584,
          0.528548856648751,
          0.9014676973634032,
          -0.1607135459165966,
          0.35723359219153533,
          0.23642409792308924,
          -0.3889773534472179,
          -2.4151038247887273,
          -0.09893139723269141,
          0.3183672750508919,
          -1.0378675424182902,
          0.287212016653486,
          -3.79126376982542,
          -0.8481039639987642,
          -0.3083120890222015,
          1.793456070709133,
          -1.195369054487541,
          1.0073436597216414,
          -1.2597272629060985,
          1.8384369506007168,
          0.37605391208689704,
          0.6314748697418396,
          0.5955215842189099,
          -0.10636349138020569,
          -1.4523789133361966,
          2.4449306585882913,
          -0.29666309294170307,
          -0.21758145830572764,
          -0.7779081958035611,
          0.1354671171040796,
          0.15111110801098596,
          -0.8735875946797669,
          2.108292328999151,
          0.5581931925719561,
          -0.028223326518975078,
          0.514591322068852,
          -0.7160014933804951,
          1.0216913238644663,
          -1.3091472140787501,
          0.25368841660167313,
          0.6179071895170258,
          -0.34256487682349746,
          1.4664115902589256,
          0.6724977799274586,
          -0.8666211910244764,
          1.0906099527040427,
          -2.6320438549269682,
          -1.2044405223200088,
          0.09772313314017038,
          -0.18085756910776699,
          0.18166012654149388,
          -0.6225026019819604,
          -1.0801935697404188,
          0.6784957157116219
         ],
         "y": [
          2.954682519418268,
          1.2365829943535065,
          2.104707567465196,
          0.6633122537619591,
          0.1538540084551306,
          0.23170758817037124,
          -0.43025246824322605,
          -0.8062172600617752,
          0.046277835727682744,
          -0.1452225853859939,
          -0.657776484401953,
          0.053257950611550565,
          1.5457051738269376,
          -1.3621708275952347,
          -0.15216947551494678,
          -0.7568602100782479,
          0.29130806187656605,
          -1.130874456411832,
          -0.4631759857994132,
          -0.14116155647866782,
          0.7118687205278166,
          -1.5500933264992216,
          0.23684817274769057,
          -0.795400792746069,
          -1.7188704299757898,
          -0.49587136119877157,
          1.0845807749581031,
          1.3216725689195945,
          -0.8772702282109345,
          -0.6533764162042501,
          3.2761707724560956,
          -0.6205202155431992,
          -0.13674014934522996,
          0.3545319778991714,
          0.26694297117685484,
          -0.07977085536555945,
          -0.015089174982792847,
          0.9816931248247944,
          -0.9110304148970944,
          -0.3059876199479298,
          0.6662941303764393,
          -0.23594236213250566,
          0.5387516865350658,
          -0.8591039221027258,
          -0.4438675856675307,
          -0.42581560653971906,
          1.5211561268716567,
          -0.3646030143739634,
          1.4187212257471844,
          0.5596787266396095,
          -0.20374108789784603,
          -0.977789621874286,
          -0.4972843153163968,
          1.0519834196489215,
          0.8798947682126929,
          0.57401381845951,
          0.5221857963465762,
          -0.20410583046198696,
          -0.7271785758926677,
          -0.5507149743855863,
          -0.12348649822361285,
          -0.34865126481223113,
          0.37519336960418925,
          0.2054370890711027,
          -0.3686501583006007,
          -0.9308147821700553,
          -0.5101649714460124,
          -1.312756296156895,
          -0.6872924129121585,
          0.2431653092979941,
          -0.4680574915932994,
          0.25846307724269496,
          1.109367302357436,
          -1.046566276737933,
          -0.4507778326412062,
          -0.9890841839195814,
          -1.1484905543171988,
          0.13438786165027108,
          -2.2366854653203547,
          -1.7598337752374726,
          0.3870442907617244,
          1.2678397112271507,
          1.263679739194867,
          -0.13001732439442706,
          -1.9931688174259747,
          0.6132591928043307,
          0.10547007627853718,
          0.1228225407414566,
          -2.0286967006534655,
          0.4496012985812599,
          -0.40793324413434073,
          1.7038975915424757,
          -0.7621430975695681,
          1.2001373603508956,
          -0.6727126847149263,
          -0.2901948996138198,
          0.2785826649259012,
          0.12294192744039334,
          -1.17265209109376,
          0.9131529756743128
         ]
        }
       ],
       "layout": {
        "legend": {
         "bgcolor": "#F5F6F9",
         "font": {
          "color": "#4D5663"
         }
        },
        "paper_bgcolor": "#F5F6F9",
        "plot_bgcolor": "#F5F6F9",
        "template": {
         "data": {
          "bar": [
           {
            "error_x": {
             "color": "#2a3f5f"
            },
            "error_y": {
             "color": "#2a3f5f"
            },
            "marker": {
             "line": {
              "color": "#E5ECF6",
              "width": 0.5
             }
            },
            "type": "bar"
           }
          ],
          "barpolar": [
           {
            "marker": {
             "line": {
              "color": "#E5ECF6",
              "width": 0.5
             }
            },
            "type": "barpolar"
           }
          ],
          "carpet": [
           {
            "aaxis": {
             "endlinecolor": "#2a3f5f",
             "gridcolor": "white",
             "linecolor": "white",
             "minorgridcolor": "white",
             "startlinecolor": "#2a3f5f"
            },
            "baxis": {
             "endlinecolor": "#2a3f5f",
             "gridcolor": "white",
             "linecolor": "white",
             "minorgridcolor": "white",
             "startlinecolor": "#2a3f5f"
            },
            "type": "carpet"
           }
          ],
          "choropleth": [
           {
            "colorbar": {
             "outlinewidth": 0,
             "ticks": ""
            },
            "type": "choropleth"
           }
          ],
          "contour": [
           {
            "colorbar": {
             "outlinewidth": 0,
             "ticks": ""
            },
            "colorscale": [
             [
              0,
              "#0d0887"
             ],
             [
              0.1111111111111111,
              "#46039f"
             ],
             [
              0.2222222222222222,
              "#7201a8"
             ],
             [
              0.3333333333333333,
              "#9c179e"
             ],
             [
              0.4444444444444444,
              "#bd3786"
             ],
             [
              0.5555555555555556,
              "#d8576b"
             ],
             [
              0.6666666666666666,
              "#ed7953"
             ],
             [
              0.7777777777777778,
              "#fb9f3a"
             ],
             [
              0.8888888888888888,
              "#fdca26"
             ],
             [
              1,
              "#f0f921"
             ]
            ],
            "type": "contour"
           }
          ],
          "contourcarpet": [
           {
            "colorbar": {
             "outlinewidth": 0,
             "ticks": ""
            },
            "type": "contourcarpet"
           }
          ],
          "heatmap": [
           {
            "colorbar": {
             "outlinewidth": 0,
             "ticks": ""
            },
            "colorscale": [
             [
              0,
              "#0d0887"
             ],
             [
              0.1111111111111111,
              "#46039f"
             ],
             [
              0.2222222222222222,
              "#7201a8"
             ],
             [
              0.3333333333333333,
              "#9c179e"
             ],
             [
              0.4444444444444444,
              "#bd3786"
             ],
             [
              0.5555555555555556,
              "#d8576b"
             ],
             [
              0.6666666666666666,
              "#ed7953"
             ],
             [
              0.7777777777777778,
              "#fb9f3a"
             ],
             [
              0.8888888888888888,
              "#fdca26"
             ],
             [
              1,
              "#f0f921"
             ]
            ],
            "type": "heatmap"
           }
          ],
          "heatmapgl": [
           {
            "colorbar": {
             "outlinewidth": 0,
             "ticks": ""
            },
            "colorscale": [
             [
              0,
              "#0d0887"
             ],
             [
              0.1111111111111111,
              "#46039f"
             ],
             [
              0.2222222222222222,
              "#7201a8"
             ],
             [
              0.3333333333333333,
              "#9c179e"
             ],
             [
              0.4444444444444444,
              "#bd3786"
             ],
             [
              0.5555555555555556,
              "#d8576b"
             ],
             [
              0.6666666666666666,
              "#ed7953"
             ],
             [
              0.7777777777777778,
              "#fb9f3a"
             ],
             [
              0.8888888888888888,
              "#fdca26"
             ],
             [
              1,
              "#f0f921"
             ]
            ],
            "type": "heatmapgl"
           }
          ],
          "histogram": [
           {
            "marker": {
             "colorbar": {
              "outlinewidth": 0,
              "ticks": ""
             }
            },
            "type": "histogram"
           }
          ],
          "histogram2d": [
           {
            "colorbar": {
             "outlinewidth": 0,
             "ticks": ""
            },
            "colorscale": [
             [
              0,
              "#0d0887"
             ],
             [
              0.1111111111111111,
              "#46039f"
             ],
             [
              0.2222222222222222,
              "#7201a8"
             ],
             [
              0.3333333333333333,
              "#9c179e"
             ],
             [
              0.4444444444444444,
              "#bd3786"
             ],
             [
              0.5555555555555556,
              "#d8576b"
             ],
             [
              0.6666666666666666,
              "#ed7953"
             ],
             [
              0.7777777777777778,
              "#fb9f3a"
             ],
             [
              0.8888888888888888,
              "#fdca26"
             ],
             [
              1,
              "#f0f921"
             ]
            ],
            "type": "histogram2d"
           }
          ],
          "histogram2dcontour": [
           {
            "colorbar": {
             "outlinewidth": 0,
             "ticks": ""
            },
            "colorscale": [
             [
              0,
              "#0d0887"
             ],
             [
              0.1111111111111111,
              "#46039f"
             ],
             [
              0.2222222222222222,
              "#7201a8"
             ],
             [
              0.3333333333333333,
              "#9c179e"
             ],
             [
              0.4444444444444444,
              "#bd3786"
             ],
             [
              0.5555555555555556,
              "#d8576b"
             ],
             [
              0.6666666666666666,
              "#ed7953"
             ],
             [
              0.7777777777777778,
              "#fb9f3a"
             ],
             [
              0.8888888888888888,
              "#fdca26"
             ],
             [
              1,
              "#f0f921"
             ]
            ],
            "type": "histogram2dcontour"
           }
          ],
          "mesh3d": [
           {
            "colorbar": {
             "outlinewidth": 0,
             "ticks": ""
            },
            "type": "mesh3d"
           }
          ],
          "parcoords": [
           {
            "line": {
             "colorbar": {
              "outlinewidth": 0,
              "ticks": ""
             }
            },
            "type": "parcoords"
           }
          ],
          "pie": [
           {
            "automargin": true,
            "type": "pie"
           }
          ],
          "scatter": [
           {
            "marker": {
             "colorbar": {
              "outlinewidth": 0,
              "ticks": ""
             }
            },
            "type": "scatter"
           }
          ],
          "scatter3d": [
           {
            "line": {
             "colorbar": {
              "outlinewidth": 0,
              "ticks": ""
             }
            },
            "marker": {
             "colorbar": {
              "outlinewidth": 0,
              "ticks": ""
             }
            },
            "type": "scatter3d"
           }
          ],
          "scattercarpet": [
           {
            "marker": {
             "colorbar": {
              "outlinewidth": 0,
              "ticks": ""
             }
            },
            "type": "scattercarpet"
           }
          ],
          "scattergeo": [
           {
            "marker": {
             "colorbar": {
              "outlinewidth": 0,
              "ticks": ""
             }
            },
            "type": "scattergeo"
           }
          ],
          "scattergl": [
           {
            "marker": {
             "colorbar": {
              "outlinewidth": 0,
              "ticks": ""
             }
            },
            "type": "scattergl"
           }
          ],
          "scattermapbox": [
           {
            "marker": {
             "colorbar": {
              "outlinewidth": 0,
              "ticks": ""
             }
            },
            "type": "scattermapbox"
           }
          ],
          "scatterpolar": [
           {
            "marker": {
             "colorbar": {
              "outlinewidth": 0,
              "ticks": ""
             }
            },
            "type": "scatterpolar"
           }
          ],
          "scatterpolargl": [
           {
            "marker": {
             "colorbar": {
              "outlinewidth": 0,
              "ticks": ""
             }
            },
            "type": "scatterpolargl"
           }
          ],
          "scatterternary": [
           {
            "marker": {
             "colorbar": {
              "outlinewidth": 0,
              "ticks": ""
             }
            },
            "type": "scatterternary"
           }
          ],
          "surface": [
           {
            "colorbar": {
             "outlinewidth": 0,
             "ticks": ""
            },
            "colorscale": [
             [
              0,
              "#0d0887"
             ],
             [
              0.1111111111111111,
              "#46039f"
             ],
             [
              0.2222222222222222,
              "#7201a8"
             ],
             [
              0.3333333333333333,
              "#9c179e"
             ],
             [
              0.4444444444444444,
              "#bd3786"
             ],
             [
              0.5555555555555556,
              "#d8576b"
             ],
             [
              0.6666666666666666,
              "#ed7953"
             ],
             [
              0.7777777777777778,
              "#fb9f3a"
             ],
             [
              0.8888888888888888,
              "#fdca26"
             ],
             [
              1,
              "#f0f921"
             ]
            ],
            "type": "surface"
           }
          ],
          "table": [
           {
            "cells": {
             "fill": {
              "color": "#EBF0F8"
             },
             "line": {
              "color": "white"
             }
            },
            "header": {
             "fill": {
              "color": "#C8D4E3"
             },
             "line": {
              "color": "white"
             }
            },
            "type": "table"
           }
          ]
         },
         "layout": {
          "annotationdefaults": {
           "arrowcolor": "#2a3f5f",
           "arrowhead": 0,
           "arrowwidth": 1
          },
          "coloraxis": {
           "colorbar": {
            "outlinewidth": 0,
            "ticks": ""
           }
          },
          "colorscale": {
           "diverging": [
            [
             0,
             "#8e0152"
            ],
            [
             0.1,
             "#c51b7d"
            ],
            [
             0.2,
             "#de77ae"
            ],
            [
             0.3,
             "#f1b6da"
            ],
            [
             0.4,
             "#fde0ef"
            ],
            [
             0.5,
             "#f7f7f7"
            ],
            [
             0.6,
             "#e6f5d0"
            ],
            [
             0.7,
             "#b8e186"
            ],
            [
             0.8,
             "#7fbc41"
            ],
            [
             0.9,
             "#4d9221"
            ],
            [
             1,
             "#276419"
            ]
           ],
           "sequential": [
            [
             0,
             "#0d0887"
            ],
            [
             0.1111111111111111,
             "#46039f"
            ],
            [
             0.2222222222222222,
             "#7201a8"
            ],
            [
             0.3333333333333333,
             "#9c179e"
            ],
            [
             0.4444444444444444,
             "#bd3786"
            ],
            [
             0.5555555555555556,
             "#d8576b"
            ],
            [
             0.6666666666666666,
             "#ed7953"
            ],
            [
             0.7777777777777778,
             "#fb9f3a"
            ],
            [
             0.8888888888888888,
             "#fdca26"
            ],
            [
             1,
             "#f0f921"
            ]
           ],
           "sequentialminus": [
            [
             0,
             "#0d0887"
            ],
            [
             0.1111111111111111,
             "#46039f"
            ],
            [
             0.2222222222222222,
             "#7201a8"
            ],
            [
             0.3333333333333333,
             "#9c179e"
            ],
            [
             0.4444444444444444,
             "#bd3786"
            ],
            [
             0.5555555555555556,
             "#d8576b"
            ],
            [
             0.6666666666666666,
             "#ed7953"
            ],
            [
             0.7777777777777778,
             "#fb9f3a"
            ],
            [
             0.8888888888888888,
             "#fdca26"
            ],
            [
             1,
             "#f0f921"
            ]
           ]
          },
          "colorway": [
           "#636efa",
           "#EF553B",
           "#00cc96",
           "#ab63fa",
           "#FFA15A",
           "#19d3f3",
           "#FF6692",
           "#B6E880",
           "#FF97FF",
           "#FECB52"
          ],
          "font": {
           "color": "#2a3f5f"
          },
          "geo": {
           "bgcolor": "white",
           "lakecolor": "white",
           "landcolor": "#E5ECF6",
           "showlakes": true,
           "showland": true,
           "subunitcolor": "white"
          },
          "hoverlabel": {
           "align": "left"
          },
          "hovermode": "closest",
          "mapbox": {
           "style": "light"
          },
          "paper_bgcolor": "white",
          "plot_bgcolor": "#E5ECF6",
          "polar": {
           "angularaxis": {
            "gridcolor": "white",
            "linecolor": "white",
            "ticks": ""
           },
           "bgcolor": "#E5ECF6",
           "radialaxis": {
            "gridcolor": "white",
            "linecolor": "white",
            "ticks": ""
           }
          },
          "scene": {
           "xaxis": {
            "backgroundcolor": "#E5ECF6",
            "gridcolor": "white",
            "gridwidth": 2,
            "linecolor": "white",
            "showbackground": true,
            "ticks": "",
            "zerolinecolor": "white"
           },
           "yaxis": {
            "backgroundcolor": "#E5ECF6",
            "gridcolor": "white",
            "gridwidth": 2,
            "linecolor": "white",
            "showbackground": true,
            "ticks": "",
            "zerolinecolor": "white"
           },
           "zaxis": {
            "backgroundcolor": "#E5ECF6",
            "gridcolor": "white",
            "gridwidth": 2,
            "linecolor": "white",
            "showbackground": true,
            "ticks": "",
            "zerolinecolor": "white"
           }
          },
          "shapedefaults": {
           "line": {
            "color": "#2a3f5f"
           }
          },
          "ternary": {
           "aaxis": {
            "gridcolor": "white",
            "linecolor": "white",
            "ticks": ""
           },
           "baxis": {
            "gridcolor": "white",
            "linecolor": "white",
            "ticks": ""
           },
           "bgcolor": "#E5ECF6",
           "caxis": {
            "gridcolor": "white",
            "linecolor": "white",
            "ticks": ""
           }
          },
          "title": {
           "x": 0.05
          },
          "xaxis": {
           "automargin": true,
           "gridcolor": "white",
           "linecolor": "white",
           "ticks": "",
           "title": {
            "standoff": 15
           },
           "zerolinecolor": "white",
           "zerolinewidth": 2
          },
          "yaxis": {
           "automargin": true,
           "gridcolor": "white",
           "linecolor": "white",
           "ticks": "",
           "title": {
            "standoff": 15
           },
           "zerolinecolor": "white",
           "zerolinewidth": 2
          }
         }
        },
        "title": {
         "font": {
          "color": "#4D5663"
         }
        },
        "xaxis": {
         "gridcolor": "#E1E5ED",
         "showgrid": true,
         "tickfont": {
          "color": "#4D5663"
         },
         "title": {
          "font": {
           "color": "#4D5663"
          },
          "text": ""
         },
         "zerolinecolor": "#E1E5ED"
        },
        "yaxis": {
         "gridcolor": "#E1E5ED",
         "showgrid": true,
         "tickfont": {
          "color": "#4D5663"
         },
         "title": {
          "font": {
           "color": "#4D5663"
          },
          "text": ""
         },
         "zerolinecolor": "#E1E5ED"
        }
       }
      },
      "text/html": [
       "<div>\n",
       "        \n",
       "        \n",
       "            <div id=\"79bf74f8-0223-42fc-a46e-d72cfc000ef9\" class=\"plotly-graph-div\" style=\"height:525px; width:100%;\"></div>\n",
       "            <script type=\"text/javascript\">\n",
       "                require([\"plotly\"], function(Plotly) {\n",
       "                    window.PLOTLYENV=window.PLOTLYENV || {};\n",
       "                    window.PLOTLYENV.BASE_URL='https://plot.ly';\n",
       "                    \n",
       "                if (document.getElementById(\"79bf74f8-0223-42fc-a46e-d72cfc000ef9\")) {\n",
       "                    Plotly.newPlot(\n",
       "                        '79bf74f8-0223-42fc-a46e-d72cfc000ef9',\n",
       "                        [{\"line\": {\"color\": \"rgba(255, 153, 51, 1.0)\", \"dash\": \"solid\", \"shape\": \"linear\", \"width\": 1.3}, \"marker\": {\"size\": 20, \"symbol\": \"circle\"}, \"mode\": \"markers\", \"name\": \"B\", \"text\": \"\", \"type\": \"scatter\", \"x\": [-0.04385431780971637, -0.7301948168187024, -0.3496833695728504, -1.0612823737313737, 0.6591799683260353, 0.12428679487969375, -0.2628424807417794, 2.908786492446553, 0.5339220569380786, -1.5102640304281827, -0.2153849878718799, 0.14062569399657224, -1.2095030942021077, 0.45284316632611793, -1.616644761050487, 1.2057735309487918, -0.27850860903850416, 0.2661868200566413, -0.04888824105785708, 0.5466453961210647, 0.02444249995946009, -0.8803134222022471, 0.3959377294436148, -1.0125477805236467, -0.5403287337285112, -1.3969258083854257, -0.6647798643181021, 0.48996370455519694, -0.23702134521007456, 0.8259808476853691, -0.9134122472273268, -1.1689396577601616, 0.5853346423361953, 0.1165143240319178, -0.2537611614822444, -0.18422371333987664, 0.8742866058103691, -1.073458978869497, -0.11088759020331997, -1.23745560196081, -0.532207923124355, 0.4647951367313668, -0.42647882860361713, 0.6951312657084125, -1.4214167040692915, 0.902602666447066, 0.29741521616193584, 0.528548856648751, 0.9014676973634032, -0.1607135459165966, 0.35723359219153533, 0.23642409792308924, -0.3889773534472179, -2.4151038247887273, -0.09893139723269141, 0.3183672750508919, -1.0378675424182902, 0.287212016653486, -3.79126376982542, -0.8481039639987642, -0.3083120890222015, 1.793456070709133, -1.195369054487541, 1.0073436597216414, -1.2597272629060985, 1.8384369506007168, 0.37605391208689704, 0.6314748697418396, 0.5955215842189099, -0.10636349138020569, -1.4523789133361966, 2.4449306585882913, -0.29666309294170307, -0.21758145830572764, -0.7779081958035611, 0.1354671171040796, 0.15111110801098596, -0.8735875946797669, 2.108292328999151, 0.5581931925719561, -0.028223326518975078, 0.514591322068852, -0.7160014933804951, 1.0216913238644663, -1.3091472140787501, 0.25368841660167313, 0.6179071895170258, -0.34256487682349746, 1.4664115902589256, 0.6724977799274586, -0.8666211910244764, 1.0906099527040427, -2.6320438549269682, -1.2044405223200088, 0.09772313314017038, -0.18085756910776699, 0.18166012654149388, -0.6225026019819604, -1.0801935697404188, 0.6784957157116219], \"y\": [2.954682519418268, 1.2365829943535065, 2.104707567465196, 0.6633122537619591, 0.1538540084551306, 0.23170758817037124, -0.43025246824322605, -0.8062172600617752, 0.046277835727682744, -0.1452225853859939, -0.657776484401953, 0.053257950611550565, 1.5457051738269376, -1.3621708275952347, -0.15216947551494678, -0.7568602100782479, 0.29130806187656605, -1.130874456411832, -0.4631759857994132, -0.14116155647866782, 0.7118687205278166, -1.5500933264992216, 0.23684817274769057, -0.795400792746069, -1.7188704299757898, -0.49587136119877157, 1.0845807749581031, 1.3216725689195945, -0.8772702282109345, -0.6533764162042501, 3.2761707724560956, -0.6205202155431992, -0.13674014934522996, 0.3545319778991714, 0.26694297117685484, -0.07977085536555945, -0.015089174982792847, 0.9816931248247944, -0.9110304148970944, -0.3059876199479298, 0.6662941303764393, -0.23594236213250566, 0.5387516865350658, -0.8591039221027258, -0.4438675856675307, -0.42581560653971906, 1.5211561268716567, -0.3646030143739634, 1.4187212257471844, 0.5596787266396095, -0.20374108789784603, -0.977789621874286, -0.4972843153163968, 1.0519834196489215, 0.8798947682126929, 0.57401381845951, 0.5221857963465762, -0.20410583046198696, -0.7271785758926677, -0.5507149743855863, -0.12348649822361285, -0.34865126481223113, 0.37519336960418925, 0.2054370890711027, -0.3686501583006007, -0.9308147821700553, -0.5101649714460124, -1.312756296156895, -0.6872924129121585, 0.2431653092979941, -0.4680574915932994, 0.25846307724269496, 1.109367302357436, -1.046566276737933, -0.4507778326412062, -0.9890841839195814, -1.1484905543171988, 0.13438786165027108, -2.2366854653203547, -1.7598337752374726, 0.3870442907617244, 1.2678397112271507, 1.263679739194867, -0.13001732439442706, -1.9931688174259747, 0.6132591928043307, 0.10547007627853718, 0.1228225407414566, -2.0286967006534655, 0.4496012985812599, -0.40793324413434073, 1.7038975915424757, -0.7621430975695681, 1.2001373603508956, -0.6727126847149263, -0.2901948996138198, 0.2785826649259012, 0.12294192744039334, -1.17265209109376, 0.9131529756743128]}],\n",
       "                        {\"legend\": {\"bgcolor\": \"#F5F6F9\", \"font\": {\"color\": \"#4D5663\"}}, \"paper_bgcolor\": \"#F5F6F9\", \"plot_bgcolor\": \"#F5F6F9\", \"template\": {\"data\": {\"bar\": [{\"error_x\": {\"color\": \"#2a3f5f\"}, \"error_y\": {\"color\": \"#2a3f5f\"}, \"marker\": {\"line\": {\"color\": \"#E5ECF6\", \"width\": 0.5}}, \"type\": \"bar\"}], \"barpolar\": [{\"marker\": {\"line\": {\"color\": \"#E5ECF6\", \"width\": 0.5}}, \"type\": \"barpolar\"}], \"carpet\": [{\"aaxis\": {\"endlinecolor\": \"#2a3f5f\", \"gridcolor\": \"white\", \"linecolor\": \"white\", \"minorgridcolor\": \"white\", \"startlinecolor\": \"#2a3f5f\"}, \"baxis\": {\"endlinecolor\": \"#2a3f5f\", \"gridcolor\": \"white\", \"linecolor\": \"white\", \"minorgridcolor\": \"white\", \"startlinecolor\": \"#2a3f5f\"}, \"type\": \"carpet\"}], \"choropleth\": [{\"colorbar\": {\"outlinewidth\": 0, \"ticks\": \"\"}, \"type\": \"choropleth\"}], \"contour\": [{\"colorbar\": {\"outlinewidth\": 0, \"ticks\": \"\"}, \"colorscale\": [[0.0, \"#0d0887\"], [0.1111111111111111, \"#46039f\"], [0.2222222222222222, \"#7201a8\"], [0.3333333333333333, \"#9c179e\"], [0.4444444444444444, \"#bd3786\"], [0.5555555555555556, \"#d8576b\"], [0.6666666666666666, \"#ed7953\"], [0.7777777777777778, \"#fb9f3a\"], [0.8888888888888888, \"#fdca26\"], [1.0, \"#f0f921\"]], \"type\": \"contour\"}], \"contourcarpet\": [{\"colorbar\": {\"outlinewidth\": 0, \"ticks\": \"\"}, \"type\": \"contourcarpet\"}], \"heatmap\": [{\"colorbar\": {\"outlinewidth\": 0, \"ticks\": \"\"}, \"colorscale\": [[0.0, \"#0d0887\"], [0.1111111111111111, \"#46039f\"], [0.2222222222222222, \"#7201a8\"], [0.3333333333333333, \"#9c179e\"], [0.4444444444444444, \"#bd3786\"], [0.5555555555555556, \"#d8576b\"], [0.6666666666666666, \"#ed7953\"], [0.7777777777777778, \"#fb9f3a\"], [0.8888888888888888, \"#fdca26\"], [1.0, \"#f0f921\"]], \"type\": \"heatmap\"}], \"heatmapgl\": [{\"colorbar\": {\"outlinewidth\": 0, \"ticks\": \"\"}, \"colorscale\": [[0.0, \"#0d0887\"], [0.1111111111111111, \"#46039f\"], [0.2222222222222222, \"#7201a8\"], [0.3333333333333333, \"#9c179e\"], [0.4444444444444444, \"#bd3786\"], [0.5555555555555556, \"#d8576b\"], [0.6666666666666666, \"#ed7953\"], [0.7777777777777778, \"#fb9f3a\"], [0.8888888888888888, \"#fdca26\"], [1.0, \"#f0f921\"]], \"type\": \"heatmapgl\"}], \"histogram\": [{\"marker\": {\"colorbar\": {\"outlinewidth\": 0, \"ticks\": \"\"}}, \"type\": \"histogram\"}], \"histogram2d\": [{\"colorbar\": {\"outlinewidth\": 0, \"ticks\": \"\"}, \"colorscale\": [[0.0, \"#0d0887\"], [0.1111111111111111, \"#46039f\"], [0.2222222222222222, \"#7201a8\"], [0.3333333333333333, \"#9c179e\"], [0.4444444444444444, \"#bd3786\"], [0.5555555555555556, \"#d8576b\"], [0.6666666666666666, \"#ed7953\"], [0.7777777777777778, \"#fb9f3a\"], [0.8888888888888888, \"#fdca26\"], [1.0, \"#f0f921\"]], \"type\": \"histogram2d\"}], \"histogram2dcontour\": [{\"colorbar\": {\"outlinewidth\": 0, \"ticks\": \"\"}, \"colorscale\": [[0.0, \"#0d0887\"], [0.1111111111111111, \"#46039f\"], [0.2222222222222222, \"#7201a8\"], [0.3333333333333333, \"#9c179e\"], [0.4444444444444444, \"#bd3786\"], [0.5555555555555556, \"#d8576b\"], [0.6666666666666666, \"#ed7953\"], [0.7777777777777778, \"#fb9f3a\"], [0.8888888888888888, \"#fdca26\"], [1.0, \"#f0f921\"]], \"type\": \"histogram2dcontour\"}], \"mesh3d\": [{\"colorbar\": {\"outlinewidth\": 0, \"ticks\": \"\"}, \"type\": \"mesh3d\"}], \"parcoords\": [{\"line\": {\"colorbar\": {\"outlinewidth\": 0, \"ticks\": \"\"}}, \"type\": \"parcoords\"}], \"pie\": [{\"automargin\": true, \"type\": \"pie\"}], \"scatter\": [{\"marker\": {\"colorbar\": {\"outlinewidth\": 0, \"ticks\": \"\"}}, \"type\": \"scatter\"}], \"scatter3d\": [{\"line\": {\"colorbar\": {\"outlinewidth\": 0, \"ticks\": \"\"}}, \"marker\": {\"colorbar\": {\"outlinewidth\": 0, \"ticks\": \"\"}}, \"type\": \"scatter3d\"}], \"scattercarpet\": [{\"marker\": {\"colorbar\": {\"outlinewidth\": 0, \"ticks\": \"\"}}, \"type\": \"scattercarpet\"}], \"scattergeo\": [{\"marker\": {\"colorbar\": {\"outlinewidth\": 0, \"ticks\": \"\"}}, \"type\": \"scattergeo\"}], \"scattergl\": [{\"marker\": {\"colorbar\": {\"outlinewidth\": 0, \"ticks\": \"\"}}, \"type\": \"scattergl\"}], \"scattermapbox\": [{\"marker\": {\"colorbar\": {\"outlinewidth\": 0, \"ticks\": \"\"}}, \"type\": \"scattermapbox\"}], \"scatterpolar\": [{\"marker\": {\"colorbar\": {\"outlinewidth\": 0, \"ticks\": \"\"}}, \"type\": \"scatterpolar\"}], \"scatterpolargl\": [{\"marker\": {\"colorbar\": {\"outlinewidth\": 0, \"ticks\": \"\"}}, \"type\": \"scatterpolargl\"}], \"scatterternary\": [{\"marker\": {\"colorbar\": {\"outlinewidth\": 0, \"ticks\": \"\"}}, \"type\": \"scatterternary\"}], \"surface\": [{\"colorbar\": {\"outlinewidth\": 0, \"ticks\": \"\"}, \"colorscale\": [[0.0, \"#0d0887\"], [0.1111111111111111, \"#46039f\"], [0.2222222222222222, \"#7201a8\"], [0.3333333333333333, \"#9c179e\"], [0.4444444444444444, \"#bd3786\"], [0.5555555555555556, \"#d8576b\"], [0.6666666666666666, \"#ed7953\"], [0.7777777777777778, \"#fb9f3a\"], [0.8888888888888888, \"#fdca26\"], [1.0, \"#f0f921\"]], \"type\": \"surface\"}], \"table\": [{\"cells\": {\"fill\": {\"color\": \"#EBF0F8\"}, \"line\": {\"color\": \"white\"}}, \"header\": {\"fill\": {\"color\": \"#C8D4E3\"}, \"line\": {\"color\": \"white\"}}, \"type\": \"table\"}]}, \"layout\": {\"annotationdefaults\": {\"arrowcolor\": \"#2a3f5f\", \"arrowhead\": 0, \"arrowwidth\": 1}, \"coloraxis\": {\"colorbar\": {\"outlinewidth\": 0, \"ticks\": \"\"}}, \"colorscale\": {\"diverging\": [[0, \"#8e0152\"], [0.1, \"#c51b7d\"], [0.2, \"#de77ae\"], [0.3, \"#f1b6da\"], [0.4, \"#fde0ef\"], [0.5, \"#f7f7f7\"], [0.6, \"#e6f5d0\"], [0.7, \"#b8e186\"], [0.8, \"#7fbc41\"], [0.9, \"#4d9221\"], [1, \"#276419\"]], \"sequential\": [[0.0, \"#0d0887\"], [0.1111111111111111, \"#46039f\"], [0.2222222222222222, \"#7201a8\"], [0.3333333333333333, \"#9c179e\"], [0.4444444444444444, \"#bd3786\"], [0.5555555555555556, \"#d8576b\"], [0.6666666666666666, \"#ed7953\"], [0.7777777777777778, \"#fb9f3a\"], [0.8888888888888888, \"#fdca26\"], [1.0, \"#f0f921\"]], \"sequentialminus\": [[0.0, \"#0d0887\"], [0.1111111111111111, \"#46039f\"], [0.2222222222222222, \"#7201a8\"], [0.3333333333333333, \"#9c179e\"], [0.4444444444444444, \"#bd3786\"], [0.5555555555555556, \"#d8576b\"], [0.6666666666666666, \"#ed7953\"], [0.7777777777777778, \"#fb9f3a\"], [0.8888888888888888, \"#fdca26\"], [1.0, \"#f0f921\"]]}, \"colorway\": [\"#636efa\", \"#EF553B\", \"#00cc96\", \"#ab63fa\", \"#FFA15A\", \"#19d3f3\", \"#FF6692\", \"#B6E880\", \"#FF97FF\", \"#FECB52\"], \"font\": {\"color\": \"#2a3f5f\"}, \"geo\": {\"bgcolor\": \"white\", \"lakecolor\": \"white\", \"landcolor\": \"#E5ECF6\", \"showlakes\": true, \"showland\": true, \"subunitcolor\": \"white\"}, \"hoverlabel\": {\"align\": \"left\"}, \"hovermode\": \"closest\", \"mapbox\": {\"style\": \"light\"}, \"paper_bgcolor\": \"white\", \"plot_bgcolor\": \"#E5ECF6\", \"polar\": {\"angularaxis\": {\"gridcolor\": \"white\", \"linecolor\": \"white\", \"ticks\": \"\"}, \"bgcolor\": \"#E5ECF6\", \"radialaxis\": {\"gridcolor\": \"white\", \"linecolor\": \"white\", \"ticks\": \"\"}}, \"scene\": {\"xaxis\": {\"backgroundcolor\": \"#E5ECF6\", \"gridcolor\": \"white\", \"gridwidth\": 2, \"linecolor\": \"white\", \"showbackground\": true, \"ticks\": \"\", \"zerolinecolor\": \"white\"}, \"yaxis\": {\"backgroundcolor\": \"#E5ECF6\", \"gridcolor\": \"white\", \"gridwidth\": 2, \"linecolor\": \"white\", \"showbackground\": true, \"ticks\": \"\", \"zerolinecolor\": \"white\"}, \"zaxis\": {\"backgroundcolor\": \"#E5ECF6\", \"gridcolor\": \"white\", \"gridwidth\": 2, \"linecolor\": \"white\", \"showbackground\": true, \"ticks\": \"\", \"zerolinecolor\": \"white\"}}, \"shapedefaults\": {\"line\": {\"color\": \"#2a3f5f\"}}, \"ternary\": {\"aaxis\": {\"gridcolor\": \"white\", \"linecolor\": \"white\", \"ticks\": \"\"}, \"baxis\": {\"gridcolor\": \"white\", \"linecolor\": \"white\", \"ticks\": \"\"}, \"bgcolor\": \"#E5ECF6\", \"caxis\": {\"gridcolor\": \"white\", \"linecolor\": \"white\", \"ticks\": \"\"}}, \"title\": {\"x\": 0.05}, \"xaxis\": {\"automargin\": true, \"gridcolor\": \"white\", \"linecolor\": \"white\", \"ticks\": \"\", \"title\": {\"standoff\": 15}, \"zerolinecolor\": \"white\", \"zerolinewidth\": 2}, \"yaxis\": {\"automargin\": true, \"gridcolor\": \"white\", \"linecolor\": \"white\", \"ticks\": \"\", \"title\": {\"standoff\": 15}, \"zerolinecolor\": \"white\", \"zerolinewidth\": 2}}}, \"title\": {\"font\": {\"color\": \"#4D5663\"}}, \"xaxis\": {\"gridcolor\": \"#E1E5ED\", \"showgrid\": true, \"tickfont\": {\"color\": \"#4D5663\"}, \"title\": {\"font\": {\"color\": \"#4D5663\"}, \"text\": \"\"}, \"zerolinecolor\": \"#E1E5ED\"}, \"yaxis\": {\"gridcolor\": \"#E1E5ED\", \"showgrid\": true, \"tickfont\": {\"color\": \"#4D5663\"}, \"title\": {\"font\": {\"color\": \"#4D5663\"}, \"text\": \"\"}, \"zerolinecolor\": \"#E1E5ED\"}},\n",
       "                        {\"showLink\": true, \"linkText\": \"Export to plot.ly\", \"plotlyServerURL\": \"https://plot.ly\", \"responsive\": true}\n",
       "                    ).then(function(){\n",
       "                            \n",
       "var gd = document.getElementById('79bf74f8-0223-42fc-a46e-d72cfc000ef9');\n",
       "var x = new MutationObserver(function (mutations, observer) {{\n",
       "        var display = window.getComputedStyle(gd).display;\n",
       "        if (!display || display === 'none') {{\n",
       "            console.log([gd, 'removed!']);\n",
       "            Plotly.purge(gd);\n",
       "            observer.disconnect();\n",
       "        }}\n",
       "}});\n",
       "\n",
       "// Listen for the removal of the full notebook cells\n",
       "var notebookContainer = gd.closest('#notebook-container');\n",
       "if (notebookContainer) {{\n",
       "    x.observe(notebookContainer, {childList: true});\n",
       "}}\n",
       "\n",
       "// Listen for the clearing of the current output cell\n",
       "var outputEl = gd.closest('.output');\n",
       "if (outputEl) {{\n",
       "    x.observe(outputEl, {childList: true});\n",
       "}}\n",
       "\n",
       "                        })\n",
       "                };\n",
       "                });\n",
       "            </script>\n",
       "        </div>"
      ]
     },
     "metadata": {},
     "output_type": "display_data"
    }
   ],
   "source": [
    "df.iplot(kind='scatter',x='A',y='B',mode='markers',size=20) \n",
    "\n",
    "# specify mode "
   ]
  },
  {
   "cell_type": "code",
   "execution_count": 29,
   "metadata": {},
   "outputs": [
    {
     "data": {
      "application/vnd.plotly.v1+json": {
       "config": {
        "linkText": "Export to plot.ly",
        "plotlyServerURL": "https://plot.ly",
        "showLink": true
       },
       "data": [
        {
         "marker": {
          "color": "rgba(255, 153, 51, 0.6)",
          "line": {
           "color": "rgba(255, 153, 51, 1.0)",
           "width": 1
          }
         },
         "name": "Values",
         "orientation": "v",
         "text": "",
         "type": "bar",
         "x": [
          "A",
          "B",
          "C"
         ],
         "y": [
          32,
          43,
          50
         ]
        }
       ],
       "layout": {
        "legend": {
         "bgcolor": "#F5F6F9",
         "font": {
          "color": "#4D5663"
         }
        },
        "paper_bgcolor": "#F5F6F9",
        "plot_bgcolor": "#F5F6F9",
        "template": {
         "data": {
          "bar": [
           {
            "error_x": {
             "color": "#2a3f5f"
            },
            "error_y": {
             "color": "#2a3f5f"
            },
            "marker": {
             "line": {
              "color": "#E5ECF6",
              "width": 0.5
             }
            },
            "type": "bar"
           }
          ],
          "barpolar": [
           {
            "marker": {
             "line": {
              "color": "#E5ECF6",
              "width": 0.5
             }
            },
            "type": "barpolar"
           }
          ],
          "carpet": [
           {
            "aaxis": {
             "endlinecolor": "#2a3f5f",
             "gridcolor": "white",
             "linecolor": "white",
             "minorgridcolor": "white",
             "startlinecolor": "#2a3f5f"
            },
            "baxis": {
             "endlinecolor": "#2a3f5f",
             "gridcolor": "white",
             "linecolor": "white",
             "minorgridcolor": "white",
             "startlinecolor": "#2a3f5f"
            },
            "type": "carpet"
           }
          ],
          "choropleth": [
           {
            "colorbar": {
             "outlinewidth": 0,
             "ticks": ""
            },
            "type": "choropleth"
           }
          ],
          "contour": [
           {
            "colorbar": {
             "outlinewidth": 0,
             "ticks": ""
            },
            "colorscale": [
             [
              0,
              "#0d0887"
             ],
             [
              0.1111111111111111,
              "#46039f"
             ],
             [
              0.2222222222222222,
              "#7201a8"
             ],
             [
              0.3333333333333333,
              "#9c179e"
             ],
             [
              0.4444444444444444,
              "#bd3786"
             ],
             [
              0.5555555555555556,
              "#d8576b"
             ],
             [
              0.6666666666666666,
              "#ed7953"
             ],
             [
              0.7777777777777778,
              "#fb9f3a"
             ],
             [
              0.8888888888888888,
              "#fdca26"
             ],
             [
              1,
              "#f0f921"
             ]
            ],
            "type": "contour"
           }
          ],
          "contourcarpet": [
           {
            "colorbar": {
             "outlinewidth": 0,
             "ticks": ""
            },
            "type": "contourcarpet"
           }
          ],
          "heatmap": [
           {
            "colorbar": {
             "outlinewidth": 0,
             "ticks": ""
            },
            "colorscale": [
             [
              0,
              "#0d0887"
             ],
             [
              0.1111111111111111,
              "#46039f"
             ],
             [
              0.2222222222222222,
              "#7201a8"
             ],
             [
              0.3333333333333333,
              "#9c179e"
             ],
             [
              0.4444444444444444,
              "#bd3786"
             ],
             [
              0.5555555555555556,
              "#d8576b"
             ],
             [
              0.6666666666666666,
              "#ed7953"
             ],
             [
              0.7777777777777778,
              "#fb9f3a"
             ],
             [
              0.8888888888888888,
              "#fdca26"
             ],
             [
              1,
              "#f0f921"
             ]
            ],
            "type": "heatmap"
           }
          ],
          "heatmapgl": [
           {
            "colorbar": {
             "outlinewidth": 0,
             "ticks": ""
            },
            "colorscale": [
             [
              0,
              "#0d0887"
             ],
             [
              0.1111111111111111,
              "#46039f"
             ],
             [
              0.2222222222222222,
              "#7201a8"
             ],
             [
              0.3333333333333333,
              "#9c179e"
             ],
             [
              0.4444444444444444,
              "#bd3786"
             ],
             [
              0.5555555555555556,
              "#d8576b"
             ],
             [
              0.6666666666666666,
              "#ed7953"
             ],
             [
              0.7777777777777778,
              "#fb9f3a"
             ],
             [
              0.8888888888888888,
              "#fdca26"
             ],
             [
              1,
              "#f0f921"
             ]
            ],
            "type": "heatmapgl"
           }
          ],
          "histogram": [
           {
            "marker": {
             "colorbar": {
              "outlinewidth": 0,
              "ticks": ""
             }
            },
            "type": "histogram"
           }
          ],
          "histogram2d": [
           {
            "colorbar": {
             "outlinewidth": 0,
             "ticks": ""
            },
            "colorscale": [
             [
              0,
              "#0d0887"
             ],
             [
              0.1111111111111111,
              "#46039f"
             ],
             [
              0.2222222222222222,
              "#7201a8"
             ],
             [
              0.3333333333333333,
              "#9c179e"
             ],
             [
              0.4444444444444444,
              "#bd3786"
             ],
             [
              0.5555555555555556,
              "#d8576b"
             ],
             [
              0.6666666666666666,
              "#ed7953"
             ],
             [
              0.7777777777777778,
              "#fb9f3a"
             ],
             [
              0.8888888888888888,
              "#fdca26"
             ],
             [
              1,
              "#f0f921"
             ]
            ],
            "type": "histogram2d"
           }
          ],
          "histogram2dcontour": [
           {
            "colorbar": {
             "outlinewidth": 0,
             "ticks": ""
            },
            "colorscale": [
             [
              0,
              "#0d0887"
             ],
             [
              0.1111111111111111,
              "#46039f"
             ],
             [
              0.2222222222222222,
              "#7201a8"
             ],
             [
              0.3333333333333333,
              "#9c179e"
             ],
             [
              0.4444444444444444,
              "#bd3786"
             ],
             [
              0.5555555555555556,
              "#d8576b"
             ],
             [
              0.6666666666666666,
              "#ed7953"
             ],
             [
              0.7777777777777778,
              "#fb9f3a"
             ],
             [
              0.8888888888888888,
              "#fdca26"
             ],
             [
              1,
              "#f0f921"
             ]
            ],
            "type": "histogram2dcontour"
           }
          ],
          "mesh3d": [
           {
            "colorbar": {
             "outlinewidth": 0,
             "ticks": ""
            },
            "type": "mesh3d"
           }
          ],
          "parcoords": [
           {
            "line": {
             "colorbar": {
              "outlinewidth": 0,
              "ticks": ""
             }
            },
            "type": "parcoords"
           }
          ],
          "pie": [
           {
            "automargin": true,
            "type": "pie"
           }
          ],
          "scatter": [
           {
            "marker": {
             "colorbar": {
              "outlinewidth": 0,
              "ticks": ""
             }
            },
            "type": "scatter"
           }
          ],
          "scatter3d": [
           {
            "line": {
             "colorbar": {
              "outlinewidth": 0,
              "ticks": ""
             }
            },
            "marker": {
             "colorbar": {
              "outlinewidth": 0,
              "ticks": ""
             }
            },
            "type": "scatter3d"
           }
          ],
          "scattercarpet": [
           {
            "marker": {
             "colorbar": {
              "outlinewidth": 0,
              "ticks": ""
             }
            },
            "type": "scattercarpet"
           }
          ],
          "scattergeo": [
           {
            "marker": {
             "colorbar": {
              "outlinewidth": 0,
              "ticks": ""
             }
            },
            "type": "scattergeo"
           }
          ],
          "scattergl": [
           {
            "marker": {
             "colorbar": {
              "outlinewidth": 0,
              "ticks": ""
             }
            },
            "type": "scattergl"
           }
          ],
          "scattermapbox": [
           {
            "marker": {
             "colorbar": {
              "outlinewidth": 0,
              "ticks": ""
             }
            },
            "type": "scattermapbox"
           }
          ],
          "scatterpolar": [
           {
            "marker": {
             "colorbar": {
              "outlinewidth": 0,
              "ticks": ""
             }
            },
            "type": "scatterpolar"
           }
          ],
          "scatterpolargl": [
           {
            "marker": {
             "colorbar": {
              "outlinewidth": 0,
              "ticks": ""
             }
            },
            "type": "scatterpolargl"
           }
          ],
          "scatterternary": [
           {
            "marker": {
             "colorbar": {
              "outlinewidth": 0,
              "ticks": ""
             }
            },
            "type": "scatterternary"
           }
          ],
          "surface": [
           {
            "colorbar": {
             "outlinewidth": 0,
             "ticks": ""
            },
            "colorscale": [
             [
              0,
              "#0d0887"
             ],
             [
              0.1111111111111111,
              "#46039f"
             ],
             [
              0.2222222222222222,
              "#7201a8"
             ],
             [
              0.3333333333333333,
              "#9c179e"
             ],
             [
              0.4444444444444444,
              "#bd3786"
             ],
             [
              0.5555555555555556,
              "#d8576b"
             ],
             [
              0.6666666666666666,
              "#ed7953"
             ],
             [
              0.7777777777777778,
              "#fb9f3a"
             ],
             [
              0.8888888888888888,
              "#fdca26"
             ],
             [
              1,
              "#f0f921"
             ]
            ],
            "type": "surface"
           }
          ],
          "table": [
           {
            "cells": {
             "fill": {
              "color": "#EBF0F8"
             },
             "line": {
              "color": "white"
             }
            },
            "header": {
             "fill": {
              "color": "#C8D4E3"
             },
             "line": {
              "color": "white"
             }
            },
            "type": "table"
           }
          ]
         },
         "layout": {
          "annotationdefaults": {
           "arrowcolor": "#2a3f5f",
           "arrowhead": 0,
           "arrowwidth": 1
          },
          "coloraxis": {
           "colorbar": {
            "outlinewidth": 0,
            "ticks": ""
           }
          },
          "colorscale": {
           "diverging": [
            [
             0,
             "#8e0152"
            ],
            [
             0.1,
             "#c51b7d"
            ],
            [
             0.2,
             "#de77ae"
            ],
            [
             0.3,
             "#f1b6da"
            ],
            [
             0.4,
             "#fde0ef"
            ],
            [
             0.5,
             "#f7f7f7"
            ],
            [
             0.6,
             "#e6f5d0"
            ],
            [
             0.7,
             "#b8e186"
            ],
            [
             0.8,
             "#7fbc41"
            ],
            [
             0.9,
             "#4d9221"
            ],
            [
             1,
             "#276419"
            ]
           ],
           "sequential": [
            [
             0,
             "#0d0887"
            ],
            [
             0.1111111111111111,
             "#46039f"
            ],
            [
             0.2222222222222222,
             "#7201a8"
            ],
            [
             0.3333333333333333,
             "#9c179e"
            ],
            [
             0.4444444444444444,
             "#bd3786"
            ],
            [
             0.5555555555555556,
             "#d8576b"
            ],
            [
             0.6666666666666666,
             "#ed7953"
            ],
            [
             0.7777777777777778,
             "#fb9f3a"
            ],
            [
             0.8888888888888888,
             "#fdca26"
            ],
            [
             1,
             "#f0f921"
            ]
           ],
           "sequentialminus": [
            [
             0,
             "#0d0887"
            ],
            [
             0.1111111111111111,
             "#46039f"
            ],
            [
             0.2222222222222222,
             "#7201a8"
            ],
            [
             0.3333333333333333,
             "#9c179e"
            ],
            [
             0.4444444444444444,
             "#bd3786"
            ],
            [
             0.5555555555555556,
             "#d8576b"
            ],
            [
             0.6666666666666666,
             "#ed7953"
            ],
            [
             0.7777777777777778,
             "#fb9f3a"
            ],
            [
             0.8888888888888888,
             "#fdca26"
            ],
            [
             1,
             "#f0f921"
            ]
           ]
          },
          "colorway": [
           "#636efa",
           "#EF553B",
           "#00cc96",
           "#ab63fa",
           "#FFA15A",
           "#19d3f3",
           "#FF6692",
           "#B6E880",
           "#FF97FF",
           "#FECB52"
          ],
          "font": {
           "color": "#2a3f5f"
          },
          "geo": {
           "bgcolor": "white",
           "lakecolor": "white",
           "landcolor": "#E5ECF6",
           "showlakes": true,
           "showland": true,
           "subunitcolor": "white"
          },
          "hoverlabel": {
           "align": "left"
          },
          "hovermode": "closest",
          "mapbox": {
           "style": "light"
          },
          "paper_bgcolor": "white",
          "plot_bgcolor": "#E5ECF6",
          "polar": {
           "angularaxis": {
            "gridcolor": "white",
            "linecolor": "white",
            "ticks": ""
           },
           "bgcolor": "#E5ECF6",
           "radialaxis": {
            "gridcolor": "white",
            "linecolor": "white",
            "ticks": ""
           }
          },
          "scene": {
           "xaxis": {
            "backgroundcolor": "#E5ECF6",
            "gridcolor": "white",
            "gridwidth": 2,
            "linecolor": "white",
            "showbackground": true,
            "ticks": "",
            "zerolinecolor": "white"
           },
           "yaxis": {
            "backgroundcolor": "#E5ECF6",
            "gridcolor": "white",
            "gridwidth": 2,
            "linecolor": "white",
            "showbackground": true,
            "ticks": "",
            "zerolinecolor": "white"
           },
           "zaxis": {
            "backgroundcolor": "#E5ECF6",
            "gridcolor": "white",
            "gridwidth": 2,
            "linecolor": "white",
            "showbackground": true,
            "ticks": "",
            "zerolinecolor": "white"
           }
          },
          "shapedefaults": {
           "line": {
            "color": "#2a3f5f"
           }
          },
          "ternary": {
           "aaxis": {
            "gridcolor": "white",
            "linecolor": "white",
            "ticks": ""
           },
           "baxis": {
            "gridcolor": "white",
            "linecolor": "white",
            "ticks": ""
           },
           "bgcolor": "#E5ECF6",
           "caxis": {
            "gridcolor": "white",
            "linecolor": "white",
            "ticks": ""
           }
          },
          "title": {
           "x": 0.05
          },
          "xaxis": {
           "automargin": true,
           "gridcolor": "white",
           "linecolor": "white",
           "ticks": "",
           "title": {
            "standoff": 15
           },
           "zerolinecolor": "white",
           "zerolinewidth": 2
          },
          "yaxis": {
           "automargin": true,
           "gridcolor": "white",
           "linecolor": "white",
           "ticks": "",
           "title": {
            "standoff": 15
           },
           "zerolinecolor": "white",
           "zerolinewidth": 2
          }
         }
        },
        "title": {
         "font": {
          "color": "#4D5663"
         }
        },
        "xaxis": {
         "gridcolor": "#E1E5ED",
         "showgrid": true,
         "tickfont": {
          "color": "#4D5663"
         },
         "title": {
          "font": {
           "color": "#4D5663"
          },
          "text": ""
         },
         "zerolinecolor": "#E1E5ED"
        },
        "yaxis": {
         "gridcolor": "#E1E5ED",
         "showgrid": true,
         "tickfont": {
          "color": "#4D5663"
         },
         "title": {
          "font": {
           "color": "#4D5663"
          },
          "text": ""
         },
         "zerolinecolor": "#E1E5ED"
        }
       }
      },
      "text/html": [
       "<div>\n",
       "        \n",
       "        \n",
       "            <div id=\"92822129-bcf0-42bb-ad48-da19c5ce3ad1\" class=\"plotly-graph-div\" style=\"height:525px; width:100%;\"></div>\n",
       "            <script type=\"text/javascript\">\n",
       "                require([\"plotly\"], function(Plotly) {\n",
       "                    window.PLOTLYENV=window.PLOTLYENV || {};\n",
       "                    window.PLOTLYENV.BASE_URL='https://plot.ly';\n",
       "                    \n",
       "                if (document.getElementById(\"92822129-bcf0-42bb-ad48-da19c5ce3ad1\")) {\n",
       "                    Plotly.newPlot(\n",
       "                        '92822129-bcf0-42bb-ad48-da19c5ce3ad1',\n",
       "                        [{\"marker\": {\"color\": \"rgba(255, 153, 51, 0.6)\", \"line\": {\"color\": \"rgba(255, 153, 51, 1.0)\", \"width\": 1}}, \"name\": \"Values\", \"orientation\": \"v\", \"text\": \"\", \"type\": \"bar\", \"x\": [\"A\", \"B\", \"C\"], \"y\": [32, 43, 50]}],\n",
       "                        {\"legend\": {\"bgcolor\": \"#F5F6F9\", \"font\": {\"color\": \"#4D5663\"}}, \"paper_bgcolor\": \"#F5F6F9\", \"plot_bgcolor\": \"#F5F6F9\", \"template\": {\"data\": {\"bar\": [{\"error_x\": {\"color\": \"#2a3f5f\"}, \"error_y\": {\"color\": \"#2a3f5f\"}, \"marker\": {\"line\": {\"color\": \"#E5ECF6\", \"width\": 0.5}}, \"type\": \"bar\"}], \"barpolar\": [{\"marker\": {\"line\": {\"color\": \"#E5ECF6\", \"width\": 0.5}}, \"type\": \"barpolar\"}], \"carpet\": [{\"aaxis\": {\"endlinecolor\": \"#2a3f5f\", \"gridcolor\": \"white\", \"linecolor\": \"white\", \"minorgridcolor\": \"white\", \"startlinecolor\": \"#2a3f5f\"}, \"baxis\": {\"endlinecolor\": \"#2a3f5f\", \"gridcolor\": \"white\", \"linecolor\": \"white\", \"minorgridcolor\": \"white\", \"startlinecolor\": \"#2a3f5f\"}, \"type\": \"carpet\"}], \"choropleth\": [{\"colorbar\": {\"outlinewidth\": 0, \"ticks\": \"\"}, \"type\": \"choropleth\"}], \"contour\": [{\"colorbar\": {\"outlinewidth\": 0, \"ticks\": \"\"}, \"colorscale\": [[0.0, \"#0d0887\"], [0.1111111111111111, \"#46039f\"], [0.2222222222222222, \"#7201a8\"], [0.3333333333333333, \"#9c179e\"], [0.4444444444444444, \"#bd3786\"], [0.5555555555555556, \"#d8576b\"], [0.6666666666666666, \"#ed7953\"], [0.7777777777777778, \"#fb9f3a\"], [0.8888888888888888, \"#fdca26\"], [1.0, \"#f0f921\"]], \"type\": \"contour\"}], \"contourcarpet\": [{\"colorbar\": {\"outlinewidth\": 0, \"ticks\": \"\"}, \"type\": \"contourcarpet\"}], \"heatmap\": [{\"colorbar\": {\"outlinewidth\": 0, \"ticks\": \"\"}, \"colorscale\": [[0.0, \"#0d0887\"], [0.1111111111111111, \"#46039f\"], [0.2222222222222222, \"#7201a8\"], [0.3333333333333333, \"#9c179e\"], [0.4444444444444444, \"#bd3786\"], [0.5555555555555556, \"#d8576b\"], [0.6666666666666666, \"#ed7953\"], [0.7777777777777778, \"#fb9f3a\"], [0.8888888888888888, \"#fdca26\"], [1.0, \"#f0f921\"]], \"type\": \"heatmap\"}], \"heatmapgl\": [{\"colorbar\": {\"outlinewidth\": 0, \"ticks\": \"\"}, \"colorscale\": [[0.0, \"#0d0887\"], [0.1111111111111111, \"#46039f\"], [0.2222222222222222, \"#7201a8\"], [0.3333333333333333, \"#9c179e\"], [0.4444444444444444, \"#bd3786\"], [0.5555555555555556, \"#d8576b\"], [0.6666666666666666, \"#ed7953\"], [0.7777777777777778, \"#fb9f3a\"], [0.8888888888888888, \"#fdca26\"], [1.0, \"#f0f921\"]], \"type\": \"heatmapgl\"}], \"histogram\": [{\"marker\": {\"colorbar\": {\"outlinewidth\": 0, \"ticks\": \"\"}}, \"type\": \"histogram\"}], \"histogram2d\": [{\"colorbar\": {\"outlinewidth\": 0, \"ticks\": \"\"}, \"colorscale\": [[0.0, \"#0d0887\"], [0.1111111111111111, \"#46039f\"], [0.2222222222222222, \"#7201a8\"], [0.3333333333333333, \"#9c179e\"], [0.4444444444444444, \"#bd3786\"], [0.5555555555555556, \"#d8576b\"], [0.6666666666666666, \"#ed7953\"], [0.7777777777777778, \"#fb9f3a\"], [0.8888888888888888, \"#fdca26\"], [1.0, \"#f0f921\"]], \"type\": \"histogram2d\"}], \"histogram2dcontour\": [{\"colorbar\": {\"outlinewidth\": 0, \"ticks\": \"\"}, \"colorscale\": [[0.0, \"#0d0887\"], [0.1111111111111111, \"#46039f\"], [0.2222222222222222, \"#7201a8\"], [0.3333333333333333, \"#9c179e\"], [0.4444444444444444, \"#bd3786\"], [0.5555555555555556, \"#d8576b\"], [0.6666666666666666, \"#ed7953\"], [0.7777777777777778, \"#fb9f3a\"], [0.8888888888888888, \"#fdca26\"], [1.0, \"#f0f921\"]], \"type\": \"histogram2dcontour\"}], \"mesh3d\": [{\"colorbar\": {\"outlinewidth\": 0, \"ticks\": \"\"}, \"type\": \"mesh3d\"}], \"parcoords\": [{\"line\": {\"colorbar\": {\"outlinewidth\": 0, \"ticks\": \"\"}}, \"type\": \"parcoords\"}], \"pie\": [{\"automargin\": true, \"type\": \"pie\"}], \"scatter\": [{\"marker\": {\"colorbar\": {\"outlinewidth\": 0, \"ticks\": \"\"}}, \"type\": \"scatter\"}], \"scatter3d\": [{\"line\": {\"colorbar\": {\"outlinewidth\": 0, \"ticks\": \"\"}}, \"marker\": {\"colorbar\": {\"outlinewidth\": 0, \"ticks\": \"\"}}, \"type\": \"scatter3d\"}], \"scattercarpet\": [{\"marker\": {\"colorbar\": {\"outlinewidth\": 0, \"ticks\": \"\"}}, \"type\": \"scattercarpet\"}], \"scattergeo\": [{\"marker\": {\"colorbar\": {\"outlinewidth\": 0, \"ticks\": \"\"}}, \"type\": \"scattergeo\"}], \"scattergl\": [{\"marker\": {\"colorbar\": {\"outlinewidth\": 0, \"ticks\": \"\"}}, \"type\": \"scattergl\"}], \"scattermapbox\": [{\"marker\": {\"colorbar\": {\"outlinewidth\": 0, \"ticks\": \"\"}}, \"type\": \"scattermapbox\"}], \"scatterpolar\": [{\"marker\": {\"colorbar\": {\"outlinewidth\": 0, \"ticks\": \"\"}}, \"type\": \"scatterpolar\"}], \"scatterpolargl\": [{\"marker\": {\"colorbar\": {\"outlinewidth\": 0, \"ticks\": \"\"}}, \"type\": \"scatterpolargl\"}], \"scatterternary\": [{\"marker\": {\"colorbar\": {\"outlinewidth\": 0, \"ticks\": \"\"}}, \"type\": \"scatterternary\"}], \"surface\": [{\"colorbar\": {\"outlinewidth\": 0, \"ticks\": \"\"}, \"colorscale\": [[0.0, \"#0d0887\"], [0.1111111111111111, \"#46039f\"], [0.2222222222222222, \"#7201a8\"], [0.3333333333333333, \"#9c179e\"], [0.4444444444444444, \"#bd3786\"], [0.5555555555555556, \"#d8576b\"], [0.6666666666666666, \"#ed7953\"], [0.7777777777777778, \"#fb9f3a\"], [0.8888888888888888, \"#fdca26\"], [1.0, \"#f0f921\"]], \"type\": \"surface\"}], \"table\": [{\"cells\": {\"fill\": {\"color\": \"#EBF0F8\"}, \"line\": {\"color\": \"white\"}}, \"header\": {\"fill\": {\"color\": \"#C8D4E3\"}, \"line\": {\"color\": \"white\"}}, \"type\": \"table\"}]}, \"layout\": {\"annotationdefaults\": {\"arrowcolor\": \"#2a3f5f\", \"arrowhead\": 0, \"arrowwidth\": 1}, \"coloraxis\": {\"colorbar\": {\"outlinewidth\": 0, \"ticks\": \"\"}}, \"colorscale\": {\"diverging\": [[0, \"#8e0152\"], [0.1, \"#c51b7d\"], [0.2, \"#de77ae\"], [0.3, \"#f1b6da\"], [0.4, \"#fde0ef\"], [0.5, \"#f7f7f7\"], [0.6, \"#e6f5d0\"], [0.7, \"#b8e186\"], [0.8, \"#7fbc41\"], [0.9, \"#4d9221\"], [1, \"#276419\"]], \"sequential\": [[0.0, \"#0d0887\"], [0.1111111111111111, \"#46039f\"], [0.2222222222222222, \"#7201a8\"], [0.3333333333333333, \"#9c179e\"], [0.4444444444444444, \"#bd3786\"], [0.5555555555555556, \"#d8576b\"], [0.6666666666666666, \"#ed7953\"], [0.7777777777777778, \"#fb9f3a\"], [0.8888888888888888, \"#fdca26\"], [1.0, \"#f0f921\"]], \"sequentialminus\": [[0.0, \"#0d0887\"], [0.1111111111111111, \"#46039f\"], [0.2222222222222222, \"#7201a8\"], [0.3333333333333333, \"#9c179e\"], [0.4444444444444444, \"#bd3786\"], [0.5555555555555556, \"#d8576b\"], [0.6666666666666666, \"#ed7953\"], [0.7777777777777778, \"#fb9f3a\"], [0.8888888888888888, \"#fdca26\"], [1.0, \"#f0f921\"]]}, \"colorway\": [\"#636efa\", \"#EF553B\", \"#00cc96\", \"#ab63fa\", \"#FFA15A\", \"#19d3f3\", \"#FF6692\", \"#B6E880\", \"#FF97FF\", \"#FECB52\"], \"font\": {\"color\": \"#2a3f5f\"}, \"geo\": {\"bgcolor\": \"white\", \"lakecolor\": \"white\", \"landcolor\": \"#E5ECF6\", \"showlakes\": true, \"showland\": true, \"subunitcolor\": \"white\"}, \"hoverlabel\": {\"align\": \"left\"}, \"hovermode\": \"closest\", \"mapbox\": {\"style\": \"light\"}, \"paper_bgcolor\": \"white\", \"plot_bgcolor\": \"#E5ECF6\", \"polar\": {\"angularaxis\": {\"gridcolor\": \"white\", \"linecolor\": \"white\", \"ticks\": \"\"}, \"bgcolor\": \"#E5ECF6\", \"radialaxis\": {\"gridcolor\": \"white\", \"linecolor\": \"white\", \"ticks\": \"\"}}, \"scene\": {\"xaxis\": {\"backgroundcolor\": \"#E5ECF6\", \"gridcolor\": \"white\", \"gridwidth\": 2, \"linecolor\": \"white\", \"showbackground\": true, \"ticks\": \"\", \"zerolinecolor\": \"white\"}, \"yaxis\": {\"backgroundcolor\": \"#E5ECF6\", \"gridcolor\": \"white\", \"gridwidth\": 2, \"linecolor\": \"white\", \"showbackground\": true, \"ticks\": \"\", \"zerolinecolor\": \"white\"}, \"zaxis\": {\"backgroundcolor\": \"#E5ECF6\", \"gridcolor\": \"white\", \"gridwidth\": 2, \"linecolor\": \"white\", \"showbackground\": true, \"ticks\": \"\", \"zerolinecolor\": \"white\"}}, \"shapedefaults\": {\"line\": {\"color\": \"#2a3f5f\"}}, \"ternary\": {\"aaxis\": {\"gridcolor\": \"white\", \"linecolor\": \"white\", \"ticks\": \"\"}, \"baxis\": {\"gridcolor\": \"white\", \"linecolor\": \"white\", \"ticks\": \"\"}, \"bgcolor\": \"#E5ECF6\", \"caxis\": {\"gridcolor\": \"white\", \"linecolor\": \"white\", \"ticks\": \"\"}}, \"title\": {\"x\": 0.05}, \"xaxis\": {\"automargin\": true, \"gridcolor\": \"white\", \"linecolor\": \"white\", \"ticks\": \"\", \"title\": {\"standoff\": 15}, \"zerolinecolor\": \"white\", \"zerolinewidth\": 2}, \"yaxis\": {\"automargin\": true, \"gridcolor\": \"white\", \"linecolor\": \"white\", \"ticks\": \"\", \"title\": {\"standoff\": 15}, \"zerolinecolor\": \"white\", \"zerolinewidth\": 2}}}, \"title\": {\"font\": {\"color\": \"#4D5663\"}}, \"xaxis\": {\"gridcolor\": \"#E1E5ED\", \"showgrid\": true, \"tickfont\": {\"color\": \"#4D5663\"}, \"title\": {\"font\": {\"color\": \"#4D5663\"}, \"text\": \"\"}, \"zerolinecolor\": \"#E1E5ED\"}, \"yaxis\": {\"gridcolor\": \"#E1E5ED\", \"showgrid\": true, \"tickfont\": {\"color\": \"#4D5663\"}, \"title\": {\"font\": {\"color\": \"#4D5663\"}, \"text\": \"\"}, \"zerolinecolor\": \"#E1E5ED\"}},\n",
       "                        {\"showLink\": true, \"linkText\": \"Export to plot.ly\", \"plotlyServerURL\": \"https://plot.ly\", \"responsive\": true}\n",
       "                    ).then(function(){\n",
       "                            \n",
       "var gd = document.getElementById('92822129-bcf0-42bb-ad48-da19c5ce3ad1');\n",
       "var x = new MutationObserver(function (mutations, observer) {{\n",
       "        var display = window.getComputedStyle(gd).display;\n",
       "        if (!display || display === 'none') {{\n",
       "            console.log([gd, 'removed!']);\n",
       "            Plotly.purge(gd);\n",
       "            observer.disconnect();\n",
       "        }}\n",
       "}});\n",
       "\n",
       "// Listen for the removal of the full notebook cells\n",
       "var notebookContainer = gd.closest('#notebook-container');\n",
       "if (notebookContainer) {{\n",
       "    x.observe(notebookContainer, {childList: true});\n",
       "}}\n",
       "\n",
       "// Listen for the clearing of the current output cell\n",
       "var outputEl = gd.closest('.output');\n",
       "if (outputEl) {{\n",
       "    x.observe(outputEl, {childList: true});\n",
       "}}\n",
       "\n",
       "                        })\n",
       "                };\n",
       "                });\n",
       "            </script>\n",
       "        </div>"
      ]
     },
     "metadata": {},
     "output_type": "display_data"
    }
   ],
   "source": [
    "df2.iplot(kind='bar',x='Category',y='Values')"
   ]
  },
  {
   "cell_type": "code",
   "execution_count": 32,
   "metadata": {},
   "outputs": [
    {
     "data": {
      "application/vnd.plotly.v1+json": {
       "config": {
        "linkText": "Export to plot.ly",
        "plotlyServerURL": "https://plot.ly",
        "showLink": true
       },
       "data": [
        {
         "marker": {
          "color": "rgba(255, 153, 51, 0.6)",
          "line": {
           "color": "rgba(255, 153, 51, 1.0)",
           "width": 1
          }
         },
         "name": "A",
         "orientation": "v",
         "text": "",
         "type": "bar",
         "x": [
          0,
          1,
          2,
          3,
          4,
          5,
          6,
          7,
          8,
          9,
          10,
          11,
          12,
          13,
          14,
          15,
          16,
          17,
          18,
          19,
          20,
          21,
          22,
          23,
          24,
          25,
          26,
          27,
          28,
          29,
          30,
          31,
          32,
          33,
          34,
          35,
          36,
          37,
          38,
          39,
          40,
          41,
          42,
          43,
          44,
          45,
          46,
          47,
          48,
          49,
          50,
          51,
          52,
          53,
          54,
          55,
          56,
          57,
          58,
          59,
          60,
          61,
          62,
          63,
          64,
          65,
          66,
          67,
          68,
          69,
          70,
          71,
          72,
          73,
          74,
          75,
          76,
          77,
          78,
          79,
          80,
          81,
          82,
          83,
          84,
          85,
          86,
          87,
          88,
          89,
          90,
          91,
          92,
          93,
          94,
          95,
          96,
          97,
          98,
          99
         ],
         "y": [
          -0.04385431780971637,
          -0.7301948168187024,
          -0.3496833695728504,
          -1.0612823737313737,
          0.6591799683260353,
          0.12428679487969375,
          -0.2628424807417794,
          2.908786492446553,
          0.5339220569380786,
          -1.5102640304281827,
          -0.2153849878718799,
          0.14062569399657224,
          -1.2095030942021077,
          0.45284316632611793,
          -1.616644761050487,
          1.2057735309487918,
          -0.27850860903850416,
          0.2661868200566413,
          -0.04888824105785708,
          0.5466453961210647,
          0.02444249995946009,
          -0.8803134222022471,
          0.3959377294436148,
          -1.0125477805236467,
          -0.5403287337285112,
          -1.3969258083854257,
          -0.6647798643181021,
          0.48996370455519694,
          -0.23702134521007456,
          0.8259808476853691,
          -0.9134122472273268,
          -1.1689396577601616,
          0.5853346423361953,
          0.1165143240319178,
          -0.2537611614822444,
          -0.18422371333987664,
          0.8742866058103691,
          -1.073458978869497,
          -0.11088759020331997,
          -1.23745560196081,
          -0.532207923124355,
          0.4647951367313668,
          -0.42647882860361713,
          0.6951312657084125,
          -1.4214167040692915,
          0.902602666447066,
          0.29741521616193584,
          0.528548856648751,
          0.9014676973634032,
          -0.1607135459165966,
          0.35723359219153533,
          0.23642409792308924,
          -0.3889773534472179,
          -2.4151038247887273,
          -0.09893139723269141,
          0.3183672750508919,
          -1.0378675424182902,
          0.287212016653486,
          -3.79126376982542,
          -0.8481039639987642,
          -0.3083120890222015,
          1.793456070709133,
          -1.195369054487541,
          1.0073436597216414,
          -1.2597272629060985,
          1.8384369506007168,
          0.37605391208689704,
          0.6314748697418396,
          0.5955215842189099,
          -0.10636349138020569,
          -1.4523789133361966,
          2.4449306585882913,
          -0.29666309294170307,
          -0.21758145830572764,
          -0.7779081958035611,
          0.1354671171040796,
          0.15111110801098596,
          -0.8735875946797669,
          2.108292328999151,
          0.5581931925719561,
          -0.028223326518975078,
          0.514591322068852,
          -0.7160014933804951,
          1.0216913238644663,
          -1.3091472140787501,
          0.25368841660167313,
          0.6179071895170258,
          -0.34256487682349746,
          1.4664115902589256,
          0.6724977799274586,
          -0.8666211910244764,
          1.0906099527040427,
          -2.6320438549269682,
          -1.2044405223200088,
          0.09772313314017038,
          -0.18085756910776699,
          0.18166012654149388,
          -0.6225026019819604,
          -1.0801935697404188,
          0.6784957157116219
         ]
        },
        {
         "marker": {
          "color": "rgba(55, 128, 191, 0.6)",
          "line": {
           "color": "rgba(55, 128, 191, 1.0)",
           "width": 1
          }
         },
         "name": "B",
         "orientation": "v",
         "text": "",
         "type": "bar",
         "x": [
          0,
          1,
          2,
          3,
          4,
          5,
          6,
          7,
          8,
          9,
          10,
          11,
          12,
          13,
          14,
          15,
          16,
          17,
          18,
          19,
          20,
          21,
          22,
          23,
          24,
          25,
          26,
          27,
          28,
          29,
          30,
          31,
          32,
          33,
          34,
          35,
          36,
          37,
          38,
          39,
          40,
          41,
          42,
          43,
          44,
          45,
          46,
          47,
          48,
          49,
          50,
          51,
          52,
          53,
          54,
          55,
          56,
          57,
          58,
          59,
          60,
          61,
          62,
          63,
          64,
          65,
          66,
          67,
          68,
          69,
          70,
          71,
          72,
          73,
          74,
          75,
          76,
          77,
          78,
          79,
          80,
          81,
          82,
          83,
          84,
          85,
          86,
          87,
          88,
          89,
          90,
          91,
          92,
          93,
          94,
          95,
          96,
          97,
          98,
          99
         ],
         "y": [
          2.954682519418268,
          1.2365829943535065,
          2.104707567465196,
          0.6633122537619591,
          0.1538540084551306,
          0.23170758817037124,
          -0.43025246824322605,
          -0.8062172600617752,
          0.046277835727682744,
          -0.1452225853859939,
          -0.657776484401953,
          0.053257950611550565,
          1.5457051738269376,
          -1.3621708275952347,
          -0.15216947551494678,
          -0.7568602100782479,
          0.29130806187656605,
          -1.130874456411832,
          -0.4631759857994132,
          -0.14116155647866782,
          0.7118687205278166,
          -1.5500933264992216,
          0.23684817274769057,
          -0.795400792746069,
          -1.7188704299757898,
          -0.49587136119877157,
          1.0845807749581031,
          1.3216725689195945,
          -0.8772702282109345,
          -0.6533764162042501,
          3.2761707724560956,
          -0.6205202155431992,
          -0.13674014934522996,
          0.3545319778991714,
          0.26694297117685484,
          -0.07977085536555945,
          -0.015089174982792847,
          0.9816931248247944,
          -0.9110304148970944,
          -0.3059876199479298,
          0.6662941303764393,
          -0.23594236213250566,
          0.5387516865350658,
          -0.8591039221027258,
          -0.4438675856675307,
          -0.42581560653971906,
          1.5211561268716567,
          -0.3646030143739634,
          1.4187212257471844,
          0.5596787266396095,
          -0.20374108789784603,
          -0.977789621874286,
          -0.4972843153163968,
          1.0519834196489215,
          0.8798947682126929,
          0.57401381845951,
          0.5221857963465762,
          -0.20410583046198696,
          -0.7271785758926677,
          -0.5507149743855863,
          -0.12348649822361285,
          -0.34865126481223113,
          0.37519336960418925,
          0.2054370890711027,
          -0.3686501583006007,
          -0.9308147821700553,
          -0.5101649714460124,
          -1.312756296156895,
          -0.6872924129121585,
          0.2431653092979941,
          -0.4680574915932994,
          0.25846307724269496,
          1.109367302357436,
          -1.046566276737933,
          -0.4507778326412062,
          -0.9890841839195814,
          -1.1484905543171988,
          0.13438786165027108,
          -2.2366854653203547,
          -1.7598337752374726,
          0.3870442907617244,
          1.2678397112271507,
          1.263679739194867,
          -0.13001732439442706,
          -1.9931688174259747,
          0.6132591928043307,
          0.10547007627853718,
          0.1228225407414566,
          -2.0286967006534655,
          0.4496012985812599,
          -0.40793324413434073,
          1.7038975915424757,
          -0.7621430975695681,
          1.2001373603508956,
          -0.6727126847149263,
          -0.2901948996138198,
          0.2785826649259012,
          0.12294192744039334,
          -1.17265209109376,
          0.9131529756743128
         ]
        },
        {
         "marker": {
          "color": "rgba(50, 171, 96, 0.6)",
          "line": {
           "color": "rgba(50, 171, 96, 1.0)",
           "width": 1
          }
         },
         "name": "C",
         "orientation": "v",
         "text": "",
         "type": "bar",
         "x": [
          0,
          1,
          2,
          3,
          4,
          5,
          6,
          7,
          8,
          9,
          10,
          11,
          12,
          13,
          14,
          15,
          16,
          17,
          18,
          19,
          20,
          21,
          22,
          23,
          24,
          25,
          26,
          27,
          28,
          29,
          30,
          31,
          32,
          33,
          34,
          35,
          36,
          37,
          38,
          39,
          40,
          41,
          42,
          43,
          44,
          45,
          46,
          47,
          48,
          49,
          50,
          51,
          52,
          53,
          54,
          55,
          56,
          57,
          58,
          59,
          60,
          61,
          62,
          63,
          64,
          65,
          66,
          67,
          68,
          69,
          70,
          71,
          72,
          73,
          74,
          75,
          76,
          77,
          78,
          79,
          80,
          81,
          82,
          83,
          84,
          85,
          86,
          87,
          88,
          89,
          90,
          91,
          92,
          93,
          94,
          95,
          96,
          97,
          98,
          99
         ],
         "y": [
          0.695594519761371,
          -0.7451101083358315,
          -1.3092545798623205,
          -1.148967679813761,
          -2.1499901091118283,
          0.16921733208513434,
          -1.652035274965219,
          -0.06536511772995664,
          -0.451555039427988,
          2.5508875085079254,
          1.6432397771654574,
          2.175007969085216,
          -1.183349169847012,
          -0.2803436459544689,
          0.3113778761058616,
          0.6580789933974976,
          -1.2871858908274494,
          0.9421677539359915,
          -1.27898705793451,
          1.5220905163816603,
          0.172627185075392,
          -0.2920546413135475,
          -3.2200752056661366,
          -0.6595483098958985,
          -0.037209911818583956,
          -1.9113396033227792,
          0.7495406055142672,
          0.6122124912669217,
          -1.649923917785392,
          0.24031623434340352,
          -0.9305668877584682,
          -0.17927603028592373,
          -0.6189685160089439,
          -0.10426964419885773,
          -1.584842525233409,
          1.3008582838270968,
          0.9627046666914726,
          -0.07243392267314792,
          -1.0550103985991441,
          -0.42292256301955466,
          -0.0816781964074479,
          -0.3831036956544528,
          -0.18646700797564847,
          1.9161854583075255,
          1.987584099296576,
          0.503544436898424,
          -1.6917730357682448,
          1.2140789508574432,
          0.9544265944842146,
          0.07235024083734189,
          0.30208565258184666,
          0.8493376013882723,
          0.6094930176110523,
          -0.4197814073474403,
          -0.8892714466838095,
          -0.27573081018871615,
          3.06633035138194,
          1.115310615469231,
          -0.5629187882893806,
          -1.7751598399064026,
          -0.22054072021463594,
          -0.1250791946004363,
          0.20207024305742066,
          0.012822231749756524,
          0.7630588279922778,
          -0.7816538608318876,
          -1.1429232919669339,
          0.2819344067155209,
          -0.8882891798691497,
          0.31157165384845725,
          0.4059458147284747,
          2.6654818835155956,
          0.08870181610828648,
          0.622983938101566,
          0.007318167216649481,
          1.1582841684738987,
          0.3045017436015654,
          -0.96055674405388,
          -1.5729460031035347,
          -1.5352180576477532,
          2.0016917048090974,
          0.32958653439078367,
          0.6779242903392502,
          -0.3490746406178837,
          0.03283304032337678,
          -1.3940960375701712,
          -0.9332614368379432,
          -0.48306539946151844,
          0.03717416280524384,
          -1.9064036857319562,
          -0.46771930351655083,
          0.9276597763861216,
          -0.5758620461840461,
          -0.1980995575800092,
          -0.5506458950883171,
          -0.2243089631924862,
          0.1512145499046544,
          -0.3543541912031643,
          -0.16606095706018428,
          -0.31715418224932196
         ]
        },
        {
         "marker": {
          "color": "rgba(128, 0, 128, 0.6)",
          "line": {
           "color": "rgba(128, 0, 128, 1.0)",
           "width": 1
          }
         },
         "name": "D",
         "orientation": "v",
         "text": "",
         "type": "bar",
         "x": [
          0,
          1,
          2,
          3,
          4,
          5,
          6,
          7,
          8,
          9,
          10,
          11,
          12,
          13,
          14,
          15,
          16,
          17,
          18,
          19,
          20,
          21,
          22,
          23,
          24,
          25,
          26,
          27,
          28,
          29,
          30,
          31,
          32,
          33,
          34,
          35,
          36,
          37,
          38,
          39,
          40,
          41,
          42,
          43,
          44,
          45,
          46,
          47,
          48,
          49,
          50,
          51,
          52,
          53,
          54,
          55,
          56,
          57,
          58,
          59,
          60,
          61,
          62,
          63,
          64,
          65,
          66,
          67,
          68,
          69,
          70,
          71,
          72,
          73,
          74,
          75,
          76,
          77,
          78,
          79,
          80,
          81,
          82,
          83,
          84,
          85,
          86,
          87,
          88,
          89,
          90,
          91,
          92,
          93,
          94,
          95,
          96,
          97,
          98,
          99
         ],
         "y": [
          0.1348211493105177,
          1.331072068722212,
          -1.856840393991974,
          -1.0826692199085175,
          -1.4861759389019042,
          0.9448367510453909,
          0.9002622575274538,
          0.2399951548724196,
          -2.7173109542978042,
          0.6358996172944497,
          0.013757881283311239,
          -0.30715286666621483,
          0.36698070920852155,
          -0.8241317881946497,
          -1.5208647650174614,
          -0.7354562768430071,
          -1.2537972621985167,
          0.8879858198033864,
          -0.7099413000745913,
          -0.6240399942306015,
          2.2184997482400917,
          0.2566080222408146,
          -0.7233435325170695,
          -0.36585809401055946,
          -1.5176547330218004,
          0.5428843962132254,
          -0.4398698888030055,
          0.343625536158871,
          0.1981011674381106,
          0.8065099979206843,
          -1.3603521867792383,
          -0.17187123307592236,
          -1.6779996175054712,
          0.38561612398650275,
          -2.012641034881616,
          -0.37708334812546124,
          -0.04562884599330884,
          -0.4009859990959282,
          0.6939560396032762,
          -1.78589611443427,
          -1.869929131699314,
          -1.399889560058229,
          0.15886750495167176,
          -0.3242586354086578,
          0.9034370869926133,
          -0.5786721926747008,
          -0.8674333759306216,
          0.3454016300783812,
          -0.20187575531975432,
          0.5731724210192811,
          0.23715723874630953,
          1.106720036550557,
          0.9690019581797024,
          0.5959919953305238,
          1.3582327789677624,
          -0.18367776327384572,
          -1.4022175568766304,
          -0.023017278639227246,
          0.3169347429440951,
          1.6603832291117644,
          -0.8495586844825627,
          1.1618684561968171,
          -0.948641960168968,
          0.4354038402751054,
          1.8365202541015424,
          -0.1825034667378457,
          -0.38320184376570177,
          0.41371927923165663,
          -0.4562605062334397,
          -0.29220079785319764,
          -0.041964047096023624,
          0.9246400743910076,
          0.7486839011837545,
          0.2158078060728754,
          -0.6879751583409635,
          1.2030021629063608,
          1.0873298065069406,
          -1.1628069379634776,
          0.9894835492205013,
          -1.2539601106537022,
          -2.2373877359023164,
          -0.2631588365834419,
          1.361965225380507,
          -0.5719167168501775,
          0.5136380454219858,
          2.68058524805295,
          0.7179977132596467,
          0.9458129117680553,
          -1.8728427934674337,
          1.3507462150713798,
          2.004330894660265,
          -0.6651732025284808,
          -0.328919945248043,
          0.691612592123649,
          1.2548065655832024,
          0.37875592667530106,
          0.17997557036559772,
          -0.5682732751177091,
          -0.6318359329537082,
          -0.5939026606920121
         ]
        }
       ],
       "layout": {
        "legend": {
         "bgcolor": "#F5F6F9",
         "font": {
          "color": "#4D5663"
         }
        },
        "paper_bgcolor": "#F5F6F9",
        "plot_bgcolor": "#F5F6F9",
        "template": {
         "data": {
          "bar": [
           {
            "error_x": {
             "color": "#2a3f5f"
            },
            "error_y": {
             "color": "#2a3f5f"
            },
            "marker": {
             "line": {
              "color": "#E5ECF6",
              "width": 0.5
             }
            },
            "type": "bar"
           }
          ],
          "barpolar": [
           {
            "marker": {
             "line": {
              "color": "#E5ECF6",
              "width": 0.5
             }
            },
            "type": "barpolar"
           }
          ],
          "carpet": [
           {
            "aaxis": {
             "endlinecolor": "#2a3f5f",
             "gridcolor": "white",
             "linecolor": "white",
             "minorgridcolor": "white",
             "startlinecolor": "#2a3f5f"
            },
            "baxis": {
             "endlinecolor": "#2a3f5f",
             "gridcolor": "white",
             "linecolor": "white",
             "minorgridcolor": "white",
             "startlinecolor": "#2a3f5f"
            },
            "type": "carpet"
           }
          ],
          "choropleth": [
           {
            "colorbar": {
             "outlinewidth": 0,
             "ticks": ""
            },
            "type": "choropleth"
           }
          ],
          "contour": [
           {
            "colorbar": {
             "outlinewidth": 0,
             "ticks": ""
            },
            "colorscale": [
             [
              0,
              "#0d0887"
             ],
             [
              0.1111111111111111,
              "#46039f"
             ],
             [
              0.2222222222222222,
              "#7201a8"
             ],
             [
              0.3333333333333333,
              "#9c179e"
             ],
             [
              0.4444444444444444,
              "#bd3786"
             ],
             [
              0.5555555555555556,
              "#d8576b"
             ],
             [
              0.6666666666666666,
              "#ed7953"
             ],
             [
              0.7777777777777778,
              "#fb9f3a"
             ],
             [
              0.8888888888888888,
              "#fdca26"
             ],
             [
              1,
              "#f0f921"
             ]
            ],
            "type": "contour"
           }
          ],
          "contourcarpet": [
           {
            "colorbar": {
             "outlinewidth": 0,
             "ticks": ""
            },
            "type": "contourcarpet"
           }
          ],
          "heatmap": [
           {
            "colorbar": {
             "outlinewidth": 0,
             "ticks": ""
            },
            "colorscale": [
             [
              0,
              "#0d0887"
             ],
             [
              0.1111111111111111,
              "#46039f"
             ],
             [
              0.2222222222222222,
              "#7201a8"
             ],
             [
              0.3333333333333333,
              "#9c179e"
             ],
             [
              0.4444444444444444,
              "#bd3786"
             ],
             [
              0.5555555555555556,
              "#d8576b"
             ],
             [
              0.6666666666666666,
              "#ed7953"
             ],
             [
              0.7777777777777778,
              "#fb9f3a"
             ],
             [
              0.8888888888888888,
              "#fdca26"
             ],
             [
              1,
              "#f0f921"
             ]
            ],
            "type": "heatmap"
           }
          ],
          "heatmapgl": [
           {
            "colorbar": {
             "outlinewidth": 0,
             "ticks": ""
            },
            "colorscale": [
             [
              0,
              "#0d0887"
             ],
             [
              0.1111111111111111,
              "#46039f"
             ],
             [
              0.2222222222222222,
              "#7201a8"
             ],
             [
              0.3333333333333333,
              "#9c179e"
             ],
             [
              0.4444444444444444,
              "#bd3786"
             ],
             [
              0.5555555555555556,
              "#d8576b"
             ],
             [
              0.6666666666666666,
              "#ed7953"
             ],
             [
              0.7777777777777778,
              "#fb9f3a"
             ],
             [
              0.8888888888888888,
              "#fdca26"
             ],
             [
              1,
              "#f0f921"
             ]
            ],
            "type": "heatmapgl"
           }
          ],
          "histogram": [
           {
            "marker": {
             "colorbar": {
              "outlinewidth": 0,
              "ticks": ""
             }
            },
            "type": "histogram"
           }
          ],
          "histogram2d": [
           {
            "colorbar": {
             "outlinewidth": 0,
             "ticks": ""
            },
            "colorscale": [
             [
              0,
              "#0d0887"
             ],
             [
              0.1111111111111111,
              "#46039f"
             ],
             [
              0.2222222222222222,
              "#7201a8"
             ],
             [
              0.3333333333333333,
              "#9c179e"
             ],
             [
              0.4444444444444444,
              "#bd3786"
             ],
             [
              0.5555555555555556,
              "#d8576b"
             ],
             [
              0.6666666666666666,
              "#ed7953"
             ],
             [
              0.7777777777777778,
              "#fb9f3a"
             ],
             [
              0.8888888888888888,
              "#fdca26"
             ],
             [
              1,
              "#f0f921"
             ]
            ],
            "type": "histogram2d"
           }
          ],
          "histogram2dcontour": [
           {
            "colorbar": {
             "outlinewidth": 0,
             "ticks": ""
            },
            "colorscale": [
             [
              0,
              "#0d0887"
             ],
             [
              0.1111111111111111,
              "#46039f"
             ],
             [
              0.2222222222222222,
              "#7201a8"
             ],
             [
              0.3333333333333333,
              "#9c179e"
             ],
             [
              0.4444444444444444,
              "#bd3786"
             ],
             [
              0.5555555555555556,
              "#d8576b"
             ],
             [
              0.6666666666666666,
              "#ed7953"
             ],
             [
              0.7777777777777778,
              "#fb9f3a"
             ],
             [
              0.8888888888888888,
              "#fdca26"
             ],
             [
              1,
              "#f0f921"
             ]
            ],
            "type": "histogram2dcontour"
           }
          ],
          "mesh3d": [
           {
            "colorbar": {
             "outlinewidth": 0,
             "ticks": ""
            },
            "type": "mesh3d"
           }
          ],
          "parcoords": [
           {
            "line": {
             "colorbar": {
              "outlinewidth": 0,
              "ticks": ""
             }
            },
            "type": "parcoords"
           }
          ],
          "pie": [
           {
            "automargin": true,
            "type": "pie"
           }
          ],
          "scatter": [
           {
            "marker": {
             "colorbar": {
              "outlinewidth": 0,
              "ticks": ""
             }
            },
            "type": "scatter"
           }
          ],
          "scatter3d": [
           {
            "line": {
             "colorbar": {
              "outlinewidth": 0,
              "ticks": ""
             }
            },
            "marker": {
             "colorbar": {
              "outlinewidth": 0,
              "ticks": ""
             }
            },
            "type": "scatter3d"
           }
          ],
          "scattercarpet": [
           {
            "marker": {
             "colorbar": {
              "outlinewidth": 0,
              "ticks": ""
             }
            },
            "type": "scattercarpet"
           }
          ],
          "scattergeo": [
           {
            "marker": {
             "colorbar": {
              "outlinewidth": 0,
              "ticks": ""
             }
            },
            "type": "scattergeo"
           }
          ],
          "scattergl": [
           {
            "marker": {
             "colorbar": {
              "outlinewidth": 0,
              "ticks": ""
             }
            },
            "type": "scattergl"
           }
          ],
          "scattermapbox": [
           {
            "marker": {
             "colorbar": {
              "outlinewidth": 0,
              "ticks": ""
             }
            },
            "type": "scattermapbox"
           }
          ],
          "scatterpolar": [
           {
            "marker": {
             "colorbar": {
              "outlinewidth": 0,
              "ticks": ""
             }
            },
            "type": "scatterpolar"
           }
          ],
          "scatterpolargl": [
           {
            "marker": {
             "colorbar": {
              "outlinewidth": 0,
              "ticks": ""
             }
            },
            "type": "scatterpolargl"
           }
          ],
          "scatterternary": [
           {
            "marker": {
             "colorbar": {
              "outlinewidth": 0,
              "ticks": ""
             }
            },
            "type": "scatterternary"
           }
          ],
          "surface": [
           {
            "colorbar": {
             "outlinewidth": 0,
             "ticks": ""
            },
            "colorscale": [
             [
              0,
              "#0d0887"
             ],
             [
              0.1111111111111111,
              "#46039f"
             ],
             [
              0.2222222222222222,
              "#7201a8"
             ],
             [
              0.3333333333333333,
              "#9c179e"
             ],
             [
              0.4444444444444444,
              "#bd3786"
             ],
             [
              0.5555555555555556,
              "#d8576b"
             ],
             [
              0.6666666666666666,
              "#ed7953"
             ],
             [
              0.7777777777777778,
              "#fb9f3a"
             ],
             [
              0.8888888888888888,
              "#fdca26"
             ],
             [
              1,
              "#f0f921"
             ]
            ],
            "type": "surface"
           }
          ],
          "table": [
           {
            "cells": {
             "fill": {
              "color": "#EBF0F8"
             },
             "line": {
              "color": "white"
             }
            },
            "header": {
             "fill": {
              "color": "#C8D4E3"
             },
             "line": {
              "color": "white"
             }
            },
            "type": "table"
           }
          ]
         },
         "layout": {
          "annotationdefaults": {
           "arrowcolor": "#2a3f5f",
           "arrowhead": 0,
           "arrowwidth": 1
          },
          "coloraxis": {
           "colorbar": {
            "outlinewidth": 0,
            "ticks": ""
           }
          },
          "colorscale": {
           "diverging": [
            [
             0,
             "#8e0152"
            ],
            [
             0.1,
             "#c51b7d"
            ],
            [
             0.2,
             "#de77ae"
            ],
            [
             0.3,
             "#f1b6da"
            ],
            [
             0.4,
             "#fde0ef"
            ],
            [
             0.5,
             "#f7f7f7"
            ],
            [
             0.6,
             "#e6f5d0"
            ],
            [
             0.7,
             "#b8e186"
            ],
            [
             0.8,
             "#7fbc41"
            ],
            [
             0.9,
             "#4d9221"
            ],
            [
             1,
             "#276419"
            ]
           ],
           "sequential": [
            [
             0,
             "#0d0887"
            ],
            [
             0.1111111111111111,
             "#46039f"
            ],
            [
             0.2222222222222222,
             "#7201a8"
            ],
            [
             0.3333333333333333,
             "#9c179e"
            ],
            [
             0.4444444444444444,
             "#bd3786"
            ],
            [
             0.5555555555555556,
             "#d8576b"
            ],
            [
             0.6666666666666666,
             "#ed7953"
            ],
            [
             0.7777777777777778,
             "#fb9f3a"
            ],
            [
             0.8888888888888888,
             "#fdca26"
            ],
            [
             1,
             "#f0f921"
            ]
           ],
           "sequentialminus": [
            [
             0,
             "#0d0887"
            ],
            [
             0.1111111111111111,
             "#46039f"
            ],
            [
             0.2222222222222222,
             "#7201a8"
            ],
            [
             0.3333333333333333,
             "#9c179e"
            ],
            [
             0.4444444444444444,
             "#bd3786"
            ],
            [
             0.5555555555555556,
             "#d8576b"
            ],
            [
             0.6666666666666666,
             "#ed7953"
            ],
            [
             0.7777777777777778,
             "#fb9f3a"
            ],
            [
             0.8888888888888888,
             "#fdca26"
            ],
            [
             1,
             "#f0f921"
            ]
           ]
          },
          "colorway": [
           "#636efa",
           "#EF553B",
           "#00cc96",
           "#ab63fa",
           "#FFA15A",
           "#19d3f3",
           "#FF6692",
           "#B6E880",
           "#FF97FF",
           "#FECB52"
          ],
          "font": {
           "color": "#2a3f5f"
          },
          "geo": {
           "bgcolor": "white",
           "lakecolor": "white",
           "landcolor": "#E5ECF6",
           "showlakes": true,
           "showland": true,
           "subunitcolor": "white"
          },
          "hoverlabel": {
           "align": "left"
          },
          "hovermode": "closest",
          "mapbox": {
           "style": "light"
          },
          "paper_bgcolor": "white",
          "plot_bgcolor": "#E5ECF6",
          "polar": {
           "angularaxis": {
            "gridcolor": "white",
            "linecolor": "white",
            "ticks": ""
           },
           "bgcolor": "#E5ECF6",
           "radialaxis": {
            "gridcolor": "white",
            "linecolor": "white",
            "ticks": ""
           }
          },
          "scene": {
           "xaxis": {
            "backgroundcolor": "#E5ECF6",
            "gridcolor": "white",
            "gridwidth": 2,
            "linecolor": "white",
            "showbackground": true,
            "ticks": "",
            "zerolinecolor": "white"
           },
           "yaxis": {
            "backgroundcolor": "#E5ECF6",
            "gridcolor": "white",
            "gridwidth": 2,
            "linecolor": "white",
            "showbackground": true,
            "ticks": "",
            "zerolinecolor": "white"
           },
           "zaxis": {
            "backgroundcolor": "#E5ECF6",
            "gridcolor": "white",
            "gridwidth": 2,
            "linecolor": "white",
            "showbackground": true,
            "ticks": "",
            "zerolinecolor": "white"
           }
          },
          "shapedefaults": {
           "line": {
            "color": "#2a3f5f"
           }
          },
          "ternary": {
           "aaxis": {
            "gridcolor": "white",
            "linecolor": "white",
            "ticks": ""
           },
           "baxis": {
            "gridcolor": "white",
            "linecolor": "white",
            "ticks": ""
           },
           "bgcolor": "#E5ECF6",
           "caxis": {
            "gridcolor": "white",
            "linecolor": "white",
            "ticks": ""
           }
          },
          "title": {
           "x": 0.05
          },
          "xaxis": {
           "automargin": true,
           "gridcolor": "white",
           "linecolor": "white",
           "ticks": "",
           "title": {
            "standoff": 15
           },
           "zerolinecolor": "white",
           "zerolinewidth": 2
          },
          "yaxis": {
           "automargin": true,
           "gridcolor": "white",
           "linecolor": "white",
           "ticks": "",
           "title": {
            "standoff": 15
           },
           "zerolinecolor": "white",
           "zerolinewidth": 2
          }
         }
        },
        "title": {
         "font": {
          "color": "#4D5663"
         }
        },
        "xaxis": {
         "gridcolor": "#E1E5ED",
         "showgrid": true,
         "tickfont": {
          "color": "#4D5663"
         },
         "title": {
          "font": {
           "color": "#4D5663"
          },
          "text": ""
         },
         "zerolinecolor": "#E1E5ED"
        },
        "yaxis": {
         "gridcolor": "#E1E5ED",
         "showgrid": true,
         "tickfont": {
          "color": "#4D5663"
         },
         "title": {
          "font": {
           "color": "#4D5663"
          },
          "text": ""
         },
         "zerolinecolor": "#E1E5ED"
        }
       }
      },
      "text/html": [
       "<div>\n",
       "        \n",
       "        \n",
       "            <div id=\"0cb75f29-0167-4ca9-a6de-819d873de00f\" class=\"plotly-graph-div\" style=\"height:525px; width:100%;\"></div>\n",
       "            <script type=\"text/javascript\">\n",
       "                require([\"plotly\"], function(Plotly) {\n",
       "                    window.PLOTLYENV=window.PLOTLYENV || {};\n",
       "                    window.PLOTLYENV.BASE_URL='https://plot.ly';\n",
       "                    \n",
       "                if (document.getElementById(\"0cb75f29-0167-4ca9-a6de-819d873de00f\")) {\n",
       "                    Plotly.newPlot(\n",
       "                        '0cb75f29-0167-4ca9-a6de-819d873de00f',\n",
       "                        [{\"marker\": {\"color\": \"rgba(255, 153, 51, 0.6)\", \"line\": {\"color\": \"rgba(255, 153, 51, 1.0)\", \"width\": 1}}, \"name\": \"A\", \"orientation\": \"v\", \"text\": \"\", \"type\": \"bar\", \"x\": [0, 1, 2, 3, 4, 5, 6, 7, 8, 9, 10, 11, 12, 13, 14, 15, 16, 17, 18, 19, 20, 21, 22, 23, 24, 25, 26, 27, 28, 29, 30, 31, 32, 33, 34, 35, 36, 37, 38, 39, 40, 41, 42, 43, 44, 45, 46, 47, 48, 49, 50, 51, 52, 53, 54, 55, 56, 57, 58, 59, 60, 61, 62, 63, 64, 65, 66, 67, 68, 69, 70, 71, 72, 73, 74, 75, 76, 77, 78, 79, 80, 81, 82, 83, 84, 85, 86, 87, 88, 89, 90, 91, 92, 93, 94, 95, 96, 97, 98, 99], \"y\": [-0.04385431780971637, -0.7301948168187024, -0.3496833695728504, -1.0612823737313737, 0.6591799683260353, 0.12428679487969375, -0.2628424807417794, 2.908786492446553, 0.5339220569380786, -1.5102640304281827, -0.2153849878718799, 0.14062569399657224, -1.2095030942021077, 0.45284316632611793, -1.616644761050487, 1.2057735309487918, -0.27850860903850416, 0.2661868200566413, -0.04888824105785708, 0.5466453961210647, 0.02444249995946009, -0.8803134222022471, 0.3959377294436148, -1.0125477805236467, -0.5403287337285112, -1.3969258083854257, -0.6647798643181021, 0.48996370455519694, -0.23702134521007456, 0.8259808476853691, -0.9134122472273268, -1.1689396577601616, 0.5853346423361953, 0.1165143240319178, -0.2537611614822444, -0.18422371333987664, 0.8742866058103691, -1.073458978869497, -0.11088759020331997, -1.23745560196081, -0.532207923124355, 0.4647951367313668, -0.42647882860361713, 0.6951312657084125, -1.4214167040692915, 0.902602666447066, 0.29741521616193584, 0.528548856648751, 0.9014676973634032, -0.1607135459165966, 0.35723359219153533, 0.23642409792308924, -0.3889773534472179, -2.4151038247887273, -0.09893139723269141, 0.3183672750508919, -1.0378675424182902, 0.287212016653486, -3.79126376982542, -0.8481039639987642, -0.3083120890222015, 1.793456070709133, -1.195369054487541, 1.0073436597216414, -1.2597272629060985, 1.8384369506007168, 0.37605391208689704, 0.6314748697418396, 0.5955215842189099, -0.10636349138020569, -1.4523789133361966, 2.4449306585882913, -0.29666309294170307, -0.21758145830572764, -0.7779081958035611, 0.1354671171040796, 0.15111110801098596, -0.8735875946797669, 2.108292328999151, 0.5581931925719561, -0.028223326518975078, 0.514591322068852, -0.7160014933804951, 1.0216913238644663, -1.3091472140787501, 0.25368841660167313, 0.6179071895170258, -0.34256487682349746, 1.4664115902589256, 0.6724977799274586, -0.8666211910244764, 1.0906099527040427, -2.6320438549269682, -1.2044405223200088, 0.09772313314017038, -0.18085756910776699, 0.18166012654149388, -0.6225026019819604, -1.0801935697404188, 0.6784957157116219]}, {\"marker\": {\"color\": \"rgba(55, 128, 191, 0.6)\", \"line\": {\"color\": \"rgba(55, 128, 191, 1.0)\", \"width\": 1}}, \"name\": \"B\", \"orientation\": \"v\", \"text\": \"\", \"type\": \"bar\", \"x\": [0, 1, 2, 3, 4, 5, 6, 7, 8, 9, 10, 11, 12, 13, 14, 15, 16, 17, 18, 19, 20, 21, 22, 23, 24, 25, 26, 27, 28, 29, 30, 31, 32, 33, 34, 35, 36, 37, 38, 39, 40, 41, 42, 43, 44, 45, 46, 47, 48, 49, 50, 51, 52, 53, 54, 55, 56, 57, 58, 59, 60, 61, 62, 63, 64, 65, 66, 67, 68, 69, 70, 71, 72, 73, 74, 75, 76, 77, 78, 79, 80, 81, 82, 83, 84, 85, 86, 87, 88, 89, 90, 91, 92, 93, 94, 95, 96, 97, 98, 99], \"y\": [2.954682519418268, 1.2365829943535065, 2.104707567465196, 0.6633122537619591, 0.1538540084551306, 0.23170758817037124, -0.43025246824322605, -0.8062172600617752, 0.046277835727682744, -0.1452225853859939, -0.657776484401953, 0.053257950611550565, 1.5457051738269376, -1.3621708275952347, -0.15216947551494678, -0.7568602100782479, 0.29130806187656605, -1.130874456411832, -0.4631759857994132, -0.14116155647866782, 0.7118687205278166, -1.5500933264992216, 0.23684817274769057, -0.795400792746069, -1.7188704299757898, -0.49587136119877157, 1.0845807749581031, 1.3216725689195945, -0.8772702282109345, -0.6533764162042501, 3.2761707724560956, -0.6205202155431992, -0.13674014934522996, 0.3545319778991714, 0.26694297117685484, -0.07977085536555945, -0.015089174982792847, 0.9816931248247944, -0.9110304148970944, -0.3059876199479298, 0.6662941303764393, -0.23594236213250566, 0.5387516865350658, -0.8591039221027258, -0.4438675856675307, -0.42581560653971906, 1.5211561268716567, -0.3646030143739634, 1.4187212257471844, 0.5596787266396095, -0.20374108789784603, -0.977789621874286, -0.4972843153163968, 1.0519834196489215, 0.8798947682126929, 0.57401381845951, 0.5221857963465762, -0.20410583046198696, -0.7271785758926677, -0.5507149743855863, -0.12348649822361285, -0.34865126481223113, 0.37519336960418925, 0.2054370890711027, -0.3686501583006007, -0.9308147821700553, -0.5101649714460124, -1.312756296156895, -0.6872924129121585, 0.2431653092979941, -0.4680574915932994, 0.25846307724269496, 1.109367302357436, -1.046566276737933, -0.4507778326412062, -0.9890841839195814, -1.1484905543171988, 0.13438786165027108, -2.2366854653203547, -1.7598337752374726, 0.3870442907617244, 1.2678397112271507, 1.263679739194867, -0.13001732439442706, -1.9931688174259747, 0.6132591928043307, 0.10547007627853718, 0.1228225407414566, -2.0286967006534655, 0.4496012985812599, -0.40793324413434073, 1.7038975915424757, -0.7621430975695681, 1.2001373603508956, -0.6727126847149263, -0.2901948996138198, 0.2785826649259012, 0.12294192744039334, -1.17265209109376, 0.9131529756743128]}, {\"marker\": {\"color\": \"rgba(50, 171, 96, 0.6)\", \"line\": {\"color\": \"rgba(50, 171, 96, 1.0)\", \"width\": 1}}, \"name\": \"C\", \"orientation\": \"v\", \"text\": \"\", \"type\": \"bar\", \"x\": [0, 1, 2, 3, 4, 5, 6, 7, 8, 9, 10, 11, 12, 13, 14, 15, 16, 17, 18, 19, 20, 21, 22, 23, 24, 25, 26, 27, 28, 29, 30, 31, 32, 33, 34, 35, 36, 37, 38, 39, 40, 41, 42, 43, 44, 45, 46, 47, 48, 49, 50, 51, 52, 53, 54, 55, 56, 57, 58, 59, 60, 61, 62, 63, 64, 65, 66, 67, 68, 69, 70, 71, 72, 73, 74, 75, 76, 77, 78, 79, 80, 81, 82, 83, 84, 85, 86, 87, 88, 89, 90, 91, 92, 93, 94, 95, 96, 97, 98, 99], \"y\": [0.695594519761371, -0.7451101083358315, -1.3092545798623205, -1.148967679813761, -2.1499901091118283, 0.16921733208513434, -1.652035274965219, -0.06536511772995664, -0.451555039427988, 2.5508875085079254, 1.6432397771654574, 2.175007969085216, -1.183349169847012, -0.2803436459544689, 0.3113778761058616, 0.6580789933974976, -1.2871858908274494, 0.9421677539359915, -1.27898705793451, 1.5220905163816603, 0.172627185075392, -0.2920546413135475, -3.2200752056661366, -0.6595483098958985, -0.037209911818583956, -1.9113396033227792, 0.7495406055142672, 0.6122124912669217, -1.649923917785392, 0.24031623434340352, -0.9305668877584682, -0.17927603028592373, -0.6189685160089439, -0.10426964419885773, -1.584842525233409, 1.3008582838270968, 0.9627046666914726, -0.07243392267314792, -1.0550103985991441, -0.42292256301955466, -0.0816781964074479, -0.3831036956544528, -0.18646700797564847, 1.9161854583075255, 1.987584099296576, 0.503544436898424, -1.6917730357682448, 1.2140789508574432, 0.9544265944842146, 0.07235024083734189, 0.30208565258184666, 0.8493376013882723, 0.6094930176110523, -0.4197814073474403, -0.8892714466838095, -0.27573081018871615, 3.06633035138194, 1.115310615469231, -0.5629187882893806, -1.7751598399064026, -0.22054072021463594, -0.1250791946004363, 0.20207024305742066, 0.012822231749756524, 0.7630588279922778, -0.7816538608318876, -1.1429232919669339, 0.2819344067155209, -0.8882891798691497, 0.31157165384845725, 0.4059458147284747, 2.6654818835155956, 0.08870181610828648, 0.622983938101566, 0.007318167216649481, 1.1582841684738987, 0.3045017436015654, -0.96055674405388, -1.5729460031035347, -1.5352180576477532, 2.0016917048090974, 0.32958653439078367, 0.6779242903392502, -0.3490746406178837, 0.03283304032337678, -1.3940960375701712, -0.9332614368379432, -0.48306539946151844, 0.03717416280524384, -1.9064036857319562, -0.46771930351655083, 0.9276597763861216, -0.5758620461840461, -0.1980995575800092, -0.5506458950883171, -0.2243089631924862, 0.1512145499046544, -0.3543541912031643, -0.16606095706018428, -0.31715418224932196]}, {\"marker\": {\"color\": \"rgba(128, 0, 128, 0.6)\", \"line\": {\"color\": \"rgba(128, 0, 128, 1.0)\", \"width\": 1}}, \"name\": \"D\", \"orientation\": \"v\", \"text\": \"\", \"type\": \"bar\", \"x\": [0, 1, 2, 3, 4, 5, 6, 7, 8, 9, 10, 11, 12, 13, 14, 15, 16, 17, 18, 19, 20, 21, 22, 23, 24, 25, 26, 27, 28, 29, 30, 31, 32, 33, 34, 35, 36, 37, 38, 39, 40, 41, 42, 43, 44, 45, 46, 47, 48, 49, 50, 51, 52, 53, 54, 55, 56, 57, 58, 59, 60, 61, 62, 63, 64, 65, 66, 67, 68, 69, 70, 71, 72, 73, 74, 75, 76, 77, 78, 79, 80, 81, 82, 83, 84, 85, 86, 87, 88, 89, 90, 91, 92, 93, 94, 95, 96, 97, 98, 99], \"y\": [0.1348211493105177, 1.331072068722212, -1.856840393991974, -1.0826692199085175, -1.4861759389019042, 0.9448367510453909, 0.9002622575274538, 0.2399951548724196, -2.7173109542978042, 0.6358996172944497, 0.013757881283311239, -0.30715286666621483, 0.36698070920852155, -0.8241317881946497, -1.5208647650174614, -0.7354562768430071, -1.2537972621985167, 0.8879858198033864, -0.7099413000745913, -0.6240399942306015, 2.2184997482400917, 0.2566080222408146, -0.7233435325170695, -0.36585809401055946, -1.5176547330218004, 0.5428843962132254, -0.4398698888030055, 0.343625536158871, 0.1981011674381106, 0.8065099979206843, -1.3603521867792383, -0.17187123307592236, -1.6779996175054712, 0.38561612398650275, -2.012641034881616, -0.37708334812546124, -0.04562884599330884, -0.4009859990959282, 0.6939560396032762, -1.78589611443427, -1.869929131699314, -1.399889560058229, 0.15886750495167176, -0.3242586354086578, 0.9034370869926133, -0.5786721926747008, -0.8674333759306216, 0.3454016300783812, -0.20187575531975432, 0.5731724210192811, 0.23715723874630953, 1.106720036550557, 0.9690019581797024, 0.5959919953305238, 1.3582327789677624, -0.18367776327384572, -1.4022175568766304, -0.023017278639227246, 0.3169347429440951, 1.6603832291117644, -0.8495586844825627, 1.1618684561968171, -0.948641960168968, 0.4354038402751054, 1.8365202541015424, -0.1825034667378457, -0.38320184376570177, 0.41371927923165663, -0.4562605062334397, -0.29220079785319764, -0.041964047096023624, 0.9246400743910076, 0.7486839011837545, 0.2158078060728754, -0.6879751583409635, 1.2030021629063608, 1.0873298065069406, -1.1628069379634776, 0.9894835492205013, -1.2539601106537022, -2.2373877359023164, -0.2631588365834419, 1.361965225380507, -0.5719167168501775, 0.5136380454219858, 2.68058524805295, 0.7179977132596467, 0.9458129117680553, -1.8728427934674337, 1.3507462150713798, 2.004330894660265, -0.6651732025284808, -0.328919945248043, 0.691612592123649, 1.2548065655832024, 0.37875592667530106, 0.17997557036559772, -0.5682732751177091, -0.6318359329537082, -0.5939026606920121]}],\n",
       "                        {\"legend\": {\"bgcolor\": \"#F5F6F9\", \"font\": {\"color\": \"#4D5663\"}}, \"paper_bgcolor\": \"#F5F6F9\", \"plot_bgcolor\": \"#F5F6F9\", \"template\": {\"data\": {\"bar\": [{\"error_x\": {\"color\": \"#2a3f5f\"}, \"error_y\": {\"color\": \"#2a3f5f\"}, \"marker\": {\"line\": {\"color\": \"#E5ECF6\", \"width\": 0.5}}, \"type\": \"bar\"}], \"barpolar\": [{\"marker\": {\"line\": {\"color\": \"#E5ECF6\", \"width\": 0.5}}, \"type\": \"barpolar\"}], \"carpet\": [{\"aaxis\": {\"endlinecolor\": \"#2a3f5f\", \"gridcolor\": \"white\", \"linecolor\": \"white\", \"minorgridcolor\": \"white\", \"startlinecolor\": \"#2a3f5f\"}, \"baxis\": {\"endlinecolor\": \"#2a3f5f\", \"gridcolor\": \"white\", \"linecolor\": \"white\", \"minorgridcolor\": \"white\", \"startlinecolor\": \"#2a3f5f\"}, \"type\": \"carpet\"}], \"choropleth\": [{\"colorbar\": {\"outlinewidth\": 0, \"ticks\": \"\"}, \"type\": \"choropleth\"}], \"contour\": [{\"colorbar\": {\"outlinewidth\": 0, \"ticks\": \"\"}, \"colorscale\": [[0.0, \"#0d0887\"], [0.1111111111111111, \"#46039f\"], [0.2222222222222222, \"#7201a8\"], [0.3333333333333333, \"#9c179e\"], [0.4444444444444444, \"#bd3786\"], [0.5555555555555556, \"#d8576b\"], [0.6666666666666666, \"#ed7953\"], [0.7777777777777778, \"#fb9f3a\"], [0.8888888888888888, \"#fdca26\"], [1.0, \"#f0f921\"]], \"type\": \"contour\"}], \"contourcarpet\": [{\"colorbar\": {\"outlinewidth\": 0, \"ticks\": \"\"}, \"type\": \"contourcarpet\"}], \"heatmap\": [{\"colorbar\": {\"outlinewidth\": 0, \"ticks\": \"\"}, \"colorscale\": [[0.0, \"#0d0887\"], [0.1111111111111111, \"#46039f\"], [0.2222222222222222, \"#7201a8\"], [0.3333333333333333, \"#9c179e\"], [0.4444444444444444, \"#bd3786\"], [0.5555555555555556, \"#d8576b\"], [0.6666666666666666, \"#ed7953\"], [0.7777777777777778, \"#fb9f3a\"], [0.8888888888888888, \"#fdca26\"], [1.0, \"#f0f921\"]], \"type\": \"heatmap\"}], \"heatmapgl\": [{\"colorbar\": {\"outlinewidth\": 0, \"ticks\": \"\"}, \"colorscale\": [[0.0, \"#0d0887\"], [0.1111111111111111, \"#46039f\"], [0.2222222222222222, \"#7201a8\"], [0.3333333333333333, \"#9c179e\"], [0.4444444444444444, \"#bd3786\"], [0.5555555555555556, \"#d8576b\"], [0.6666666666666666, \"#ed7953\"], [0.7777777777777778, \"#fb9f3a\"], [0.8888888888888888, \"#fdca26\"], [1.0, \"#f0f921\"]], \"type\": \"heatmapgl\"}], \"histogram\": [{\"marker\": {\"colorbar\": {\"outlinewidth\": 0, \"ticks\": \"\"}}, \"type\": \"histogram\"}], \"histogram2d\": [{\"colorbar\": {\"outlinewidth\": 0, \"ticks\": \"\"}, \"colorscale\": [[0.0, \"#0d0887\"], [0.1111111111111111, \"#46039f\"], [0.2222222222222222, \"#7201a8\"], [0.3333333333333333, \"#9c179e\"], [0.4444444444444444, \"#bd3786\"], [0.5555555555555556, \"#d8576b\"], [0.6666666666666666, \"#ed7953\"], [0.7777777777777778, \"#fb9f3a\"], [0.8888888888888888, \"#fdca26\"], [1.0, \"#f0f921\"]], \"type\": \"histogram2d\"}], \"histogram2dcontour\": [{\"colorbar\": {\"outlinewidth\": 0, \"ticks\": \"\"}, \"colorscale\": [[0.0, \"#0d0887\"], [0.1111111111111111, \"#46039f\"], [0.2222222222222222, \"#7201a8\"], [0.3333333333333333, \"#9c179e\"], [0.4444444444444444, \"#bd3786\"], [0.5555555555555556, \"#d8576b\"], [0.6666666666666666, \"#ed7953\"], [0.7777777777777778, \"#fb9f3a\"], [0.8888888888888888, \"#fdca26\"], [1.0, \"#f0f921\"]], \"type\": \"histogram2dcontour\"}], \"mesh3d\": [{\"colorbar\": {\"outlinewidth\": 0, \"ticks\": \"\"}, \"type\": \"mesh3d\"}], \"parcoords\": [{\"line\": {\"colorbar\": {\"outlinewidth\": 0, \"ticks\": \"\"}}, \"type\": \"parcoords\"}], \"pie\": [{\"automargin\": true, \"type\": \"pie\"}], \"scatter\": [{\"marker\": {\"colorbar\": {\"outlinewidth\": 0, \"ticks\": \"\"}}, \"type\": \"scatter\"}], \"scatter3d\": [{\"line\": {\"colorbar\": {\"outlinewidth\": 0, \"ticks\": \"\"}}, \"marker\": {\"colorbar\": {\"outlinewidth\": 0, \"ticks\": \"\"}}, \"type\": \"scatter3d\"}], \"scattercarpet\": [{\"marker\": {\"colorbar\": {\"outlinewidth\": 0, \"ticks\": \"\"}}, \"type\": \"scattercarpet\"}], \"scattergeo\": [{\"marker\": {\"colorbar\": {\"outlinewidth\": 0, \"ticks\": \"\"}}, \"type\": \"scattergeo\"}], \"scattergl\": [{\"marker\": {\"colorbar\": {\"outlinewidth\": 0, \"ticks\": \"\"}}, \"type\": \"scattergl\"}], \"scattermapbox\": [{\"marker\": {\"colorbar\": {\"outlinewidth\": 0, \"ticks\": \"\"}}, \"type\": \"scattermapbox\"}], \"scatterpolar\": [{\"marker\": {\"colorbar\": {\"outlinewidth\": 0, \"ticks\": \"\"}}, \"type\": \"scatterpolar\"}], \"scatterpolargl\": [{\"marker\": {\"colorbar\": {\"outlinewidth\": 0, \"ticks\": \"\"}}, \"type\": \"scatterpolargl\"}], \"scatterternary\": [{\"marker\": {\"colorbar\": {\"outlinewidth\": 0, \"ticks\": \"\"}}, \"type\": \"scatterternary\"}], \"surface\": [{\"colorbar\": {\"outlinewidth\": 0, \"ticks\": \"\"}, \"colorscale\": [[0.0, \"#0d0887\"], [0.1111111111111111, \"#46039f\"], [0.2222222222222222, \"#7201a8\"], [0.3333333333333333, \"#9c179e\"], [0.4444444444444444, \"#bd3786\"], [0.5555555555555556, \"#d8576b\"], [0.6666666666666666, \"#ed7953\"], [0.7777777777777778, \"#fb9f3a\"], [0.8888888888888888, \"#fdca26\"], [1.0, \"#f0f921\"]], \"type\": \"surface\"}], \"table\": [{\"cells\": {\"fill\": {\"color\": \"#EBF0F8\"}, \"line\": {\"color\": \"white\"}}, \"header\": {\"fill\": {\"color\": \"#C8D4E3\"}, \"line\": {\"color\": \"white\"}}, \"type\": \"table\"}]}, \"layout\": {\"annotationdefaults\": {\"arrowcolor\": \"#2a3f5f\", \"arrowhead\": 0, \"arrowwidth\": 1}, \"coloraxis\": {\"colorbar\": {\"outlinewidth\": 0, \"ticks\": \"\"}}, \"colorscale\": {\"diverging\": [[0, \"#8e0152\"], [0.1, \"#c51b7d\"], [0.2, \"#de77ae\"], [0.3, \"#f1b6da\"], [0.4, \"#fde0ef\"], [0.5, \"#f7f7f7\"], [0.6, \"#e6f5d0\"], [0.7, \"#b8e186\"], [0.8, \"#7fbc41\"], [0.9, \"#4d9221\"], [1, \"#276419\"]], \"sequential\": [[0.0, \"#0d0887\"], [0.1111111111111111, \"#46039f\"], [0.2222222222222222, \"#7201a8\"], [0.3333333333333333, \"#9c179e\"], [0.4444444444444444, \"#bd3786\"], [0.5555555555555556, \"#d8576b\"], [0.6666666666666666, \"#ed7953\"], [0.7777777777777778, \"#fb9f3a\"], [0.8888888888888888, \"#fdca26\"], [1.0, \"#f0f921\"]], \"sequentialminus\": [[0.0, \"#0d0887\"], [0.1111111111111111, \"#46039f\"], [0.2222222222222222, \"#7201a8\"], [0.3333333333333333, \"#9c179e\"], [0.4444444444444444, \"#bd3786\"], [0.5555555555555556, \"#d8576b\"], [0.6666666666666666, \"#ed7953\"], [0.7777777777777778, \"#fb9f3a\"], [0.8888888888888888, \"#fdca26\"], [1.0, \"#f0f921\"]]}, \"colorway\": [\"#636efa\", \"#EF553B\", \"#00cc96\", \"#ab63fa\", \"#FFA15A\", \"#19d3f3\", \"#FF6692\", \"#B6E880\", \"#FF97FF\", \"#FECB52\"], \"font\": {\"color\": \"#2a3f5f\"}, \"geo\": {\"bgcolor\": \"white\", \"lakecolor\": \"white\", \"landcolor\": \"#E5ECF6\", \"showlakes\": true, \"showland\": true, \"subunitcolor\": \"white\"}, \"hoverlabel\": {\"align\": \"left\"}, \"hovermode\": \"closest\", \"mapbox\": {\"style\": \"light\"}, \"paper_bgcolor\": \"white\", \"plot_bgcolor\": \"#E5ECF6\", \"polar\": {\"angularaxis\": {\"gridcolor\": \"white\", \"linecolor\": \"white\", \"ticks\": \"\"}, \"bgcolor\": \"#E5ECF6\", \"radialaxis\": {\"gridcolor\": \"white\", \"linecolor\": \"white\", \"ticks\": \"\"}}, \"scene\": {\"xaxis\": {\"backgroundcolor\": \"#E5ECF6\", \"gridcolor\": \"white\", \"gridwidth\": 2, \"linecolor\": \"white\", \"showbackground\": true, \"ticks\": \"\", \"zerolinecolor\": \"white\"}, \"yaxis\": {\"backgroundcolor\": \"#E5ECF6\", \"gridcolor\": \"white\", \"gridwidth\": 2, \"linecolor\": \"white\", \"showbackground\": true, \"ticks\": \"\", \"zerolinecolor\": \"white\"}, \"zaxis\": {\"backgroundcolor\": \"#E5ECF6\", \"gridcolor\": \"white\", \"gridwidth\": 2, \"linecolor\": \"white\", \"showbackground\": true, \"ticks\": \"\", \"zerolinecolor\": \"white\"}}, \"shapedefaults\": {\"line\": {\"color\": \"#2a3f5f\"}}, \"ternary\": {\"aaxis\": {\"gridcolor\": \"white\", \"linecolor\": \"white\", \"ticks\": \"\"}, \"baxis\": {\"gridcolor\": \"white\", \"linecolor\": \"white\", \"ticks\": \"\"}, \"bgcolor\": \"#E5ECF6\", \"caxis\": {\"gridcolor\": \"white\", \"linecolor\": \"white\", \"ticks\": \"\"}}, \"title\": {\"x\": 0.05}, \"xaxis\": {\"automargin\": true, \"gridcolor\": \"white\", \"linecolor\": \"white\", \"ticks\": \"\", \"title\": {\"standoff\": 15}, \"zerolinecolor\": \"white\", \"zerolinewidth\": 2}, \"yaxis\": {\"automargin\": true, \"gridcolor\": \"white\", \"linecolor\": \"white\", \"ticks\": \"\", \"title\": {\"standoff\": 15}, \"zerolinecolor\": \"white\", \"zerolinewidth\": 2}}}, \"title\": {\"font\": {\"color\": \"#4D5663\"}}, \"xaxis\": {\"gridcolor\": \"#E1E5ED\", \"showgrid\": true, \"tickfont\": {\"color\": \"#4D5663\"}, \"title\": {\"font\": {\"color\": \"#4D5663\"}, \"text\": \"\"}, \"zerolinecolor\": \"#E1E5ED\"}, \"yaxis\": {\"gridcolor\": \"#E1E5ED\", \"showgrid\": true, \"tickfont\": {\"color\": \"#4D5663\"}, \"title\": {\"font\": {\"color\": \"#4D5663\"}, \"text\": \"\"}, \"zerolinecolor\": \"#E1E5ED\"}},\n",
       "                        {\"showLink\": true, \"linkText\": \"Export to plot.ly\", \"plotlyServerURL\": \"https://plot.ly\", \"responsive\": true}\n",
       "                    ).then(function(){\n",
       "                            \n",
       "var gd = document.getElementById('0cb75f29-0167-4ca9-a6de-819d873de00f');\n",
       "var x = new MutationObserver(function (mutations, observer) {{\n",
       "        var display = window.getComputedStyle(gd).display;\n",
       "        if (!display || display === 'none') {{\n",
       "            console.log([gd, 'removed!']);\n",
       "            Plotly.purge(gd);\n",
       "            observer.disconnect();\n",
       "        }}\n",
       "}});\n",
       "\n",
       "// Listen for the removal of the full notebook cells\n",
       "var notebookContainer = gd.closest('#notebook-container');\n",
       "if (notebookContainer) {{\n",
       "    x.observe(notebookContainer, {childList: true});\n",
       "}}\n",
       "\n",
       "// Listen for the clearing of the current output cell\n",
       "var outputEl = gd.closest('.output');\n",
       "if (outputEl) {{\n",
       "    x.observe(outputEl, {childList: true});\n",
       "}}\n",
       "\n",
       "                        })\n",
       "                };\n",
       "                });\n",
       "            </script>\n",
       "        </div>"
      ]
     },
     "metadata": {},
     "output_type": "display_data"
    }
   ],
   "source": [
    "df.iplot(kind='bar')"
   ]
  },
  {
   "cell_type": "code",
   "execution_count": 34,
   "metadata": {},
   "outputs": [
    {
     "data": {
      "application/vnd.plotly.v1+json": {
       "config": {
        "linkText": "Export to plot.ly",
        "plotlyServerURL": "https://plot.ly",
        "showLink": true
       },
       "data": [
        {
         "marker": {
          "color": "rgba(255, 153, 51, 0.6)",
          "line": {
           "color": "rgba(255, 153, 51, 1.0)",
           "width": 1
          }
         },
         "name": "None",
         "orientation": "v",
         "text": "",
         "type": "bar",
         "x": [
          "A",
          "B",
          "C",
          "D"
         ],
         "y": [
          -10.217193116295038,
          -3.532051900160305,
          -7.424375641866906,
          -4.617622148898075
         ]
        }
       ],
       "layout": {
        "legend": {
         "bgcolor": "#F5F6F9",
         "font": {
          "color": "#4D5663"
         }
        },
        "paper_bgcolor": "#F5F6F9",
        "plot_bgcolor": "#F5F6F9",
        "template": {
         "data": {
          "bar": [
           {
            "error_x": {
             "color": "#2a3f5f"
            },
            "error_y": {
             "color": "#2a3f5f"
            },
            "marker": {
             "line": {
              "color": "#E5ECF6",
              "width": 0.5
             }
            },
            "type": "bar"
           }
          ],
          "barpolar": [
           {
            "marker": {
             "line": {
              "color": "#E5ECF6",
              "width": 0.5
             }
            },
            "type": "barpolar"
           }
          ],
          "carpet": [
           {
            "aaxis": {
             "endlinecolor": "#2a3f5f",
             "gridcolor": "white",
             "linecolor": "white",
             "minorgridcolor": "white",
             "startlinecolor": "#2a3f5f"
            },
            "baxis": {
             "endlinecolor": "#2a3f5f",
             "gridcolor": "white",
             "linecolor": "white",
             "minorgridcolor": "white",
             "startlinecolor": "#2a3f5f"
            },
            "type": "carpet"
           }
          ],
          "choropleth": [
           {
            "colorbar": {
             "outlinewidth": 0,
             "ticks": ""
            },
            "type": "choropleth"
           }
          ],
          "contour": [
           {
            "colorbar": {
             "outlinewidth": 0,
             "ticks": ""
            },
            "colorscale": [
             [
              0,
              "#0d0887"
             ],
             [
              0.1111111111111111,
              "#46039f"
             ],
             [
              0.2222222222222222,
              "#7201a8"
             ],
             [
              0.3333333333333333,
              "#9c179e"
             ],
             [
              0.4444444444444444,
              "#bd3786"
             ],
             [
              0.5555555555555556,
              "#d8576b"
             ],
             [
              0.6666666666666666,
              "#ed7953"
             ],
             [
              0.7777777777777778,
              "#fb9f3a"
             ],
             [
              0.8888888888888888,
              "#fdca26"
             ],
             [
              1,
              "#f0f921"
             ]
            ],
            "type": "contour"
           }
          ],
          "contourcarpet": [
           {
            "colorbar": {
             "outlinewidth": 0,
             "ticks": ""
            },
            "type": "contourcarpet"
           }
          ],
          "heatmap": [
           {
            "colorbar": {
             "outlinewidth": 0,
             "ticks": ""
            },
            "colorscale": [
             [
              0,
              "#0d0887"
             ],
             [
              0.1111111111111111,
              "#46039f"
             ],
             [
              0.2222222222222222,
              "#7201a8"
             ],
             [
              0.3333333333333333,
              "#9c179e"
             ],
             [
              0.4444444444444444,
              "#bd3786"
             ],
             [
              0.5555555555555556,
              "#d8576b"
             ],
             [
              0.6666666666666666,
              "#ed7953"
             ],
             [
              0.7777777777777778,
              "#fb9f3a"
             ],
             [
              0.8888888888888888,
              "#fdca26"
             ],
             [
              1,
              "#f0f921"
             ]
            ],
            "type": "heatmap"
           }
          ],
          "heatmapgl": [
           {
            "colorbar": {
             "outlinewidth": 0,
             "ticks": ""
            },
            "colorscale": [
             [
              0,
              "#0d0887"
             ],
             [
              0.1111111111111111,
              "#46039f"
             ],
             [
              0.2222222222222222,
              "#7201a8"
             ],
             [
              0.3333333333333333,
              "#9c179e"
             ],
             [
              0.4444444444444444,
              "#bd3786"
             ],
             [
              0.5555555555555556,
              "#d8576b"
             ],
             [
              0.6666666666666666,
              "#ed7953"
             ],
             [
              0.7777777777777778,
              "#fb9f3a"
             ],
             [
              0.8888888888888888,
              "#fdca26"
             ],
             [
              1,
              "#f0f921"
             ]
            ],
            "type": "heatmapgl"
           }
          ],
          "histogram": [
           {
            "marker": {
             "colorbar": {
              "outlinewidth": 0,
              "ticks": ""
             }
            },
            "type": "histogram"
           }
          ],
          "histogram2d": [
           {
            "colorbar": {
             "outlinewidth": 0,
             "ticks": ""
            },
            "colorscale": [
             [
              0,
              "#0d0887"
             ],
             [
              0.1111111111111111,
              "#46039f"
             ],
             [
              0.2222222222222222,
              "#7201a8"
             ],
             [
              0.3333333333333333,
              "#9c179e"
             ],
             [
              0.4444444444444444,
              "#bd3786"
             ],
             [
              0.5555555555555556,
              "#d8576b"
             ],
             [
              0.6666666666666666,
              "#ed7953"
             ],
             [
              0.7777777777777778,
              "#fb9f3a"
             ],
             [
              0.8888888888888888,
              "#fdca26"
             ],
             [
              1,
              "#f0f921"
             ]
            ],
            "type": "histogram2d"
           }
          ],
          "histogram2dcontour": [
           {
            "colorbar": {
             "outlinewidth": 0,
             "ticks": ""
            },
            "colorscale": [
             [
              0,
              "#0d0887"
             ],
             [
              0.1111111111111111,
              "#46039f"
             ],
             [
              0.2222222222222222,
              "#7201a8"
             ],
             [
              0.3333333333333333,
              "#9c179e"
             ],
             [
              0.4444444444444444,
              "#bd3786"
             ],
             [
              0.5555555555555556,
              "#d8576b"
             ],
             [
              0.6666666666666666,
              "#ed7953"
             ],
             [
              0.7777777777777778,
              "#fb9f3a"
             ],
             [
              0.8888888888888888,
              "#fdca26"
             ],
             [
              1,
              "#f0f921"
             ]
            ],
            "type": "histogram2dcontour"
           }
          ],
          "mesh3d": [
           {
            "colorbar": {
             "outlinewidth": 0,
             "ticks": ""
            },
            "type": "mesh3d"
           }
          ],
          "parcoords": [
           {
            "line": {
             "colorbar": {
              "outlinewidth": 0,
              "ticks": ""
             }
            },
            "type": "parcoords"
           }
          ],
          "pie": [
           {
            "automargin": true,
            "type": "pie"
           }
          ],
          "scatter": [
           {
            "marker": {
             "colorbar": {
              "outlinewidth": 0,
              "ticks": ""
             }
            },
            "type": "scatter"
           }
          ],
          "scatter3d": [
           {
            "line": {
             "colorbar": {
              "outlinewidth": 0,
              "ticks": ""
             }
            },
            "marker": {
             "colorbar": {
              "outlinewidth": 0,
              "ticks": ""
             }
            },
            "type": "scatter3d"
           }
          ],
          "scattercarpet": [
           {
            "marker": {
             "colorbar": {
              "outlinewidth": 0,
              "ticks": ""
             }
            },
            "type": "scattercarpet"
           }
          ],
          "scattergeo": [
           {
            "marker": {
             "colorbar": {
              "outlinewidth": 0,
              "ticks": ""
             }
            },
            "type": "scattergeo"
           }
          ],
          "scattergl": [
           {
            "marker": {
             "colorbar": {
              "outlinewidth": 0,
              "ticks": ""
             }
            },
            "type": "scattergl"
           }
          ],
          "scattermapbox": [
           {
            "marker": {
             "colorbar": {
              "outlinewidth": 0,
              "ticks": ""
             }
            },
            "type": "scattermapbox"
           }
          ],
          "scatterpolar": [
           {
            "marker": {
             "colorbar": {
              "outlinewidth": 0,
              "ticks": ""
             }
            },
            "type": "scatterpolar"
           }
          ],
          "scatterpolargl": [
           {
            "marker": {
             "colorbar": {
              "outlinewidth": 0,
              "ticks": ""
             }
            },
            "type": "scatterpolargl"
           }
          ],
          "scatterternary": [
           {
            "marker": {
             "colorbar": {
              "outlinewidth": 0,
              "ticks": ""
             }
            },
            "type": "scatterternary"
           }
          ],
          "surface": [
           {
            "colorbar": {
             "outlinewidth": 0,
             "ticks": ""
            },
            "colorscale": [
             [
              0,
              "#0d0887"
             ],
             [
              0.1111111111111111,
              "#46039f"
             ],
             [
              0.2222222222222222,
              "#7201a8"
             ],
             [
              0.3333333333333333,
              "#9c179e"
             ],
             [
              0.4444444444444444,
              "#bd3786"
             ],
             [
              0.5555555555555556,
              "#d8576b"
             ],
             [
              0.6666666666666666,
              "#ed7953"
             ],
             [
              0.7777777777777778,
              "#fb9f3a"
             ],
             [
              0.8888888888888888,
              "#fdca26"
             ],
             [
              1,
              "#f0f921"
             ]
            ],
            "type": "surface"
           }
          ],
          "table": [
           {
            "cells": {
             "fill": {
              "color": "#EBF0F8"
             },
             "line": {
              "color": "white"
             }
            },
            "header": {
             "fill": {
              "color": "#C8D4E3"
             },
             "line": {
              "color": "white"
             }
            },
            "type": "table"
           }
          ]
         },
         "layout": {
          "annotationdefaults": {
           "arrowcolor": "#2a3f5f",
           "arrowhead": 0,
           "arrowwidth": 1
          },
          "coloraxis": {
           "colorbar": {
            "outlinewidth": 0,
            "ticks": ""
           }
          },
          "colorscale": {
           "diverging": [
            [
             0,
             "#8e0152"
            ],
            [
             0.1,
             "#c51b7d"
            ],
            [
             0.2,
             "#de77ae"
            ],
            [
             0.3,
             "#f1b6da"
            ],
            [
             0.4,
             "#fde0ef"
            ],
            [
             0.5,
             "#f7f7f7"
            ],
            [
             0.6,
             "#e6f5d0"
            ],
            [
             0.7,
             "#b8e186"
            ],
            [
             0.8,
             "#7fbc41"
            ],
            [
             0.9,
             "#4d9221"
            ],
            [
             1,
             "#276419"
            ]
           ],
           "sequential": [
            [
             0,
             "#0d0887"
            ],
            [
             0.1111111111111111,
             "#46039f"
            ],
            [
             0.2222222222222222,
             "#7201a8"
            ],
            [
             0.3333333333333333,
             "#9c179e"
            ],
            [
             0.4444444444444444,
             "#bd3786"
            ],
            [
             0.5555555555555556,
             "#d8576b"
            ],
            [
             0.6666666666666666,
             "#ed7953"
            ],
            [
             0.7777777777777778,
             "#fb9f3a"
            ],
            [
             0.8888888888888888,
             "#fdca26"
            ],
            [
             1,
             "#f0f921"
            ]
           ],
           "sequentialminus": [
            [
             0,
             "#0d0887"
            ],
            [
             0.1111111111111111,
             "#46039f"
            ],
            [
             0.2222222222222222,
             "#7201a8"
            ],
            [
             0.3333333333333333,
             "#9c179e"
            ],
            [
             0.4444444444444444,
             "#bd3786"
            ],
            [
             0.5555555555555556,
             "#d8576b"
            ],
            [
             0.6666666666666666,
             "#ed7953"
            ],
            [
             0.7777777777777778,
             "#fb9f3a"
            ],
            [
             0.8888888888888888,
             "#fdca26"
            ],
            [
             1,
             "#f0f921"
            ]
           ]
          },
          "colorway": [
           "#636efa",
           "#EF553B",
           "#00cc96",
           "#ab63fa",
           "#FFA15A",
           "#19d3f3",
           "#FF6692",
           "#B6E880",
           "#FF97FF",
           "#FECB52"
          ],
          "font": {
           "color": "#2a3f5f"
          },
          "geo": {
           "bgcolor": "white",
           "lakecolor": "white",
           "landcolor": "#E5ECF6",
           "showlakes": true,
           "showland": true,
           "subunitcolor": "white"
          },
          "hoverlabel": {
           "align": "left"
          },
          "hovermode": "closest",
          "mapbox": {
           "style": "light"
          },
          "paper_bgcolor": "white",
          "plot_bgcolor": "#E5ECF6",
          "polar": {
           "angularaxis": {
            "gridcolor": "white",
            "linecolor": "white",
            "ticks": ""
           },
           "bgcolor": "#E5ECF6",
           "radialaxis": {
            "gridcolor": "white",
            "linecolor": "white",
            "ticks": ""
           }
          },
          "scene": {
           "xaxis": {
            "backgroundcolor": "#E5ECF6",
            "gridcolor": "white",
            "gridwidth": 2,
            "linecolor": "white",
            "showbackground": true,
            "ticks": "",
            "zerolinecolor": "white"
           },
           "yaxis": {
            "backgroundcolor": "#E5ECF6",
            "gridcolor": "white",
            "gridwidth": 2,
            "linecolor": "white",
            "showbackground": true,
            "ticks": "",
            "zerolinecolor": "white"
           },
           "zaxis": {
            "backgroundcolor": "#E5ECF6",
            "gridcolor": "white",
            "gridwidth": 2,
            "linecolor": "white",
            "showbackground": true,
            "ticks": "",
            "zerolinecolor": "white"
           }
          },
          "shapedefaults": {
           "line": {
            "color": "#2a3f5f"
           }
          },
          "ternary": {
           "aaxis": {
            "gridcolor": "white",
            "linecolor": "white",
            "ticks": ""
           },
           "baxis": {
            "gridcolor": "white",
            "linecolor": "white",
            "ticks": ""
           },
           "bgcolor": "#E5ECF6",
           "caxis": {
            "gridcolor": "white",
            "linecolor": "white",
            "ticks": ""
           }
          },
          "title": {
           "x": 0.05
          },
          "xaxis": {
           "automargin": true,
           "gridcolor": "white",
           "linecolor": "white",
           "ticks": "",
           "title": {
            "standoff": 15
           },
           "zerolinecolor": "white",
           "zerolinewidth": 2
          },
          "yaxis": {
           "automargin": true,
           "gridcolor": "white",
           "linecolor": "white",
           "ticks": "",
           "title": {
            "standoff": 15
           },
           "zerolinecolor": "white",
           "zerolinewidth": 2
          }
         }
        },
        "title": {
         "font": {
          "color": "#4D5663"
         }
        },
        "xaxis": {
         "gridcolor": "#E1E5ED",
         "showgrid": true,
         "tickfont": {
          "color": "#4D5663"
         },
         "title": {
          "font": {
           "color": "#4D5663"
          },
          "text": ""
         },
         "zerolinecolor": "#E1E5ED"
        },
        "yaxis": {
         "gridcolor": "#E1E5ED",
         "showgrid": true,
         "tickfont": {
          "color": "#4D5663"
         },
         "title": {
          "font": {
           "color": "#4D5663"
          },
          "text": ""
         },
         "zerolinecolor": "#E1E5ED"
        }
       }
      },
      "text/html": [
       "<div>\n",
       "        \n",
       "        \n",
       "            <div id=\"e11d011c-6c30-450a-b6ff-171abd8b7bac\" class=\"plotly-graph-div\" style=\"height:525px; width:100%;\"></div>\n",
       "            <script type=\"text/javascript\">\n",
       "                require([\"plotly\"], function(Plotly) {\n",
       "                    window.PLOTLYENV=window.PLOTLYENV || {};\n",
       "                    window.PLOTLYENV.BASE_URL='https://plot.ly';\n",
       "                    \n",
       "                if (document.getElementById(\"e11d011c-6c30-450a-b6ff-171abd8b7bac\")) {\n",
       "                    Plotly.newPlot(\n",
       "                        'e11d011c-6c30-450a-b6ff-171abd8b7bac',\n",
       "                        [{\"marker\": {\"color\": \"rgba(255, 153, 51, 0.6)\", \"line\": {\"color\": \"rgba(255, 153, 51, 1.0)\", \"width\": 1}}, \"name\": \"None\", \"orientation\": \"v\", \"text\": \"\", \"type\": \"bar\", \"x\": [\"A\", \"B\", \"C\", \"D\"], \"y\": [-10.217193116295038, -3.532051900160305, -7.424375641866906, -4.617622148898075]}],\n",
       "                        {\"legend\": {\"bgcolor\": \"#F5F6F9\", \"font\": {\"color\": \"#4D5663\"}}, \"paper_bgcolor\": \"#F5F6F9\", \"plot_bgcolor\": \"#F5F6F9\", \"template\": {\"data\": {\"bar\": [{\"error_x\": {\"color\": \"#2a3f5f\"}, \"error_y\": {\"color\": \"#2a3f5f\"}, \"marker\": {\"line\": {\"color\": \"#E5ECF6\", \"width\": 0.5}}, \"type\": \"bar\"}], \"barpolar\": [{\"marker\": {\"line\": {\"color\": \"#E5ECF6\", \"width\": 0.5}}, \"type\": \"barpolar\"}], \"carpet\": [{\"aaxis\": {\"endlinecolor\": \"#2a3f5f\", \"gridcolor\": \"white\", \"linecolor\": \"white\", \"minorgridcolor\": \"white\", \"startlinecolor\": \"#2a3f5f\"}, \"baxis\": {\"endlinecolor\": \"#2a3f5f\", \"gridcolor\": \"white\", \"linecolor\": \"white\", \"minorgridcolor\": \"white\", \"startlinecolor\": \"#2a3f5f\"}, \"type\": \"carpet\"}], \"choropleth\": [{\"colorbar\": {\"outlinewidth\": 0, \"ticks\": \"\"}, \"type\": \"choropleth\"}], \"contour\": [{\"colorbar\": {\"outlinewidth\": 0, \"ticks\": \"\"}, \"colorscale\": [[0.0, \"#0d0887\"], [0.1111111111111111, \"#46039f\"], [0.2222222222222222, \"#7201a8\"], [0.3333333333333333, \"#9c179e\"], [0.4444444444444444, \"#bd3786\"], [0.5555555555555556, \"#d8576b\"], [0.6666666666666666, \"#ed7953\"], [0.7777777777777778, \"#fb9f3a\"], [0.8888888888888888, \"#fdca26\"], [1.0, \"#f0f921\"]], \"type\": \"contour\"}], \"contourcarpet\": [{\"colorbar\": {\"outlinewidth\": 0, \"ticks\": \"\"}, \"type\": \"contourcarpet\"}], \"heatmap\": [{\"colorbar\": {\"outlinewidth\": 0, \"ticks\": \"\"}, \"colorscale\": [[0.0, \"#0d0887\"], [0.1111111111111111, \"#46039f\"], [0.2222222222222222, \"#7201a8\"], [0.3333333333333333, \"#9c179e\"], [0.4444444444444444, \"#bd3786\"], [0.5555555555555556, \"#d8576b\"], [0.6666666666666666, \"#ed7953\"], [0.7777777777777778, \"#fb9f3a\"], [0.8888888888888888, \"#fdca26\"], [1.0, \"#f0f921\"]], \"type\": \"heatmap\"}], \"heatmapgl\": [{\"colorbar\": {\"outlinewidth\": 0, \"ticks\": \"\"}, \"colorscale\": [[0.0, \"#0d0887\"], [0.1111111111111111, \"#46039f\"], [0.2222222222222222, \"#7201a8\"], [0.3333333333333333, \"#9c179e\"], [0.4444444444444444, \"#bd3786\"], [0.5555555555555556, \"#d8576b\"], [0.6666666666666666, \"#ed7953\"], [0.7777777777777778, \"#fb9f3a\"], [0.8888888888888888, \"#fdca26\"], [1.0, \"#f0f921\"]], \"type\": \"heatmapgl\"}], \"histogram\": [{\"marker\": {\"colorbar\": {\"outlinewidth\": 0, \"ticks\": \"\"}}, \"type\": \"histogram\"}], \"histogram2d\": [{\"colorbar\": {\"outlinewidth\": 0, \"ticks\": \"\"}, \"colorscale\": [[0.0, \"#0d0887\"], [0.1111111111111111, \"#46039f\"], [0.2222222222222222, \"#7201a8\"], [0.3333333333333333, \"#9c179e\"], [0.4444444444444444, \"#bd3786\"], [0.5555555555555556, \"#d8576b\"], [0.6666666666666666, \"#ed7953\"], [0.7777777777777778, \"#fb9f3a\"], [0.8888888888888888, \"#fdca26\"], [1.0, \"#f0f921\"]], \"type\": \"histogram2d\"}], \"histogram2dcontour\": [{\"colorbar\": {\"outlinewidth\": 0, \"ticks\": \"\"}, \"colorscale\": [[0.0, \"#0d0887\"], [0.1111111111111111, \"#46039f\"], [0.2222222222222222, \"#7201a8\"], [0.3333333333333333, \"#9c179e\"], [0.4444444444444444, \"#bd3786\"], [0.5555555555555556, \"#d8576b\"], [0.6666666666666666, \"#ed7953\"], [0.7777777777777778, \"#fb9f3a\"], [0.8888888888888888, \"#fdca26\"], [1.0, \"#f0f921\"]], \"type\": \"histogram2dcontour\"}], \"mesh3d\": [{\"colorbar\": {\"outlinewidth\": 0, \"ticks\": \"\"}, \"type\": \"mesh3d\"}], \"parcoords\": [{\"line\": {\"colorbar\": {\"outlinewidth\": 0, \"ticks\": \"\"}}, \"type\": \"parcoords\"}], \"pie\": [{\"automargin\": true, \"type\": \"pie\"}], \"scatter\": [{\"marker\": {\"colorbar\": {\"outlinewidth\": 0, \"ticks\": \"\"}}, \"type\": \"scatter\"}], \"scatter3d\": [{\"line\": {\"colorbar\": {\"outlinewidth\": 0, \"ticks\": \"\"}}, \"marker\": {\"colorbar\": {\"outlinewidth\": 0, \"ticks\": \"\"}}, \"type\": \"scatter3d\"}], \"scattercarpet\": [{\"marker\": {\"colorbar\": {\"outlinewidth\": 0, \"ticks\": \"\"}}, \"type\": \"scattercarpet\"}], \"scattergeo\": [{\"marker\": {\"colorbar\": {\"outlinewidth\": 0, \"ticks\": \"\"}}, \"type\": \"scattergeo\"}], \"scattergl\": [{\"marker\": {\"colorbar\": {\"outlinewidth\": 0, \"ticks\": \"\"}}, \"type\": \"scattergl\"}], \"scattermapbox\": [{\"marker\": {\"colorbar\": {\"outlinewidth\": 0, \"ticks\": \"\"}}, \"type\": \"scattermapbox\"}], \"scatterpolar\": [{\"marker\": {\"colorbar\": {\"outlinewidth\": 0, \"ticks\": \"\"}}, \"type\": \"scatterpolar\"}], \"scatterpolargl\": [{\"marker\": {\"colorbar\": {\"outlinewidth\": 0, \"ticks\": \"\"}}, \"type\": \"scatterpolargl\"}], \"scatterternary\": [{\"marker\": {\"colorbar\": {\"outlinewidth\": 0, \"ticks\": \"\"}}, \"type\": \"scatterternary\"}], \"surface\": [{\"colorbar\": {\"outlinewidth\": 0, \"ticks\": \"\"}, \"colorscale\": [[0.0, \"#0d0887\"], [0.1111111111111111, \"#46039f\"], [0.2222222222222222, \"#7201a8\"], [0.3333333333333333, \"#9c179e\"], [0.4444444444444444, \"#bd3786\"], [0.5555555555555556, \"#d8576b\"], [0.6666666666666666, \"#ed7953\"], [0.7777777777777778, \"#fb9f3a\"], [0.8888888888888888, \"#fdca26\"], [1.0, \"#f0f921\"]], \"type\": \"surface\"}], \"table\": [{\"cells\": {\"fill\": {\"color\": \"#EBF0F8\"}, \"line\": {\"color\": \"white\"}}, \"header\": {\"fill\": {\"color\": \"#C8D4E3\"}, \"line\": {\"color\": \"white\"}}, \"type\": \"table\"}]}, \"layout\": {\"annotationdefaults\": {\"arrowcolor\": \"#2a3f5f\", \"arrowhead\": 0, \"arrowwidth\": 1}, \"coloraxis\": {\"colorbar\": {\"outlinewidth\": 0, \"ticks\": \"\"}}, \"colorscale\": {\"diverging\": [[0, \"#8e0152\"], [0.1, \"#c51b7d\"], [0.2, \"#de77ae\"], [0.3, \"#f1b6da\"], [0.4, \"#fde0ef\"], [0.5, \"#f7f7f7\"], [0.6, \"#e6f5d0\"], [0.7, \"#b8e186\"], [0.8, \"#7fbc41\"], [0.9, \"#4d9221\"], [1, \"#276419\"]], \"sequential\": [[0.0, \"#0d0887\"], [0.1111111111111111, \"#46039f\"], [0.2222222222222222, \"#7201a8\"], [0.3333333333333333, \"#9c179e\"], [0.4444444444444444, \"#bd3786\"], [0.5555555555555556, \"#d8576b\"], [0.6666666666666666, \"#ed7953\"], [0.7777777777777778, \"#fb9f3a\"], [0.8888888888888888, \"#fdca26\"], [1.0, \"#f0f921\"]], \"sequentialminus\": [[0.0, \"#0d0887\"], [0.1111111111111111, \"#46039f\"], [0.2222222222222222, \"#7201a8\"], [0.3333333333333333, \"#9c179e\"], [0.4444444444444444, \"#bd3786\"], [0.5555555555555556, \"#d8576b\"], [0.6666666666666666, \"#ed7953\"], [0.7777777777777778, \"#fb9f3a\"], [0.8888888888888888, \"#fdca26\"], [1.0, \"#f0f921\"]]}, \"colorway\": [\"#636efa\", \"#EF553B\", \"#00cc96\", \"#ab63fa\", \"#FFA15A\", \"#19d3f3\", \"#FF6692\", \"#B6E880\", \"#FF97FF\", \"#FECB52\"], \"font\": {\"color\": \"#2a3f5f\"}, \"geo\": {\"bgcolor\": \"white\", \"lakecolor\": \"white\", \"landcolor\": \"#E5ECF6\", \"showlakes\": true, \"showland\": true, \"subunitcolor\": \"white\"}, \"hoverlabel\": {\"align\": \"left\"}, \"hovermode\": \"closest\", \"mapbox\": {\"style\": \"light\"}, \"paper_bgcolor\": \"white\", \"plot_bgcolor\": \"#E5ECF6\", \"polar\": {\"angularaxis\": {\"gridcolor\": \"white\", \"linecolor\": \"white\", \"ticks\": \"\"}, \"bgcolor\": \"#E5ECF6\", \"radialaxis\": {\"gridcolor\": \"white\", \"linecolor\": \"white\", \"ticks\": \"\"}}, \"scene\": {\"xaxis\": {\"backgroundcolor\": \"#E5ECF6\", \"gridcolor\": \"white\", \"gridwidth\": 2, \"linecolor\": \"white\", \"showbackground\": true, \"ticks\": \"\", \"zerolinecolor\": \"white\"}, \"yaxis\": {\"backgroundcolor\": \"#E5ECF6\", \"gridcolor\": \"white\", \"gridwidth\": 2, \"linecolor\": \"white\", \"showbackground\": true, \"ticks\": \"\", \"zerolinecolor\": \"white\"}, \"zaxis\": {\"backgroundcolor\": \"#E5ECF6\", \"gridcolor\": \"white\", \"gridwidth\": 2, \"linecolor\": \"white\", \"showbackground\": true, \"ticks\": \"\", \"zerolinecolor\": \"white\"}}, \"shapedefaults\": {\"line\": {\"color\": \"#2a3f5f\"}}, \"ternary\": {\"aaxis\": {\"gridcolor\": \"white\", \"linecolor\": \"white\", \"ticks\": \"\"}, \"baxis\": {\"gridcolor\": \"white\", \"linecolor\": \"white\", \"ticks\": \"\"}, \"bgcolor\": \"#E5ECF6\", \"caxis\": {\"gridcolor\": \"white\", \"linecolor\": \"white\", \"ticks\": \"\"}}, \"title\": {\"x\": 0.05}, \"xaxis\": {\"automargin\": true, \"gridcolor\": \"white\", \"linecolor\": \"white\", \"ticks\": \"\", \"title\": {\"standoff\": 15}, \"zerolinecolor\": \"white\", \"zerolinewidth\": 2}, \"yaxis\": {\"automargin\": true, \"gridcolor\": \"white\", \"linecolor\": \"white\", \"ticks\": \"\", \"title\": {\"standoff\": 15}, \"zerolinecolor\": \"white\", \"zerolinewidth\": 2}}}, \"title\": {\"font\": {\"color\": \"#4D5663\"}}, \"xaxis\": {\"gridcolor\": \"#E1E5ED\", \"showgrid\": true, \"tickfont\": {\"color\": \"#4D5663\"}, \"title\": {\"font\": {\"color\": \"#4D5663\"}, \"text\": \"\"}, \"zerolinecolor\": \"#E1E5ED\"}, \"yaxis\": {\"gridcolor\": \"#E1E5ED\", \"showgrid\": true, \"tickfont\": {\"color\": \"#4D5663\"}, \"title\": {\"font\": {\"color\": \"#4D5663\"}, \"text\": \"\"}, \"zerolinecolor\": \"#E1E5ED\"}},\n",
       "                        {\"showLink\": true, \"linkText\": \"Export to plot.ly\", \"plotlyServerURL\": \"https://plot.ly\", \"responsive\": true}\n",
       "                    ).then(function(){\n",
       "                            \n",
       "var gd = document.getElementById('e11d011c-6c30-450a-b6ff-171abd8b7bac');\n",
       "var x = new MutationObserver(function (mutations, observer) {{\n",
       "        var display = window.getComputedStyle(gd).display;\n",
       "        if (!display || display === 'none') {{\n",
       "            console.log([gd, 'removed!']);\n",
       "            Plotly.purge(gd);\n",
       "            observer.disconnect();\n",
       "        }}\n",
       "}});\n",
       "\n",
       "// Listen for the removal of the full notebook cells\n",
       "var notebookContainer = gd.closest('#notebook-container');\n",
       "if (notebookContainer) {{\n",
       "    x.observe(notebookContainer, {childList: true});\n",
       "}}\n",
       "\n",
       "// Listen for the clearing of the current output cell\n",
       "var outputEl = gd.closest('.output');\n",
       "if (outputEl) {{\n",
       "    x.observe(outputEl, {childList: true});\n",
       "}}\n",
       "\n",
       "                        })\n",
       "                };\n",
       "                });\n",
       "            </script>\n",
       "        </div>"
      ]
     },
     "metadata": {},
     "output_type": "display_data"
    }
   ],
   "source": [
    "df.sum().iplot(kind='bar')  #sum,count"
   ]
  },
  {
   "cell_type": "code",
   "execution_count": 35,
   "metadata": {},
   "outputs": [
    {
     "data": {
      "application/vnd.plotly.v1+json": {
       "config": {
        "linkText": "Export to plot.ly",
        "plotlyServerURL": "https://plot.ly",
        "showLink": true
       },
       "data": [
        {
         "boxpoints": false,
         "line": {
          "width": 1.3
         },
         "marker": {
          "color": "rgba(255, 153, 51, 1.0)"
         },
         "name": "Category",
         "orientation": "v",
         "type": "box",
         "y": [
          "A",
          "B",
          "C"
         ]
        },
        {
         "boxpoints": false,
         "line": {
          "width": 1.3
         },
         "marker": {
          "color": "rgba(55, 128, 191, 1.0)"
         },
         "name": "Values",
         "orientation": "v",
         "type": "box",
         "y": [
          32,
          43,
          50
         ]
        }
       ],
       "layout": {
        "legend": {
         "bgcolor": "#F5F6F9",
         "font": {
          "color": "#4D5663"
         }
        },
        "paper_bgcolor": "#F5F6F9",
        "plot_bgcolor": "#F5F6F9",
        "template": {
         "data": {
          "bar": [
           {
            "error_x": {
             "color": "#2a3f5f"
            },
            "error_y": {
             "color": "#2a3f5f"
            },
            "marker": {
             "line": {
              "color": "#E5ECF6",
              "width": 0.5
             }
            },
            "type": "bar"
           }
          ],
          "barpolar": [
           {
            "marker": {
             "line": {
              "color": "#E5ECF6",
              "width": 0.5
             }
            },
            "type": "barpolar"
           }
          ],
          "carpet": [
           {
            "aaxis": {
             "endlinecolor": "#2a3f5f",
             "gridcolor": "white",
             "linecolor": "white",
             "minorgridcolor": "white",
             "startlinecolor": "#2a3f5f"
            },
            "baxis": {
             "endlinecolor": "#2a3f5f",
             "gridcolor": "white",
             "linecolor": "white",
             "minorgridcolor": "white",
             "startlinecolor": "#2a3f5f"
            },
            "type": "carpet"
           }
          ],
          "choropleth": [
           {
            "colorbar": {
             "outlinewidth": 0,
             "ticks": ""
            },
            "type": "choropleth"
           }
          ],
          "contour": [
           {
            "colorbar": {
             "outlinewidth": 0,
             "ticks": ""
            },
            "colorscale": [
             [
              0,
              "#0d0887"
             ],
             [
              0.1111111111111111,
              "#46039f"
             ],
             [
              0.2222222222222222,
              "#7201a8"
             ],
             [
              0.3333333333333333,
              "#9c179e"
             ],
             [
              0.4444444444444444,
              "#bd3786"
             ],
             [
              0.5555555555555556,
              "#d8576b"
             ],
             [
              0.6666666666666666,
              "#ed7953"
             ],
             [
              0.7777777777777778,
              "#fb9f3a"
             ],
             [
              0.8888888888888888,
              "#fdca26"
             ],
             [
              1,
              "#f0f921"
             ]
            ],
            "type": "contour"
           }
          ],
          "contourcarpet": [
           {
            "colorbar": {
             "outlinewidth": 0,
             "ticks": ""
            },
            "type": "contourcarpet"
           }
          ],
          "heatmap": [
           {
            "colorbar": {
             "outlinewidth": 0,
             "ticks": ""
            },
            "colorscale": [
             [
              0,
              "#0d0887"
             ],
             [
              0.1111111111111111,
              "#46039f"
             ],
             [
              0.2222222222222222,
              "#7201a8"
             ],
             [
              0.3333333333333333,
              "#9c179e"
             ],
             [
              0.4444444444444444,
              "#bd3786"
             ],
             [
              0.5555555555555556,
              "#d8576b"
             ],
             [
              0.6666666666666666,
              "#ed7953"
             ],
             [
              0.7777777777777778,
              "#fb9f3a"
             ],
             [
              0.8888888888888888,
              "#fdca26"
             ],
             [
              1,
              "#f0f921"
             ]
            ],
            "type": "heatmap"
           }
          ],
          "heatmapgl": [
           {
            "colorbar": {
             "outlinewidth": 0,
             "ticks": ""
            },
            "colorscale": [
             [
              0,
              "#0d0887"
             ],
             [
              0.1111111111111111,
              "#46039f"
             ],
             [
              0.2222222222222222,
              "#7201a8"
             ],
             [
              0.3333333333333333,
              "#9c179e"
             ],
             [
              0.4444444444444444,
              "#bd3786"
             ],
             [
              0.5555555555555556,
              "#d8576b"
             ],
             [
              0.6666666666666666,
              "#ed7953"
             ],
             [
              0.7777777777777778,
              "#fb9f3a"
             ],
             [
              0.8888888888888888,
              "#fdca26"
             ],
             [
              1,
              "#f0f921"
             ]
            ],
            "type": "heatmapgl"
           }
          ],
          "histogram": [
           {
            "marker": {
             "colorbar": {
              "outlinewidth": 0,
              "ticks": ""
             }
            },
            "type": "histogram"
           }
          ],
          "histogram2d": [
           {
            "colorbar": {
             "outlinewidth": 0,
             "ticks": ""
            },
            "colorscale": [
             [
              0,
              "#0d0887"
             ],
             [
              0.1111111111111111,
              "#46039f"
             ],
             [
              0.2222222222222222,
              "#7201a8"
             ],
             [
              0.3333333333333333,
              "#9c179e"
             ],
             [
              0.4444444444444444,
              "#bd3786"
             ],
             [
              0.5555555555555556,
              "#d8576b"
             ],
             [
              0.6666666666666666,
              "#ed7953"
             ],
             [
              0.7777777777777778,
              "#fb9f3a"
             ],
             [
              0.8888888888888888,
              "#fdca26"
             ],
             [
              1,
              "#f0f921"
             ]
            ],
            "type": "histogram2d"
           }
          ],
          "histogram2dcontour": [
           {
            "colorbar": {
             "outlinewidth": 0,
             "ticks": ""
            },
            "colorscale": [
             [
              0,
              "#0d0887"
             ],
             [
              0.1111111111111111,
              "#46039f"
             ],
             [
              0.2222222222222222,
              "#7201a8"
             ],
             [
              0.3333333333333333,
              "#9c179e"
             ],
             [
              0.4444444444444444,
              "#bd3786"
             ],
             [
              0.5555555555555556,
              "#d8576b"
             ],
             [
              0.6666666666666666,
              "#ed7953"
             ],
             [
              0.7777777777777778,
              "#fb9f3a"
             ],
             [
              0.8888888888888888,
              "#fdca26"
             ],
             [
              1,
              "#f0f921"
             ]
            ],
            "type": "histogram2dcontour"
           }
          ],
          "mesh3d": [
           {
            "colorbar": {
             "outlinewidth": 0,
             "ticks": ""
            },
            "type": "mesh3d"
           }
          ],
          "parcoords": [
           {
            "line": {
             "colorbar": {
              "outlinewidth": 0,
              "ticks": ""
             }
            },
            "type": "parcoords"
           }
          ],
          "pie": [
           {
            "automargin": true,
            "type": "pie"
           }
          ],
          "scatter": [
           {
            "marker": {
             "colorbar": {
              "outlinewidth": 0,
              "ticks": ""
             }
            },
            "type": "scatter"
           }
          ],
          "scatter3d": [
           {
            "line": {
             "colorbar": {
              "outlinewidth": 0,
              "ticks": ""
             }
            },
            "marker": {
             "colorbar": {
              "outlinewidth": 0,
              "ticks": ""
             }
            },
            "type": "scatter3d"
           }
          ],
          "scattercarpet": [
           {
            "marker": {
             "colorbar": {
              "outlinewidth": 0,
              "ticks": ""
             }
            },
            "type": "scattercarpet"
           }
          ],
          "scattergeo": [
           {
            "marker": {
             "colorbar": {
              "outlinewidth": 0,
              "ticks": ""
             }
            },
            "type": "scattergeo"
           }
          ],
          "scattergl": [
           {
            "marker": {
             "colorbar": {
              "outlinewidth": 0,
              "ticks": ""
             }
            },
            "type": "scattergl"
           }
          ],
          "scattermapbox": [
           {
            "marker": {
             "colorbar": {
              "outlinewidth": 0,
              "ticks": ""
             }
            },
            "type": "scattermapbox"
           }
          ],
          "scatterpolar": [
           {
            "marker": {
             "colorbar": {
              "outlinewidth": 0,
              "ticks": ""
             }
            },
            "type": "scatterpolar"
           }
          ],
          "scatterpolargl": [
           {
            "marker": {
             "colorbar": {
              "outlinewidth": 0,
              "ticks": ""
             }
            },
            "type": "scatterpolargl"
           }
          ],
          "scatterternary": [
           {
            "marker": {
             "colorbar": {
              "outlinewidth": 0,
              "ticks": ""
             }
            },
            "type": "scatterternary"
           }
          ],
          "surface": [
           {
            "colorbar": {
             "outlinewidth": 0,
             "ticks": ""
            },
            "colorscale": [
             [
              0,
              "#0d0887"
             ],
             [
              0.1111111111111111,
              "#46039f"
             ],
             [
              0.2222222222222222,
              "#7201a8"
             ],
             [
              0.3333333333333333,
              "#9c179e"
             ],
             [
              0.4444444444444444,
              "#bd3786"
             ],
             [
              0.5555555555555556,
              "#d8576b"
             ],
             [
              0.6666666666666666,
              "#ed7953"
             ],
             [
              0.7777777777777778,
              "#fb9f3a"
             ],
             [
              0.8888888888888888,
              "#fdca26"
             ],
             [
              1,
              "#f0f921"
             ]
            ],
            "type": "surface"
           }
          ],
          "table": [
           {
            "cells": {
             "fill": {
              "color": "#EBF0F8"
             },
             "line": {
              "color": "white"
             }
            },
            "header": {
             "fill": {
              "color": "#C8D4E3"
             },
             "line": {
              "color": "white"
             }
            },
            "type": "table"
           }
          ]
         },
         "layout": {
          "annotationdefaults": {
           "arrowcolor": "#2a3f5f",
           "arrowhead": 0,
           "arrowwidth": 1
          },
          "coloraxis": {
           "colorbar": {
            "outlinewidth": 0,
            "ticks": ""
           }
          },
          "colorscale": {
           "diverging": [
            [
             0,
             "#8e0152"
            ],
            [
             0.1,
             "#c51b7d"
            ],
            [
             0.2,
             "#de77ae"
            ],
            [
             0.3,
             "#f1b6da"
            ],
            [
             0.4,
             "#fde0ef"
            ],
            [
             0.5,
             "#f7f7f7"
            ],
            [
             0.6,
             "#e6f5d0"
            ],
            [
             0.7,
             "#b8e186"
            ],
            [
             0.8,
             "#7fbc41"
            ],
            [
             0.9,
             "#4d9221"
            ],
            [
             1,
             "#276419"
            ]
           ],
           "sequential": [
            [
             0,
             "#0d0887"
            ],
            [
             0.1111111111111111,
             "#46039f"
            ],
            [
             0.2222222222222222,
             "#7201a8"
            ],
            [
             0.3333333333333333,
             "#9c179e"
            ],
            [
             0.4444444444444444,
             "#bd3786"
            ],
            [
             0.5555555555555556,
             "#d8576b"
            ],
            [
             0.6666666666666666,
             "#ed7953"
            ],
            [
             0.7777777777777778,
             "#fb9f3a"
            ],
            [
             0.8888888888888888,
             "#fdca26"
            ],
            [
             1,
             "#f0f921"
            ]
           ],
           "sequentialminus": [
            [
             0,
             "#0d0887"
            ],
            [
             0.1111111111111111,
             "#46039f"
            ],
            [
             0.2222222222222222,
             "#7201a8"
            ],
            [
             0.3333333333333333,
             "#9c179e"
            ],
            [
             0.4444444444444444,
             "#bd3786"
            ],
            [
             0.5555555555555556,
             "#d8576b"
            ],
            [
             0.6666666666666666,
             "#ed7953"
            ],
            [
             0.7777777777777778,
             "#fb9f3a"
            ],
            [
             0.8888888888888888,
             "#fdca26"
            ],
            [
             1,
             "#f0f921"
            ]
           ]
          },
          "colorway": [
           "#636efa",
           "#EF553B",
           "#00cc96",
           "#ab63fa",
           "#FFA15A",
           "#19d3f3",
           "#FF6692",
           "#B6E880",
           "#FF97FF",
           "#FECB52"
          ],
          "font": {
           "color": "#2a3f5f"
          },
          "geo": {
           "bgcolor": "white",
           "lakecolor": "white",
           "landcolor": "#E5ECF6",
           "showlakes": true,
           "showland": true,
           "subunitcolor": "white"
          },
          "hoverlabel": {
           "align": "left"
          },
          "hovermode": "closest",
          "mapbox": {
           "style": "light"
          },
          "paper_bgcolor": "white",
          "plot_bgcolor": "#E5ECF6",
          "polar": {
           "angularaxis": {
            "gridcolor": "white",
            "linecolor": "white",
            "ticks": ""
           },
           "bgcolor": "#E5ECF6",
           "radialaxis": {
            "gridcolor": "white",
            "linecolor": "white",
            "ticks": ""
           }
          },
          "scene": {
           "xaxis": {
            "backgroundcolor": "#E5ECF6",
            "gridcolor": "white",
            "gridwidth": 2,
            "linecolor": "white",
            "showbackground": true,
            "ticks": "",
            "zerolinecolor": "white"
           },
           "yaxis": {
            "backgroundcolor": "#E5ECF6",
            "gridcolor": "white",
            "gridwidth": 2,
            "linecolor": "white",
            "showbackground": true,
            "ticks": "",
            "zerolinecolor": "white"
           },
           "zaxis": {
            "backgroundcolor": "#E5ECF6",
            "gridcolor": "white",
            "gridwidth": 2,
            "linecolor": "white",
            "showbackground": true,
            "ticks": "",
            "zerolinecolor": "white"
           }
          },
          "shapedefaults": {
           "line": {
            "color": "#2a3f5f"
           }
          },
          "ternary": {
           "aaxis": {
            "gridcolor": "white",
            "linecolor": "white",
            "ticks": ""
           },
           "baxis": {
            "gridcolor": "white",
            "linecolor": "white",
            "ticks": ""
           },
           "bgcolor": "#E5ECF6",
           "caxis": {
            "gridcolor": "white",
            "linecolor": "white",
            "ticks": ""
           }
          },
          "title": {
           "x": 0.05
          },
          "xaxis": {
           "automargin": true,
           "gridcolor": "white",
           "linecolor": "white",
           "ticks": "",
           "title": {
            "standoff": 15
           },
           "zerolinecolor": "white",
           "zerolinewidth": 2
          },
          "yaxis": {
           "automargin": true,
           "gridcolor": "white",
           "linecolor": "white",
           "ticks": "",
           "title": {
            "standoff": 15
           },
           "zerolinecolor": "white",
           "zerolinewidth": 2
          }
         }
        },
        "title": {
         "font": {
          "color": "#4D5663"
         }
        },
        "xaxis": {
         "gridcolor": "#E1E5ED",
         "showgrid": true,
         "tickfont": {
          "color": "#4D5663"
         },
         "title": {
          "font": {
           "color": "#4D5663"
          },
          "text": ""
         },
         "zerolinecolor": "#E1E5ED"
        },
        "yaxis": {
         "gridcolor": "#E1E5ED",
         "showgrid": true,
         "tickfont": {
          "color": "#4D5663"
         },
         "title": {
          "font": {
           "color": "#4D5663"
          },
          "text": ""
         },
         "zerolinecolor": "#E1E5ED"
        }
       }
      },
      "text/html": [
       "<div>\n",
       "        \n",
       "        \n",
       "            <div id=\"28a064a1-f3e5-4779-a761-4ee2aebdf5d3\" class=\"plotly-graph-div\" style=\"height:525px; width:100%;\"></div>\n",
       "            <script type=\"text/javascript\">\n",
       "                require([\"plotly\"], function(Plotly) {\n",
       "                    window.PLOTLYENV=window.PLOTLYENV || {};\n",
       "                    window.PLOTLYENV.BASE_URL='https://plot.ly';\n",
       "                    \n",
       "                if (document.getElementById(\"28a064a1-f3e5-4779-a761-4ee2aebdf5d3\")) {\n",
       "                    Plotly.newPlot(\n",
       "                        '28a064a1-f3e5-4779-a761-4ee2aebdf5d3',\n",
       "                        [{\"boxpoints\": false, \"line\": {\"width\": 1.3}, \"marker\": {\"color\": \"rgba(255, 153, 51, 1.0)\"}, \"name\": \"Category\", \"orientation\": \"v\", \"type\": \"box\", \"y\": [\"A\", \"B\", \"C\"]}, {\"boxpoints\": false, \"line\": {\"width\": 1.3}, \"marker\": {\"color\": \"rgba(55, 128, 191, 1.0)\"}, \"name\": \"Values\", \"orientation\": \"v\", \"type\": \"box\", \"y\": [32, 43, 50]}],\n",
       "                        {\"legend\": {\"bgcolor\": \"#F5F6F9\", \"font\": {\"color\": \"#4D5663\"}}, \"paper_bgcolor\": \"#F5F6F9\", \"plot_bgcolor\": \"#F5F6F9\", \"template\": {\"data\": {\"bar\": [{\"error_x\": {\"color\": \"#2a3f5f\"}, \"error_y\": {\"color\": \"#2a3f5f\"}, \"marker\": {\"line\": {\"color\": \"#E5ECF6\", \"width\": 0.5}}, \"type\": \"bar\"}], \"barpolar\": [{\"marker\": {\"line\": {\"color\": \"#E5ECF6\", \"width\": 0.5}}, \"type\": \"barpolar\"}], \"carpet\": [{\"aaxis\": {\"endlinecolor\": \"#2a3f5f\", \"gridcolor\": \"white\", \"linecolor\": \"white\", \"minorgridcolor\": \"white\", \"startlinecolor\": \"#2a3f5f\"}, \"baxis\": {\"endlinecolor\": \"#2a3f5f\", \"gridcolor\": \"white\", \"linecolor\": \"white\", \"minorgridcolor\": \"white\", \"startlinecolor\": \"#2a3f5f\"}, \"type\": \"carpet\"}], \"choropleth\": [{\"colorbar\": {\"outlinewidth\": 0, \"ticks\": \"\"}, \"type\": \"choropleth\"}], \"contour\": [{\"colorbar\": {\"outlinewidth\": 0, \"ticks\": \"\"}, \"colorscale\": [[0.0, \"#0d0887\"], [0.1111111111111111, \"#46039f\"], [0.2222222222222222, \"#7201a8\"], [0.3333333333333333, \"#9c179e\"], [0.4444444444444444, \"#bd3786\"], [0.5555555555555556, \"#d8576b\"], [0.6666666666666666, \"#ed7953\"], [0.7777777777777778, \"#fb9f3a\"], [0.8888888888888888, \"#fdca26\"], [1.0, \"#f0f921\"]], \"type\": \"contour\"}], \"contourcarpet\": [{\"colorbar\": {\"outlinewidth\": 0, \"ticks\": \"\"}, \"type\": \"contourcarpet\"}], \"heatmap\": [{\"colorbar\": {\"outlinewidth\": 0, \"ticks\": \"\"}, \"colorscale\": [[0.0, \"#0d0887\"], [0.1111111111111111, \"#46039f\"], [0.2222222222222222, \"#7201a8\"], [0.3333333333333333, \"#9c179e\"], [0.4444444444444444, \"#bd3786\"], [0.5555555555555556, \"#d8576b\"], [0.6666666666666666, \"#ed7953\"], [0.7777777777777778, \"#fb9f3a\"], [0.8888888888888888, \"#fdca26\"], [1.0, \"#f0f921\"]], \"type\": \"heatmap\"}], \"heatmapgl\": [{\"colorbar\": {\"outlinewidth\": 0, \"ticks\": \"\"}, \"colorscale\": [[0.0, \"#0d0887\"], [0.1111111111111111, \"#46039f\"], [0.2222222222222222, \"#7201a8\"], [0.3333333333333333, \"#9c179e\"], [0.4444444444444444, \"#bd3786\"], [0.5555555555555556, \"#d8576b\"], [0.6666666666666666, \"#ed7953\"], [0.7777777777777778, \"#fb9f3a\"], [0.8888888888888888, \"#fdca26\"], [1.0, \"#f0f921\"]], \"type\": \"heatmapgl\"}], \"histogram\": [{\"marker\": {\"colorbar\": {\"outlinewidth\": 0, \"ticks\": \"\"}}, \"type\": \"histogram\"}], \"histogram2d\": [{\"colorbar\": {\"outlinewidth\": 0, \"ticks\": \"\"}, \"colorscale\": [[0.0, \"#0d0887\"], [0.1111111111111111, \"#46039f\"], [0.2222222222222222, \"#7201a8\"], [0.3333333333333333, \"#9c179e\"], [0.4444444444444444, \"#bd3786\"], [0.5555555555555556, \"#d8576b\"], [0.6666666666666666, \"#ed7953\"], [0.7777777777777778, \"#fb9f3a\"], [0.8888888888888888, \"#fdca26\"], [1.0, \"#f0f921\"]], \"type\": \"histogram2d\"}], \"histogram2dcontour\": [{\"colorbar\": {\"outlinewidth\": 0, \"ticks\": \"\"}, \"colorscale\": [[0.0, \"#0d0887\"], [0.1111111111111111, \"#46039f\"], [0.2222222222222222, \"#7201a8\"], [0.3333333333333333, \"#9c179e\"], [0.4444444444444444, \"#bd3786\"], [0.5555555555555556, \"#d8576b\"], [0.6666666666666666, \"#ed7953\"], [0.7777777777777778, \"#fb9f3a\"], [0.8888888888888888, \"#fdca26\"], [1.0, \"#f0f921\"]], \"type\": \"histogram2dcontour\"}], \"mesh3d\": [{\"colorbar\": {\"outlinewidth\": 0, \"ticks\": \"\"}, \"type\": \"mesh3d\"}], \"parcoords\": [{\"line\": {\"colorbar\": {\"outlinewidth\": 0, \"ticks\": \"\"}}, \"type\": \"parcoords\"}], \"pie\": [{\"automargin\": true, \"type\": \"pie\"}], \"scatter\": [{\"marker\": {\"colorbar\": {\"outlinewidth\": 0, \"ticks\": \"\"}}, \"type\": \"scatter\"}], \"scatter3d\": [{\"line\": {\"colorbar\": {\"outlinewidth\": 0, \"ticks\": \"\"}}, \"marker\": {\"colorbar\": {\"outlinewidth\": 0, \"ticks\": \"\"}}, \"type\": \"scatter3d\"}], \"scattercarpet\": [{\"marker\": {\"colorbar\": {\"outlinewidth\": 0, \"ticks\": \"\"}}, \"type\": \"scattercarpet\"}], \"scattergeo\": [{\"marker\": {\"colorbar\": {\"outlinewidth\": 0, \"ticks\": \"\"}}, \"type\": \"scattergeo\"}], \"scattergl\": [{\"marker\": {\"colorbar\": {\"outlinewidth\": 0, \"ticks\": \"\"}}, \"type\": \"scattergl\"}], \"scattermapbox\": [{\"marker\": {\"colorbar\": {\"outlinewidth\": 0, \"ticks\": \"\"}}, \"type\": \"scattermapbox\"}], \"scatterpolar\": [{\"marker\": {\"colorbar\": {\"outlinewidth\": 0, \"ticks\": \"\"}}, \"type\": \"scatterpolar\"}], \"scatterpolargl\": [{\"marker\": {\"colorbar\": {\"outlinewidth\": 0, \"ticks\": \"\"}}, \"type\": \"scatterpolargl\"}], \"scatterternary\": [{\"marker\": {\"colorbar\": {\"outlinewidth\": 0, \"ticks\": \"\"}}, \"type\": \"scatterternary\"}], \"surface\": [{\"colorbar\": {\"outlinewidth\": 0, \"ticks\": \"\"}, \"colorscale\": [[0.0, \"#0d0887\"], [0.1111111111111111, \"#46039f\"], [0.2222222222222222, \"#7201a8\"], [0.3333333333333333, \"#9c179e\"], [0.4444444444444444, \"#bd3786\"], [0.5555555555555556, \"#d8576b\"], [0.6666666666666666, \"#ed7953\"], [0.7777777777777778, \"#fb9f3a\"], [0.8888888888888888, \"#fdca26\"], [1.0, \"#f0f921\"]], \"type\": \"surface\"}], \"table\": [{\"cells\": {\"fill\": {\"color\": \"#EBF0F8\"}, \"line\": {\"color\": \"white\"}}, \"header\": {\"fill\": {\"color\": \"#C8D4E3\"}, \"line\": {\"color\": \"white\"}}, \"type\": \"table\"}]}, \"layout\": {\"annotationdefaults\": {\"arrowcolor\": \"#2a3f5f\", \"arrowhead\": 0, \"arrowwidth\": 1}, \"coloraxis\": {\"colorbar\": {\"outlinewidth\": 0, \"ticks\": \"\"}}, \"colorscale\": {\"diverging\": [[0, \"#8e0152\"], [0.1, \"#c51b7d\"], [0.2, \"#de77ae\"], [0.3, \"#f1b6da\"], [0.4, \"#fde0ef\"], [0.5, \"#f7f7f7\"], [0.6, \"#e6f5d0\"], [0.7, \"#b8e186\"], [0.8, \"#7fbc41\"], [0.9, \"#4d9221\"], [1, \"#276419\"]], \"sequential\": [[0.0, \"#0d0887\"], [0.1111111111111111, \"#46039f\"], [0.2222222222222222, \"#7201a8\"], [0.3333333333333333, \"#9c179e\"], [0.4444444444444444, \"#bd3786\"], [0.5555555555555556, \"#d8576b\"], [0.6666666666666666, \"#ed7953\"], [0.7777777777777778, \"#fb9f3a\"], [0.8888888888888888, \"#fdca26\"], [1.0, \"#f0f921\"]], \"sequentialminus\": [[0.0, \"#0d0887\"], [0.1111111111111111, \"#46039f\"], [0.2222222222222222, \"#7201a8\"], [0.3333333333333333, \"#9c179e\"], [0.4444444444444444, \"#bd3786\"], [0.5555555555555556, \"#d8576b\"], [0.6666666666666666, \"#ed7953\"], [0.7777777777777778, \"#fb9f3a\"], [0.8888888888888888, \"#fdca26\"], [1.0, \"#f0f921\"]]}, \"colorway\": [\"#636efa\", \"#EF553B\", \"#00cc96\", \"#ab63fa\", \"#FFA15A\", \"#19d3f3\", \"#FF6692\", \"#B6E880\", \"#FF97FF\", \"#FECB52\"], \"font\": {\"color\": \"#2a3f5f\"}, \"geo\": {\"bgcolor\": \"white\", \"lakecolor\": \"white\", \"landcolor\": \"#E5ECF6\", \"showlakes\": true, \"showland\": true, \"subunitcolor\": \"white\"}, \"hoverlabel\": {\"align\": \"left\"}, \"hovermode\": \"closest\", \"mapbox\": {\"style\": \"light\"}, \"paper_bgcolor\": \"white\", \"plot_bgcolor\": \"#E5ECF6\", \"polar\": {\"angularaxis\": {\"gridcolor\": \"white\", \"linecolor\": \"white\", \"ticks\": \"\"}, \"bgcolor\": \"#E5ECF6\", \"radialaxis\": {\"gridcolor\": \"white\", \"linecolor\": \"white\", \"ticks\": \"\"}}, \"scene\": {\"xaxis\": {\"backgroundcolor\": \"#E5ECF6\", \"gridcolor\": \"white\", \"gridwidth\": 2, \"linecolor\": \"white\", \"showbackground\": true, \"ticks\": \"\", \"zerolinecolor\": \"white\"}, \"yaxis\": {\"backgroundcolor\": \"#E5ECF6\", \"gridcolor\": \"white\", \"gridwidth\": 2, \"linecolor\": \"white\", \"showbackground\": true, \"ticks\": \"\", \"zerolinecolor\": \"white\"}, \"zaxis\": {\"backgroundcolor\": \"#E5ECF6\", \"gridcolor\": \"white\", \"gridwidth\": 2, \"linecolor\": \"white\", \"showbackground\": true, \"ticks\": \"\", \"zerolinecolor\": \"white\"}}, \"shapedefaults\": {\"line\": {\"color\": \"#2a3f5f\"}}, \"ternary\": {\"aaxis\": {\"gridcolor\": \"white\", \"linecolor\": \"white\", \"ticks\": \"\"}, \"baxis\": {\"gridcolor\": \"white\", \"linecolor\": \"white\", \"ticks\": \"\"}, \"bgcolor\": \"#E5ECF6\", \"caxis\": {\"gridcolor\": \"white\", \"linecolor\": \"white\", \"ticks\": \"\"}}, \"title\": {\"x\": 0.05}, \"xaxis\": {\"automargin\": true, \"gridcolor\": \"white\", \"linecolor\": \"white\", \"ticks\": \"\", \"title\": {\"standoff\": 15}, \"zerolinecolor\": \"white\", \"zerolinewidth\": 2}, \"yaxis\": {\"automargin\": true, \"gridcolor\": \"white\", \"linecolor\": \"white\", \"ticks\": \"\", \"title\": {\"standoff\": 15}, \"zerolinecolor\": \"white\", \"zerolinewidth\": 2}}}, \"title\": {\"font\": {\"color\": \"#4D5663\"}}, \"xaxis\": {\"gridcolor\": \"#E1E5ED\", \"showgrid\": true, \"tickfont\": {\"color\": \"#4D5663\"}, \"title\": {\"font\": {\"color\": \"#4D5663\"}, \"text\": \"\"}, \"zerolinecolor\": \"#E1E5ED\"}, \"yaxis\": {\"gridcolor\": \"#E1E5ED\", \"showgrid\": true, \"tickfont\": {\"color\": \"#4D5663\"}, \"title\": {\"font\": {\"color\": \"#4D5663\"}, \"text\": \"\"}, \"zerolinecolor\": \"#E1E5ED\"}},\n",
       "                        {\"showLink\": true, \"linkText\": \"Export to plot.ly\", \"plotlyServerURL\": \"https://plot.ly\", \"responsive\": true}\n",
       "                    ).then(function(){\n",
       "                            \n",
       "var gd = document.getElementById('28a064a1-f3e5-4779-a761-4ee2aebdf5d3');\n",
       "var x = new MutationObserver(function (mutations, observer) {{\n",
       "        var display = window.getComputedStyle(gd).display;\n",
       "        if (!display || display === 'none') {{\n",
       "            console.log([gd, 'removed!']);\n",
       "            Plotly.purge(gd);\n",
       "            observer.disconnect();\n",
       "        }}\n",
       "}});\n",
       "\n",
       "// Listen for the removal of the full notebook cells\n",
       "var notebookContainer = gd.closest('#notebook-container');\n",
       "if (notebookContainer) {{\n",
       "    x.observe(notebookContainer, {childList: true});\n",
       "}}\n",
       "\n",
       "// Listen for the clearing of the current output cell\n",
       "var outputEl = gd.closest('.output');\n",
       "if (outputEl) {{\n",
       "    x.observe(outputEl, {childList: true});\n",
       "}}\n",
       "\n",
       "                        })\n",
       "                };\n",
       "                });\n",
       "            </script>\n",
       "        </div>"
      ]
     },
     "metadata": {},
     "output_type": "display_data"
    }
   ],
   "source": [
    "df2.iplot(kind='box')"
   ]
  },
  {
   "cell_type": "code",
   "execution_count": 38,
   "metadata": {},
   "outputs": [],
   "source": [
    "df3 = pd.DataFrame({'x':[1,2,3,4,5],'y':[10,20,30,20,10],\n",
    "                    'z':[500,400,300,200,100]})\n",
    "\n",
    "# creating a DataFrame"
   ]
  },
  {
   "cell_type": "code",
   "execution_count": 39,
   "metadata": {},
   "outputs": [
    {
     "data": {
      "text/html": [
       "<div>\n",
       "<style scoped>\n",
       "    .dataframe tbody tr th:only-of-type {\n",
       "        vertical-align: middle;\n",
       "    }\n",
       "\n",
       "    .dataframe tbody tr th {\n",
       "        vertical-align: top;\n",
       "    }\n",
       "\n",
       "    .dataframe thead th {\n",
       "        text-align: right;\n",
       "    }\n",
       "</style>\n",
       "<table border=\"1\" class=\"dataframe\">\n",
       "  <thead>\n",
       "    <tr style=\"text-align: right;\">\n",
       "      <th></th>\n",
       "      <th>x</th>\n",
       "      <th>y</th>\n",
       "      <th>z</th>\n",
       "    </tr>\n",
       "  </thead>\n",
       "  <tbody>\n",
       "    <tr>\n",
       "      <th>0</th>\n",
       "      <td>1</td>\n",
       "      <td>10</td>\n",
       "      <td>500</td>\n",
       "    </tr>\n",
       "    <tr>\n",
       "      <th>1</th>\n",
       "      <td>2</td>\n",
       "      <td>20</td>\n",
       "      <td>400</td>\n",
       "    </tr>\n",
       "    <tr>\n",
       "      <th>2</th>\n",
       "      <td>3</td>\n",
       "      <td>30</td>\n",
       "      <td>300</td>\n",
       "    </tr>\n",
       "    <tr>\n",
       "      <th>3</th>\n",
       "      <td>4</td>\n",
       "      <td>20</td>\n",
       "      <td>200</td>\n",
       "    </tr>\n",
       "    <tr>\n",
       "      <th>4</th>\n",
       "      <td>5</td>\n",
       "      <td>10</td>\n",
       "      <td>100</td>\n",
       "    </tr>\n",
       "  </tbody>\n",
       "</table>\n",
       "</div>"
      ],
      "text/plain": [
       "   x   y    z\n",
       "0  1  10  500\n",
       "1  2  20  400\n",
       "2  3  30  300\n",
       "3  4  20  200\n",
       "4  5  10  100"
      ]
     },
     "execution_count": 39,
     "metadata": {},
     "output_type": "execute_result"
    }
   ],
   "source": [
    "df3"
   ]
  },
  {
   "cell_type": "code",
   "execution_count": 42,
   "metadata": {},
   "outputs": [
    {
     "data": {
      "application/vnd.plotly.v1+json": {
       "config": {
        "linkText": "Export to plot.ly",
        "plotlyServerURL": "https://plot.ly",
        "showLink": true
       },
       "data": [
        {
         "colorscale": [
          [
           0,
           "rgb(165,0,38)"
          ],
          [
           0.1,
           "rgb(215,48,39)"
          ],
          [
           0.2,
           "rgb(244,109,67)"
          ],
          [
           0.3,
           "rgb(253,174,97)"
          ],
          [
           0.4,
           "rgb(254,224,144)"
          ],
          [
           0.5,
           "rgb(255,255,191)"
          ],
          [
           0.6,
           "rgb(224,243,248)"
          ],
          [
           0.7,
           "rgb(171,217,233)"
          ],
          [
           0.8,
           "rgb(116,173,209)"
          ],
          [
           0.9,
           "rgb(69,117,180)"
          ],
          [
           1,
           "rgb(49,54,149)"
          ]
         ],
         "type": "surface",
         "x": [
          0,
          1,
          2,
          3,
          4
         ],
         "y": [
          "x",
          "y",
          "z"
         ],
         "z": [
          [
           1,
           2,
           3,
           4,
           5
          ],
          [
           10,
           20,
           30,
           20,
           10
          ],
          [
           500,
           400,
           300,
           200,
           100
          ]
         ]
        }
       ],
       "layout": {
        "legend": {
         "bgcolor": "#F5F6F9",
         "font": {
          "color": "#4D5663"
         }
        },
        "paper_bgcolor": "#F5F6F9",
        "plot_bgcolor": "#F5F6F9",
        "template": {
         "data": {
          "bar": [
           {
            "error_x": {
             "color": "#2a3f5f"
            },
            "error_y": {
             "color": "#2a3f5f"
            },
            "marker": {
             "line": {
              "color": "#E5ECF6",
              "width": 0.5
             }
            },
            "type": "bar"
           }
          ],
          "barpolar": [
           {
            "marker": {
             "line": {
              "color": "#E5ECF6",
              "width": 0.5
             }
            },
            "type": "barpolar"
           }
          ],
          "carpet": [
           {
            "aaxis": {
             "endlinecolor": "#2a3f5f",
             "gridcolor": "white",
             "linecolor": "white",
             "minorgridcolor": "white",
             "startlinecolor": "#2a3f5f"
            },
            "baxis": {
             "endlinecolor": "#2a3f5f",
             "gridcolor": "white",
             "linecolor": "white",
             "minorgridcolor": "white",
             "startlinecolor": "#2a3f5f"
            },
            "type": "carpet"
           }
          ],
          "choropleth": [
           {
            "colorbar": {
             "outlinewidth": 0,
             "ticks": ""
            },
            "type": "choropleth"
           }
          ],
          "contour": [
           {
            "colorbar": {
             "outlinewidth": 0,
             "ticks": ""
            },
            "colorscale": [
             [
              0,
              "#0d0887"
             ],
             [
              0.1111111111111111,
              "#46039f"
             ],
             [
              0.2222222222222222,
              "#7201a8"
             ],
             [
              0.3333333333333333,
              "#9c179e"
             ],
             [
              0.4444444444444444,
              "#bd3786"
             ],
             [
              0.5555555555555556,
              "#d8576b"
             ],
             [
              0.6666666666666666,
              "#ed7953"
             ],
             [
              0.7777777777777778,
              "#fb9f3a"
             ],
             [
              0.8888888888888888,
              "#fdca26"
             ],
             [
              1,
              "#f0f921"
             ]
            ],
            "type": "contour"
           }
          ],
          "contourcarpet": [
           {
            "colorbar": {
             "outlinewidth": 0,
             "ticks": ""
            },
            "type": "contourcarpet"
           }
          ],
          "heatmap": [
           {
            "colorbar": {
             "outlinewidth": 0,
             "ticks": ""
            },
            "colorscale": [
             [
              0,
              "#0d0887"
             ],
             [
              0.1111111111111111,
              "#46039f"
             ],
             [
              0.2222222222222222,
              "#7201a8"
             ],
             [
              0.3333333333333333,
              "#9c179e"
             ],
             [
              0.4444444444444444,
              "#bd3786"
             ],
             [
              0.5555555555555556,
              "#d8576b"
             ],
             [
              0.6666666666666666,
              "#ed7953"
             ],
             [
              0.7777777777777778,
              "#fb9f3a"
             ],
             [
              0.8888888888888888,
              "#fdca26"
             ],
             [
              1,
              "#f0f921"
             ]
            ],
            "type": "heatmap"
           }
          ],
          "heatmapgl": [
           {
            "colorbar": {
             "outlinewidth": 0,
             "ticks": ""
            },
            "colorscale": [
             [
              0,
              "#0d0887"
             ],
             [
              0.1111111111111111,
              "#46039f"
             ],
             [
              0.2222222222222222,
              "#7201a8"
             ],
             [
              0.3333333333333333,
              "#9c179e"
             ],
             [
              0.4444444444444444,
              "#bd3786"
             ],
             [
              0.5555555555555556,
              "#d8576b"
             ],
             [
              0.6666666666666666,
              "#ed7953"
             ],
             [
              0.7777777777777778,
              "#fb9f3a"
             ],
             [
              0.8888888888888888,
              "#fdca26"
             ],
             [
              1,
              "#f0f921"
             ]
            ],
            "type": "heatmapgl"
           }
          ],
          "histogram": [
           {
            "marker": {
             "colorbar": {
              "outlinewidth": 0,
              "ticks": ""
             }
            },
            "type": "histogram"
           }
          ],
          "histogram2d": [
           {
            "colorbar": {
             "outlinewidth": 0,
             "ticks": ""
            },
            "colorscale": [
             [
              0,
              "#0d0887"
             ],
             [
              0.1111111111111111,
              "#46039f"
             ],
             [
              0.2222222222222222,
              "#7201a8"
             ],
             [
              0.3333333333333333,
              "#9c179e"
             ],
             [
              0.4444444444444444,
              "#bd3786"
             ],
             [
              0.5555555555555556,
              "#d8576b"
             ],
             [
              0.6666666666666666,
              "#ed7953"
             ],
             [
              0.7777777777777778,
              "#fb9f3a"
             ],
             [
              0.8888888888888888,
              "#fdca26"
             ],
             [
              1,
              "#f0f921"
             ]
            ],
            "type": "histogram2d"
           }
          ],
          "histogram2dcontour": [
           {
            "colorbar": {
             "outlinewidth": 0,
             "ticks": ""
            },
            "colorscale": [
             [
              0,
              "#0d0887"
             ],
             [
              0.1111111111111111,
              "#46039f"
             ],
             [
              0.2222222222222222,
              "#7201a8"
             ],
             [
              0.3333333333333333,
              "#9c179e"
             ],
             [
              0.4444444444444444,
              "#bd3786"
             ],
             [
              0.5555555555555556,
              "#d8576b"
             ],
             [
              0.6666666666666666,
              "#ed7953"
             ],
             [
              0.7777777777777778,
              "#fb9f3a"
             ],
             [
              0.8888888888888888,
              "#fdca26"
             ],
             [
              1,
              "#f0f921"
             ]
            ],
            "type": "histogram2dcontour"
           }
          ],
          "mesh3d": [
           {
            "colorbar": {
             "outlinewidth": 0,
             "ticks": ""
            },
            "type": "mesh3d"
           }
          ],
          "parcoords": [
           {
            "line": {
             "colorbar": {
              "outlinewidth": 0,
              "ticks": ""
             }
            },
            "type": "parcoords"
           }
          ],
          "pie": [
           {
            "automargin": true,
            "type": "pie"
           }
          ],
          "scatter": [
           {
            "marker": {
             "colorbar": {
              "outlinewidth": 0,
              "ticks": ""
             }
            },
            "type": "scatter"
           }
          ],
          "scatter3d": [
           {
            "line": {
             "colorbar": {
              "outlinewidth": 0,
              "ticks": ""
             }
            },
            "marker": {
             "colorbar": {
              "outlinewidth": 0,
              "ticks": ""
             }
            },
            "type": "scatter3d"
           }
          ],
          "scattercarpet": [
           {
            "marker": {
             "colorbar": {
              "outlinewidth": 0,
              "ticks": ""
             }
            },
            "type": "scattercarpet"
           }
          ],
          "scattergeo": [
           {
            "marker": {
             "colorbar": {
              "outlinewidth": 0,
              "ticks": ""
             }
            },
            "type": "scattergeo"
           }
          ],
          "scattergl": [
           {
            "marker": {
             "colorbar": {
              "outlinewidth": 0,
              "ticks": ""
             }
            },
            "type": "scattergl"
           }
          ],
          "scattermapbox": [
           {
            "marker": {
             "colorbar": {
              "outlinewidth": 0,
              "ticks": ""
             }
            },
            "type": "scattermapbox"
           }
          ],
          "scatterpolar": [
           {
            "marker": {
             "colorbar": {
              "outlinewidth": 0,
              "ticks": ""
             }
            },
            "type": "scatterpolar"
           }
          ],
          "scatterpolargl": [
           {
            "marker": {
             "colorbar": {
              "outlinewidth": 0,
              "ticks": ""
             }
            },
            "type": "scatterpolargl"
           }
          ],
          "scatterternary": [
           {
            "marker": {
             "colorbar": {
              "outlinewidth": 0,
              "ticks": ""
             }
            },
            "type": "scatterternary"
           }
          ],
          "surface": [
           {
            "colorbar": {
             "outlinewidth": 0,
             "ticks": ""
            },
            "colorscale": [
             [
              0,
              "#0d0887"
             ],
             [
              0.1111111111111111,
              "#46039f"
             ],
             [
              0.2222222222222222,
              "#7201a8"
             ],
             [
              0.3333333333333333,
              "#9c179e"
             ],
             [
              0.4444444444444444,
              "#bd3786"
             ],
             [
              0.5555555555555556,
              "#d8576b"
             ],
             [
              0.6666666666666666,
              "#ed7953"
             ],
             [
              0.7777777777777778,
              "#fb9f3a"
             ],
             [
              0.8888888888888888,
              "#fdca26"
             ],
             [
              1,
              "#f0f921"
             ]
            ],
            "type": "surface"
           }
          ],
          "table": [
           {
            "cells": {
             "fill": {
              "color": "#EBF0F8"
             },
             "line": {
              "color": "white"
             }
            },
            "header": {
             "fill": {
              "color": "#C8D4E3"
             },
             "line": {
              "color": "white"
             }
            },
            "type": "table"
           }
          ]
         },
         "layout": {
          "annotationdefaults": {
           "arrowcolor": "#2a3f5f",
           "arrowhead": 0,
           "arrowwidth": 1
          },
          "coloraxis": {
           "colorbar": {
            "outlinewidth": 0,
            "ticks": ""
           }
          },
          "colorscale": {
           "diverging": [
            [
             0,
             "#8e0152"
            ],
            [
             0.1,
             "#c51b7d"
            ],
            [
             0.2,
             "#de77ae"
            ],
            [
             0.3,
             "#f1b6da"
            ],
            [
             0.4,
             "#fde0ef"
            ],
            [
             0.5,
             "#f7f7f7"
            ],
            [
             0.6,
             "#e6f5d0"
            ],
            [
             0.7,
             "#b8e186"
            ],
            [
             0.8,
             "#7fbc41"
            ],
            [
             0.9,
             "#4d9221"
            ],
            [
             1,
             "#276419"
            ]
           ],
           "sequential": [
            [
             0,
             "#0d0887"
            ],
            [
             0.1111111111111111,
             "#46039f"
            ],
            [
             0.2222222222222222,
             "#7201a8"
            ],
            [
             0.3333333333333333,
             "#9c179e"
            ],
            [
             0.4444444444444444,
             "#bd3786"
            ],
            [
             0.5555555555555556,
             "#d8576b"
            ],
            [
             0.6666666666666666,
             "#ed7953"
            ],
            [
             0.7777777777777778,
             "#fb9f3a"
            ],
            [
             0.8888888888888888,
             "#fdca26"
            ],
            [
             1,
             "#f0f921"
            ]
           ],
           "sequentialminus": [
            [
             0,
             "#0d0887"
            ],
            [
             0.1111111111111111,
             "#46039f"
            ],
            [
             0.2222222222222222,
             "#7201a8"
            ],
            [
             0.3333333333333333,
             "#9c179e"
            ],
            [
             0.4444444444444444,
             "#bd3786"
            ],
            [
             0.5555555555555556,
             "#d8576b"
            ],
            [
             0.6666666666666666,
             "#ed7953"
            ],
            [
             0.7777777777777778,
             "#fb9f3a"
            ],
            [
             0.8888888888888888,
             "#fdca26"
            ],
            [
             1,
             "#f0f921"
            ]
           ]
          },
          "colorway": [
           "#636efa",
           "#EF553B",
           "#00cc96",
           "#ab63fa",
           "#FFA15A",
           "#19d3f3",
           "#FF6692",
           "#B6E880",
           "#FF97FF",
           "#FECB52"
          ],
          "font": {
           "color": "#2a3f5f"
          },
          "geo": {
           "bgcolor": "white",
           "lakecolor": "white",
           "landcolor": "#E5ECF6",
           "showlakes": true,
           "showland": true,
           "subunitcolor": "white"
          },
          "hoverlabel": {
           "align": "left"
          },
          "hovermode": "closest",
          "mapbox": {
           "style": "light"
          },
          "paper_bgcolor": "white",
          "plot_bgcolor": "#E5ECF6",
          "polar": {
           "angularaxis": {
            "gridcolor": "white",
            "linecolor": "white",
            "ticks": ""
           },
           "bgcolor": "#E5ECF6",
           "radialaxis": {
            "gridcolor": "white",
            "linecolor": "white",
            "ticks": ""
           }
          },
          "scene": {
           "xaxis": {
            "backgroundcolor": "#E5ECF6",
            "gridcolor": "white",
            "gridwidth": 2,
            "linecolor": "white",
            "showbackground": true,
            "ticks": "",
            "zerolinecolor": "white"
           },
           "yaxis": {
            "backgroundcolor": "#E5ECF6",
            "gridcolor": "white",
            "gridwidth": 2,
            "linecolor": "white",
            "showbackground": true,
            "ticks": "",
            "zerolinecolor": "white"
           },
           "zaxis": {
            "backgroundcolor": "#E5ECF6",
            "gridcolor": "white",
            "gridwidth": 2,
            "linecolor": "white",
            "showbackground": true,
            "ticks": "",
            "zerolinecolor": "white"
           }
          },
          "shapedefaults": {
           "line": {
            "color": "#2a3f5f"
           }
          },
          "ternary": {
           "aaxis": {
            "gridcolor": "white",
            "linecolor": "white",
            "ticks": ""
           },
           "baxis": {
            "gridcolor": "white",
            "linecolor": "white",
            "ticks": ""
           },
           "bgcolor": "#E5ECF6",
           "caxis": {
            "gridcolor": "white",
            "linecolor": "white",
            "ticks": ""
           }
          },
          "title": {
           "x": 0.05
          },
          "xaxis": {
           "automargin": true,
           "gridcolor": "white",
           "linecolor": "white",
           "ticks": "",
           "title": {
            "standoff": 15
           },
           "zerolinecolor": "white",
           "zerolinewidth": 2
          },
          "yaxis": {
           "automargin": true,
           "gridcolor": "white",
           "linecolor": "white",
           "ticks": "",
           "title": {
            "standoff": 15
           },
           "zerolinecolor": "white",
           "zerolinewidth": 2
          }
         }
        },
        "title": {
         "font": {
          "color": "#4D5663"
         }
        },
        "xaxis": {
         "gridcolor": "#E1E5ED",
         "showgrid": true,
         "tickfont": {
          "color": "#4D5663"
         },
         "title": {
          "font": {
           "color": "#4D5663"
          },
          "text": ""
         },
         "zerolinecolor": "#E1E5ED"
        },
        "yaxis": {
         "gridcolor": "#E1E5ED",
         "showgrid": true,
         "tickfont": {
          "color": "#4D5663"
         },
         "title": {
          "font": {
           "color": "#4D5663"
          },
          "text": ""
         },
         "zerolinecolor": "#E1E5ED"
        }
       }
      },
      "text/html": [
       "<div>\n",
       "        \n",
       "        \n",
       "            <div id=\"f0620a38-bcc8-419d-9aec-9205b005409a\" class=\"plotly-graph-div\" style=\"height:525px; width:100%;\"></div>\n",
       "            <script type=\"text/javascript\">\n",
       "                require([\"plotly\"], function(Plotly) {\n",
       "                    window.PLOTLYENV=window.PLOTLYENV || {};\n",
       "                    window.PLOTLYENV.BASE_URL='https://plot.ly';\n",
       "                    \n",
       "                if (document.getElementById(\"f0620a38-bcc8-419d-9aec-9205b005409a\")) {\n",
       "                    Plotly.newPlot(\n",
       "                        'f0620a38-bcc8-419d-9aec-9205b005409a',\n",
       "                        [{\"colorscale\": [[0.0, \"rgb(165,0,38)\"], [0.1, \"rgb(215,48,39)\"], [0.2, \"rgb(244,109,67)\"], [0.3, \"rgb(253,174,97)\"], [0.4, \"rgb(254,224,144)\"], [0.5, \"rgb(255,255,191)\"], [0.6, \"rgb(224,243,248)\"], [0.7, \"rgb(171,217,233)\"], [0.8, \"rgb(116,173,209)\"], [0.9, \"rgb(69,117,180)\"], [1.0, \"rgb(49,54,149)\"]], \"type\": \"surface\", \"x\": [0, 1, 2, 3, 4], \"y\": [\"x\", \"y\", \"z\"], \"z\": [[1, 2, 3, 4, 5], [10, 20, 30, 20, 10], [500, 400, 300, 200, 100]]}],\n",
       "                        {\"legend\": {\"bgcolor\": \"#F5F6F9\", \"font\": {\"color\": \"#4D5663\"}}, \"paper_bgcolor\": \"#F5F6F9\", \"plot_bgcolor\": \"#F5F6F9\", \"template\": {\"data\": {\"bar\": [{\"error_x\": {\"color\": \"#2a3f5f\"}, \"error_y\": {\"color\": \"#2a3f5f\"}, \"marker\": {\"line\": {\"color\": \"#E5ECF6\", \"width\": 0.5}}, \"type\": \"bar\"}], \"barpolar\": [{\"marker\": {\"line\": {\"color\": \"#E5ECF6\", \"width\": 0.5}}, \"type\": \"barpolar\"}], \"carpet\": [{\"aaxis\": {\"endlinecolor\": \"#2a3f5f\", \"gridcolor\": \"white\", \"linecolor\": \"white\", \"minorgridcolor\": \"white\", \"startlinecolor\": \"#2a3f5f\"}, \"baxis\": {\"endlinecolor\": \"#2a3f5f\", \"gridcolor\": \"white\", \"linecolor\": \"white\", \"minorgridcolor\": \"white\", \"startlinecolor\": \"#2a3f5f\"}, \"type\": \"carpet\"}], \"choropleth\": [{\"colorbar\": {\"outlinewidth\": 0, \"ticks\": \"\"}, \"type\": \"choropleth\"}], \"contour\": [{\"colorbar\": {\"outlinewidth\": 0, \"ticks\": \"\"}, \"colorscale\": [[0.0, \"#0d0887\"], [0.1111111111111111, \"#46039f\"], [0.2222222222222222, \"#7201a8\"], [0.3333333333333333, \"#9c179e\"], [0.4444444444444444, \"#bd3786\"], [0.5555555555555556, \"#d8576b\"], [0.6666666666666666, \"#ed7953\"], [0.7777777777777778, \"#fb9f3a\"], [0.8888888888888888, \"#fdca26\"], [1.0, \"#f0f921\"]], \"type\": \"contour\"}], \"contourcarpet\": [{\"colorbar\": {\"outlinewidth\": 0, \"ticks\": \"\"}, \"type\": \"contourcarpet\"}], \"heatmap\": [{\"colorbar\": {\"outlinewidth\": 0, \"ticks\": \"\"}, \"colorscale\": [[0.0, \"#0d0887\"], [0.1111111111111111, \"#46039f\"], [0.2222222222222222, \"#7201a8\"], [0.3333333333333333, \"#9c179e\"], [0.4444444444444444, \"#bd3786\"], [0.5555555555555556, \"#d8576b\"], [0.6666666666666666, \"#ed7953\"], [0.7777777777777778, \"#fb9f3a\"], [0.8888888888888888, \"#fdca26\"], [1.0, \"#f0f921\"]], \"type\": \"heatmap\"}], \"heatmapgl\": [{\"colorbar\": {\"outlinewidth\": 0, \"ticks\": \"\"}, \"colorscale\": [[0.0, \"#0d0887\"], [0.1111111111111111, \"#46039f\"], [0.2222222222222222, \"#7201a8\"], [0.3333333333333333, \"#9c179e\"], [0.4444444444444444, \"#bd3786\"], [0.5555555555555556, \"#d8576b\"], [0.6666666666666666, \"#ed7953\"], [0.7777777777777778, \"#fb9f3a\"], [0.8888888888888888, \"#fdca26\"], [1.0, \"#f0f921\"]], \"type\": \"heatmapgl\"}], \"histogram\": [{\"marker\": {\"colorbar\": {\"outlinewidth\": 0, \"ticks\": \"\"}}, \"type\": \"histogram\"}], \"histogram2d\": [{\"colorbar\": {\"outlinewidth\": 0, \"ticks\": \"\"}, \"colorscale\": [[0.0, \"#0d0887\"], [0.1111111111111111, \"#46039f\"], [0.2222222222222222, \"#7201a8\"], [0.3333333333333333, \"#9c179e\"], [0.4444444444444444, \"#bd3786\"], [0.5555555555555556, \"#d8576b\"], [0.6666666666666666, \"#ed7953\"], [0.7777777777777778, \"#fb9f3a\"], [0.8888888888888888, \"#fdca26\"], [1.0, \"#f0f921\"]], \"type\": \"histogram2d\"}], \"histogram2dcontour\": [{\"colorbar\": {\"outlinewidth\": 0, \"ticks\": \"\"}, \"colorscale\": [[0.0, \"#0d0887\"], [0.1111111111111111, \"#46039f\"], [0.2222222222222222, \"#7201a8\"], [0.3333333333333333, \"#9c179e\"], [0.4444444444444444, \"#bd3786\"], [0.5555555555555556, \"#d8576b\"], [0.6666666666666666, \"#ed7953\"], [0.7777777777777778, \"#fb9f3a\"], [0.8888888888888888, \"#fdca26\"], [1.0, \"#f0f921\"]], \"type\": \"histogram2dcontour\"}], \"mesh3d\": [{\"colorbar\": {\"outlinewidth\": 0, \"ticks\": \"\"}, \"type\": \"mesh3d\"}], \"parcoords\": [{\"line\": {\"colorbar\": {\"outlinewidth\": 0, \"ticks\": \"\"}}, \"type\": \"parcoords\"}], \"pie\": [{\"automargin\": true, \"type\": \"pie\"}], \"scatter\": [{\"marker\": {\"colorbar\": {\"outlinewidth\": 0, \"ticks\": \"\"}}, \"type\": \"scatter\"}], \"scatter3d\": [{\"line\": {\"colorbar\": {\"outlinewidth\": 0, \"ticks\": \"\"}}, \"marker\": {\"colorbar\": {\"outlinewidth\": 0, \"ticks\": \"\"}}, \"type\": \"scatter3d\"}], \"scattercarpet\": [{\"marker\": {\"colorbar\": {\"outlinewidth\": 0, \"ticks\": \"\"}}, \"type\": \"scattercarpet\"}], \"scattergeo\": [{\"marker\": {\"colorbar\": {\"outlinewidth\": 0, \"ticks\": \"\"}}, \"type\": \"scattergeo\"}], \"scattergl\": [{\"marker\": {\"colorbar\": {\"outlinewidth\": 0, \"ticks\": \"\"}}, \"type\": \"scattergl\"}], \"scattermapbox\": [{\"marker\": {\"colorbar\": {\"outlinewidth\": 0, \"ticks\": \"\"}}, \"type\": \"scattermapbox\"}], \"scatterpolar\": [{\"marker\": {\"colorbar\": {\"outlinewidth\": 0, \"ticks\": \"\"}}, \"type\": \"scatterpolar\"}], \"scatterpolargl\": [{\"marker\": {\"colorbar\": {\"outlinewidth\": 0, \"ticks\": \"\"}}, \"type\": \"scatterpolargl\"}], \"scatterternary\": [{\"marker\": {\"colorbar\": {\"outlinewidth\": 0, \"ticks\": \"\"}}, \"type\": \"scatterternary\"}], \"surface\": [{\"colorbar\": {\"outlinewidth\": 0, \"ticks\": \"\"}, \"colorscale\": [[0.0, \"#0d0887\"], [0.1111111111111111, \"#46039f\"], [0.2222222222222222, \"#7201a8\"], [0.3333333333333333, \"#9c179e\"], [0.4444444444444444, \"#bd3786\"], [0.5555555555555556, \"#d8576b\"], [0.6666666666666666, \"#ed7953\"], [0.7777777777777778, \"#fb9f3a\"], [0.8888888888888888, \"#fdca26\"], [1.0, \"#f0f921\"]], \"type\": \"surface\"}], \"table\": [{\"cells\": {\"fill\": {\"color\": \"#EBF0F8\"}, \"line\": {\"color\": \"white\"}}, \"header\": {\"fill\": {\"color\": \"#C8D4E3\"}, \"line\": {\"color\": \"white\"}}, \"type\": \"table\"}]}, \"layout\": {\"annotationdefaults\": {\"arrowcolor\": \"#2a3f5f\", \"arrowhead\": 0, \"arrowwidth\": 1}, \"coloraxis\": {\"colorbar\": {\"outlinewidth\": 0, \"ticks\": \"\"}}, \"colorscale\": {\"diverging\": [[0, \"#8e0152\"], [0.1, \"#c51b7d\"], [0.2, \"#de77ae\"], [0.3, \"#f1b6da\"], [0.4, \"#fde0ef\"], [0.5, \"#f7f7f7\"], [0.6, \"#e6f5d0\"], [0.7, \"#b8e186\"], [0.8, \"#7fbc41\"], [0.9, \"#4d9221\"], [1, \"#276419\"]], \"sequential\": [[0.0, \"#0d0887\"], [0.1111111111111111, \"#46039f\"], [0.2222222222222222, \"#7201a8\"], [0.3333333333333333, \"#9c179e\"], [0.4444444444444444, \"#bd3786\"], [0.5555555555555556, \"#d8576b\"], [0.6666666666666666, \"#ed7953\"], [0.7777777777777778, \"#fb9f3a\"], [0.8888888888888888, \"#fdca26\"], [1.0, \"#f0f921\"]], \"sequentialminus\": [[0.0, \"#0d0887\"], [0.1111111111111111, \"#46039f\"], [0.2222222222222222, \"#7201a8\"], [0.3333333333333333, \"#9c179e\"], [0.4444444444444444, \"#bd3786\"], [0.5555555555555556, \"#d8576b\"], [0.6666666666666666, \"#ed7953\"], [0.7777777777777778, \"#fb9f3a\"], [0.8888888888888888, \"#fdca26\"], [1.0, \"#f0f921\"]]}, \"colorway\": [\"#636efa\", \"#EF553B\", \"#00cc96\", \"#ab63fa\", \"#FFA15A\", \"#19d3f3\", \"#FF6692\", \"#B6E880\", \"#FF97FF\", \"#FECB52\"], \"font\": {\"color\": \"#2a3f5f\"}, \"geo\": {\"bgcolor\": \"white\", \"lakecolor\": \"white\", \"landcolor\": \"#E5ECF6\", \"showlakes\": true, \"showland\": true, \"subunitcolor\": \"white\"}, \"hoverlabel\": {\"align\": \"left\"}, \"hovermode\": \"closest\", \"mapbox\": {\"style\": \"light\"}, \"paper_bgcolor\": \"white\", \"plot_bgcolor\": \"#E5ECF6\", \"polar\": {\"angularaxis\": {\"gridcolor\": \"white\", \"linecolor\": \"white\", \"ticks\": \"\"}, \"bgcolor\": \"#E5ECF6\", \"radialaxis\": {\"gridcolor\": \"white\", \"linecolor\": \"white\", \"ticks\": \"\"}}, \"scene\": {\"xaxis\": {\"backgroundcolor\": \"#E5ECF6\", \"gridcolor\": \"white\", \"gridwidth\": 2, \"linecolor\": \"white\", \"showbackground\": true, \"ticks\": \"\", \"zerolinecolor\": \"white\"}, \"yaxis\": {\"backgroundcolor\": \"#E5ECF6\", \"gridcolor\": \"white\", \"gridwidth\": 2, \"linecolor\": \"white\", \"showbackground\": true, \"ticks\": \"\", \"zerolinecolor\": \"white\"}, \"zaxis\": {\"backgroundcolor\": \"#E5ECF6\", \"gridcolor\": \"white\", \"gridwidth\": 2, \"linecolor\": \"white\", \"showbackground\": true, \"ticks\": \"\", \"zerolinecolor\": \"white\"}}, \"shapedefaults\": {\"line\": {\"color\": \"#2a3f5f\"}}, \"ternary\": {\"aaxis\": {\"gridcolor\": \"white\", \"linecolor\": \"white\", \"ticks\": \"\"}, \"baxis\": {\"gridcolor\": \"white\", \"linecolor\": \"white\", \"ticks\": \"\"}, \"bgcolor\": \"#E5ECF6\", \"caxis\": {\"gridcolor\": \"white\", \"linecolor\": \"white\", \"ticks\": \"\"}}, \"title\": {\"x\": 0.05}, \"xaxis\": {\"automargin\": true, \"gridcolor\": \"white\", \"linecolor\": \"white\", \"ticks\": \"\", \"title\": {\"standoff\": 15}, \"zerolinecolor\": \"white\", \"zerolinewidth\": 2}, \"yaxis\": {\"automargin\": true, \"gridcolor\": \"white\", \"linecolor\": \"white\", \"ticks\": \"\", \"title\": {\"standoff\": 15}, \"zerolinecolor\": \"white\", \"zerolinewidth\": 2}}}, \"title\": {\"font\": {\"color\": \"#4D5663\"}}, \"xaxis\": {\"gridcolor\": \"#E1E5ED\", \"showgrid\": true, \"tickfont\": {\"color\": \"#4D5663\"}, \"title\": {\"font\": {\"color\": \"#4D5663\"}, \"text\": \"\"}, \"zerolinecolor\": \"#E1E5ED\"}, \"yaxis\": {\"gridcolor\": \"#E1E5ED\", \"showgrid\": true, \"tickfont\": {\"color\": \"#4D5663\"}, \"title\": {\"font\": {\"color\": \"#4D5663\"}, \"text\": \"\"}, \"zerolinecolor\": \"#E1E5ED\"}},\n",
       "                        {\"showLink\": true, \"linkText\": \"Export to plot.ly\", \"plotlyServerURL\": \"https://plot.ly\", \"responsive\": true}\n",
       "                    ).then(function(){\n",
       "                            \n",
       "var gd = document.getElementById('f0620a38-bcc8-419d-9aec-9205b005409a');\n",
       "var x = new MutationObserver(function (mutations, observer) {{\n",
       "        var display = window.getComputedStyle(gd).display;\n",
       "        if (!display || display === 'none') {{\n",
       "            console.log([gd, 'removed!']);\n",
       "            Plotly.purge(gd);\n",
       "            observer.disconnect();\n",
       "        }}\n",
       "}});\n",
       "\n",
       "// Listen for the removal of the full notebook cells\n",
       "var notebookContainer = gd.closest('#notebook-container');\n",
       "if (notebookContainer) {{\n",
       "    x.observe(notebookContainer, {childList: true});\n",
       "}}\n",
       "\n",
       "// Listen for the clearing of the current output cell\n",
       "var outputEl = gd.closest('.output');\n",
       "if (outputEl) {{\n",
       "    x.observe(outputEl, {childList: true});\n",
       "}}\n",
       "\n",
       "                        })\n",
       "                };\n",
       "                });\n",
       "            </script>\n",
       "        </div>"
      ]
     },
     "metadata": {},
     "output_type": "display_data"
    }
   ],
   "source": [
    "df3.iplot(kind='surface',colorscale='rdylbu')"
   ]
  },
  {
   "cell_type": "code",
   "execution_count": 43,
   "metadata": {},
   "outputs": [
    {
     "name": "stderr",
     "output_type": "stream",
     "text": [
      "C:\\Users\\Nikhil Seth\\Anaconda3\\lib\\site-packages\\cufflinks\\plotlytools.py:849: FutureWarning:\n",
      "\n",
      "The pandas.np module is deprecated and will be removed from pandas in a future version. Import numpy directly instead\n",
      "\n",
      "C:\\Users\\Nikhil Seth\\Anaconda3\\lib\\site-packages\\cufflinks\\plotlytools.py:850: FutureWarning:\n",
      "\n",
      "The pandas.np module is deprecated and will be removed from pandas in a future version. Import numpy directly instead\n",
      "\n"
     ]
    },
    {
     "data": {
      "application/vnd.plotly.v1+json": {
       "config": {
        "linkText": "Export to plot.ly",
        "plotlyServerURL": "https://plot.ly",
        "showLink": true
       },
       "data": [
        {
         "line": {
          "color": "rgba(255, 153, 51, 1.0)",
          "dash": "solid",
          "shape": "linear",
          "width": 1.3
         },
         "mode": "lines",
         "name": "A",
         "text": "",
         "type": "scatter",
         "x": [
          0,
          1,
          2,
          3,
          4,
          5,
          6,
          7,
          8,
          9,
          10,
          11,
          12,
          13,
          14,
          15,
          16,
          17,
          18,
          19,
          20,
          21,
          22,
          23,
          24,
          25,
          26,
          27,
          28,
          29,
          30,
          31,
          32,
          33,
          34,
          35,
          36,
          37,
          38,
          39,
          40,
          41,
          42,
          43,
          44,
          45,
          46,
          47,
          48,
          49,
          50,
          51,
          52,
          53,
          54,
          55,
          56,
          57,
          58,
          59,
          60,
          61,
          62,
          63,
          64,
          65,
          66,
          67,
          68,
          69,
          70,
          71,
          72,
          73,
          74,
          75,
          76,
          77,
          78,
          79,
          80,
          81,
          82,
          83,
          84,
          85,
          86,
          87,
          88,
          89,
          90,
          91,
          92,
          93,
          94,
          95,
          96,
          97,
          98,
          99
         ],
         "y": [
          -0.04385431780971637,
          -0.7301948168187024,
          -0.3496833695728504,
          -1.0612823737313737,
          0.6591799683260353,
          0.12428679487969375,
          -0.2628424807417794,
          2.908786492446553,
          0.5339220569380786,
          -1.5102640304281827,
          -0.2153849878718799,
          0.14062569399657224,
          -1.2095030942021077,
          0.45284316632611793,
          -1.616644761050487,
          1.2057735309487918,
          -0.27850860903850416,
          0.2661868200566413,
          -0.04888824105785708,
          0.5466453961210647,
          0.02444249995946009,
          -0.8803134222022471,
          0.3959377294436148,
          -1.0125477805236467,
          -0.5403287337285112,
          -1.3969258083854257,
          -0.6647798643181021,
          0.48996370455519694,
          -0.23702134521007456,
          0.8259808476853691,
          -0.9134122472273268,
          -1.1689396577601616,
          0.5853346423361953,
          0.1165143240319178,
          -0.2537611614822444,
          -0.18422371333987664,
          0.8742866058103691,
          -1.073458978869497,
          -0.11088759020331997,
          -1.23745560196081,
          -0.532207923124355,
          0.4647951367313668,
          -0.42647882860361713,
          0.6951312657084125,
          -1.4214167040692915,
          0.902602666447066,
          0.29741521616193584,
          0.528548856648751,
          0.9014676973634032,
          -0.1607135459165966,
          0.35723359219153533,
          0.23642409792308924,
          -0.3889773534472179,
          -2.4151038247887273,
          -0.09893139723269141,
          0.3183672750508919,
          -1.0378675424182902,
          0.287212016653486,
          -3.79126376982542,
          -0.8481039639987642,
          -0.3083120890222015,
          1.793456070709133,
          -1.195369054487541,
          1.0073436597216414,
          -1.2597272629060985,
          1.8384369506007168,
          0.37605391208689704,
          0.6314748697418396,
          0.5955215842189099,
          -0.10636349138020569,
          -1.4523789133361966,
          2.4449306585882913,
          -0.29666309294170307,
          -0.21758145830572764,
          -0.7779081958035611,
          0.1354671171040796,
          0.15111110801098596,
          -0.8735875946797669,
          2.108292328999151,
          0.5581931925719561,
          -0.028223326518975078,
          0.514591322068852,
          -0.7160014933804951,
          1.0216913238644663,
          -1.3091472140787501,
          0.25368841660167313,
          0.6179071895170258,
          -0.34256487682349746,
          1.4664115902589256,
          0.6724977799274586,
          -0.8666211910244764,
          1.0906099527040427,
          -2.6320438549269682,
          -1.2044405223200088,
          0.09772313314017038,
          -0.18085756910776699,
          0.18166012654149388,
          -0.6225026019819604,
          -1.0801935697404188,
          0.6784957157116219
         ]
        },
        {
         "line": {
          "color": "rgba(55, 128, 191, 1.0)",
          "dash": "solid",
          "shape": "linear",
          "width": 1.3
         },
         "mode": "lines",
         "name": "B",
         "text": "",
         "type": "scatter",
         "x": [
          0,
          1,
          2,
          3,
          4,
          5,
          6,
          7,
          8,
          9,
          10,
          11,
          12,
          13,
          14,
          15,
          16,
          17,
          18,
          19,
          20,
          21,
          22,
          23,
          24,
          25,
          26,
          27,
          28,
          29,
          30,
          31,
          32,
          33,
          34,
          35,
          36,
          37,
          38,
          39,
          40,
          41,
          42,
          43,
          44,
          45,
          46,
          47,
          48,
          49,
          50,
          51,
          52,
          53,
          54,
          55,
          56,
          57,
          58,
          59,
          60,
          61,
          62,
          63,
          64,
          65,
          66,
          67,
          68,
          69,
          70,
          71,
          72,
          73,
          74,
          75,
          76,
          77,
          78,
          79,
          80,
          81,
          82,
          83,
          84,
          85,
          86,
          87,
          88,
          89,
          90,
          91,
          92,
          93,
          94,
          95,
          96,
          97,
          98,
          99
         ],
         "y": [
          2.954682519418268,
          1.2365829943535065,
          2.104707567465196,
          0.6633122537619591,
          0.1538540084551306,
          0.23170758817037124,
          -0.43025246824322605,
          -0.8062172600617752,
          0.046277835727682744,
          -0.1452225853859939,
          -0.657776484401953,
          0.053257950611550565,
          1.5457051738269376,
          -1.3621708275952347,
          -0.15216947551494678,
          -0.7568602100782479,
          0.29130806187656605,
          -1.130874456411832,
          -0.4631759857994132,
          -0.14116155647866782,
          0.7118687205278166,
          -1.5500933264992216,
          0.23684817274769057,
          -0.795400792746069,
          -1.7188704299757898,
          -0.49587136119877157,
          1.0845807749581031,
          1.3216725689195945,
          -0.8772702282109345,
          -0.6533764162042501,
          3.2761707724560956,
          -0.6205202155431992,
          -0.13674014934522996,
          0.3545319778991714,
          0.26694297117685484,
          -0.07977085536555945,
          -0.015089174982792847,
          0.9816931248247944,
          -0.9110304148970944,
          -0.3059876199479298,
          0.6662941303764393,
          -0.23594236213250566,
          0.5387516865350658,
          -0.8591039221027258,
          -0.4438675856675307,
          -0.42581560653971906,
          1.5211561268716567,
          -0.3646030143739634,
          1.4187212257471844,
          0.5596787266396095,
          -0.20374108789784603,
          -0.977789621874286,
          -0.4972843153163968,
          1.0519834196489215,
          0.8798947682126929,
          0.57401381845951,
          0.5221857963465762,
          -0.20410583046198696,
          -0.7271785758926677,
          -0.5507149743855863,
          -0.12348649822361285,
          -0.34865126481223113,
          0.37519336960418925,
          0.2054370890711027,
          -0.3686501583006007,
          -0.9308147821700553,
          -0.5101649714460124,
          -1.312756296156895,
          -0.6872924129121585,
          0.2431653092979941,
          -0.4680574915932994,
          0.25846307724269496,
          1.109367302357436,
          -1.046566276737933,
          -0.4507778326412062,
          -0.9890841839195814,
          -1.1484905543171988,
          0.13438786165027108,
          -2.2366854653203547,
          -1.7598337752374726,
          0.3870442907617244,
          1.2678397112271507,
          1.263679739194867,
          -0.13001732439442706,
          -1.9931688174259747,
          0.6132591928043307,
          0.10547007627853718,
          0.1228225407414566,
          -2.0286967006534655,
          0.4496012985812599,
          -0.40793324413434073,
          1.7038975915424757,
          -0.7621430975695681,
          1.2001373603508956,
          -0.6727126847149263,
          -0.2901948996138198,
          0.2785826649259012,
          0.12294192744039334,
          -1.17265209109376,
          0.9131529756743128
         ]
        },
        {
         "connectgaps": false,
         "fill": "tozeroy",
         "line": {
          "color": "green",
          "dash": "solid",
          "shape": "linear",
          "width": 0.5
         },
         "mode": "lines",
         "name": "Spread",
         "showlegend": false,
         "type": "scatter",
         "x": [
          0,
          1,
          2,
          3,
          4,
          5,
          6,
          7,
          8,
          9,
          10,
          11,
          12,
          13,
          14,
          15,
          16,
          17,
          18,
          19,
          20,
          21,
          22,
          23,
          24,
          25,
          26,
          27,
          28,
          29,
          30,
          31,
          32,
          33,
          34,
          35,
          36,
          37,
          38,
          39,
          40,
          41,
          42,
          43,
          44,
          45,
          46,
          47,
          48,
          49,
          50,
          51,
          52,
          53,
          54,
          55,
          56,
          57,
          58,
          59,
          60,
          61,
          62,
          63,
          64,
          65,
          66,
          67,
          68,
          69,
          70,
          71,
          72,
          73,
          74,
          75,
          76,
          77,
          78,
          79,
          80,
          81,
          82,
          83,
          84,
          85,
          86,
          87,
          88,
          89,
          90,
          91,
          92,
          93,
          94,
          95,
          96,
          97,
          98,
          99
         ],
         "xaxis": "x2",
         "y": [
          "",
          "",
          "",
          "",
          0.5053259598709048,
          "",
          0.16740998750144664,
          3.715003752508328,
          0.48764422121039586,
          "",
          0.44239149653007315,
          0.08736774338502168,
          "",
          1.8150139939213525,
          "",
          1.9626337410270396,
          "",
          1.3970612764684733,
          0.41428774474155616,
          0.6878069525997325,
          "",
          0.6697799042969745,
          0.15908955669592426,
          "",
          1.1785416962472786,
          "",
          "",
          "",
          0.6402488830008599,
          1.4793572638896193,
          "",
          "",
          0.7220747916814252,
          "",
          "",
          "",
          0.8893757807931619,
          "",
          0.8001428246937744,
          "",
          "",
          0.7007374988638725,
          "",
          1.5542351878111385,
          "",
          1.328418272986785,
          "",
          0.8931518710227144,
          "",
          "",
          0.5609746800893813,
          1.2142137197973752,
          0.10830696186917887,
          "",
          "",
          "",
          "",
          0.491317847115473,
          "",
          "",
          "",
          2.1421073355213642,
          "",
          0.8019065706505387,
          "",
          2.769251732770772,
          0.8862188835329095,
          1.9442311658987346,
          1.2828139971310684,
          "",
          "",
          2.1864675813455965,
          "",
          0.8289848184322053,
          "",
          1.124551301023661,
          1.2996016623281847,
          "",
          4.344977794319506,
          2.3180269678094287,
          "",
          "",
          "",
          1.1517086482588934,
          0.6840216033472246,
          "",
          0.5124371132384886,
          "",
          3.495108290912391,
          0.22289648134619872,
          "",
          "",
          "",
          "",
          0.7704358178550966,
          0.1093373305060528,
          "",
          "",
          0.0924585213533411,
          ""
         ],
         "yaxis": "y2"
        },
        {
         "connectgaps": false,
         "fill": "tozeroy",
         "line": {
          "color": "red",
          "dash": "solid",
          "shape": "linear",
          "width": 0.5
         },
         "mode": "lines",
         "name": "Spread",
         "showlegend": false,
         "type": "scatter",
         "x": [
          0,
          1,
          2,
          3,
          4,
          5,
          6,
          7,
          8,
          9,
          10,
          11,
          12,
          13,
          14,
          15,
          16,
          17,
          18,
          19,
          20,
          21,
          22,
          23,
          24,
          25,
          26,
          27,
          28,
          29,
          30,
          31,
          32,
          33,
          34,
          35,
          36,
          37,
          38,
          39,
          40,
          41,
          42,
          43,
          44,
          45,
          46,
          47,
          48,
          49,
          50,
          51,
          52,
          53,
          54,
          55,
          56,
          57,
          58,
          59,
          60,
          61,
          62,
          63,
          64,
          65,
          66,
          67,
          68,
          69,
          70,
          71,
          72,
          73,
          74,
          75,
          76,
          77,
          78,
          79,
          80,
          81,
          82,
          83,
          84,
          85,
          86,
          87,
          88,
          89,
          90,
          91,
          92,
          93,
          94,
          95,
          96,
          97,
          98,
          99
         ],
         "xaxis": "x2",
         "y": [
          -2.9985368372279844,
          -1.966777811172209,
          -2.4543909370380463,
          -1.7245946274933328,
          "",
          -0.10742079329067748,
          "",
          "",
          "",
          -1.3650414450421888,
          "",
          "",
          -2.7552082680290453,
          "",
          -1.4644752855355403,
          "",
          -0.5698166709150703,
          "",
          "",
          "",
          -0.6874262205683564,
          "",
          "",
          -0.21714698777757768,
          "",
          -0.9010544471866542,
          -1.749360639276205,
          -0.8317088643643975,
          "",
          "",
          -4.189583019683423,
          -0.5484194422169624,
          "",
          -0.2380176538672536,
          -0.5207041326590993,
          -0.10445285797431719,
          "",
          -2.0551521036942915,
          "",
          -0.9314679820128803,
          -1.1985020535007944,
          "",
          -0.9652305151386829,
          "",
          -0.9775491184017608,
          "",
          -1.2237409107097208,
          "",
          -0.5172535283837812,
          -0.7203922725562061,
          "",
          "",
          "",
          -3.467087244437649,
          -0.9788261654453843,
          -0.25564654340861814,
          -1.5600533387648663,
          "",
          -3.0640851939327525,
          -0.29738898961317795,
          -0.18482559079858862,
          "",
          -1.5705624240917304,
          "",
          -0.8910771046054977,
          "",
          "",
          "",
          "",
          -0.3495288006781998,
          -0.9843214217428973,
          "",
          -1.406030395299139,
          "",
          -0.3271303631623549,
          "",
          "",
          -1.007975456330038,
          "",
          "",
          -0.4152676172806995,
          -0.7532483891582986,
          -1.9796812325753623,
          "",
          "",
          -0.3595707762026576,
          "",
          -0.46538741756495405,
          "",
          "",
          -0.4586879468901357,
          -0.613287638838433,
          -1.8699007573574002,
          -2.404577882670904,
          "",
          "",
          -0.09692253838440734,
          -0.7454445294223537,
          "",
          -0.23465725996269082
         ],
         "yaxis": "y2"
        }
       ],
       "layout": {
        "hovermode": "x",
        "legend": {
         "bgcolor": "#F5F6F9",
         "font": {
          "color": "#4D5663"
         }
        },
        "paper_bgcolor": "#F5F6F9",
        "plot_bgcolor": "#F5F6F9",
        "template": {
         "data": {
          "bar": [
           {
            "error_x": {
             "color": "#2a3f5f"
            },
            "error_y": {
             "color": "#2a3f5f"
            },
            "marker": {
             "line": {
              "color": "#E5ECF6",
              "width": 0.5
             }
            },
            "type": "bar"
           }
          ],
          "barpolar": [
           {
            "marker": {
             "line": {
              "color": "#E5ECF6",
              "width": 0.5
             }
            },
            "type": "barpolar"
           }
          ],
          "carpet": [
           {
            "aaxis": {
             "endlinecolor": "#2a3f5f",
             "gridcolor": "white",
             "linecolor": "white",
             "minorgridcolor": "white",
             "startlinecolor": "#2a3f5f"
            },
            "baxis": {
             "endlinecolor": "#2a3f5f",
             "gridcolor": "white",
             "linecolor": "white",
             "minorgridcolor": "white",
             "startlinecolor": "#2a3f5f"
            },
            "type": "carpet"
           }
          ],
          "choropleth": [
           {
            "colorbar": {
             "outlinewidth": 0,
             "ticks": ""
            },
            "type": "choropleth"
           }
          ],
          "contour": [
           {
            "colorbar": {
             "outlinewidth": 0,
             "ticks": ""
            },
            "colorscale": [
             [
              0,
              "#0d0887"
             ],
             [
              0.1111111111111111,
              "#46039f"
             ],
             [
              0.2222222222222222,
              "#7201a8"
             ],
             [
              0.3333333333333333,
              "#9c179e"
             ],
             [
              0.4444444444444444,
              "#bd3786"
             ],
             [
              0.5555555555555556,
              "#d8576b"
             ],
             [
              0.6666666666666666,
              "#ed7953"
             ],
             [
              0.7777777777777778,
              "#fb9f3a"
             ],
             [
              0.8888888888888888,
              "#fdca26"
             ],
             [
              1,
              "#f0f921"
             ]
            ],
            "type": "contour"
           }
          ],
          "contourcarpet": [
           {
            "colorbar": {
             "outlinewidth": 0,
             "ticks": ""
            },
            "type": "contourcarpet"
           }
          ],
          "heatmap": [
           {
            "colorbar": {
             "outlinewidth": 0,
             "ticks": ""
            },
            "colorscale": [
             [
              0,
              "#0d0887"
             ],
             [
              0.1111111111111111,
              "#46039f"
             ],
             [
              0.2222222222222222,
              "#7201a8"
             ],
             [
              0.3333333333333333,
              "#9c179e"
             ],
             [
              0.4444444444444444,
              "#bd3786"
             ],
             [
              0.5555555555555556,
              "#d8576b"
             ],
             [
              0.6666666666666666,
              "#ed7953"
             ],
             [
              0.7777777777777778,
              "#fb9f3a"
             ],
             [
              0.8888888888888888,
              "#fdca26"
             ],
             [
              1,
              "#f0f921"
             ]
            ],
            "type": "heatmap"
           }
          ],
          "heatmapgl": [
           {
            "colorbar": {
             "outlinewidth": 0,
             "ticks": ""
            },
            "colorscale": [
             [
              0,
              "#0d0887"
             ],
             [
              0.1111111111111111,
              "#46039f"
             ],
             [
              0.2222222222222222,
              "#7201a8"
             ],
             [
              0.3333333333333333,
              "#9c179e"
             ],
             [
              0.4444444444444444,
              "#bd3786"
             ],
             [
              0.5555555555555556,
              "#d8576b"
             ],
             [
              0.6666666666666666,
              "#ed7953"
             ],
             [
              0.7777777777777778,
              "#fb9f3a"
             ],
             [
              0.8888888888888888,
              "#fdca26"
             ],
             [
              1,
              "#f0f921"
             ]
            ],
            "type": "heatmapgl"
           }
          ],
          "histogram": [
           {
            "marker": {
             "colorbar": {
              "outlinewidth": 0,
              "ticks": ""
             }
            },
            "type": "histogram"
           }
          ],
          "histogram2d": [
           {
            "colorbar": {
             "outlinewidth": 0,
             "ticks": ""
            },
            "colorscale": [
             [
              0,
              "#0d0887"
             ],
             [
              0.1111111111111111,
              "#46039f"
             ],
             [
              0.2222222222222222,
              "#7201a8"
             ],
             [
              0.3333333333333333,
              "#9c179e"
             ],
             [
              0.4444444444444444,
              "#bd3786"
             ],
             [
              0.5555555555555556,
              "#d8576b"
             ],
             [
              0.6666666666666666,
              "#ed7953"
             ],
             [
              0.7777777777777778,
              "#fb9f3a"
             ],
             [
              0.8888888888888888,
              "#fdca26"
             ],
             [
              1,
              "#f0f921"
             ]
            ],
            "type": "histogram2d"
           }
          ],
          "histogram2dcontour": [
           {
            "colorbar": {
             "outlinewidth": 0,
             "ticks": ""
            },
            "colorscale": [
             [
              0,
              "#0d0887"
             ],
             [
              0.1111111111111111,
              "#46039f"
             ],
             [
              0.2222222222222222,
              "#7201a8"
             ],
             [
              0.3333333333333333,
              "#9c179e"
             ],
             [
              0.4444444444444444,
              "#bd3786"
             ],
             [
              0.5555555555555556,
              "#d8576b"
             ],
             [
              0.6666666666666666,
              "#ed7953"
             ],
             [
              0.7777777777777778,
              "#fb9f3a"
             ],
             [
              0.8888888888888888,
              "#fdca26"
             ],
             [
              1,
              "#f0f921"
             ]
            ],
            "type": "histogram2dcontour"
           }
          ],
          "mesh3d": [
           {
            "colorbar": {
             "outlinewidth": 0,
             "ticks": ""
            },
            "type": "mesh3d"
           }
          ],
          "parcoords": [
           {
            "line": {
             "colorbar": {
              "outlinewidth": 0,
              "ticks": ""
             }
            },
            "type": "parcoords"
           }
          ],
          "pie": [
           {
            "automargin": true,
            "type": "pie"
           }
          ],
          "scatter": [
           {
            "marker": {
             "colorbar": {
              "outlinewidth": 0,
              "ticks": ""
             }
            },
            "type": "scatter"
           }
          ],
          "scatter3d": [
           {
            "line": {
             "colorbar": {
              "outlinewidth": 0,
              "ticks": ""
             }
            },
            "marker": {
             "colorbar": {
              "outlinewidth": 0,
              "ticks": ""
             }
            },
            "type": "scatter3d"
           }
          ],
          "scattercarpet": [
           {
            "marker": {
             "colorbar": {
              "outlinewidth": 0,
              "ticks": ""
             }
            },
            "type": "scattercarpet"
           }
          ],
          "scattergeo": [
           {
            "marker": {
             "colorbar": {
              "outlinewidth": 0,
              "ticks": ""
             }
            },
            "type": "scattergeo"
           }
          ],
          "scattergl": [
           {
            "marker": {
             "colorbar": {
              "outlinewidth": 0,
              "ticks": ""
             }
            },
            "type": "scattergl"
           }
          ],
          "scattermapbox": [
           {
            "marker": {
             "colorbar": {
              "outlinewidth": 0,
              "ticks": ""
             }
            },
            "type": "scattermapbox"
           }
          ],
          "scatterpolar": [
           {
            "marker": {
             "colorbar": {
              "outlinewidth": 0,
              "ticks": ""
             }
            },
            "type": "scatterpolar"
           }
          ],
          "scatterpolargl": [
           {
            "marker": {
             "colorbar": {
              "outlinewidth": 0,
              "ticks": ""
             }
            },
            "type": "scatterpolargl"
           }
          ],
          "scatterternary": [
           {
            "marker": {
             "colorbar": {
              "outlinewidth": 0,
              "ticks": ""
             }
            },
            "type": "scatterternary"
           }
          ],
          "surface": [
           {
            "colorbar": {
             "outlinewidth": 0,
             "ticks": ""
            },
            "colorscale": [
             [
              0,
              "#0d0887"
             ],
             [
              0.1111111111111111,
              "#46039f"
             ],
             [
              0.2222222222222222,
              "#7201a8"
             ],
             [
              0.3333333333333333,
              "#9c179e"
             ],
             [
              0.4444444444444444,
              "#bd3786"
             ],
             [
              0.5555555555555556,
              "#d8576b"
             ],
             [
              0.6666666666666666,
              "#ed7953"
             ],
             [
              0.7777777777777778,
              "#fb9f3a"
             ],
             [
              0.8888888888888888,
              "#fdca26"
             ],
             [
              1,
              "#f0f921"
             ]
            ],
            "type": "surface"
           }
          ],
          "table": [
           {
            "cells": {
             "fill": {
              "color": "#EBF0F8"
             },
             "line": {
              "color": "white"
             }
            },
            "header": {
             "fill": {
              "color": "#C8D4E3"
             },
             "line": {
              "color": "white"
             }
            },
            "type": "table"
           }
          ]
         },
         "layout": {
          "annotationdefaults": {
           "arrowcolor": "#2a3f5f",
           "arrowhead": 0,
           "arrowwidth": 1
          },
          "coloraxis": {
           "colorbar": {
            "outlinewidth": 0,
            "ticks": ""
           }
          },
          "colorscale": {
           "diverging": [
            [
             0,
             "#8e0152"
            ],
            [
             0.1,
             "#c51b7d"
            ],
            [
             0.2,
             "#de77ae"
            ],
            [
             0.3,
             "#f1b6da"
            ],
            [
             0.4,
             "#fde0ef"
            ],
            [
             0.5,
             "#f7f7f7"
            ],
            [
             0.6,
             "#e6f5d0"
            ],
            [
             0.7,
             "#b8e186"
            ],
            [
             0.8,
             "#7fbc41"
            ],
            [
             0.9,
             "#4d9221"
            ],
            [
             1,
             "#276419"
            ]
           ],
           "sequential": [
            [
             0,
             "#0d0887"
            ],
            [
             0.1111111111111111,
             "#46039f"
            ],
            [
             0.2222222222222222,
             "#7201a8"
            ],
            [
             0.3333333333333333,
             "#9c179e"
            ],
            [
             0.4444444444444444,
             "#bd3786"
            ],
            [
             0.5555555555555556,
             "#d8576b"
            ],
            [
             0.6666666666666666,
             "#ed7953"
            ],
            [
             0.7777777777777778,
             "#fb9f3a"
            ],
            [
             0.8888888888888888,
             "#fdca26"
            ],
            [
             1,
             "#f0f921"
            ]
           ],
           "sequentialminus": [
            [
             0,
             "#0d0887"
            ],
            [
             0.1111111111111111,
             "#46039f"
            ],
            [
             0.2222222222222222,
             "#7201a8"
            ],
            [
             0.3333333333333333,
             "#9c179e"
            ],
            [
             0.4444444444444444,
             "#bd3786"
            ],
            [
             0.5555555555555556,
             "#d8576b"
            ],
            [
             0.6666666666666666,
             "#ed7953"
            ],
            [
             0.7777777777777778,
             "#fb9f3a"
            ],
            [
             0.8888888888888888,
             "#fdca26"
            ],
            [
             1,
             "#f0f921"
            ]
           ]
          },
          "colorway": [
           "#636efa",
           "#EF553B",
           "#00cc96",
           "#ab63fa",
           "#FFA15A",
           "#19d3f3",
           "#FF6692",
           "#B6E880",
           "#FF97FF",
           "#FECB52"
          ],
          "font": {
           "color": "#2a3f5f"
          },
          "geo": {
           "bgcolor": "white",
           "lakecolor": "white",
           "landcolor": "#E5ECF6",
           "showlakes": true,
           "showland": true,
           "subunitcolor": "white"
          },
          "hoverlabel": {
           "align": "left"
          },
          "hovermode": "closest",
          "mapbox": {
           "style": "light"
          },
          "paper_bgcolor": "white",
          "plot_bgcolor": "#E5ECF6",
          "polar": {
           "angularaxis": {
            "gridcolor": "white",
            "linecolor": "white",
            "ticks": ""
           },
           "bgcolor": "#E5ECF6",
           "radialaxis": {
            "gridcolor": "white",
            "linecolor": "white",
            "ticks": ""
           }
          },
          "scene": {
           "xaxis": {
            "backgroundcolor": "#E5ECF6",
            "gridcolor": "white",
            "gridwidth": 2,
            "linecolor": "white",
            "showbackground": true,
            "ticks": "",
            "zerolinecolor": "white"
           },
           "yaxis": {
            "backgroundcolor": "#E5ECF6",
            "gridcolor": "white",
            "gridwidth": 2,
            "linecolor": "white",
            "showbackground": true,
            "ticks": "",
            "zerolinecolor": "white"
           },
           "zaxis": {
            "backgroundcolor": "#E5ECF6",
            "gridcolor": "white",
            "gridwidth": 2,
            "linecolor": "white",
            "showbackground": true,
            "ticks": "",
            "zerolinecolor": "white"
           }
          },
          "shapedefaults": {
           "line": {
            "color": "#2a3f5f"
           }
          },
          "ternary": {
           "aaxis": {
            "gridcolor": "white",
            "linecolor": "white",
            "ticks": ""
           },
           "baxis": {
            "gridcolor": "white",
            "linecolor": "white",
            "ticks": ""
           },
           "bgcolor": "#E5ECF6",
           "caxis": {
            "gridcolor": "white",
            "linecolor": "white",
            "ticks": ""
           }
          },
          "title": {
           "x": 0.05
          },
          "xaxis": {
           "automargin": true,
           "gridcolor": "white",
           "linecolor": "white",
           "ticks": "",
           "title": {
            "standoff": 15
           },
           "zerolinecolor": "white",
           "zerolinewidth": 2
          },
          "yaxis": {
           "automargin": true,
           "gridcolor": "white",
           "linecolor": "white",
           "ticks": "",
           "title": {
            "standoff": 15
           },
           "zerolinecolor": "white",
           "zerolinewidth": 2
          }
         }
        },
        "title": {
         "font": {
          "color": "#4D5663"
         }
        },
        "xaxis": {
         "gridcolor": "#E1E5ED",
         "showgrid": true,
         "tickfont": {
          "color": "#4D5663"
         },
         "title": {
          "font": {
           "color": "#4D5663"
          },
          "text": ""
         },
         "zerolinecolor": "#E1E5ED"
        },
        "xaxis2": {
         "anchor": "y2",
         "gridcolor": "#E1E5ED",
         "showgrid": true,
         "showticklabels": false,
         "tickfont": {
          "color": "#4D5663"
         },
         "title": {
          "font": {
           "color": "#4D5663"
          },
          "text": ""
         },
         "zerolinecolor": "#E1E5ED"
        },
        "yaxis": {
         "domain": [
          0.3,
          1
         ],
         "gridcolor": "#E1E5ED",
         "showgrid": true,
         "tickfont": {
          "color": "#4D5663"
         },
         "title": {
          "font": {
           "color": "#4D5663"
          },
          "text": ""
         },
         "zerolinecolor": "#E1E5ED"
        },
        "yaxis2": {
         "domain": [
          0,
          0.25
         ],
         "gridcolor": "#E1E5ED",
         "showgrid": true,
         "tickfont": {
          "color": "#4D5663"
         },
         "title": {
          "font": {
           "color": "#4D5663"
          },
          "text": "Spread"
         },
         "zerolinecolor": "#E1E5ED"
        }
       }
      },
      "text/html": [
       "<div>\n",
       "        \n",
       "        \n",
       "            <div id=\"c76ea5c4-1070-49ab-8217-4beb54a4f541\" class=\"plotly-graph-div\" style=\"height:525px; width:100%;\"></div>\n",
       "            <script type=\"text/javascript\">\n",
       "                require([\"plotly\"], function(Plotly) {\n",
       "                    window.PLOTLYENV=window.PLOTLYENV || {};\n",
       "                    window.PLOTLYENV.BASE_URL='https://plot.ly';\n",
       "                    \n",
       "                if (document.getElementById(\"c76ea5c4-1070-49ab-8217-4beb54a4f541\")) {\n",
       "                    Plotly.newPlot(\n",
       "                        'c76ea5c4-1070-49ab-8217-4beb54a4f541',\n",
       "                        [{\"line\": {\"color\": \"rgba(255, 153, 51, 1.0)\", \"dash\": \"solid\", \"shape\": \"linear\", \"width\": 1.3}, \"mode\": \"lines\", \"name\": \"A\", \"text\": \"\", \"type\": \"scatter\", \"x\": [0, 1, 2, 3, 4, 5, 6, 7, 8, 9, 10, 11, 12, 13, 14, 15, 16, 17, 18, 19, 20, 21, 22, 23, 24, 25, 26, 27, 28, 29, 30, 31, 32, 33, 34, 35, 36, 37, 38, 39, 40, 41, 42, 43, 44, 45, 46, 47, 48, 49, 50, 51, 52, 53, 54, 55, 56, 57, 58, 59, 60, 61, 62, 63, 64, 65, 66, 67, 68, 69, 70, 71, 72, 73, 74, 75, 76, 77, 78, 79, 80, 81, 82, 83, 84, 85, 86, 87, 88, 89, 90, 91, 92, 93, 94, 95, 96, 97, 98, 99], \"y\": [-0.04385431780971637, -0.7301948168187024, -0.3496833695728504, -1.0612823737313737, 0.6591799683260353, 0.12428679487969375, -0.2628424807417794, 2.908786492446553, 0.5339220569380786, -1.5102640304281827, -0.2153849878718799, 0.14062569399657224, -1.2095030942021077, 0.45284316632611793, -1.616644761050487, 1.2057735309487918, -0.27850860903850416, 0.2661868200566413, -0.04888824105785708, 0.5466453961210647, 0.02444249995946009, -0.8803134222022471, 0.3959377294436148, -1.0125477805236467, -0.5403287337285112, -1.3969258083854257, -0.6647798643181021, 0.48996370455519694, -0.23702134521007456, 0.8259808476853691, -0.9134122472273268, -1.1689396577601616, 0.5853346423361953, 0.1165143240319178, -0.2537611614822444, -0.18422371333987664, 0.8742866058103691, -1.073458978869497, -0.11088759020331997, -1.23745560196081, -0.532207923124355, 0.4647951367313668, -0.42647882860361713, 0.6951312657084125, -1.4214167040692915, 0.902602666447066, 0.29741521616193584, 0.528548856648751, 0.9014676973634032, -0.1607135459165966, 0.35723359219153533, 0.23642409792308924, -0.3889773534472179, -2.4151038247887273, -0.09893139723269141, 0.3183672750508919, -1.0378675424182902, 0.287212016653486, -3.79126376982542, -0.8481039639987642, -0.3083120890222015, 1.793456070709133, -1.195369054487541, 1.0073436597216414, -1.2597272629060985, 1.8384369506007168, 0.37605391208689704, 0.6314748697418396, 0.5955215842189099, -0.10636349138020569, -1.4523789133361966, 2.4449306585882913, -0.29666309294170307, -0.21758145830572764, -0.7779081958035611, 0.1354671171040796, 0.15111110801098596, -0.8735875946797669, 2.108292328999151, 0.5581931925719561, -0.028223326518975078, 0.514591322068852, -0.7160014933804951, 1.0216913238644663, -1.3091472140787501, 0.25368841660167313, 0.6179071895170258, -0.34256487682349746, 1.4664115902589256, 0.6724977799274586, -0.8666211910244764, 1.0906099527040427, -2.6320438549269682, -1.2044405223200088, 0.09772313314017038, -0.18085756910776699, 0.18166012654149388, -0.6225026019819604, -1.0801935697404188, 0.6784957157116219]}, {\"line\": {\"color\": \"rgba(55, 128, 191, 1.0)\", \"dash\": \"solid\", \"shape\": \"linear\", \"width\": 1.3}, \"mode\": \"lines\", \"name\": \"B\", \"text\": \"\", \"type\": \"scatter\", \"x\": [0, 1, 2, 3, 4, 5, 6, 7, 8, 9, 10, 11, 12, 13, 14, 15, 16, 17, 18, 19, 20, 21, 22, 23, 24, 25, 26, 27, 28, 29, 30, 31, 32, 33, 34, 35, 36, 37, 38, 39, 40, 41, 42, 43, 44, 45, 46, 47, 48, 49, 50, 51, 52, 53, 54, 55, 56, 57, 58, 59, 60, 61, 62, 63, 64, 65, 66, 67, 68, 69, 70, 71, 72, 73, 74, 75, 76, 77, 78, 79, 80, 81, 82, 83, 84, 85, 86, 87, 88, 89, 90, 91, 92, 93, 94, 95, 96, 97, 98, 99], \"y\": [2.954682519418268, 1.2365829943535065, 2.104707567465196, 0.6633122537619591, 0.1538540084551306, 0.23170758817037124, -0.43025246824322605, -0.8062172600617752, 0.046277835727682744, -0.1452225853859939, -0.657776484401953, 0.053257950611550565, 1.5457051738269376, -1.3621708275952347, -0.15216947551494678, -0.7568602100782479, 0.29130806187656605, -1.130874456411832, -0.4631759857994132, -0.14116155647866782, 0.7118687205278166, -1.5500933264992216, 0.23684817274769057, -0.795400792746069, -1.7188704299757898, -0.49587136119877157, 1.0845807749581031, 1.3216725689195945, -0.8772702282109345, -0.6533764162042501, 3.2761707724560956, -0.6205202155431992, -0.13674014934522996, 0.3545319778991714, 0.26694297117685484, -0.07977085536555945, -0.015089174982792847, 0.9816931248247944, -0.9110304148970944, -0.3059876199479298, 0.6662941303764393, -0.23594236213250566, 0.5387516865350658, -0.8591039221027258, -0.4438675856675307, -0.42581560653971906, 1.5211561268716567, -0.3646030143739634, 1.4187212257471844, 0.5596787266396095, -0.20374108789784603, -0.977789621874286, -0.4972843153163968, 1.0519834196489215, 0.8798947682126929, 0.57401381845951, 0.5221857963465762, -0.20410583046198696, -0.7271785758926677, -0.5507149743855863, -0.12348649822361285, -0.34865126481223113, 0.37519336960418925, 0.2054370890711027, -0.3686501583006007, -0.9308147821700553, -0.5101649714460124, -1.312756296156895, -0.6872924129121585, 0.2431653092979941, -0.4680574915932994, 0.25846307724269496, 1.109367302357436, -1.046566276737933, -0.4507778326412062, -0.9890841839195814, -1.1484905543171988, 0.13438786165027108, -2.2366854653203547, -1.7598337752374726, 0.3870442907617244, 1.2678397112271507, 1.263679739194867, -0.13001732439442706, -1.9931688174259747, 0.6132591928043307, 0.10547007627853718, 0.1228225407414566, -2.0286967006534655, 0.4496012985812599, -0.40793324413434073, 1.7038975915424757, -0.7621430975695681, 1.2001373603508956, -0.6727126847149263, -0.2901948996138198, 0.2785826649259012, 0.12294192744039334, -1.17265209109376, 0.9131529756743128]}, {\"connectgaps\": false, \"fill\": \"tozeroy\", \"line\": {\"color\": \"green\", \"dash\": \"solid\", \"shape\": \"linear\", \"width\": 0.5}, \"mode\": \"lines\", \"name\": \"Spread\", \"showlegend\": false, \"type\": \"scatter\", \"x\": [0, 1, 2, 3, 4, 5, 6, 7, 8, 9, 10, 11, 12, 13, 14, 15, 16, 17, 18, 19, 20, 21, 22, 23, 24, 25, 26, 27, 28, 29, 30, 31, 32, 33, 34, 35, 36, 37, 38, 39, 40, 41, 42, 43, 44, 45, 46, 47, 48, 49, 50, 51, 52, 53, 54, 55, 56, 57, 58, 59, 60, 61, 62, 63, 64, 65, 66, 67, 68, 69, 70, 71, 72, 73, 74, 75, 76, 77, 78, 79, 80, 81, 82, 83, 84, 85, 86, 87, 88, 89, 90, 91, 92, 93, 94, 95, 96, 97, 98, 99], \"xaxis\": \"x2\", \"y\": [\"\", \"\", \"\", \"\", 0.5053259598709048, \"\", 0.16740998750144664, 3.715003752508328, 0.48764422121039586, \"\", 0.44239149653007315, 0.08736774338502168, \"\", 1.8150139939213525, \"\", 1.9626337410270396, \"\", 1.3970612764684733, 0.41428774474155616, 0.6878069525997325, \"\", 0.6697799042969745, 0.15908955669592426, \"\", 1.1785416962472786, \"\", \"\", \"\", 0.6402488830008599, 1.4793572638896193, \"\", \"\", 0.7220747916814252, \"\", \"\", \"\", 0.8893757807931619, \"\", 0.8001428246937744, \"\", \"\", 0.7007374988638725, \"\", 1.5542351878111385, \"\", 1.328418272986785, \"\", 0.8931518710227144, \"\", \"\", 0.5609746800893813, 1.2142137197973752, 0.10830696186917887, \"\", \"\", \"\", \"\", 0.491317847115473, \"\", \"\", \"\", 2.1421073355213642, \"\", 0.8019065706505387, \"\", 2.769251732770772, 0.8862188835329095, 1.9442311658987346, 1.2828139971310684, \"\", \"\", 2.1864675813455965, \"\", 0.8289848184322053, \"\", 1.124551301023661, 1.2996016623281847, \"\", 4.344977794319506, 2.3180269678094287, \"\", \"\", \"\", 1.1517086482588934, 0.6840216033472246, \"\", 0.5124371132384886, \"\", 3.495108290912391, 0.22289648134619872, \"\", \"\", \"\", \"\", 0.7704358178550966, 0.1093373305060528, \"\", \"\", 0.0924585213533411, \"\"], \"yaxis\": \"y2\"}, {\"connectgaps\": false, \"fill\": \"tozeroy\", \"line\": {\"color\": \"red\", \"dash\": \"solid\", \"shape\": \"linear\", \"width\": 0.5}, \"mode\": \"lines\", \"name\": \"Spread\", \"showlegend\": false, \"type\": \"scatter\", \"x\": [0, 1, 2, 3, 4, 5, 6, 7, 8, 9, 10, 11, 12, 13, 14, 15, 16, 17, 18, 19, 20, 21, 22, 23, 24, 25, 26, 27, 28, 29, 30, 31, 32, 33, 34, 35, 36, 37, 38, 39, 40, 41, 42, 43, 44, 45, 46, 47, 48, 49, 50, 51, 52, 53, 54, 55, 56, 57, 58, 59, 60, 61, 62, 63, 64, 65, 66, 67, 68, 69, 70, 71, 72, 73, 74, 75, 76, 77, 78, 79, 80, 81, 82, 83, 84, 85, 86, 87, 88, 89, 90, 91, 92, 93, 94, 95, 96, 97, 98, 99], \"xaxis\": \"x2\", \"y\": [-2.9985368372279844, -1.966777811172209, -2.4543909370380463, -1.7245946274933328, \"\", -0.10742079329067748, \"\", \"\", \"\", -1.3650414450421888, \"\", \"\", -2.7552082680290453, \"\", -1.4644752855355403, \"\", -0.5698166709150703, \"\", \"\", \"\", -0.6874262205683564, \"\", \"\", -0.21714698777757768, \"\", -0.9010544471866542, -1.749360639276205, -0.8317088643643975, \"\", \"\", -4.189583019683423, -0.5484194422169624, \"\", -0.2380176538672536, -0.5207041326590993, -0.10445285797431719, \"\", -2.0551521036942915, \"\", -0.9314679820128803, -1.1985020535007944, \"\", -0.9652305151386829, \"\", -0.9775491184017608, \"\", -1.2237409107097208, \"\", -0.5172535283837812, -0.7203922725562061, \"\", \"\", \"\", -3.467087244437649, -0.9788261654453843, -0.25564654340861814, -1.5600533387648663, \"\", -3.0640851939327525, -0.29738898961317795, -0.18482559079858862, \"\", -1.5705624240917304, \"\", -0.8910771046054977, \"\", \"\", \"\", \"\", -0.3495288006781998, -0.9843214217428973, \"\", -1.406030395299139, \"\", -0.3271303631623549, \"\", \"\", -1.007975456330038, \"\", \"\", -0.4152676172806995, -0.7532483891582986, -1.9796812325753623, \"\", \"\", -0.3595707762026576, \"\", -0.46538741756495405, \"\", \"\", -0.4586879468901357, -0.613287638838433, -1.8699007573574002, -2.404577882670904, \"\", \"\", -0.09692253838440734, -0.7454445294223537, \"\", -0.23465725996269082], \"yaxis\": \"y2\"}],\n",
       "                        {\"hovermode\": \"x\", \"legend\": {\"bgcolor\": \"#F5F6F9\", \"font\": {\"color\": \"#4D5663\"}}, \"paper_bgcolor\": \"#F5F6F9\", \"plot_bgcolor\": \"#F5F6F9\", \"template\": {\"data\": {\"bar\": [{\"error_x\": {\"color\": \"#2a3f5f\"}, \"error_y\": {\"color\": \"#2a3f5f\"}, \"marker\": {\"line\": {\"color\": \"#E5ECF6\", \"width\": 0.5}}, \"type\": \"bar\"}], \"barpolar\": [{\"marker\": {\"line\": {\"color\": \"#E5ECF6\", \"width\": 0.5}}, \"type\": \"barpolar\"}], \"carpet\": [{\"aaxis\": {\"endlinecolor\": \"#2a3f5f\", \"gridcolor\": \"white\", \"linecolor\": \"white\", \"minorgridcolor\": \"white\", \"startlinecolor\": \"#2a3f5f\"}, \"baxis\": {\"endlinecolor\": \"#2a3f5f\", \"gridcolor\": \"white\", \"linecolor\": \"white\", \"minorgridcolor\": \"white\", \"startlinecolor\": \"#2a3f5f\"}, \"type\": \"carpet\"}], \"choropleth\": [{\"colorbar\": {\"outlinewidth\": 0, \"ticks\": \"\"}, \"type\": \"choropleth\"}], \"contour\": [{\"colorbar\": {\"outlinewidth\": 0, \"ticks\": \"\"}, \"colorscale\": [[0.0, \"#0d0887\"], [0.1111111111111111, \"#46039f\"], [0.2222222222222222, \"#7201a8\"], [0.3333333333333333, \"#9c179e\"], [0.4444444444444444, \"#bd3786\"], [0.5555555555555556, \"#d8576b\"], [0.6666666666666666, \"#ed7953\"], [0.7777777777777778, \"#fb9f3a\"], [0.8888888888888888, \"#fdca26\"], [1.0, \"#f0f921\"]], \"type\": \"contour\"}], \"contourcarpet\": [{\"colorbar\": {\"outlinewidth\": 0, \"ticks\": \"\"}, \"type\": \"contourcarpet\"}], \"heatmap\": [{\"colorbar\": {\"outlinewidth\": 0, \"ticks\": \"\"}, \"colorscale\": [[0.0, \"#0d0887\"], [0.1111111111111111, \"#46039f\"], [0.2222222222222222, \"#7201a8\"], [0.3333333333333333, \"#9c179e\"], [0.4444444444444444, \"#bd3786\"], [0.5555555555555556, \"#d8576b\"], [0.6666666666666666, \"#ed7953\"], [0.7777777777777778, \"#fb9f3a\"], [0.8888888888888888, \"#fdca26\"], [1.0, \"#f0f921\"]], \"type\": \"heatmap\"}], \"heatmapgl\": [{\"colorbar\": {\"outlinewidth\": 0, \"ticks\": \"\"}, \"colorscale\": [[0.0, \"#0d0887\"], [0.1111111111111111, \"#46039f\"], [0.2222222222222222, \"#7201a8\"], [0.3333333333333333, \"#9c179e\"], [0.4444444444444444, \"#bd3786\"], [0.5555555555555556, \"#d8576b\"], [0.6666666666666666, \"#ed7953\"], [0.7777777777777778, \"#fb9f3a\"], [0.8888888888888888, \"#fdca26\"], [1.0, \"#f0f921\"]], \"type\": \"heatmapgl\"}], \"histogram\": [{\"marker\": {\"colorbar\": {\"outlinewidth\": 0, \"ticks\": \"\"}}, \"type\": \"histogram\"}], \"histogram2d\": [{\"colorbar\": {\"outlinewidth\": 0, \"ticks\": \"\"}, \"colorscale\": [[0.0, \"#0d0887\"], [0.1111111111111111, \"#46039f\"], [0.2222222222222222, \"#7201a8\"], [0.3333333333333333, \"#9c179e\"], [0.4444444444444444, \"#bd3786\"], [0.5555555555555556, \"#d8576b\"], [0.6666666666666666, \"#ed7953\"], [0.7777777777777778, \"#fb9f3a\"], [0.8888888888888888, \"#fdca26\"], [1.0, \"#f0f921\"]], \"type\": \"histogram2d\"}], \"histogram2dcontour\": [{\"colorbar\": {\"outlinewidth\": 0, \"ticks\": \"\"}, \"colorscale\": [[0.0, \"#0d0887\"], [0.1111111111111111, \"#46039f\"], [0.2222222222222222, \"#7201a8\"], [0.3333333333333333, \"#9c179e\"], [0.4444444444444444, \"#bd3786\"], [0.5555555555555556, \"#d8576b\"], [0.6666666666666666, \"#ed7953\"], [0.7777777777777778, \"#fb9f3a\"], [0.8888888888888888, \"#fdca26\"], [1.0, \"#f0f921\"]], \"type\": \"histogram2dcontour\"}], \"mesh3d\": [{\"colorbar\": {\"outlinewidth\": 0, \"ticks\": \"\"}, \"type\": \"mesh3d\"}], \"parcoords\": [{\"line\": {\"colorbar\": {\"outlinewidth\": 0, \"ticks\": \"\"}}, \"type\": \"parcoords\"}], \"pie\": [{\"automargin\": true, \"type\": \"pie\"}], \"scatter\": [{\"marker\": {\"colorbar\": {\"outlinewidth\": 0, \"ticks\": \"\"}}, \"type\": \"scatter\"}], \"scatter3d\": [{\"line\": {\"colorbar\": {\"outlinewidth\": 0, \"ticks\": \"\"}}, \"marker\": {\"colorbar\": {\"outlinewidth\": 0, \"ticks\": \"\"}}, \"type\": \"scatter3d\"}], \"scattercarpet\": [{\"marker\": {\"colorbar\": {\"outlinewidth\": 0, \"ticks\": \"\"}}, \"type\": \"scattercarpet\"}], \"scattergeo\": [{\"marker\": {\"colorbar\": {\"outlinewidth\": 0, \"ticks\": \"\"}}, \"type\": \"scattergeo\"}], \"scattergl\": [{\"marker\": {\"colorbar\": {\"outlinewidth\": 0, \"ticks\": \"\"}}, \"type\": \"scattergl\"}], \"scattermapbox\": [{\"marker\": {\"colorbar\": {\"outlinewidth\": 0, \"ticks\": \"\"}}, \"type\": \"scattermapbox\"}], \"scatterpolar\": [{\"marker\": {\"colorbar\": {\"outlinewidth\": 0, \"ticks\": \"\"}}, \"type\": \"scatterpolar\"}], \"scatterpolargl\": [{\"marker\": {\"colorbar\": {\"outlinewidth\": 0, \"ticks\": \"\"}}, \"type\": \"scatterpolargl\"}], \"scatterternary\": [{\"marker\": {\"colorbar\": {\"outlinewidth\": 0, \"ticks\": \"\"}}, \"type\": \"scatterternary\"}], \"surface\": [{\"colorbar\": {\"outlinewidth\": 0, \"ticks\": \"\"}, \"colorscale\": [[0.0, \"#0d0887\"], [0.1111111111111111, \"#46039f\"], [0.2222222222222222, \"#7201a8\"], [0.3333333333333333, \"#9c179e\"], [0.4444444444444444, \"#bd3786\"], [0.5555555555555556, \"#d8576b\"], [0.6666666666666666, \"#ed7953\"], [0.7777777777777778, \"#fb9f3a\"], [0.8888888888888888, \"#fdca26\"], [1.0, \"#f0f921\"]], \"type\": \"surface\"}], \"table\": [{\"cells\": {\"fill\": {\"color\": \"#EBF0F8\"}, \"line\": {\"color\": \"white\"}}, \"header\": {\"fill\": {\"color\": \"#C8D4E3\"}, \"line\": {\"color\": \"white\"}}, \"type\": \"table\"}]}, \"layout\": {\"annotationdefaults\": {\"arrowcolor\": \"#2a3f5f\", \"arrowhead\": 0, \"arrowwidth\": 1}, \"coloraxis\": {\"colorbar\": {\"outlinewidth\": 0, \"ticks\": \"\"}}, \"colorscale\": {\"diverging\": [[0, \"#8e0152\"], [0.1, \"#c51b7d\"], [0.2, \"#de77ae\"], [0.3, \"#f1b6da\"], [0.4, \"#fde0ef\"], [0.5, \"#f7f7f7\"], [0.6, \"#e6f5d0\"], [0.7, \"#b8e186\"], [0.8, \"#7fbc41\"], [0.9, \"#4d9221\"], [1, \"#276419\"]], \"sequential\": [[0.0, \"#0d0887\"], [0.1111111111111111, \"#46039f\"], [0.2222222222222222, \"#7201a8\"], [0.3333333333333333, \"#9c179e\"], [0.4444444444444444, \"#bd3786\"], [0.5555555555555556, \"#d8576b\"], [0.6666666666666666, \"#ed7953\"], [0.7777777777777778, \"#fb9f3a\"], [0.8888888888888888, \"#fdca26\"], [1.0, \"#f0f921\"]], \"sequentialminus\": [[0.0, \"#0d0887\"], [0.1111111111111111, \"#46039f\"], [0.2222222222222222, \"#7201a8\"], [0.3333333333333333, \"#9c179e\"], [0.4444444444444444, \"#bd3786\"], [0.5555555555555556, \"#d8576b\"], [0.6666666666666666, \"#ed7953\"], [0.7777777777777778, \"#fb9f3a\"], [0.8888888888888888, \"#fdca26\"], [1.0, \"#f0f921\"]]}, \"colorway\": [\"#636efa\", \"#EF553B\", \"#00cc96\", \"#ab63fa\", \"#FFA15A\", \"#19d3f3\", \"#FF6692\", \"#B6E880\", \"#FF97FF\", \"#FECB52\"], \"font\": {\"color\": \"#2a3f5f\"}, \"geo\": {\"bgcolor\": \"white\", \"lakecolor\": \"white\", \"landcolor\": \"#E5ECF6\", \"showlakes\": true, \"showland\": true, \"subunitcolor\": \"white\"}, \"hoverlabel\": {\"align\": \"left\"}, \"hovermode\": \"closest\", \"mapbox\": {\"style\": \"light\"}, \"paper_bgcolor\": \"white\", \"plot_bgcolor\": \"#E5ECF6\", \"polar\": {\"angularaxis\": {\"gridcolor\": \"white\", \"linecolor\": \"white\", \"ticks\": \"\"}, \"bgcolor\": \"#E5ECF6\", \"radialaxis\": {\"gridcolor\": \"white\", \"linecolor\": \"white\", \"ticks\": \"\"}}, \"scene\": {\"xaxis\": {\"backgroundcolor\": \"#E5ECF6\", \"gridcolor\": \"white\", \"gridwidth\": 2, \"linecolor\": \"white\", \"showbackground\": true, \"ticks\": \"\", \"zerolinecolor\": \"white\"}, \"yaxis\": {\"backgroundcolor\": \"#E5ECF6\", \"gridcolor\": \"white\", \"gridwidth\": 2, \"linecolor\": \"white\", \"showbackground\": true, \"ticks\": \"\", \"zerolinecolor\": \"white\"}, \"zaxis\": {\"backgroundcolor\": \"#E5ECF6\", \"gridcolor\": \"white\", \"gridwidth\": 2, \"linecolor\": \"white\", \"showbackground\": true, \"ticks\": \"\", \"zerolinecolor\": \"white\"}}, \"shapedefaults\": {\"line\": {\"color\": \"#2a3f5f\"}}, \"ternary\": {\"aaxis\": {\"gridcolor\": \"white\", \"linecolor\": \"white\", \"ticks\": \"\"}, \"baxis\": {\"gridcolor\": \"white\", \"linecolor\": \"white\", \"ticks\": \"\"}, \"bgcolor\": \"#E5ECF6\", \"caxis\": {\"gridcolor\": \"white\", \"linecolor\": \"white\", \"ticks\": \"\"}}, \"title\": {\"x\": 0.05}, \"xaxis\": {\"automargin\": true, \"gridcolor\": \"white\", \"linecolor\": \"white\", \"ticks\": \"\", \"title\": {\"standoff\": 15}, \"zerolinecolor\": \"white\", \"zerolinewidth\": 2}, \"yaxis\": {\"automargin\": true, \"gridcolor\": \"white\", \"linecolor\": \"white\", \"ticks\": \"\", \"title\": {\"standoff\": 15}, \"zerolinecolor\": \"white\", \"zerolinewidth\": 2}}}, \"title\": {\"font\": {\"color\": \"#4D5663\"}}, \"xaxis\": {\"gridcolor\": \"#E1E5ED\", \"showgrid\": true, \"tickfont\": {\"color\": \"#4D5663\"}, \"title\": {\"font\": {\"color\": \"#4D5663\"}, \"text\": \"\"}, \"zerolinecolor\": \"#E1E5ED\"}, \"xaxis2\": {\"anchor\": \"y2\", \"gridcolor\": \"#E1E5ED\", \"showgrid\": true, \"showticklabels\": false, \"tickfont\": {\"color\": \"#4D5663\"}, \"title\": {\"font\": {\"color\": \"#4D5663\"}, \"text\": \"\"}, \"zerolinecolor\": \"#E1E5ED\"}, \"yaxis\": {\"domain\": [0.3, 1], \"gridcolor\": \"#E1E5ED\", \"showgrid\": true, \"tickfont\": {\"color\": \"#4D5663\"}, \"title\": {\"font\": {\"color\": \"#4D5663\"}, \"text\": \"\"}, \"zerolinecolor\": \"#E1E5ED\"}, \"yaxis2\": {\"domain\": [0, 0.25], \"gridcolor\": \"#E1E5ED\", \"showgrid\": true, \"tickfont\": {\"color\": \"#4D5663\"}, \"title\": {\"font\": {\"color\": \"#4D5663\"}, \"text\": \"Spread\"}, \"zerolinecolor\": \"#E1E5ED\"}},\n",
       "                        {\"showLink\": true, \"linkText\": \"Export to plot.ly\", \"plotlyServerURL\": \"https://plot.ly\", \"responsive\": true}\n",
       "                    ).then(function(){\n",
       "                            \n",
       "var gd = document.getElementById('c76ea5c4-1070-49ab-8217-4beb54a4f541');\n",
       "var x = new MutationObserver(function (mutations, observer) {{\n",
       "        var display = window.getComputedStyle(gd).display;\n",
       "        if (!display || display === 'none') {{\n",
       "            console.log([gd, 'removed!']);\n",
       "            Plotly.purge(gd);\n",
       "            observer.disconnect();\n",
       "        }}\n",
       "}});\n",
       "\n",
       "// Listen for the removal of the full notebook cells\n",
       "var notebookContainer = gd.closest('#notebook-container');\n",
       "if (notebookContainer) {{\n",
       "    x.observe(notebookContainer, {childList: true});\n",
       "}}\n",
       "\n",
       "// Listen for the clearing of the current output cell\n",
       "var outputEl = gd.closest('.output');\n",
       "if (outputEl) {{\n",
       "    x.observe(outputEl, {childList: true});\n",
       "}}\n",
       "\n",
       "                        })\n",
       "                };\n",
       "                });\n",
       "            </script>\n",
       "        </div>"
      ]
     },
     "metadata": {},
     "output_type": "display_data"
    }
   ],
   "source": [
    "df[['A','B']].iplot(kind='spread')"
   ]
  },
  {
   "cell_type": "code",
   "execution_count": 47,
   "metadata": {},
   "outputs": [
    {
     "data": {
      "application/vnd.plotly.v1+json": {
       "config": {
        "linkText": "Export to plot.ly",
        "plotlyServerURL": "https://plot.ly",
        "showLink": true
       },
       "data": [
        {
         "marker": {
          "color": [
           "rgb(255, 153, 51)",
           "rgb(55, 128, 191)",
           "rgb(50, 171, 96)",
           "rgb(128, 0, 128)",
           "rgb(219, 64, 82)",
           "rgb(0, 128, 128)",
           "rgb(255, 255, 51)",
           "rgb(128, 128, 0)",
           "rgb(251, 128, 114)",
           "rgb(128, 177, 211)"
          ],
          "line": {
           "width": 1.3
          },
          "size": [
           74,
           51,
           42,
           44,
           29,
           65,
           36,
           62,
           56,
           103,
           89,
           97,
           44,
           58,
           68,
           73,
           42,
           78,
           42,
           87,
           65,
           58,
           12,
           52,
           62,
           32,
           75,
           72,
           36,
           67,
           48,
           60,
           53,
           61,
           38,
           83,
           78,
           62,
           46,
           56,
           61,
           57,
           60,
           93,
           94,
           71,
           36,
           82,
           78,
           64,
           68,
           76,
           72,
           56,
           49,
           58,
           112,
           80,
           54,
           34,
           59,
           61,
           66,
           63,
           75,
           50,
           45,
           67,
           49,
           68,
           69,
           105,
           64,
           73,
           63,
           81,
           68,
           47,
           38,
           38,
           95,
           68,
           74,
           57,
           63,
           41,
           48,
           55,
           63,
           32,
           55,
           77,
           54,
           60,
           54,
           59,
           65,
           57,
           60,
           58
          ],
          "symbol": "circle"
         },
         "mode": "markers",
         "text": "",
         "type": "scatter",
         "x": [
          -0.04385431780971637,
          -0.7301948168187024,
          -0.3496833695728504,
          -1.0612823737313737,
          0.6591799683260353,
          0.12428679487969375,
          -0.2628424807417794,
          2.908786492446553,
          0.5339220569380786,
          -1.5102640304281827,
          -0.2153849878718799,
          0.14062569399657224,
          -1.2095030942021077,
          0.45284316632611793,
          -1.616644761050487,
          1.2057735309487918,
          -0.27850860903850416,
          0.2661868200566413,
          -0.04888824105785708,
          0.5466453961210647,
          0.02444249995946009,
          -0.8803134222022471,
          0.3959377294436148,
          -1.0125477805236467,
          -0.5403287337285112,
          -1.3969258083854257,
          -0.6647798643181021,
          0.48996370455519694,
          -0.23702134521007456,
          0.8259808476853691,
          -0.9134122472273268,
          -1.1689396577601616,
          0.5853346423361953,
          0.1165143240319178,
          -0.2537611614822444,
          -0.18422371333987664,
          0.8742866058103691,
          -1.073458978869497,
          -0.11088759020331997,
          -1.23745560196081,
          -0.532207923124355,
          0.4647951367313668,
          -0.42647882860361713,
          0.6951312657084125,
          -1.4214167040692915,
          0.902602666447066,
          0.29741521616193584,
          0.528548856648751,
          0.9014676973634032,
          -0.1607135459165966,
          0.35723359219153533,
          0.23642409792308924,
          -0.3889773534472179,
          -2.4151038247887273,
          -0.09893139723269141,
          0.3183672750508919,
          -1.0378675424182902,
          0.287212016653486,
          -3.79126376982542,
          -0.8481039639987642,
          -0.3083120890222015,
          1.793456070709133,
          -1.195369054487541,
          1.0073436597216414,
          -1.2597272629060985,
          1.8384369506007168,
          0.37605391208689704,
          0.6314748697418396,
          0.5955215842189099,
          -0.10636349138020569,
          -1.4523789133361966,
          2.4449306585882913,
          -0.29666309294170307,
          -0.21758145830572764,
          -0.7779081958035611,
          0.1354671171040796,
          0.15111110801098596,
          -0.8735875946797669,
          2.108292328999151,
          0.5581931925719561,
          -0.028223326518975078,
          0.514591322068852,
          -0.7160014933804951,
          1.0216913238644663,
          -1.3091472140787501,
          0.25368841660167313,
          0.6179071895170258,
          -0.34256487682349746,
          1.4664115902589256,
          0.6724977799274586,
          -0.8666211910244764,
          1.0906099527040427,
          -2.6320438549269682,
          -1.2044405223200088,
          0.09772313314017038,
          -0.18085756910776699,
          0.18166012654149388,
          -0.6225026019819604,
          -1.0801935697404188,
          0.6784957157116219
         ],
         "y": [
          2.954682519418268,
          1.2365829943535065,
          2.104707567465196,
          0.6633122537619591,
          0.1538540084551306,
          0.23170758817037124,
          -0.43025246824322605,
          -0.8062172600617752,
          0.046277835727682744,
          -0.1452225853859939,
          -0.657776484401953,
          0.053257950611550565,
          1.5457051738269376,
          -1.3621708275952347,
          -0.15216947551494678,
          -0.7568602100782479,
          0.29130806187656605,
          -1.130874456411832,
          -0.4631759857994132,
          -0.14116155647866782,
          0.7118687205278166,
          -1.5500933264992216,
          0.23684817274769057,
          -0.795400792746069,
          -1.7188704299757898,
          -0.49587136119877157,
          1.0845807749581031,
          1.3216725689195945,
          -0.8772702282109345,
          -0.6533764162042501,
          3.2761707724560956,
          -0.6205202155431992,
          -0.13674014934522996,
          0.3545319778991714,
          0.26694297117685484,
          -0.07977085536555945,
          -0.015089174982792847,
          0.9816931248247944,
          -0.9110304148970944,
          -0.3059876199479298,
          0.6662941303764393,
          -0.23594236213250566,
          0.5387516865350658,
          -0.8591039221027258,
          -0.4438675856675307,
          -0.42581560653971906,
          1.5211561268716567,
          -0.3646030143739634,
          1.4187212257471844,
          0.5596787266396095,
          -0.20374108789784603,
          -0.977789621874286,
          -0.4972843153163968,
          1.0519834196489215,
          0.8798947682126929,
          0.57401381845951,
          0.5221857963465762,
          -0.20410583046198696,
          -0.7271785758926677,
          -0.5507149743855863,
          -0.12348649822361285,
          -0.34865126481223113,
          0.37519336960418925,
          0.2054370890711027,
          -0.3686501583006007,
          -0.9308147821700553,
          -0.5101649714460124,
          -1.312756296156895,
          -0.6872924129121585,
          0.2431653092979941,
          -0.4680574915932994,
          0.25846307724269496,
          1.109367302357436,
          -1.046566276737933,
          -0.4507778326412062,
          -0.9890841839195814,
          -1.1484905543171988,
          0.13438786165027108,
          -2.2366854653203547,
          -1.7598337752374726,
          0.3870442907617244,
          1.2678397112271507,
          1.263679739194867,
          -0.13001732439442706,
          -1.9931688174259747,
          0.6132591928043307,
          0.10547007627853718,
          0.1228225407414566,
          -2.0286967006534655,
          0.4496012985812599,
          -0.40793324413434073,
          1.7038975915424757,
          -0.7621430975695681,
          1.2001373603508956,
          -0.6727126847149263,
          -0.2901948996138198,
          0.2785826649259012,
          0.12294192744039334,
          -1.17265209109376,
          0.9131529756743128
         ]
        }
       ],
       "layout": {
        "legend": {
         "bgcolor": "#F5F6F9",
         "font": {
          "color": "#4D5663"
         }
        },
        "paper_bgcolor": "#F5F6F9",
        "plot_bgcolor": "#F5F6F9",
        "template": {
         "data": {
          "bar": [
           {
            "error_x": {
             "color": "#2a3f5f"
            },
            "error_y": {
             "color": "#2a3f5f"
            },
            "marker": {
             "line": {
              "color": "#E5ECF6",
              "width": 0.5
             }
            },
            "type": "bar"
           }
          ],
          "barpolar": [
           {
            "marker": {
             "line": {
              "color": "#E5ECF6",
              "width": 0.5
             }
            },
            "type": "barpolar"
           }
          ],
          "carpet": [
           {
            "aaxis": {
             "endlinecolor": "#2a3f5f",
             "gridcolor": "white",
             "linecolor": "white",
             "minorgridcolor": "white",
             "startlinecolor": "#2a3f5f"
            },
            "baxis": {
             "endlinecolor": "#2a3f5f",
             "gridcolor": "white",
             "linecolor": "white",
             "minorgridcolor": "white",
             "startlinecolor": "#2a3f5f"
            },
            "type": "carpet"
           }
          ],
          "choropleth": [
           {
            "colorbar": {
             "outlinewidth": 0,
             "ticks": ""
            },
            "type": "choropleth"
           }
          ],
          "contour": [
           {
            "colorbar": {
             "outlinewidth": 0,
             "ticks": ""
            },
            "colorscale": [
             [
              0,
              "#0d0887"
             ],
             [
              0.1111111111111111,
              "#46039f"
             ],
             [
              0.2222222222222222,
              "#7201a8"
             ],
             [
              0.3333333333333333,
              "#9c179e"
             ],
             [
              0.4444444444444444,
              "#bd3786"
             ],
             [
              0.5555555555555556,
              "#d8576b"
             ],
             [
              0.6666666666666666,
              "#ed7953"
             ],
             [
              0.7777777777777778,
              "#fb9f3a"
             ],
             [
              0.8888888888888888,
              "#fdca26"
             ],
             [
              1,
              "#f0f921"
             ]
            ],
            "type": "contour"
           }
          ],
          "contourcarpet": [
           {
            "colorbar": {
             "outlinewidth": 0,
             "ticks": ""
            },
            "type": "contourcarpet"
           }
          ],
          "heatmap": [
           {
            "colorbar": {
             "outlinewidth": 0,
             "ticks": ""
            },
            "colorscale": [
             [
              0,
              "#0d0887"
             ],
             [
              0.1111111111111111,
              "#46039f"
             ],
             [
              0.2222222222222222,
              "#7201a8"
             ],
             [
              0.3333333333333333,
              "#9c179e"
             ],
             [
              0.4444444444444444,
              "#bd3786"
             ],
             [
              0.5555555555555556,
              "#d8576b"
             ],
             [
              0.6666666666666666,
              "#ed7953"
             ],
             [
              0.7777777777777778,
              "#fb9f3a"
             ],
             [
              0.8888888888888888,
              "#fdca26"
             ],
             [
              1,
              "#f0f921"
             ]
            ],
            "type": "heatmap"
           }
          ],
          "heatmapgl": [
           {
            "colorbar": {
             "outlinewidth": 0,
             "ticks": ""
            },
            "colorscale": [
             [
              0,
              "#0d0887"
             ],
             [
              0.1111111111111111,
              "#46039f"
             ],
             [
              0.2222222222222222,
              "#7201a8"
             ],
             [
              0.3333333333333333,
              "#9c179e"
             ],
             [
              0.4444444444444444,
              "#bd3786"
             ],
             [
              0.5555555555555556,
              "#d8576b"
             ],
             [
              0.6666666666666666,
              "#ed7953"
             ],
             [
              0.7777777777777778,
              "#fb9f3a"
             ],
             [
              0.8888888888888888,
              "#fdca26"
             ],
             [
              1,
              "#f0f921"
             ]
            ],
            "type": "heatmapgl"
           }
          ],
          "histogram": [
           {
            "marker": {
             "colorbar": {
              "outlinewidth": 0,
              "ticks": ""
             }
            },
            "type": "histogram"
           }
          ],
          "histogram2d": [
           {
            "colorbar": {
             "outlinewidth": 0,
             "ticks": ""
            },
            "colorscale": [
             [
              0,
              "#0d0887"
             ],
             [
              0.1111111111111111,
              "#46039f"
             ],
             [
              0.2222222222222222,
              "#7201a8"
             ],
             [
              0.3333333333333333,
              "#9c179e"
             ],
             [
              0.4444444444444444,
              "#bd3786"
             ],
             [
              0.5555555555555556,
              "#d8576b"
             ],
             [
              0.6666666666666666,
              "#ed7953"
             ],
             [
              0.7777777777777778,
              "#fb9f3a"
             ],
             [
              0.8888888888888888,
              "#fdca26"
             ],
             [
              1,
              "#f0f921"
             ]
            ],
            "type": "histogram2d"
           }
          ],
          "histogram2dcontour": [
           {
            "colorbar": {
             "outlinewidth": 0,
             "ticks": ""
            },
            "colorscale": [
             [
              0,
              "#0d0887"
             ],
             [
              0.1111111111111111,
              "#46039f"
             ],
             [
              0.2222222222222222,
              "#7201a8"
             ],
             [
              0.3333333333333333,
              "#9c179e"
             ],
             [
              0.4444444444444444,
              "#bd3786"
             ],
             [
              0.5555555555555556,
              "#d8576b"
             ],
             [
              0.6666666666666666,
              "#ed7953"
             ],
             [
              0.7777777777777778,
              "#fb9f3a"
             ],
             [
              0.8888888888888888,
              "#fdca26"
             ],
             [
              1,
              "#f0f921"
             ]
            ],
            "type": "histogram2dcontour"
           }
          ],
          "mesh3d": [
           {
            "colorbar": {
             "outlinewidth": 0,
             "ticks": ""
            },
            "type": "mesh3d"
           }
          ],
          "parcoords": [
           {
            "line": {
             "colorbar": {
              "outlinewidth": 0,
              "ticks": ""
             }
            },
            "type": "parcoords"
           }
          ],
          "pie": [
           {
            "automargin": true,
            "type": "pie"
           }
          ],
          "scatter": [
           {
            "marker": {
             "colorbar": {
              "outlinewidth": 0,
              "ticks": ""
             }
            },
            "type": "scatter"
           }
          ],
          "scatter3d": [
           {
            "line": {
             "colorbar": {
              "outlinewidth": 0,
              "ticks": ""
             }
            },
            "marker": {
             "colorbar": {
              "outlinewidth": 0,
              "ticks": ""
             }
            },
            "type": "scatter3d"
           }
          ],
          "scattercarpet": [
           {
            "marker": {
             "colorbar": {
              "outlinewidth": 0,
              "ticks": ""
             }
            },
            "type": "scattercarpet"
           }
          ],
          "scattergeo": [
           {
            "marker": {
             "colorbar": {
              "outlinewidth": 0,
              "ticks": ""
             }
            },
            "type": "scattergeo"
           }
          ],
          "scattergl": [
           {
            "marker": {
             "colorbar": {
              "outlinewidth": 0,
              "ticks": ""
             }
            },
            "type": "scattergl"
           }
          ],
          "scattermapbox": [
           {
            "marker": {
             "colorbar": {
              "outlinewidth": 0,
              "ticks": ""
             }
            },
            "type": "scattermapbox"
           }
          ],
          "scatterpolar": [
           {
            "marker": {
             "colorbar": {
              "outlinewidth": 0,
              "ticks": ""
             }
            },
            "type": "scatterpolar"
           }
          ],
          "scatterpolargl": [
           {
            "marker": {
             "colorbar": {
              "outlinewidth": 0,
              "ticks": ""
             }
            },
            "type": "scatterpolargl"
           }
          ],
          "scatterternary": [
           {
            "marker": {
             "colorbar": {
              "outlinewidth": 0,
              "ticks": ""
             }
            },
            "type": "scatterternary"
           }
          ],
          "surface": [
           {
            "colorbar": {
             "outlinewidth": 0,
             "ticks": ""
            },
            "colorscale": [
             [
              0,
              "#0d0887"
             ],
             [
              0.1111111111111111,
              "#46039f"
             ],
             [
              0.2222222222222222,
              "#7201a8"
             ],
             [
              0.3333333333333333,
              "#9c179e"
             ],
             [
              0.4444444444444444,
              "#bd3786"
             ],
             [
              0.5555555555555556,
              "#d8576b"
             ],
             [
              0.6666666666666666,
              "#ed7953"
             ],
             [
              0.7777777777777778,
              "#fb9f3a"
             ],
             [
              0.8888888888888888,
              "#fdca26"
             ],
             [
              1,
              "#f0f921"
             ]
            ],
            "type": "surface"
           }
          ],
          "table": [
           {
            "cells": {
             "fill": {
              "color": "#EBF0F8"
             },
             "line": {
              "color": "white"
             }
            },
            "header": {
             "fill": {
              "color": "#C8D4E3"
             },
             "line": {
              "color": "white"
             }
            },
            "type": "table"
           }
          ]
         },
         "layout": {
          "annotationdefaults": {
           "arrowcolor": "#2a3f5f",
           "arrowhead": 0,
           "arrowwidth": 1
          },
          "coloraxis": {
           "colorbar": {
            "outlinewidth": 0,
            "ticks": ""
           }
          },
          "colorscale": {
           "diverging": [
            [
             0,
             "#8e0152"
            ],
            [
             0.1,
             "#c51b7d"
            ],
            [
             0.2,
             "#de77ae"
            ],
            [
             0.3,
             "#f1b6da"
            ],
            [
             0.4,
             "#fde0ef"
            ],
            [
             0.5,
             "#f7f7f7"
            ],
            [
             0.6,
             "#e6f5d0"
            ],
            [
             0.7,
             "#b8e186"
            ],
            [
             0.8,
             "#7fbc41"
            ],
            [
             0.9,
             "#4d9221"
            ],
            [
             1,
             "#276419"
            ]
           ],
           "sequential": [
            [
             0,
             "#0d0887"
            ],
            [
             0.1111111111111111,
             "#46039f"
            ],
            [
             0.2222222222222222,
             "#7201a8"
            ],
            [
             0.3333333333333333,
             "#9c179e"
            ],
            [
             0.4444444444444444,
             "#bd3786"
            ],
            [
             0.5555555555555556,
             "#d8576b"
            ],
            [
             0.6666666666666666,
             "#ed7953"
            ],
            [
             0.7777777777777778,
             "#fb9f3a"
            ],
            [
             0.8888888888888888,
             "#fdca26"
            ],
            [
             1,
             "#f0f921"
            ]
           ],
           "sequentialminus": [
            [
             0,
             "#0d0887"
            ],
            [
             0.1111111111111111,
             "#46039f"
            ],
            [
             0.2222222222222222,
             "#7201a8"
            ],
            [
             0.3333333333333333,
             "#9c179e"
            ],
            [
             0.4444444444444444,
             "#bd3786"
            ],
            [
             0.5555555555555556,
             "#d8576b"
            ],
            [
             0.6666666666666666,
             "#ed7953"
            ],
            [
             0.7777777777777778,
             "#fb9f3a"
            ],
            [
             0.8888888888888888,
             "#fdca26"
            ],
            [
             1,
             "#f0f921"
            ]
           ]
          },
          "colorway": [
           "#636efa",
           "#EF553B",
           "#00cc96",
           "#ab63fa",
           "#FFA15A",
           "#19d3f3",
           "#FF6692",
           "#B6E880",
           "#FF97FF",
           "#FECB52"
          ],
          "font": {
           "color": "#2a3f5f"
          },
          "geo": {
           "bgcolor": "white",
           "lakecolor": "white",
           "landcolor": "#E5ECF6",
           "showlakes": true,
           "showland": true,
           "subunitcolor": "white"
          },
          "hoverlabel": {
           "align": "left"
          },
          "hovermode": "closest",
          "mapbox": {
           "style": "light"
          },
          "paper_bgcolor": "white",
          "plot_bgcolor": "#E5ECF6",
          "polar": {
           "angularaxis": {
            "gridcolor": "white",
            "linecolor": "white",
            "ticks": ""
           },
           "bgcolor": "#E5ECF6",
           "radialaxis": {
            "gridcolor": "white",
            "linecolor": "white",
            "ticks": ""
           }
          },
          "scene": {
           "xaxis": {
            "backgroundcolor": "#E5ECF6",
            "gridcolor": "white",
            "gridwidth": 2,
            "linecolor": "white",
            "showbackground": true,
            "ticks": "",
            "zerolinecolor": "white"
           },
           "yaxis": {
            "backgroundcolor": "#E5ECF6",
            "gridcolor": "white",
            "gridwidth": 2,
            "linecolor": "white",
            "showbackground": true,
            "ticks": "",
            "zerolinecolor": "white"
           },
           "zaxis": {
            "backgroundcolor": "#E5ECF6",
            "gridcolor": "white",
            "gridwidth": 2,
            "linecolor": "white",
            "showbackground": true,
            "ticks": "",
            "zerolinecolor": "white"
           }
          },
          "shapedefaults": {
           "line": {
            "color": "#2a3f5f"
           }
          },
          "ternary": {
           "aaxis": {
            "gridcolor": "white",
            "linecolor": "white",
            "ticks": ""
           },
           "baxis": {
            "gridcolor": "white",
            "linecolor": "white",
            "ticks": ""
           },
           "bgcolor": "#E5ECF6",
           "caxis": {
            "gridcolor": "white",
            "linecolor": "white",
            "ticks": ""
           }
          },
          "title": {
           "x": 0.05
          },
          "xaxis": {
           "automargin": true,
           "gridcolor": "white",
           "linecolor": "white",
           "ticks": "",
           "title": {
            "standoff": 15
           },
           "zerolinecolor": "white",
           "zerolinewidth": 2
          },
          "yaxis": {
           "automargin": true,
           "gridcolor": "white",
           "linecolor": "white",
           "ticks": "",
           "title": {
            "standoff": 15
           },
           "zerolinecolor": "white",
           "zerolinewidth": 2
          }
         }
        },
        "title": {
         "font": {
          "color": "#4D5663"
         }
        },
        "xaxis": {
         "gridcolor": "#E1E5ED",
         "showgrid": true,
         "tickfont": {
          "color": "#4D5663"
         },
         "title": {
          "font": {
           "color": "#4D5663"
          },
          "text": ""
         },
         "zerolinecolor": "#E1E5ED"
        },
        "yaxis": {
         "gridcolor": "#E1E5ED",
         "showgrid": true,
         "tickfont": {
          "color": "#4D5663"
         },
         "title": {
          "font": {
           "color": "#4D5663"
          },
          "text": ""
         },
         "zerolinecolor": "#E1E5ED"
        }
       }
      },
      "text/html": [
       "<div>\n",
       "        \n",
       "        \n",
       "            <div id=\"841a9eb3-e8a8-4021-b5bb-e839f6985621\" class=\"plotly-graph-div\" style=\"height:525px; width:100%;\"></div>\n",
       "            <script type=\"text/javascript\">\n",
       "                require([\"plotly\"], function(Plotly) {\n",
       "                    window.PLOTLYENV=window.PLOTLYENV || {};\n",
       "                    window.PLOTLYENV.BASE_URL='https://plot.ly';\n",
       "                    \n",
       "                if (document.getElementById(\"841a9eb3-e8a8-4021-b5bb-e839f6985621\")) {\n",
       "                    Plotly.newPlot(\n",
       "                        '841a9eb3-e8a8-4021-b5bb-e839f6985621',\n",
       "                        [{\"marker\": {\"color\": [\"rgb(255, 153, 51)\", \"rgb(55, 128, 191)\", \"rgb(50, 171, 96)\", \"rgb(128, 0, 128)\", \"rgb(219, 64, 82)\", \"rgb(0, 128, 128)\", \"rgb(255, 255, 51)\", \"rgb(128, 128, 0)\", \"rgb(251, 128, 114)\", \"rgb(128, 177, 211)\"], \"line\": {\"width\": 1.3}, \"size\": [74, 51, 42, 44, 29, 65, 36, 62, 56, 103, 89, 97, 44, 58, 68, 73, 42, 78, 42, 87, 65, 58, 12, 52, 62, 32, 75, 72, 36, 67, 48, 60, 53, 61, 38, 83, 78, 62, 46, 56, 61, 57, 60, 93, 94, 71, 36, 82, 78, 64, 68, 76, 72, 56, 49, 58, 112, 80, 54, 34, 59, 61, 66, 63, 75, 50, 45, 67, 49, 68, 69, 105, 64, 73, 63, 81, 68, 47, 38, 38, 95, 68, 74, 57, 63, 41, 48, 55, 63, 32, 55, 77, 54, 60, 54, 59, 65, 57, 60, 58], \"symbol\": \"circle\"}, \"mode\": \"markers\", \"text\": \"\", \"type\": \"scatter\", \"x\": [-0.04385431780971637, -0.7301948168187024, -0.3496833695728504, -1.0612823737313737, 0.6591799683260353, 0.12428679487969375, -0.2628424807417794, 2.908786492446553, 0.5339220569380786, -1.5102640304281827, -0.2153849878718799, 0.14062569399657224, -1.2095030942021077, 0.45284316632611793, -1.616644761050487, 1.2057735309487918, -0.27850860903850416, 0.2661868200566413, -0.04888824105785708, 0.5466453961210647, 0.02444249995946009, -0.8803134222022471, 0.3959377294436148, -1.0125477805236467, -0.5403287337285112, -1.3969258083854257, -0.6647798643181021, 0.48996370455519694, -0.23702134521007456, 0.8259808476853691, -0.9134122472273268, -1.1689396577601616, 0.5853346423361953, 0.1165143240319178, -0.2537611614822444, -0.18422371333987664, 0.8742866058103691, -1.073458978869497, -0.11088759020331997, -1.23745560196081, -0.532207923124355, 0.4647951367313668, -0.42647882860361713, 0.6951312657084125, -1.4214167040692915, 0.902602666447066, 0.29741521616193584, 0.528548856648751, 0.9014676973634032, -0.1607135459165966, 0.35723359219153533, 0.23642409792308924, -0.3889773534472179, -2.4151038247887273, -0.09893139723269141, 0.3183672750508919, -1.0378675424182902, 0.287212016653486, -3.79126376982542, -0.8481039639987642, -0.3083120890222015, 1.793456070709133, -1.195369054487541, 1.0073436597216414, -1.2597272629060985, 1.8384369506007168, 0.37605391208689704, 0.6314748697418396, 0.5955215842189099, -0.10636349138020569, -1.4523789133361966, 2.4449306585882913, -0.29666309294170307, -0.21758145830572764, -0.7779081958035611, 0.1354671171040796, 0.15111110801098596, -0.8735875946797669, 2.108292328999151, 0.5581931925719561, -0.028223326518975078, 0.514591322068852, -0.7160014933804951, 1.0216913238644663, -1.3091472140787501, 0.25368841660167313, 0.6179071895170258, -0.34256487682349746, 1.4664115902589256, 0.6724977799274586, -0.8666211910244764, 1.0906099527040427, -2.6320438549269682, -1.2044405223200088, 0.09772313314017038, -0.18085756910776699, 0.18166012654149388, -0.6225026019819604, -1.0801935697404188, 0.6784957157116219], \"y\": [2.954682519418268, 1.2365829943535065, 2.104707567465196, 0.6633122537619591, 0.1538540084551306, 0.23170758817037124, -0.43025246824322605, -0.8062172600617752, 0.046277835727682744, -0.1452225853859939, -0.657776484401953, 0.053257950611550565, 1.5457051738269376, -1.3621708275952347, -0.15216947551494678, -0.7568602100782479, 0.29130806187656605, -1.130874456411832, -0.4631759857994132, -0.14116155647866782, 0.7118687205278166, -1.5500933264992216, 0.23684817274769057, -0.795400792746069, -1.7188704299757898, -0.49587136119877157, 1.0845807749581031, 1.3216725689195945, -0.8772702282109345, -0.6533764162042501, 3.2761707724560956, -0.6205202155431992, -0.13674014934522996, 0.3545319778991714, 0.26694297117685484, -0.07977085536555945, -0.015089174982792847, 0.9816931248247944, -0.9110304148970944, -0.3059876199479298, 0.6662941303764393, -0.23594236213250566, 0.5387516865350658, -0.8591039221027258, -0.4438675856675307, -0.42581560653971906, 1.5211561268716567, -0.3646030143739634, 1.4187212257471844, 0.5596787266396095, -0.20374108789784603, -0.977789621874286, -0.4972843153163968, 1.0519834196489215, 0.8798947682126929, 0.57401381845951, 0.5221857963465762, -0.20410583046198696, -0.7271785758926677, -0.5507149743855863, -0.12348649822361285, -0.34865126481223113, 0.37519336960418925, 0.2054370890711027, -0.3686501583006007, -0.9308147821700553, -0.5101649714460124, -1.312756296156895, -0.6872924129121585, 0.2431653092979941, -0.4680574915932994, 0.25846307724269496, 1.109367302357436, -1.046566276737933, -0.4507778326412062, -0.9890841839195814, -1.1484905543171988, 0.13438786165027108, -2.2366854653203547, -1.7598337752374726, 0.3870442907617244, 1.2678397112271507, 1.263679739194867, -0.13001732439442706, -1.9931688174259747, 0.6132591928043307, 0.10547007627853718, 0.1228225407414566, -2.0286967006534655, 0.4496012985812599, -0.40793324413434073, 1.7038975915424757, -0.7621430975695681, 1.2001373603508956, -0.6727126847149263, -0.2901948996138198, 0.2785826649259012, 0.12294192744039334, -1.17265209109376, 0.9131529756743128]}],\n",
       "                        {\"legend\": {\"bgcolor\": \"#F5F6F9\", \"font\": {\"color\": \"#4D5663\"}}, \"paper_bgcolor\": \"#F5F6F9\", \"plot_bgcolor\": \"#F5F6F9\", \"template\": {\"data\": {\"bar\": [{\"error_x\": {\"color\": \"#2a3f5f\"}, \"error_y\": {\"color\": \"#2a3f5f\"}, \"marker\": {\"line\": {\"color\": \"#E5ECF6\", \"width\": 0.5}}, \"type\": \"bar\"}], \"barpolar\": [{\"marker\": {\"line\": {\"color\": \"#E5ECF6\", \"width\": 0.5}}, \"type\": \"barpolar\"}], \"carpet\": [{\"aaxis\": {\"endlinecolor\": \"#2a3f5f\", \"gridcolor\": \"white\", \"linecolor\": \"white\", \"minorgridcolor\": \"white\", \"startlinecolor\": \"#2a3f5f\"}, \"baxis\": {\"endlinecolor\": \"#2a3f5f\", \"gridcolor\": \"white\", \"linecolor\": \"white\", \"minorgridcolor\": \"white\", \"startlinecolor\": \"#2a3f5f\"}, \"type\": \"carpet\"}], \"choropleth\": [{\"colorbar\": {\"outlinewidth\": 0, \"ticks\": \"\"}, \"type\": \"choropleth\"}], \"contour\": [{\"colorbar\": {\"outlinewidth\": 0, \"ticks\": \"\"}, \"colorscale\": [[0.0, \"#0d0887\"], [0.1111111111111111, \"#46039f\"], [0.2222222222222222, \"#7201a8\"], [0.3333333333333333, \"#9c179e\"], [0.4444444444444444, \"#bd3786\"], [0.5555555555555556, \"#d8576b\"], [0.6666666666666666, \"#ed7953\"], [0.7777777777777778, \"#fb9f3a\"], [0.8888888888888888, \"#fdca26\"], [1.0, \"#f0f921\"]], \"type\": \"contour\"}], \"contourcarpet\": [{\"colorbar\": {\"outlinewidth\": 0, \"ticks\": \"\"}, \"type\": \"contourcarpet\"}], \"heatmap\": [{\"colorbar\": {\"outlinewidth\": 0, \"ticks\": \"\"}, \"colorscale\": [[0.0, \"#0d0887\"], [0.1111111111111111, \"#46039f\"], [0.2222222222222222, \"#7201a8\"], [0.3333333333333333, \"#9c179e\"], [0.4444444444444444, \"#bd3786\"], [0.5555555555555556, \"#d8576b\"], [0.6666666666666666, \"#ed7953\"], [0.7777777777777778, \"#fb9f3a\"], [0.8888888888888888, \"#fdca26\"], [1.0, \"#f0f921\"]], \"type\": \"heatmap\"}], \"heatmapgl\": [{\"colorbar\": {\"outlinewidth\": 0, \"ticks\": \"\"}, \"colorscale\": [[0.0, \"#0d0887\"], [0.1111111111111111, \"#46039f\"], [0.2222222222222222, \"#7201a8\"], [0.3333333333333333, \"#9c179e\"], [0.4444444444444444, \"#bd3786\"], [0.5555555555555556, \"#d8576b\"], [0.6666666666666666, \"#ed7953\"], [0.7777777777777778, \"#fb9f3a\"], [0.8888888888888888, \"#fdca26\"], [1.0, \"#f0f921\"]], \"type\": \"heatmapgl\"}], \"histogram\": [{\"marker\": {\"colorbar\": {\"outlinewidth\": 0, \"ticks\": \"\"}}, \"type\": \"histogram\"}], \"histogram2d\": [{\"colorbar\": {\"outlinewidth\": 0, \"ticks\": \"\"}, \"colorscale\": [[0.0, \"#0d0887\"], [0.1111111111111111, \"#46039f\"], [0.2222222222222222, \"#7201a8\"], [0.3333333333333333, \"#9c179e\"], [0.4444444444444444, \"#bd3786\"], [0.5555555555555556, \"#d8576b\"], [0.6666666666666666, \"#ed7953\"], [0.7777777777777778, \"#fb9f3a\"], [0.8888888888888888, \"#fdca26\"], [1.0, \"#f0f921\"]], \"type\": \"histogram2d\"}], \"histogram2dcontour\": [{\"colorbar\": {\"outlinewidth\": 0, \"ticks\": \"\"}, \"colorscale\": [[0.0, \"#0d0887\"], [0.1111111111111111, \"#46039f\"], [0.2222222222222222, \"#7201a8\"], [0.3333333333333333, \"#9c179e\"], [0.4444444444444444, \"#bd3786\"], [0.5555555555555556, \"#d8576b\"], [0.6666666666666666, \"#ed7953\"], [0.7777777777777778, \"#fb9f3a\"], [0.8888888888888888, \"#fdca26\"], [1.0, \"#f0f921\"]], \"type\": \"histogram2dcontour\"}], \"mesh3d\": [{\"colorbar\": {\"outlinewidth\": 0, \"ticks\": \"\"}, \"type\": \"mesh3d\"}], \"parcoords\": [{\"line\": {\"colorbar\": {\"outlinewidth\": 0, \"ticks\": \"\"}}, \"type\": \"parcoords\"}], \"pie\": [{\"automargin\": true, \"type\": \"pie\"}], \"scatter\": [{\"marker\": {\"colorbar\": {\"outlinewidth\": 0, \"ticks\": \"\"}}, \"type\": \"scatter\"}], \"scatter3d\": [{\"line\": {\"colorbar\": {\"outlinewidth\": 0, \"ticks\": \"\"}}, \"marker\": {\"colorbar\": {\"outlinewidth\": 0, \"ticks\": \"\"}}, \"type\": \"scatter3d\"}], \"scattercarpet\": [{\"marker\": {\"colorbar\": {\"outlinewidth\": 0, \"ticks\": \"\"}}, \"type\": \"scattercarpet\"}], \"scattergeo\": [{\"marker\": {\"colorbar\": {\"outlinewidth\": 0, \"ticks\": \"\"}}, \"type\": \"scattergeo\"}], \"scattergl\": [{\"marker\": {\"colorbar\": {\"outlinewidth\": 0, \"ticks\": \"\"}}, \"type\": \"scattergl\"}], \"scattermapbox\": [{\"marker\": {\"colorbar\": {\"outlinewidth\": 0, \"ticks\": \"\"}}, \"type\": \"scattermapbox\"}], \"scatterpolar\": [{\"marker\": {\"colorbar\": {\"outlinewidth\": 0, \"ticks\": \"\"}}, \"type\": \"scatterpolar\"}], \"scatterpolargl\": [{\"marker\": {\"colorbar\": {\"outlinewidth\": 0, \"ticks\": \"\"}}, \"type\": \"scatterpolargl\"}], \"scatterternary\": [{\"marker\": {\"colorbar\": {\"outlinewidth\": 0, \"ticks\": \"\"}}, \"type\": \"scatterternary\"}], \"surface\": [{\"colorbar\": {\"outlinewidth\": 0, \"ticks\": \"\"}, \"colorscale\": [[0.0, \"#0d0887\"], [0.1111111111111111, \"#46039f\"], [0.2222222222222222, \"#7201a8\"], [0.3333333333333333, \"#9c179e\"], [0.4444444444444444, \"#bd3786\"], [0.5555555555555556, \"#d8576b\"], [0.6666666666666666, \"#ed7953\"], [0.7777777777777778, \"#fb9f3a\"], [0.8888888888888888, \"#fdca26\"], [1.0, \"#f0f921\"]], \"type\": \"surface\"}], \"table\": [{\"cells\": {\"fill\": {\"color\": \"#EBF0F8\"}, \"line\": {\"color\": \"white\"}}, \"header\": {\"fill\": {\"color\": \"#C8D4E3\"}, \"line\": {\"color\": \"white\"}}, \"type\": \"table\"}]}, \"layout\": {\"annotationdefaults\": {\"arrowcolor\": \"#2a3f5f\", \"arrowhead\": 0, \"arrowwidth\": 1}, \"coloraxis\": {\"colorbar\": {\"outlinewidth\": 0, \"ticks\": \"\"}}, \"colorscale\": {\"diverging\": [[0, \"#8e0152\"], [0.1, \"#c51b7d\"], [0.2, \"#de77ae\"], [0.3, \"#f1b6da\"], [0.4, \"#fde0ef\"], [0.5, \"#f7f7f7\"], [0.6, \"#e6f5d0\"], [0.7, \"#b8e186\"], [0.8, \"#7fbc41\"], [0.9, \"#4d9221\"], [1, \"#276419\"]], \"sequential\": [[0.0, \"#0d0887\"], [0.1111111111111111, \"#46039f\"], [0.2222222222222222, \"#7201a8\"], [0.3333333333333333, \"#9c179e\"], [0.4444444444444444, \"#bd3786\"], [0.5555555555555556, \"#d8576b\"], [0.6666666666666666, \"#ed7953\"], [0.7777777777777778, \"#fb9f3a\"], [0.8888888888888888, \"#fdca26\"], [1.0, \"#f0f921\"]], \"sequentialminus\": [[0.0, \"#0d0887\"], [0.1111111111111111, \"#46039f\"], [0.2222222222222222, \"#7201a8\"], [0.3333333333333333, \"#9c179e\"], [0.4444444444444444, \"#bd3786\"], [0.5555555555555556, \"#d8576b\"], [0.6666666666666666, \"#ed7953\"], [0.7777777777777778, \"#fb9f3a\"], [0.8888888888888888, \"#fdca26\"], [1.0, \"#f0f921\"]]}, \"colorway\": [\"#636efa\", \"#EF553B\", \"#00cc96\", \"#ab63fa\", \"#FFA15A\", \"#19d3f3\", \"#FF6692\", \"#B6E880\", \"#FF97FF\", \"#FECB52\"], \"font\": {\"color\": \"#2a3f5f\"}, \"geo\": {\"bgcolor\": \"white\", \"lakecolor\": \"white\", \"landcolor\": \"#E5ECF6\", \"showlakes\": true, \"showland\": true, \"subunitcolor\": \"white\"}, \"hoverlabel\": {\"align\": \"left\"}, \"hovermode\": \"closest\", \"mapbox\": {\"style\": \"light\"}, \"paper_bgcolor\": \"white\", \"plot_bgcolor\": \"#E5ECF6\", \"polar\": {\"angularaxis\": {\"gridcolor\": \"white\", \"linecolor\": \"white\", \"ticks\": \"\"}, \"bgcolor\": \"#E5ECF6\", \"radialaxis\": {\"gridcolor\": \"white\", \"linecolor\": \"white\", \"ticks\": \"\"}}, \"scene\": {\"xaxis\": {\"backgroundcolor\": \"#E5ECF6\", \"gridcolor\": \"white\", \"gridwidth\": 2, \"linecolor\": \"white\", \"showbackground\": true, \"ticks\": \"\", \"zerolinecolor\": \"white\"}, \"yaxis\": {\"backgroundcolor\": \"#E5ECF6\", \"gridcolor\": \"white\", \"gridwidth\": 2, \"linecolor\": \"white\", \"showbackground\": true, \"ticks\": \"\", \"zerolinecolor\": \"white\"}, \"zaxis\": {\"backgroundcolor\": \"#E5ECF6\", \"gridcolor\": \"white\", \"gridwidth\": 2, \"linecolor\": \"white\", \"showbackground\": true, \"ticks\": \"\", \"zerolinecolor\": \"white\"}}, \"shapedefaults\": {\"line\": {\"color\": \"#2a3f5f\"}}, \"ternary\": {\"aaxis\": {\"gridcolor\": \"white\", \"linecolor\": \"white\", \"ticks\": \"\"}, \"baxis\": {\"gridcolor\": \"white\", \"linecolor\": \"white\", \"ticks\": \"\"}, \"bgcolor\": \"#E5ECF6\", \"caxis\": {\"gridcolor\": \"white\", \"linecolor\": \"white\", \"ticks\": \"\"}}, \"title\": {\"x\": 0.05}, \"xaxis\": {\"automargin\": true, \"gridcolor\": \"white\", \"linecolor\": \"white\", \"ticks\": \"\", \"title\": {\"standoff\": 15}, \"zerolinecolor\": \"white\", \"zerolinewidth\": 2}, \"yaxis\": {\"automargin\": true, \"gridcolor\": \"white\", \"linecolor\": \"white\", \"ticks\": \"\", \"title\": {\"standoff\": 15}, \"zerolinecolor\": \"white\", \"zerolinewidth\": 2}}}, \"title\": {\"font\": {\"color\": \"#4D5663\"}}, \"xaxis\": {\"gridcolor\": \"#E1E5ED\", \"showgrid\": true, \"tickfont\": {\"color\": \"#4D5663\"}, \"title\": {\"font\": {\"color\": \"#4D5663\"}, \"text\": \"\"}, \"zerolinecolor\": \"#E1E5ED\"}, \"yaxis\": {\"gridcolor\": \"#E1E5ED\", \"showgrid\": true, \"tickfont\": {\"color\": \"#4D5663\"}, \"title\": {\"font\": {\"color\": \"#4D5663\"}, \"text\": \"\"}, \"zerolinecolor\": \"#E1E5ED\"}},\n",
       "                        {\"showLink\": true, \"linkText\": \"Export to plot.ly\", \"plotlyServerURL\": \"https://plot.ly\", \"responsive\": true}\n",
       "                    ).then(function(){\n",
       "                            \n",
       "var gd = document.getElementById('841a9eb3-e8a8-4021-b5bb-e839f6985621');\n",
       "var x = new MutationObserver(function (mutations, observer) {{\n",
       "        var display = window.getComputedStyle(gd).display;\n",
       "        if (!display || display === 'none') {{\n",
       "            console.log([gd, 'removed!']);\n",
       "            Plotly.purge(gd);\n",
       "            observer.disconnect();\n",
       "        }}\n",
       "}});\n",
       "\n",
       "// Listen for the removal of the full notebook cells\n",
       "var notebookContainer = gd.closest('#notebook-container');\n",
       "if (notebookContainer) {{\n",
       "    x.observe(notebookContainer, {childList: true});\n",
       "}}\n",
       "\n",
       "// Listen for the clearing of the current output cell\n",
       "var outputEl = gd.closest('.output');\n",
       "if (outputEl) {{\n",
       "    x.observe(outputEl, {childList: true});\n",
       "}}\n",
       "\n",
       "                        })\n",
       "                };\n",
       "                });\n",
       "            </script>\n",
       "        </div>"
      ]
     },
     "metadata": {},
     "output_type": "display_data"
    }
   ],
   "source": [
    "df.iplot(kind='bubble',x='A',y='B',size='C')\n",
    "\n",
    "# World GDP, Happiness index"
   ]
  },
  {
   "cell_type": "code",
   "execution_count": 48,
   "metadata": {},
   "outputs": [
    {
     "data": {
      "application/vnd.plotly.v1+json": {
       "config": {
        "linkText": "Export to plot.ly",
        "plotlyServerURL": "https://plot.ly",
        "showLink": true
       },
       "data": [
        {
         "histfunc": "count",
         "histnorm": "",
         "marker": {
          "color": "rgba(255, 153, 51, 1.0)",
          "line": {
           "color": "#4D5663",
           "width": 1.3
          }
         },
         "name": "A",
         "nbinsx": 10,
         "opacity": 0.8,
         "orientation": "v",
         "type": "histogram",
         "x": [
          -0.04385431780971637,
          -0.7301948168187024,
          -0.3496833695728504,
          -1.0612823737313737,
          0.6591799683260353,
          0.12428679487969375,
          -0.2628424807417794,
          2.908786492446553,
          0.5339220569380786,
          -1.5102640304281827,
          -0.2153849878718799,
          0.14062569399657224,
          -1.2095030942021077,
          0.45284316632611793,
          -1.616644761050487,
          1.2057735309487918,
          -0.27850860903850416,
          0.2661868200566413,
          -0.04888824105785708,
          0.5466453961210647,
          0.02444249995946009,
          -0.8803134222022471,
          0.3959377294436148,
          -1.0125477805236467,
          -0.5403287337285112,
          -1.3969258083854257,
          -0.6647798643181021,
          0.48996370455519694,
          -0.23702134521007456,
          0.8259808476853691,
          -0.9134122472273268,
          -1.1689396577601616,
          0.5853346423361953,
          0.1165143240319178,
          -0.2537611614822444,
          -0.18422371333987664,
          0.8742866058103691,
          -1.073458978869497,
          -0.11088759020331997,
          -1.23745560196081,
          -0.532207923124355,
          0.4647951367313668,
          -0.42647882860361713,
          0.6951312657084125,
          -1.4214167040692915,
          0.902602666447066,
          0.29741521616193584,
          0.528548856648751,
          0.9014676973634032,
          -0.1607135459165966,
          0.35723359219153533,
          0.23642409792308924,
          -0.3889773534472179,
          -2.4151038247887273,
          -0.09893139723269141,
          0.3183672750508919,
          -1.0378675424182902,
          0.287212016653486,
          -3.79126376982542,
          -0.8481039639987642,
          -0.3083120890222015,
          1.793456070709133,
          -1.195369054487541,
          1.0073436597216414,
          -1.2597272629060985,
          1.8384369506007168,
          0.37605391208689704,
          0.6314748697418396,
          0.5955215842189099,
          -0.10636349138020569,
          -1.4523789133361966,
          2.4449306585882913,
          -0.29666309294170307,
          -0.21758145830572764,
          -0.7779081958035611,
          0.1354671171040796,
          0.15111110801098596,
          -0.8735875946797669,
          2.108292328999151,
          0.5581931925719561,
          -0.028223326518975078,
          0.514591322068852,
          -0.7160014933804951,
          1.0216913238644663,
          -1.3091472140787501,
          0.25368841660167313,
          0.6179071895170258,
          -0.34256487682349746,
          1.4664115902589256,
          0.6724977799274586,
          -0.8666211910244764,
          1.0906099527040427,
          -2.6320438549269682,
          -1.2044405223200088,
          0.09772313314017038,
          -0.18085756910776699,
          0.18166012654149388,
          -0.6225026019819604,
          -1.0801935697404188,
          0.6784957157116219
         ],
         "xaxis": "x",
         "yaxis": "y"
        },
        {
         "line": {
          "color": "rgba(128, 128, 128, 1.0)",
          "dash": "solid",
          "shape": "linear",
          "width": 1.3
         },
         "marker": {
          "size": 2,
          "symbol": "circle"
         },
         "mode": "markers",
         "name": "A",
         "text": "",
         "type": "scatter",
         "x": [
          2.954682519418268,
          1.2365829943535065,
          2.104707567465196,
          0.6633122537619591,
          0.1538540084551306,
          0.23170758817037124,
          -0.43025246824322605,
          -0.8062172600617752,
          0.046277835727682744,
          -0.1452225853859939,
          -0.657776484401953,
          0.053257950611550565,
          1.5457051738269376,
          -1.3621708275952347,
          -0.15216947551494678,
          -0.7568602100782479,
          0.29130806187656605,
          -1.130874456411832,
          -0.4631759857994132,
          -0.14116155647866782,
          0.7118687205278166,
          -1.5500933264992216,
          0.23684817274769057,
          -0.795400792746069,
          -1.7188704299757898,
          -0.49587136119877157,
          1.0845807749581031,
          1.3216725689195945,
          -0.8772702282109345,
          -0.6533764162042501,
          3.2761707724560956,
          -0.6205202155431992,
          -0.13674014934522996,
          0.3545319778991714,
          0.26694297117685484,
          -0.07977085536555945,
          -0.015089174982792847,
          0.9816931248247944,
          -0.9110304148970944,
          -0.3059876199479298,
          0.6662941303764393,
          -0.23594236213250566,
          0.5387516865350658,
          -0.8591039221027258,
          -0.4438675856675307,
          -0.42581560653971906,
          1.5211561268716567,
          -0.3646030143739634,
          1.4187212257471844,
          0.5596787266396095,
          -0.20374108789784603,
          -0.977789621874286,
          -0.4972843153163968,
          1.0519834196489215,
          0.8798947682126929,
          0.57401381845951,
          0.5221857963465762,
          -0.20410583046198696,
          -0.7271785758926677,
          -0.5507149743855863,
          -0.12348649822361285,
          -0.34865126481223113,
          0.37519336960418925,
          0.2054370890711027,
          -0.3686501583006007,
          -0.9308147821700553,
          -0.5101649714460124,
          -1.312756296156895,
          -0.6872924129121585,
          0.2431653092979941,
          -0.4680574915932994,
          0.25846307724269496,
          1.109367302357436,
          -1.046566276737933,
          -0.4507778326412062,
          -0.9890841839195814,
          -1.1484905543171988,
          0.13438786165027108,
          -2.2366854653203547,
          -1.7598337752374726,
          0.3870442907617244,
          1.2678397112271507,
          1.263679739194867,
          -0.13001732439442706,
          -1.9931688174259747,
          0.6132591928043307,
          0.10547007627853718,
          0.1228225407414566,
          -2.0286967006534655,
          0.4496012985812599,
          -0.40793324413434073,
          1.7038975915424757,
          -0.7621430975695681,
          1.2001373603508956,
          -0.6727126847149263,
          -0.2901948996138198,
          0.2785826649259012,
          0.12294192744039334,
          -1.17265209109376,
          0.9131529756743128
         ],
         "xaxis": "x2",
         "y": [
          -0.04385431780971637,
          -0.7301948168187024,
          -0.3496833695728504,
          -1.0612823737313737,
          0.6591799683260353,
          0.12428679487969375,
          -0.2628424807417794,
          2.908786492446553,
          0.5339220569380786,
          -1.5102640304281827,
          -0.2153849878718799,
          0.14062569399657224,
          -1.2095030942021077,
          0.45284316632611793,
          -1.616644761050487,
          1.2057735309487918,
          -0.27850860903850416,
          0.2661868200566413,
          -0.04888824105785708,
          0.5466453961210647,
          0.02444249995946009,
          -0.8803134222022471,
          0.3959377294436148,
          -1.0125477805236467,
          -0.5403287337285112,
          -1.3969258083854257,
          -0.6647798643181021,
          0.48996370455519694,
          -0.23702134521007456,
          0.8259808476853691,
          -0.9134122472273268,
          -1.1689396577601616,
          0.5853346423361953,
          0.1165143240319178,
          -0.2537611614822444,
          -0.18422371333987664,
          0.8742866058103691,
          -1.073458978869497,
          -0.11088759020331997,
          -1.23745560196081,
          -0.532207923124355,
          0.4647951367313668,
          -0.42647882860361713,
          0.6951312657084125,
          -1.4214167040692915,
          0.902602666447066,
          0.29741521616193584,
          0.528548856648751,
          0.9014676973634032,
          -0.1607135459165966,
          0.35723359219153533,
          0.23642409792308924,
          -0.3889773534472179,
          -2.4151038247887273,
          -0.09893139723269141,
          0.3183672750508919,
          -1.0378675424182902,
          0.287212016653486,
          -3.79126376982542,
          -0.8481039639987642,
          -0.3083120890222015,
          1.793456070709133,
          -1.195369054487541,
          1.0073436597216414,
          -1.2597272629060985,
          1.8384369506007168,
          0.37605391208689704,
          0.6314748697418396,
          0.5955215842189099,
          -0.10636349138020569,
          -1.4523789133361966,
          2.4449306585882913,
          -0.29666309294170307,
          -0.21758145830572764,
          -0.7779081958035611,
          0.1354671171040796,
          0.15111110801098596,
          -0.8735875946797669,
          2.108292328999151,
          0.5581931925719561,
          -0.028223326518975078,
          0.514591322068852,
          -0.7160014933804951,
          1.0216913238644663,
          -1.3091472140787501,
          0.25368841660167313,
          0.6179071895170258,
          -0.34256487682349746,
          1.4664115902589256,
          0.6724977799274586,
          -0.8666211910244764,
          1.0906099527040427,
          -2.6320438549269682,
          -1.2044405223200088,
          0.09772313314017038,
          -0.18085756910776699,
          0.18166012654149388,
          -0.6225026019819604,
          -1.0801935697404188,
          0.6784957157116219
         ],
         "yaxis": "y2"
        },
        {
         "line": {
          "color": "rgba(128, 128, 128, 1.0)",
          "dash": "solid",
          "shape": "linear",
          "width": 1.3
         },
         "marker": {
          "size": 2,
          "symbol": "circle"
         },
         "mode": "markers",
         "name": "A",
         "text": "",
         "type": "scatter",
         "x": [
          0.695594519761371,
          -0.7451101083358315,
          -1.3092545798623205,
          -1.148967679813761,
          -2.1499901091118283,
          0.16921733208513434,
          -1.652035274965219,
          -0.06536511772995664,
          -0.451555039427988,
          2.5508875085079254,
          1.6432397771654574,
          2.175007969085216,
          -1.183349169847012,
          -0.2803436459544689,
          0.3113778761058616,
          0.6580789933974976,
          -1.2871858908274494,
          0.9421677539359915,
          -1.27898705793451,
          1.5220905163816603,
          0.172627185075392,
          -0.2920546413135475,
          -3.2200752056661366,
          -0.6595483098958985,
          -0.037209911818583956,
          -1.9113396033227792,
          0.7495406055142672,
          0.6122124912669217,
          -1.649923917785392,
          0.24031623434340352,
          -0.9305668877584682,
          -0.17927603028592373,
          -0.6189685160089439,
          -0.10426964419885773,
          -1.584842525233409,
          1.3008582838270968,
          0.9627046666914726,
          -0.07243392267314792,
          -1.0550103985991441,
          -0.42292256301955466,
          -0.0816781964074479,
          -0.3831036956544528,
          -0.18646700797564847,
          1.9161854583075255,
          1.987584099296576,
          0.503544436898424,
          -1.6917730357682448,
          1.2140789508574432,
          0.9544265944842146,
          0.07235024083734189,
          0.30208565258184666,
          0.8493376013882723,
          0.6094930176110523,
          -0.4197814073474403,
          -0.8892714466838095,
          -0.27573081018871615,
          3.06633035138194,
          1.115310615469231,
          -0.5629187882893806,
          -1.7751598399064026,
          -0.22054072021463594,
          -0.1250791946004363,
          0.20207024305742066,
          0.012822231749756524,
          0.7630588279922778,
          -0.7816538608318876,
          -1.1429232919669339,
          0.2819344067155209,
          -0.8882891798691497,
          0.31157165384845725,
          0.4059458147284747,
          2.6654818835155956,
          0.08870181610828648,
          0.622983938101566,
          0.007318167216649481,
          1.1582841684738987,
          0.3045017436015654,
          -0.96055674405388,
          -1.5729460031035347,
          -1.5352180576477532,
          2.0016917048090974,
          0.32958653439078367,
          0.6779242903392502,
          -0.3490746406178837,
          0.03283304032337678,
          -1.3940960375701712,
          -0.9332614368379432,
          -0.48306539946151844,
          0.03717416280524384,
          -1.9064036857319562,
          -0.46771930351655083,
          0.9276597763861216,
          -0.5758620461840461,
          -0.1980995575800092,
          -0.5506458950883171,
          -0.2243089631924862,
          0.1512145499046544,
          -0.3543541912031643,
          -0.16606095706018428,
          -0.31715418224932196
         ],
         "xaxis": "x3",
         "y": [
          -0.04385431780971637,
          -0.7301948168187024,
          -0.3496833695728504,
          -1.0612823737313737,
          0.6591799683260353,
          0.12428679487969375,
          -0.2628424807417794,
          2.908786492446553,
          0.5339220569380786,
          -1.5102640304281827,
          -0.2153849878718799,
          0.14062569399657224,
          -1.2095030942021077,
          0.45284316632611793,
          -1.616644761050487,
          1.2057735309487918,
          -0.27850860903850416,
          0.2661868200566413,
          -0.04888824105785708,
          0.5466453961210647,
          0.02444249995946009,
          -0.8803134222022471,
          0.3959377294436148,
          -1.0125477805236467,
          -0.5403287337285112,
          -1.3969258083854257,
          -0.6647798643181021,
          0.48996370455519694,
          -0.23702134521007456,
          0.8259808476853691,
          -0.9134122472273268,
          -1.1689396577601616,
          0.5853346423361953,
          0.1165143240319178,
          -0.2537611614822444,
          -0.18422371333987664,
          0.8742866058103691,
          -1.073458978869497,
          -0.11088759020331997,
          -1.23745560196081,
          -0.532207923124355,
          0.4647951367313668,
          -0.42647882860361713,
          0.6951312657084125,
          -1.4214167040692915,
          0.902602666447066,
          0.29741521616193584,
          0.528548856648751,
          0.9014676973634032,
          -0.1607135459165966,
          0.35723359219153533,
          0.23642409792308924,
          -0.3889773534472179,
          -2.4151038247887273,
          -0.09893139723269141,
          0.3183672750508919,
          -1.0378675424182902,
          0.287212016653486,
          -3.79126376982542,
          -0.8481039639987642,
          -0.3083120890222015,
          1.793456070709133,
          -1.195369054487541,
          1.0073436597216414,
          -1.2597272629060985,
          1.8384369506007168,
          0.37605391208689704,
          0.6314748697418396,
          0.5955215842189099,
          -0.10636349138020569,
          -1.4523789133361966,
          2.4449306585882913,
          -0.29666309294170307,
          -0.21758145830572764,
          -0.7779081958035611,
          0.1354671171040796,
          0.15111110801098596,
          -0.8735875946797669,
          2.108292328999151,
          0.5581931925719561,
          -0.028223326518975078,
          0.514591322068852,
          -0.7160014933804951,
          1.0216913238644663,
          -1.3091472140787501,
          0.25368841660167313,
          0.6179071895170258,
          -0.34256487682349746,
          1.4664115902589256,
          0.6724977799274586,
          -0.8666211910244764,
          1.0906099527040427,
          -2.6320438549269682,
          -1.2044405223200088,
          0.09772313314017038,
          -0.18085756910776699,
          0.18166012654149388,
          -0.6225026019819604,
          -1.0801935697404188,
          0.6784957157116219
         ],
         "yaxis": "y3"
        },
        {
         "line": {
          "color": "rgba(128, 128, 128, 1.0)",
          "dash": "solid",
          "shape": "linear",
          "width": 1.3
         },
         "marker": {
          "size": 2,
          "symbol": "circle"
         },
         "mode": "markers",
         "name": "A",
         "text": "",
         "type": "scatter",
         "x": [
          0.1348211493105177,
          1.331072068722212,
          -1.856840393991974,
          -1.0826692199085175,
          -1.4861759389019042,
          0.9448367510453909,
          0.9002622575274538,
          0.2399951548724196,
          -2.7173109542978042,
          0.6358996172944497,
          0.013757881283311239,
          -0.30715286666621483,
          0.36698070920852155,
          -0.8241317881946497,
          -1.5208647650174614,
          -0.7354562768430071,
          -1.2537972621985167,
          0.8879858198033864,
          -0.7099413000745913,
          -0.6240399942306015,
          2.2184997482400917,
          0.2566080222408146,
          -0.7233435325170695,
          -0.36585809401055946,
          -1.5176547330218004,
          0.5428843962132254,
          -0.4398698888030055,
          0.343625536158871,
          0.1981011674381106,
          0.8065099979206843,
          -1.3603521867792383,
          -0.17187123307592236,
          -1.6779996175054712,
          0.38561612398650275,
          -2.012641034881616,
          -0.37708334812546124,
          -0.04562884599330884,
          -0.4009859990959282,
          0.6939560396032762,
          -1.78589611443427,
          -1.869929131699314,
          -1.399889560058229,
          0.15886750495167176,
          -0.3242586354086578,
          0.9034370869926133,
          -0.5786721926747008,
          -0.8674333759306216,
          0.3454016300783812,
          -0.20187575531975432,
          0.5731724210192811,
          0.23715723874630953,
          1.106720036550557,
          0.9690019581797024,
          0.5959919953305238,
          1.3582327789677624,
          -0.18367776327384572,
          -1.4022175568766304,
          -0.023017278639227246,
          0.3169347429440951,
          1.6603832291117644,
          -0.8495586844825627,
          1.1618684561968171,
          -0.948641960168968,
          0.4354038402751054,
          1.8365202541015424,
          -0.1825034667378457,
          -0.38320184376570177,
          0.41371927923165663,
          -0.4562605062334397,
          -0.29220079785319764,
          -0.041964047096023624,
          0.9246400743910076,
          0.7486839011837545,
          0.2158078060728754,
          -0.6879751583409635,
          1.2030021629063608,
          1.0873298065069406,
          -1.1628069379634776,
          0.9894835492205013,
          -1.2539601106537022,
          -2.2373877359023164,
          -0.2631588365834419,
          1.361965225380507,
          -0.5719167168501775,
          0.5136380454219858,
          2.68058524805295,
          0.7179977132596467,
          0.9458129117680553,
          -1.8728427934674337,
          1.3507462150713798,
          2.004330894660265,
          -0.6651732025284808,
          -0.328919945248043,
          0.691612592123649,
          1.2548065655832024,
          0.37875592667530106,
          0.17997557036559772,
          -0.5682732751177091,
          -0.6318359329537082,
          -0.5939026606920121
         ],
         "xaxis": "x4",
         "y": [
          -0.04385431780971637,
          -0.7301948168187024,
          -0.3496833695728504,
          -1.0612823737313737,
          0.6591799683260353,
          0.12428679487969375,
          -0.2628424807417794,
          2.908786492446553,
          0.5339220569380786,
          -1.5102640304281827,
          -0.2153849878718799,
          0.14062569399657224,
          -1.2095030942021077,
          0.45284316632611793,
          -1.616644761050487,
          1.2057735309487918,
          -0.27850860903850416,
          0.2661868200566413,
          -0.04888824105785708,
          0.5466453961210647,
          0.02444249995946009,
          -0.8803134222022471,
          0.3959377294436148,
          -1.0125477805236467,
          -0.5403287337285112,
          -1.3969258083854257,
          -0.6647798643181021,
          0.48996370455519694,
          -0.23702134521007456,
          0.8259808476853691,
          -0.9134122472273268,
          -1.1689396577601616,
          0.5853346423361953,
          0.1165143240319178,
          -0.2537611614822444,
          -0.18422371333987664,
          0.8742866058103691,
          -1.073458978869497,
          -0.11088759020331997,
          -1.23745560196081,
          -0.532207923124355,
          0.4647951367313668,
          -0.42647882860361713,
          0.6951312657084125,
          -1.4214167040692915,
          0.902602666447066,
          0.29741521616193584,
          0.528548856648751,
          0.9014676973634032,
          -0.1607135459165966,
          0.35723359219153533,
          0.23642409792308924,
          -0.3889773534472179,
          -2.4151038247887273,
          -0.09893139723269141,
          0.3183672750508919,
          -1.0378675424182902,
          0.287212016653486,
          -3.79126376982542,
          -0.8481039639987642,
          -0.3083120890222015,
          1.793456070709133,
          -1.195369054487541,
          1.0073436597216414,
          -1.2597272629060985,
          1.8384369506007168,
          0.37605391208689704,
          0.6314748697418396,
          0.5955215842189099,
          -0.10636349138020569,
          -1.4523789133361966,
          2.4449306585882913,
          -0.29666309294170307,
          -0.21758145830572764,
          -0.7779081958035611,
          0.1354671171040796,
          0.15111110801098596,
          -0.8735875946797669,
          2.108292328999151,
          0.5581931925719561,
          -0.028223326518975078,
          0.514591322068852,
          -0.7160014933804951,
          1.0216913238644663,
          -1.3091472140787501,
          0.25368841660167313,
          0.6179071895170258,
          -0.34256487682349746,
          1.4664115902589256,
          0.6724977799274586,
          -0.8666211910244764,
          1.0906099527040427,
          -2.6320438549269682,
          -1.2044405223200088,
          0.09772313314017038,
          -0.18085756910776699,
          0.18166012654149388,
          -0.6225026019819604,
          -1.0801935697404188,
          0.6784957157116219
         ],
         "yaxis": "y4"
        },
        {
         "line": {
          "color": "rgba(128, 128, 128, 1.0)",
          "dash": "solid",
          "shape": "linear",
          "width": 1.3
         },
         "marker": {
          "size": 2,
          "symbol": "circle"
         },
         "mode": "markers",
         "name": "B",
         "text": "",
         "type": "scatter",
         "x": [
          -0.04385431780971637,
          -0.7301948168187024,
          -0.3496833695728504,
          -1.0612823737313737,
          0.6591799683260353,
          0.12428679487969375,
          -0.2628424807417794,
          2.908786492446553,
          0.5339220569380786,
          -1.5102640304281827,
          -0.2153849878718799,
          0.14062569399657224,
          -1.2095030942021077,
          0.45284316632611793,
          -1.616644761050487,
          1.2057735309487918,
          -0.27850860903850416,
          0.2661868200566413,
          -0.04888824105785708,
          0.5466453961210647,
          0.02444249995946009,
          -0.8803134222022471,
          0.3959377294436148,
          -1.0125477805236467,
          -0.5403287337285112,
          -1.3969258083854257,
          -0.6647798643181021,
          0.48996370455519694,
          -0.23702134521007456,
          0.8259808476853691,
          -0.9134122472273268,
          -1.1689396577601616,
          0.5853346423361953,
          0.1165143240319178,
          -0.2537611614822444,
          -0.18422371333987664,
          0.8742866058103691,
          -1.073458978869497,
          -0.11088759020331997,
          -1.23745560196081,
          -0.532207923124355,
          0.4647951367313668,
          -0.42647882860361713,
          0.6951312657084125,
          -1.4214167040692915,
          0.902602666447066,
          0.29741521616193584,
          0.528548856648751,
          0.9014676973634032,
          -0.1607135459165966,
          0.35723359219153533,
          0.23642409792308924,
          -0.3889773534472179,
          -2.4151038247887273,
          -0.09893139723269141,
          0.3183672750508919,
          -1.0378675424182902,
          0.287212016653486,
          -3.79126376982542,
          -0.8481039639987642,
          -0.3083120890222015,
          1.793456070709133,
          -1.195369054487541,
          1.0073436597216414,
          -1.2597272629060985,
          1.8384369506007168,
          0.37605391208689704,
          0.6314748697418396,
          0.5955215842189099,
          -0.10636349138020569,
          -1.4523789133361966,
          2.4449306585882913,
          -0.29666309294170307,
          -0.21758145830572764,
          -0.7779081958035611,
          0.1354671171040796,
          0.15111110801098596,
          -0.8735875946797669,
          2.108292328999151,
          0.5581931925719561,
          -0.028223326518975078,
          0.514591322068852,
          -0.7160014933804951,
          1.0216913238644663,
          -1.3091472140787501,
          0.25368841660167313,
          0.6179071895170258,
          -0.34256487682349746,
          1.4664115902589256,
          0.6724977799274586,
          -0.8666211910244764,
          1.0906099527040427,
          -2.6320438549269682,
          -1.2044405223200088,
          0.09772313314017038,
          -0.18085756910776699,
          0.18166012654149388,
          -0.6225026019819604,
          -1.0801935697404188,
          0.6784957157116219
         ],
         "xaxis": "x5",
         "y": [
          2.954682519418268,
          1.2365829943535065,
          2.104707567465196,
          0.6633122537619591,
          0.1538540084551306,
          0.23170758817037124,
          -0.43025246824322605,
          -0.8062172600617752,
          0.046277835727682744,
          -0.1452225853859939,
          -0.657776484401953,
          0.053257950611550565,
          1.5457051738269376,
          -1.3621708275952347,
          -0.15216947551494678,
          -0.7568602100782479,
          0.29130806187656605,
          -1.130874456411832,
          -0.4631759857994132,
          -0.14116155647866782,
          0.7118687205278166,
          -1.5500933264992216,
          0.23684817274769057,
          -0.795400792746069,
          -1.7188704299757898,
          -0.49587136119877157,
          1.0845807749581031,
          1.3216725689195945,
          -0.8772702282109345,
          -0.6533764162042501,
          3.2761707724560956,
          -0.6205202155431992,
          -0.13674014934522996,
          0.3545319778991714,
          0.26694297117685484,
          -0.07977085536555945,
          -0.015089174982792847,
          0.9816931248247944,
          -0.9110304148970944,
          -0.3059876199479298,
          0.6662941303764393,
          -0.23594236213250566,
          0.5387516865350658,
          -0.8591039221027258,
          -0.4438675856675307,
          -0.42581560653971906,
          1.5211561268716567,
          -0.3646030143739634,
          1.4187212257471844,
          0.5596787266396095,
          -0.20374108789784603,
          -0.977789621874286,
          -0.4972843153163968,
          1.0519834196489215,
          0.8798947682126929,
          0.57401381845951,
          0.5221857963465762,
          -0.20410583046198696,
          -0.7271785758926677,
          -0.5507149743855863,
          -0.12348649822361285,
          -0.34865126481223113,
          0.37519336960418925,
          0.2054370890711027,
          -0.3686501583006007,
          -0.9308147821700553,
          -0.5101649714460124,
          -1.312756296156895,
          -0.6872924129121585,
          0.2431653092979941,
          -0.4680574915932994,
          0.25846307724269496,
          1.109367302357436,
          -1.046566276737933,
          -0.4507778326412062,
          -0.9890841839195814,
          -1.1484905543171988,
          0.13438786165027108,
          -2.2366854653203547,
          -1.7598337752374726,
          0.3870442907617244,
          1.2678397112271507,
          1.263679739194867,
          -0.13001732439442706,
          -1.9931688174259747,
          0.6132591928043307,
          0.10547007627853718,
          0.1228225407414566,
          -2.0286967006534655,
          0.4496012985812599,
          -0.40793324413434073,
          1.7038975915424757,
          -0.7621430975695681,
          1.2001373603508956,
          -0.6727126847149263,
          -0.2901948996138198,
          0.2785826649259012,
          0.12294192744039334,
          -1.17265209109376,
          0.9131529756743128
         ],
         "yaxis": "y5"
        },
        {
         "histfunc": "count",
         "histnorm": "",
         "marker": {
          "color": "rgba(55, 128, 191, 1.0)",
          "line": {
           "color": "#4D5663",
           "width": 1.3
          }
         },
         "name": "B",
         "nbinsx": 10,
         "opacity": 0.8,
         "orientation": "v",
         "type": "histogram",
         "x": [
          2.954682519418268,
          1.2365829943535065,
          2.104707567465196,
          0.6633122537619591,
          0.1538540084551306,
          0.23170758817037124,
          -0.43025246824322605,
          -0.8062172600617752,
          0.046277835727682744,
          -0.1452225853859939,
          -0.657776484401953,
          0.053257950611550565,
          1.5457051738269376,
          -1.3621708275952347,
          -0.15216947551494678,
          -0.7568602100782479,
          0.29130806187656605,
          -1.130874456411832,
          -0.4631759857994132,
          -0.14116155647866782,
          0.7118687205278166,
          -1.5500933264992216,
          0.23684817274769057,
          -0.795400792746069,
          -1.7188704299757898,
          -0.49587136119877157,
          1.0845807749581031,
          1.3216725689195945,
          -0.8772702282109345,
          -0.6533764162042501,
          3.2761707724560956,
          -0.6205202155431992,
          -0.13674014934522996,
          0.3545319778991714,
          0.26694297117685484,
          -0.07977085536555945,
          -0.015089174982792847,
          0.9816931248247944,
          -0.9110304148970944,
          -0.3059876199479298,
          0.6662941303764393,
          -0.23594236213250566,
          0.5387516865350658,
          -0.8591039221027258,
          -0.4438675856675307,
          -0.42581560653971906,
          1.5211561268716567,
          -0.3646030143739634,
          1.4187212257471844,
          0.5596787266396095,
          -0.20374108789784603,
          -0.977789621874286,
          -0.4972843153163968,
          1.0519834196489215,
          0.8798947682126929,
          0.57401381845951,
          0.5221857963465762,
          -0.20410583046198696,
          -0.7271785758926677,
          -0.5507149743855863,
          -0.12348649822361285,
          -0.34865126481223113,
          0.37519336960418925,
          0.2054370890711027,
          -0.3686501583006007,
          -0.9308147821700553,
          -0.5101649714460124,
          -1.312756296156895,
          -0.6872924129121585,
          0.2431653092979941,
          -0.4680574915932994,
          0.25846307724269496,
          1.109367302357436,
          -1.046566276737933,
          -0.4507778326412062,
          -0.9890841839195814,
          -1.1484905543171988,
          0.13438786165027108,
          -2.2366854653203547,
          -1.7598337752374726,
          0.3870442907617244,
          1.2678397112271507,
          1.263679739194867,
          -0.13001732439442706,
          -1.9931688174259747,
          0.6132591928043307,
          0.10547007627853718,
          0.1228225407414566,
          -2.0286967006534655,
          0.4496012985812599,
          -0.40793324413434073,
          1.7038975915424757,
          -0.7621430975695681,
          1.2001373603508956,
          -0.6727126847149263,
          -0.2901948996138198,
          0.2785826649259012,
          0.12294192744039334,
          -1.17265209109376,
          0.9131529756743128
         ],
         "xaxis": "x6",
         "yaxis": "y6"
        },
        {
         "line": {
          "color": "rgba(128, 128, 128, 1.0)",
          "dash": "solid",
          "shape": "linear",
          "width": 1.3
         },
         "marker": {
          "size": 2,
          "symbol": "circle"
         },
         "mode": "markers",
         "name": "B",
         "text": "",
         "type": "scatter",
         "x": [
          0.695594519761371,
          -0.7451101083358315,
          -1.3092545798623205,
          -1.148967679813761,
          -2.1499901091118283,
          0.16921733208513434,
          -1.652035274965219,
          -0.06536511772995664,
          -0.451555039427988,
          2.5508875085079254,
          1.6432397771654574,
          2.175007969085216,
          -1.183349169847012,
          -0.2803436459544689,
          0.3113778761058616,
          0.6580789933974976,
          -1.2871858908274494,
          0.9421677539359915,
          -1.27898705793451,
          1.5220905163816603,
          0.172627185075392,
          -0.2920546413135475,
          -3.2200752056661366,
          -0.6595483098958985,
          -0.037209911818583956,
          -1.9113396033227792,
          0.7495406055142672,
          0.6122124912669217,
          -1.649923917785392,
          0.24031623434340352,
          -0.9305668877584682,
          -0.17927603028592373,
          -0.6189685160089439,
          -0.10426964419885773,
          -1.584842525233409,
          1.3008582838270968,
          0.9627046666914726,
          -0.07243392267314792,
          -1.0550103985991441,
          -0.42292256301955466,
          -0.0816781964074479,
          -0.3831036956544528,
          -0.18646700797564847,
          1.9161854583075255,
          1.987584099296576,
          0.503544436898424,
          -1.6917730357682448,
          1.2140789508574432,
          0.9544265944842146,
          0.07235024083734189,
          0.30208565258184666,
          0.8493376013882723,
          0.6094930176110523,
          -0.4197814073474403,
          -0.8892714466838095,
          -0.27573081018871615,
          3.06633035138194,
          1.115310615469231,
          -0.5629187882893806,
          -1.7751598399064026,
          -0.22054072021463594,
          -0.1250791946004363,
          0.20207024305742066,
          0.012822231749756524,
          0.7630588279922778,
          -0.7816538608318876,
          -1.1429232919669339,
          0.2819344067155209,
          -0.8882891798691497,
          0.31157165384845725,
          0.4059458147284747,
          2.6654818835155956,
          0.08870181610828648,
          0.622983938101566,
          0.007318167216649481,
          1.1582841684738987,
          0.3045017436015654,
          -0.96055674405388,
          -1.5729460031035347,
          -1.5352180576477532,
          2.0016917048090974,
          0.32958653439078367,
          0.6779242903392502,
          -0.3490746406178837,
          0.03283304032337678,
          -1.3940960375701712,
          -0.9332614368379432,
          -0.48306539946151844,
          0.03717416280524384,
          -1.9064036857319562,
          -0.46771930351655083,
          0.9276597763861216,
          -0.5758620461840461,
          -0.1980995575800092,
          -0.5506458950883171,
          -0.2243089631924862,
          0.1512145499046544,
          -0.3543541912031643,
          -0.16606095706018428,
          -0.31715418224932196
         ],
         "xaxis": "x7",
         "y": [
          2.954682519418268,
          1.2365829943535065,
          2.104707567465196,
          0.6633122537619591,
          0.1538540084551306,
          0.23170758817037124,
          -0.43025246824322605,
          -0.8062172600617752,
          0.046277835727682744,
          -0.1452225853859939,
          -0.657776484401953,
          0.053257950611550565,
          1.5457051738269376,
          -1.3621708275952347,
          -0.15216947551494678,
          -0.7568602100782479,
          0.29130806187656605,
          -1.130874456411832,
          -0.4631759857994132,
          -0.14116155647866782,
          0.7118687205278166,
          -1.5500933264992216,
          0.23684817274769057,
          -0.795400792746069,
          -1.7188704299757898,
          -0.49587136119877157,
          1.0845807749581031,
          1.3216725689195945,
          -0.8772702282109345,
          -0.6533764162042501,
          3.2761707724560956,
          -0.6205202155431992,
          -0.13674014934522996,
          0.3545319778991714,
          0.26694297117685484,
          -0.07977085536555945,
          -0.015089174982792847,
          0.9816931248247944,
          -0.9110304148970944,
          -0.3059876199479298,
          0.6662941303764393,
          -0.23594236213250566,
          0.5387516865350658,
          -0.8591039221027258,
          -0.4438675856675307,
          -0.42581560653971906,
          1.5211561268716567,
          -0.3646030143739634,
          1.4187212257471844,
          0.5596787266396095,
          -0.20374108789784603,
          -0.977789621874286,
          -0.4972843153163968,
          1.0519834196489215,
          0.8798947682126929,
          0.57401381845951,
          0.5221857963465762,
          -0.20410583046198696,
          -0.7271785758926677,
          -0.5507149743855863,
          -0.12348649822361285,
          -0.34865126481223113,
          0.37519336960418925,
          0.2054370890711027,
          -0.3686501583006007,
          -0.9308147821700553,
          -0.5101649714460124,
          -1.312756296156895,
          -0.6872924129121585,
          0.2431653092979941,
          -0.4680574915932994,
          0.25846307724269496,
          1.109367302357436,
          -1.046566276737933,
          -0.4507778326412062,
          -0.9890841839195814,
          -1.1484905543171988,
          0.13438786165027108,
          -2.2366854653203547,
          -1.7598337752374726,
          0.3870442907617244,
          1.2678397112271507,
          1.263679739194867,
          -0.13001732439442706,
          -1.9931688174259747,
          0.6132591928043307,
          0.10547007627853718,
          0.1228225407414566,
          -2.0286967006534655,
          0.4496012985812599,
          -0.40793324413434073,
          1.7038975915424757,
          -0.7621430975695681,
          1.2001373603508956,
          -0.6727126847149263,
          -0.2901948996138198,
          0.2785826649259012,
          0.12294192744039334,
          -1.17265209109376,
          0.9131529756743128
         ],
         "yaxis": "y7"
        },
        {
         "line": {
          "color": "rgba(128, 128, 128, 1.0)",
          "dash": "solid",
          "shape": "linear",
          "width": 1.3
         },
         "marker": {
          "size": 2,
          "symbol": "circle"
         },
         "mode": "markers",
         "name": "B",
         "text": "",
         "type": "scatter",
         "x": [
          0.1348211493105177,
          1.331072068722212,
          -1.856840393991974,
          -1.0826692199085175,
          -1.4861759389019042,
          0.9448367510453909,
          0.9002622575274538,
          0.2399951548724196,
          -2.7173109542978042,
          0.6358996172944497,
          0.013757881283311239,
          -0.30715286666621483,
          0.36698070920852155,
          -0.8241317881946497,
          -1.5208647650174614,
          -0.7354562768430071,
          -1.2537972621985167,
          0.8879858198033864,
          -0.7099413000745913,
          -0.6240399942306015,
          2.2184997482400917,
          0.2566080222408146,
          -0.7233435325170695,
          -0.36585809401055946,
          -1.5176547330218004,
          0.5428843962132254,
          -0.4398698888030055,
          0.343625536158871,
          0.1981011674381106,
          0.8065099979206843,
          -1.3603521867792383,
          -0.17187123307592236,
          -1.6779996175054712,
          0.38561612398650275,
          -2.012641034881616,
          -0.37708334812546124,
          -0.04562884599330884,
          -0.4009859990959282,
          0.6939560396032762,
          -1.78589611443427,
          -1.869929131699314,
          -1.399889560058229,
          0.15886750495167176,
          -0.3242586354086578,
          0.9034370869926133,
          -0.5786721926747008,
          -0.8674333759306216,
          0.3454016300783812,
          -0.20187575531975432,
          0.5731724210192811,
          0.23715723874630953,
          1.106720036550557,
          0.9690019581797024,
          0.5959919953305238,
          1.3582327789677624,
          -0.18367776327384572,
          -1.4022175568766304,
          -0.023017278639227246,
          0.3169347429440951,
          1.6603832291117644,
          -0.8495586844825627,
          1.1618684561968171,
          -0.948641960168968,
          0.4354038402751054,
          1.8365202541015424,
          -0.1825034667378457,
          -0.38320184376570177,
          0.41371927923165663,
          -0.4562605062334397,
          -0.29220079785319764,
          -0.041964047096023624,
          0.9246400743910076,
          0.7486839011837545,
          0.2158078060728754,
          -0.6879751583409635,
          1.2030021629063608,
          1.0873298065069406,
          -1.1628069379634776,
          0.9894835492205013,
          -1.2539601106537022,
          -2.2373877359023164,
          -0.2631588365834419,
          1.361965225380507,
          -0.5719167168501775,
          0.5136380454219858,
          2.68058524805295,
          0.7179977132596467,
          0.9458129117680553,
          -1.8728427934674337,
          1.3507462150713798,
          2.004330894660265,
          -0.6651732025284808,
          -0.328919945248043,
          0.691612592123649,
          1.2548065655832024,
          0.37875592667530106,
          0.17997557036559772,
          -0.5682732751177091,
          -0.6318359329537082,
          -0.5939026606920121
         ],
         "xaxis": "x8",
         "y": [
          2.954682519418268,
          1.2365829943535065,
          2.104707567465196,
          0.6633122537619591,
          0.1538540084551306,
          0.23170758817037124,
          -0.43025246824322605,
          -0.8062172600617752,
          0.046277835727682744,
          -0.1452225853859939,
          -0.657776484401953,
          0.053257950611550565,
          1.5457051738269376,
          -1.3621708275952347,
          -0.15216947551494678,
          -0.7568602100782479,
          0.29130806187656605,
          -1.130874456411832,
          -0.4631759857994132,
          -0.14116155647866782,
          0.7118687205278166,
          -1.5500933264992216,
          0.23684817274769057,
          -0.795400792746069,
          -1.7188704299757898,
          -0.49587136119877157,
          1.0845807749581031,
          1.3216725689195945,
          -0.8772702282109345,
          -0.6533764162042501,
          3.2761707724560956,
          -0.6205202155431992,
          -0.13674014934522996,
          0.3545319778991714,
          0.26694297117685484,
          -0.07977085536555945,
          -0.015089174982792847,
          0.9816931248247944,
          -0.9110304148970944,
          -0.3059876199479298,
          0.6662941303764393,
          -0.23594236213250566,
          0.5387516865350658,
          -0.8591039221027258,
          -0.4438675856675307,
          -0.42581560653971906,
          1.5211561268716567,
          -0.3646030143739634,
          1.4187212257471844,
          0.5596787266396095,
          -0.20374108789784603,
          -0.977789621874286,
          -0.4972843153163968,
          1.0519834196489215,
          0.8798947682126929,
          0.57401381845951,
          0.5221857963465762,
          -0.20410583046198696,
          -0.7271785758926677,
          -0.5507149743855863,
          -0.12348649822361285,
          -0.34865126481223113,
          0.37519336960418925,
          0.2054370890711027,
          -0.3686501583006007,
          -0.9308147821700553,
          -0.5101649714460124,
          -1.312756296156895,
          -0.6872924129121585,
          0.2431653092979941,
          -0.4680574915932994,
          0.25846307724269496,
          1.109367302357436,
          -1.046566276737933,
          -0.4507778326412062,
          -0.9890841839195814,
          -1.1484905543171988,
          0.13438786165027108,
          -2.2366854653203547,
          -1.7598337752374726,
          0.3870442907617244,
          1.2678397112271507,
          1.263679739194867,
          -0.13001732439442706,
          -1.9931688174259747,
          0.6132591928043307,
          0.10547007627853718,
          0.1228225407414566,
          -2.0286967006534655,
          0.4496012985812599,
          -0.40793324413434073,
          1.7038975915424757,
          -0.7621430975695681,
          1.2001373603508956,
          -0.6727126847149263,
          -0.2901948996138198,
          0.2785826649259012,
          0.12294192744039334,
          -1.17265209109376,
          0.9131529756743128
         ],
         "yaxis": "y8"
        },
        {
         "line": {
          "color": "rgba(128, 128, 128, 1.0)",
          "dash": "solid",
          "shape": "linear",
          "width": 1.3
         },
         "marker": {
          "size": 2,
          "symbol": "circle"
         },
         "mode": "markers",
         "name": "C",
         "text": "",
         "type": "scatter",
         "x": [
          -0.04385431780971637,
          -0.7301948168187024,
          -0.3496833695728504,
          -1.0612823737313737,
          0.6591799683260353,
          0.12428679487969375,
          -0.2628424807417794,
          2.908786492446553,
          0.5339220569380786,
          -1.5102640304281827,
          -0.2153849878718799,
          0.14062569399657224,
          -1.2095030942021077,
          0.45284316632611793,
          -1.616644761050487,
          1.2057735309487918,
          -0.27850860903850416,
          0.2661868200566413,
          -0.04888824105785708,
          0.5466453961210647,
          0.02444249995946009,
          -0.8803134222022471,
          0.3959377294436148,
          -1.0125477805236467,
          -0.5403287337285112,
          -1.3969258083854257,
          -0.6647798643181021,
          0.48996370455519694,
          -0.23702134521007456,
          0.8259808476853691,
          -0.9134122472273268,
          -1.1689396577601616,
          0.5853346423361953,
          0.1165143240319178,
          -0.2537611614822444,
          -0.18422371333987664,
          0.8742866058103691,
          -1.073458978869497,
          -0.11088759020331997,
          -1.23745560196081,
          -0.532207923124355,
          0.4647951367313668,
          -0.42647882860361713,
          0.6951312657084125,
          -1.4214167040692915,
          0.902602666447066,
          0.29741521616193584,
          0.528548856648751,
          0.9014676973634032,
          -0.1607135459165966,
          0.35723359219153533,
          0.23642409792308924,
          -0.3889773534472179,
          -2.4151038247887273,
          -0.09893139723269141,
          0.3183672750508919,
          -1.0378675424182902,
          0.287212016653486,
          -3.79126376982542,
          -0.8481039639987642,
          -0.3083120890222015,
          1.793456070709133,
          -1.195369054487541,
          1.0073436597216414,
          -1.2597272629060985,
          1.8384369506007168,
          0.37605391208689704,
          0.6314748697418396,
          0.5955215842189099,
          -0.10636349138020569,
          -1.4523789133361966,
          2.4449306585882913,
          -0.29666309294170307,
          -0.21758145830572764,
          -0.7779081958035611,
          0.1354671171040796,
          0.15111110801098596,
          -0.8735875946797669,
          2.108292328999151,
          0.5581931925719561,
          -0.028223326518975078,
          0.514591322068852,
          -0.7160014933804951,
          1.0216913238644663,
          -1.3091472140787501,
          0.25368841660167313,
          0.6179071895170258,
          -0.34256487682349746,
          1.4664115902589256,
          0.6724977799274586,
          -0.8666211910244764,
          1.0906099527040427,
          -2.6320438549269682,
          -1.2044405223200088,
          0.09772313314017038,
          -0.18085756910776699,
          0.18166012654149388,
          -0.6225026019819604,
          -1.0801935697404188,
          0.6784957157116219
         ],
         "xaxis": "x9",
         "y": [
          0.695594519761371,
          -0.7451101083358315,
          -1.3092545798623205,
          -1.148967679813761,
          -2.1499901091118283,
          0.16921733208513434,
          -1.652035274965219,
          -0.06536511772995664,
          -0.451555039427988,
          2.5508875085079254,
          1.6432397771654574,
          2.175007969085216,
          -1.183349169847012,
          -0.2803436459544689,
          0.3113778761058616,
          0.6580789933974976,
          -1.2871858908274494,
          0.9421677539359915,
          -1.27898705793451,
          1.5220905163816603,
          0.172627185075392,
          -0.2920546413135475,
          -3.2200752056661366,
          -0.6595483098958985,
          -0.037209911818583956,
          -1.9113396033227792,
          0.7495406055142672,
          0.6122124912669217,
          -1.649923917785392,
          0.24031623434340352,
          -0.9305668877584682,
          -0.17927603028592373,
          -0.6189685160089439,
          -0.10426964419885773,
          -1.584842525233409,
          1.3008582838270968,
          0.9627046666914726,
          -0.07243392267314792,
          -1.0550103985991441,
          -0.42292256301955466,
          -0.0816781964074479,
          -0.3831036956544528,
          -0.18646700797564847,
          1.9161854583075255,
          1.987584099296576,
          0.503544436898424,
          -1.6917730357682448,
          1.2140789508574432,
          0.9544265944842146,
          0.07235024083734189,
          0.30208565258184666,
          0.8493376013882723,
          0.6094930176110523,
          -0.4197814073474403,
          -0.8892714466838095,
          -0.27573081018871615,
          3.06633035138194,
          1.115310615469231,
          -0.5629187882893806,
          -1.7751598399064026,
          -0.22054072021463594,
          -0.1250791946004363,
          0.20207024305742066,
          0.012822231749756524,
          0.7630588279922778,
          -0.7816538608318876,
          -1.1429232919669339,
          0.2819344067155209,
          -0.8882891798691497,
          0.31157165384845725,
          0.4059458147284747,
          2.6654818835155956,
          0.08870181610828648,
          0.622983938101566,
          0.007318167216649481,
          1.1582841684738987,
          0.3045017436015654,
          -0.96055674405388,
          -1.5729460031035347,
          -1.5352180576477532,
          2.0016917048090974,
          0.32958653439078367,
          0.6779242903392502,
          -0.3490746406178837,
          0.03283304032337678,
          -1.3940960375701712,
          -0.9332614368379432,
          -0.48306539946151844,
          0.03717416280524384,
          -1.9064036857319562,
          -0.46771930351655083,
          0.9276597763861216,
          -0.5758620461840461,
          -0.1980995575800092,
          -0.5506458950883171,
          -0.2243089631924862,
          0.1512145499046544,
          -0.3543541912031643,
          -0.16606095706018428,
          -0.31715418224932196
         ],
         "yaxis": "y9"
        },
        {
         "line": {
          "color": "rgba(128, 128, 128, 1.0)",
          "dash": "solid",
          "shape": "linear",
          "width": 1.3
         },
         "marker": {
          "size": 2,
          "symbol": "circle"
         },
         "mode": "markers",
         "name": "C",
         "text": "",
         "type": "scatter",
         "x": [
          2.954682519418268,
          1.2365829943535065,
          2.104707567465196,
          0.6633122537619591,
          0.1538540084551306,
          0.23170758817037124,
          -0.43025246824322605,
          -0.8062172600617752,
          0.046277835727682744,
          -0.1452225853859939,
          -0.657776484401953,
          0.053257950611550565,
          1.5457051738269376,
          -1.3621708275952347,
          -0.15216947551494678,
          -0.7568602100782479,
          0.29130806187656605,
          -1.130874456411832,
          -0.4631759857994132,
          -0.14116155647866782,
          0.7118687205278166,
          -1.5500933264992216,
          0.23684817274769057,
          -0.795400792746069,
          -1.7188704299757898,
          -0.49587136119877157,
          1.0845807749581031,
          1.3216725689195945,
          -0.8772702282109345,
          -0.6533764162042501,
          3.2761707724560956,
          -0.6205202155431992,
          -0.13674014934522996,
          0.3545319778991714,
          0.26694297117685484,
          -0.07977085536555945,
          -0.015089174982792847,
          0.9816931248247944,
          -0.9110304148970944,
          -0.3059876199479298,
          0.6662941303764393,
          -0.23594236213250566,
          0.5387516865350658,
          -0.8591039221027258,
          -0.4438675856675307,
          -0.42581560653971906,
          1.5211561268716567,
          -0.3646030143739634,
          1.4187212257471844,
          0.5596787266396095,
          -0.20374108789784603,
          -0.977789621874286,
          -0.4972843153163968,
          1.0519834196489215,
          0.8798947682126929,
          0.57401381845951,
          0.5221857963465762,
          -0.20410583046198696,
          -0.7271785758926677,
          -0.5507149743855863,
          -0.12348649822361285,
          -0.34865126481223113,
          0.37519336960418925,
          0.2054370890711027,
          -0.3686501583006007,
          -0.9308147821700553,
          -0.5101649714460124,
          -1.312756296156895,
          -0.6872924129121585,
          0.2431653092979941,
          -0.4680574915932994,
          0.25846307724269496,
          1.109367302357436,
          -1.046566276737933,
          -0.4507778326412062,
          -0.9890841839195814,
          -1.1484905543171988,
          0.13438786165027108,
          -2.2366854653203547,
          -1.7598337752374726,
          0.3870442907617244,
          1.2678397112271507,
          1.263679739194867,
          -0.13001732439442706,
          -1.9931688174259747,
          0.6132591928043307,
          0.10547007627853718,
          0.1228225407414566,
          -2.0286967006534655,
          0.4496012985812599,
          -0.40793324413434073,
          1.7038975915424757,
          -0.7621430975695681,
          1.2001373603508956,
          -0.6727126847149263,
          -0.2901948996138198,
          0.2785826649259012,
          0.12294192744039334,
          -1.17265209109376,
          0.9131529756743128
         ],
         "xaxis": "x10",
         "y": [
          0.695594519761371,
          -0.7451101083358315,
          -1.3092545798623205,
          -1.148967679813761,
          -2.1499901091118283,
          0.16921733208513434,
          -1.652035274965219,
          -0.06536511772995664,
          -0.451555039427988,
          2.5508875085079254,
          1.6432397771654574,
          2.175007969085216,
          -1.183349169847012,
          -0.2803436459544689,
          0.3113778761058616,
          0.6580789933974976,
          -1.2871858908274494,
          0.9421677539359915,
          -1.27898705793451,
          1.5220905163816603,
          0.172627185075392,
          -0.2920546413135475,
          -3.2200752056661366,
          -0.6595483098958985,
          -0.037209911818583956,
          -1.9113396033227792,
          0.7495406055142672,
          0.6122124912669217,
          -1.649923917785392,
          0.24031623434340352,
          -0.9305668877584682,
          -0.17927603028592373,
          -0.6189685160089439,
          -0.10426964419885773,
          -1.584842525233409,
          1.3008582838270968,
          0.9627046666914726,
          -0.07243392267314792,
          -1.0550103985991441,
          -0.42292256301955466,
          -0.0816781964074479,
          -0.3831036956544528,
          -0.18646700797564847,
          1.9161854583075255,
          1.987584099296576,
          0.503544436898424,
          -1.6917730357682448,
          1.2140789508574432,
          0.9544265944842146,
          0.07235024083734189,
          0.30208565258184666,
          0.8493376013882723,
          0.6094930176110523,
          -0.4197814073474403,
          -0.8892714466838095,
          -0.27573081018871615,
          3.06633035138194,
          1.115310615469231,
          -0.5629187882893806,
          -1.7751598399064026,
          -0.22054072021463594,
          -0.1250791946004363,
          0.20207024305742066,
          0.012822231749756524,
          0.7630588279922778,
          -0.7816538608318876,
          -1.1429232919669339,
          0.2819344067155209,
          -0.8882891798691497,
          0.31157165384845725,
          0.4059458147284747,
          2.6654818835155956,
          0.08870181610828648,
          0.622983938101566,
          0.007318167216649481,
          1.1582841684738987,
          0.3045017436015654,
          -0.96055674405388,
          -1.5729460031035347,
          -1.5352180576477532,
          2.0016917048090974,
          0.32958653439078367,
          0.6779242903392502,
          -0.3490746406178837,
          0.03283304032337678,
          -1.3940960375701712,
          -0.9332614368379432,
          -0.48306539946151844,
          0.03717416280524384,
          -1.9064036857319562,
          -0.46771930351655083,
          0.9276597763861216,
          -0.5758620461840461,
          -0.1980995575800092,
          -0.5506458950883171,
          -0.2243089631924862,
          0.1512145499046544,
          -0.3543541912031643,
          -0.16606095706018428,
          -0.31715418224932196
         ],
         "yaxis": "y10"
        },
        {
         "histfunc": "count",
         "histnorm": "",
         "marker": {
          "color": "rgba(50, 171, 96, 1.0)",
          "line": {
           "color": "#4D5663",
           "width": 1.3
          }
         },
         "name": "C",
         "nbinsx": 10,
         "opacity": 0.8,
         "orientation": "v",
         "type": "histogram",
         "x": [
          0.695594519761371,
          -0.7451101083358315,
          -1.3092545798623205,
          -1.148967679813761,
          -2.1499901091118283,
          0.16921733208513434,
          -1.652035274965219,
          -0.06536511772995664,
          -0.451555039427988,
          2.5508875085079254,
          1.6432397771654574,
          2.175007969085216,
          -1.183349169847012,
          -0.2803436459544689,
          0.3113778761058616,
          0.6580789933974976,
          -1.2871858908274494,
          0.9421677539359915,
          -1.27898705793451,
          1.5220905163816603,
          0.172627185075392,
          -0.2920546413135475,
          -3.2200752056661366,
          -0.6595483098958985,
          -0.037209911818583956,
          -1.9113396033227792,
          0.7495406055142672,
          0.6122124912669217,
          -1.649923917785392,
          0.24031623434340352,
          -0.9305668877584682,
          -0.17927603028592373,
          -0.6189685160089439,
          -0.10426964419885773,
          -1.584842525233409,
          1.3008582838270968,
          0.9627046666914726,
          -0.07243392267314792,
          -1.0550103985991441,
          -0.42292256301955466,
          -0.0816781964074479,
          -0.3831036956544528,
          -0.18646700797564847,
          1.9161854583075255,
          1.987584099296576,
          0.503544436898424,
          -1.6917730357682448,
          1.2140789508574432,
          0.9544265944842146,
          0.07235024083734189,
          0.30208565258184666,
          0.8493376013882723,
          0.6094930176110523,
          -0.4197814073474403,
          -0.8892714466838095,
          -0.27573081018871615,
          3.06633035138194,
          1.115310615469231,
          -0.5629187882893806,
          -1.7751598399064026,
          -0.22054072021463594,
          -0.1250791946004363,
          0.20207024305742066,
          0.012822231749756524,
          0.7630588279922778,
          -0.7816538608318876,
          -1.1429232919669339,
          0.2819344067155209,
          -0.8882891798691497,
          0.31157165384845725,
          0.4059458147284747,
          2.6654818835155956,
          0.08870181610828648,
          0.622983938101566,
          0.007318167216649481,
          1.1582841684738987,
          0.3045017436015654,
          -0.96055674405388,
          -1.5729460031035347,
          -1.5352180576477532,
          2.0016917048090974,
          0.32958653439078367,
          0.6779242903392502,
          -0.3490746406178837,
          0.03283304032337678,
          -1.3940960375701712,
          -0.9332614368379432,
          -0.48306539946151844,
          0.03717416280524384,
          -1.9064036857319562,
          -0.46771930351655083,
          0.9276597763861216,
          -0.5758620461840461,
          -0.1980995575800092,
          -0.5506458950883171,
          -0.2243089631924862,
          0.1512145499046544,
          -0.3543541912031643,
          -0.16606095706018428,
          -0.31715418224932196
         ],
         "xaxis": "x11",
         "yaxis": "y11"
        },
        {
         "line": {
          "color": "rgba(128, 128, 128, 1.0)",
          "dash": "solid",
          "shape": "linear",
          "width": 1.3
         },
         "marker": {
          "size": 2,
          "symbol": "circle"
         },
         "mode": "markers",
         "name": "C",
         "text": "",
         "type": "scatter",
         "x": [
          0.1348211493105177,
          1.331072068722212,
          -1.856840393991974,
          -1.0826692199085175,
          -1.4861759389019042,
          0.9448367510453909,
          0.9002622575274538,
          0.2399951548724196,
          -2.7173109542978042,
          0.6358996172944497,
          0.013757881283311239,
          -0.30715286666621483,
          0.36698070920852155,
          -0.8241317881946497,
          -1.5208647650174614,
          -0.7354562768430071,
          -1.2537972621985167,
          0.8879858198033864,
          -0.7099413000745913,
          -0.6240399942306015,
          2.2184997482400917,
          0.2566080222408146,
          -0.7233435325170695,
          -0.36585809401055946,
          -1.5176547330218004,
          0.5428843962132254,
          -0.4398698888030055,
          0.343625536158871,
          0.1981011674381106,
          0.8065099979206843,
          -1.3603521867792383,
          -0.17187123307592236,
          -1.6779996175054712,
          0.38561612398650275,
          -2.012641034881616,
          -0.37708334812546124,
          -0.04562884599330884,
          -0.4009859990959282,
          0.6939560396032762,
          -1.78589611443427,
          -1.869929131699314,
          -1.399889560058229,
          0.15886750495167176,
          -0.3242586354086578,
          0.9034370869926133,
          -0.5786721926747008,
          -0.8674333759306216,
          0.3454016300783812,
          -0.20187575531975432,
          0.5731724210192811,
          0.23715723874630953,
          1.106720036550557,
          0.9690019581797024,
          0.5959919953305238,
          1.3582327789677624,
          -0.18367776327384572,
          -1.4022175568766304,
          -0.023017278639227246,
          0.3169347429440951,
          1.6603832291117644,
          -0.8495586844825627,
          1.1618684561968171,
          -0.948641960168968,
          0.4354038402751054,
          1.8365202541015424,
          -0.1825034667378457,
          -0.38320184376570177,
          0.41371927923165663,
          -0.4562605062334397,
          -0.29220079785319764,
          -0.041964047096023624,
          0.9246400743910076,
          0.7486839011837545,
          0.2158078060728754,
          -0.6879751583409635,
          1.2030021629063608,
          1.0873298065069406,
          -1.1628069379634776,
          0.9894835492205013,
          -1.2539601106537022,
          -2.2373877359023164,
          -0.2631588365834419,
          1.361965225380507,
          -0.5719167168501775,
          0.5136380454219858,
          2.68058524805295,
          0.7179977132596467,
          0.9458129117680553,
          -1.8728427934674337,
          1.3507462150713798,
          2.004330894660265,
          -0.6651732025284808,
          -0.328919945248043,
          0.691612592123649,
          1.2548065655832024,
          0.37875592667530106,
          0.17997557036559772,
          -0.5682732751177091,
          -0.6318359329537082,
          -0.5939026606920121
         ],
         "xaxis": "x12",
         "y": [
          0.695594519761371,
          -0.7451101083358315,
          -1.3092545798623205,
          -1.148967679813761,
          -2.1499901091118283,
          0.16921733208513434,
          -1.652035274965219,
          -0.06536511772995664,
          -0.451555039427988,
          2.5508875085079254,
          1.6432397771654574,
          2.175007969085216,
          -1.183349169847012,
          -0.2803436459544689,
          0.3113778761058616,
          0.6580789933974976,
          -1.2871858908274494,
          0.9421677539359915,
          -1.27898705793451,
          1.5220905163816603,
          0.172627185075392,
          -0.2920546413135475,
          -3.2200752056661366,
          -0.6595483098958985,
          -0.037209911818583956,
          -1.9113396033227792,
          0.7495406055142672,
          0.6122124912669217,
          -1.649923917785392,
          0.24031623434340352,
          -0.9305668877584682,
          -0.17927603028592373,
          -0.6189685160089439,
          -0.10426964419885773,
          -1.584842525233409,
          1.3008582838270968,
          0.9627046666914726,
          -0.07243392267314792,
          -1.0550103985991441,
          -0.42292256301955466,
          -0.0816781964074479,
          -0.3831036956544528,
          -0.18646700797564847,
          1.9161854583075255,
          1.987584099296576,
          0.503544436898424,
          -1.6917730357682448,
          1.2140789508574432,
          0.9544265944842146,
          0.07235024083734189,
          0.30208565258184666,
          0.8493376013882723,
          0.6094930176110523,
          -0.4197814073474403,
          -0.8892714466838095,
          -0.27573081018871615,
          3.06633035138194,
          1.115310615469231,
          -0.5629187882893806,
          -1.7751598399064026,
          -0.22054072021463594,
          -0.1250791946004363,
          0.20207024305742066,
          0.012822231749756524,
          0.7630588279922778,
          -0.7816538608318876,
          -1.1429232919669339,
          0.2819344067155209,
          -0.8882891798691497,
          0.31157165384845725,
          0.4059458147284747,
          2.6654818835155956,
          0.08870181610828648,
          0.622983938101566,
          0.007318167216649481,
          1.1582841684738987,
          0.3045017436015654,
          -0.96055674405388,
          -1.5729460031035347,
          -1.5352180576477532,
          2.0016917048090974,
          0.32958653439078367,
          0.6779242903392502,
          -0.3490746406178837,
          0.03283304032337678,
          -1.3940960375701712,
          -0.9332614368379432,
          -0.48306539946151844,
          0.03717416280524384,
          -1.9064036857319562,
          -0.46771930351655083,
          0.9276597763861216,
          -0.5758620461840461,
          -0.1980995575800092,
          -0.5506458950883171,
          -0.2243089631924862,
          0.1512145499046544,
          -0.3543541912031643,
          -0.16606095706018428,
          -0.31715418224932196
         ],
         "yaxis": "y12"
        },
        {
         "line": {
          "color": "rgba(128, 128, 128, 1.0)",
          "dash": "solid",
          "shape": "linear",
          "width": 1.3
         },
         "marker": {
          "size": 2,
          "symbol": "circle"
         },
         "mode": "markers",
         "name": "D",
         "text": "",
         "type": "scatter",
         "x": [
          -0.04385431780971637,
          -0.7301948168187024,
          -0.3496833695728504,
          -1.0612823737313737,
          0.6591799683260353,
          0.12428679487969375,
          -0.2628424807417794,
          2.908786492446553,
          0.5339220569380786,
          -1.5102640304281827,
          -0.2153849878718799,
          0.14062569399657224,
          -1.2095030942021077,
          0.45284316632611793,
          -1.616644761050487,
          1.2057735309487918,
          -0.27850860903850416,
          0.2661868200566413,
          -0.04888824105785708,
          0.5466453961210647,
          0.02444249995946009,
          -0.8803134222022471,
          0.3959377294436148,
          -1.0125477805236467,
          -0.5403287337285112,
          -1.3969258083854257,
          -0.6647798643181021,
          0.48996370455519694,
          -0.23702134521007456,
          0.8259808476853691,
          -0.9134122472273268,
          -1.1689396577601616,
          0.5853346423361953,
          0.1165143240319178,
          -0.2537611614822444,
          -0.18422371333987664,
          0.8742866058103691,
          -1.073458978869497,
          -0.11088759020331997,
          -1.23745560196081,
          -0.532207923124355,
          0.4647951367313668,
          -0.42647882860361713,
          0.6951312657084125,
          -1.4214167040692915,
          0.902602666447066,
          0.29741521616193584,
          0.528548856648751,
          0.9014676973634032,
          -0.1607135459165966,
          0.35723359219153533,
          0.23642409792308924,
          -0.3889773534472179,
          -2.4151038247887273,
          -0.09893139723269141,
          0.3183672750508919,
          -1.0378675424182902,
          0.287212016653486,
          -3.79126376982542,
          -0.8481039639987642,
          -0.3083120890222015,
          1.793456070709133,
          -1.195369054487541,
          1.0073436597216414,
          -1.2597272629060985,
          1.8384369506007168,
          0.37605391208689704,
          0.6314748697418396,
          0.5955215842189099,
          -0.10636349138020569,
          -1.4523789133361966,
          2.4449306585882913,
          -0.29666309294170307,
          -0.21758145830572764,
          -0.7779081958035611,
          0.1354671171040796,
          0.15111110801098596,
          -0.8735875946797669,
          2.108292328999151,
          0.5581931925719561,
          -0.028223326518975078,
          0.514591322068852,
          -0.7160014933804951,
          1.0216913238644663,
          -1.3091472140787501,
          0.25368841660167313,
          0.6179071895170258,
          -0.34256487682349746,
          1.4664115902589256,
          0.6724977799274586,
          -0.8666211910244764,
          1.0906099527040427,
          -2.6320438549269682,
          -1.2044405223200088,
          0.09772313314017038,
          -0.18085756910776699,
          0.18166012654149388,
          -0.6225026019819604,
          -1.0801935697404188,
          0.6784957157116219
         ],
         "xaxis": "x13",
         "y": [
          0.1348211493105177,
          1.331072068722212,
          -1.856840393991974,
          -1.0826692199085175,
          -1.4861759389019042,
          0.9448367510453909,
          0.9002622575274538,
          0.2399951548724196,
          -2.7173109542978042,
          0.6358996172944497,
          0.013757881283311239,
          -0.30715286666621483,
          0.36698070920852155,
          -0.8241317881946497,
          -1.5208647650174614,
          -0.7354562768430071,
          -1.2537972621985167,
          0.8879858198033864,
          -0.7099413000745913,
          -0.6240399942306015,
          2.2184997482400917,
          0.2566080222408146,
          -0.7233435325170695,
          -0.36585809401055946,
          -1.5176547330218004,
          0.5428843962132254,
          -0.4398698888030055,
          0.343625536158871,
          0.1981011674381106,
          0.8065099979206843,
          -1.3603521867792383,
          -0.17187123307592236,
          -1.6779996175054712,
          0.38561612398650275,
          -2.012641034881616,
          -0.37708334812546124,
          -0.04562884599330884,
          -0.4009859990959282,
          0.6939560396032762,
          -1.78589611443427,
          -1.869929131699314,
          -1.399889560058229,
          0.15886750495167176,
          -0.3242586354086578,
          0.9034370869926133,
          -0.5786721926747008,
          -0.8674333759306216,
          0.3454016300783812,
          -0.20187575531975432,
          0.5731724210192811,
          0.23715723874630953,
          1.106720036550557,
          0.9690019581797024,
          0.5959919953305238,
          1.3582327789677624,
          -0.18367776327384572,
          -1.4022175568766304,
          -0.023017278639227246,
          0.3169347429440951,
          1.6603832291117644,
          -0.8495586844825627,
          1.1618684561968171,
          -0.948641960168968,
          0.4354038402751054,
          1.8365202541015424,
          -0.1825034667378457,
          -0.38320184376570177,
          0.41371927923165663,
          -0.4562605062334397,
          -0.29220079785319764,
          -0.041964047096023624,
          0.9246400743910076,
          0.7486839011837545,
          0.2158078060728754,
          -0.6879751583409635,
          1.2030021629063608,
          1.0873298065069406,
          -1.1628069379634776,
          0.9894835492205013,
          -1.2539601106537022,
          -2.2373877359023164,
          -0.2631588365834419,
          1.361965225380507,
          -0.5719167168501775,
          0.5136380454219858,
          2.68058524805295,
          0.7179977132596467,
          0.9458129117680553,
          -1.8728427934674337,
          1.3507462150713798,
          2.004330894660265,
          -0.6651732025284808,
          -0.328919945248043,
          0.691612592123649,
          1.2548065655832024,
          0.37875592667530106,
          0.17997557036559772,
          -0.5682732751177091,
          -0.6318359329537082,
          -0.5939026606920121
         ],
         "yaxis": "y13"
        },
        {
         "line": {
          "color": "rgba(128, 128, 128, 1.0)",
          "dash": "solid",
          "shape": "linear",
          "width": 1.3
         },
         "marker": {
          "size": 2,
          "symbol": "circle"
         },
         "mode": "markers",
         "name": "D",
         "text": "",
         "type": "scatter",
         "x": [
          2.954682519418268,
          1.2365829943535065,
          2.104707567465196,
          0.6633122537619591,
          0.1538540084551306,
          0.23170758817037124,
          -0.43025246824322605,
          -0.8062172600617752,
          0.046277835727682744,
          -0.1452225853859939,
          -0.657776484401953,
          0.053257950611550565,
          1.5457051738269376,
          -1.3621708275952347,
          -0.15216947551494678,
          -0.7568602100782479,
          0.29130806187656605,
          -1.130874456411832,
          -0.4631759857994132,
          -0.14116155647866782,
          0.7118687205278166,
          -1.5500933264992216,
          0.23684817274769057,
          -0.795400792746069,
          -1.7188704299757898,
          -0.49587136119877157,
          1.0845807749581031,
          1.3216725689195945,
          -0.8772702282109345,
          -0.6533764162042501,
          3.2761707724560956,
          -0.6205202155431992,
          -0.13674014934522996,
          0.3545319778991714,
          0.26694297117685484,
          -0.07977085536555945,
          -0.015089174982792847,
          0.9816931248247944,
          -0.9110304148970944,
          -0.3059876199479298,
          0.6662941303764393,
          -0.23594236213250566,
          0.5387516865350658,
          -0.8591039221027258,
          -0.4438675856675307,
          -0.42581560653971906,
          1.5211561268716567,
          -0.3646030143739634,
          1.4187212257471844,
          0.5596787266396095,
          -0.20374108789784603,
          -0.977789621874286,
          -0.4972843153163968,
          1.0519834196489215,
          0.8798947682126929,
          0.57401381845951,
          0.5221857963465762,
          -0.20410583046198696,
          -0.7271785758926677,
          -0.5507149743855863,
          -0.12348649822361285,
          -0.34865126481223113,
          0.37519336960418925,
          0.2054370890711027,
          -0.3686501583006007,
          -0.9308147821700553,
          -0.5101649714460124,
          -1.312756296156895,
          -0.6872924129121585,
          0.2431653092979941,
          -0.4680574915932994,
          0.25846307724269496,
          1.109367302357436,
          -1.046566276737933,
          -0.4507778326412062,
          -0.9890841839195814,
          -1.1484905543171988,
          0.13438786165027108,
          -2.2366854653203547,
          -1.7598337752374726,
          0.3870442907617244,
          1.2678397112271507,
          1.263679739194867,
          -0.13001732439442706,
          -1.9931688174259747,
          0.6132591928043307,
          0.10547007627853718,
          0.1228225407414566,
          -2.0286967006534655,
          0.4496012985812599,
          -0.40793324413434073,
          1.7038975915424757,
          -0.7621430975695681,
          1.2001373603508956,
          -0.6727126847149263,
          -0.2901948996138198,
          0.2785826649259012,
          0.12294192744039334,
          -1.17265209109376,
          0.9131529756743128
         ],
         "xaxis": "x14",
         "y": [
          0.1348211493105177,
          1.331072068722212,
          -1.856840393991974,
          -1.0826692199085175,
          -1.4861759389019042,
          0.9448367510453909,
          0.9002622575274538,
          0.2399951548724196,
          -2.7173109542978042,
          0.6358996172944497,
          0.013757881283311239,
          -0.30715286666621483,
          0.36698070920852155,
          -0.8241317881946497,
          -1.5208647650174614,
          -0.7354562768430071,
          -1.2537972621985167,
          0.8879858198033864,
          -0.7099413000745913,
          -0.6240399942306015,
          2.2184997482400917,
          0.2566080222408146,
          -0.7233435325170695,
          -0.36585809401055946,
          -1.5176547330218004,
          0.5428843962132254,
          -0.4398698888030055,
          0.343625536158871,
          0.1981011674381106,
          0.8065099979206843,
          -1.3603521867792383,
          -0.17187123307592236,
          -1.6779996175054712,
          0.38561612398650275,
          -2.012641034881616,
          -0.37708334812546124,
          -0.04562884599330884,
          -0.4009859990959282,
          0.6939560396032762,
          -1.78589611443427,
          -1.869929131699314,
          -1.399889560058229,
          0.15886750495167176,
          -0.3242586354086578,
          0.9034370869926133,
          -0.5786721926747008,
          -0.8674333759306216,
          0.3454016300783812,
          -0.20187575531975432,
          0.5731724210192811,
          0.23715723874630953,
          1.106720036550557,
          0.9690019581797024,
          0.5959919953305238,
          1.3582327789677624,
          -0.18367776327384572,
          -1.4022175568766304,
          -0.023017278639227246,
          0.3169347429440951,
          1.6603832291117644,
          -0.8495586844825627,
          1.1618684561968171,
          -0.948641960168968,
          0.4354038402751054,
          1.8365202541015424,
          -0.1825034667378457,
          -0.38320184376570177,
          0.41371927923165663,
          -0.4562605062334397,
          -0.29220079785319764,
          -0.041964047096023624,
          0.9246400743910076,
          0.7486839011837545,
          0.2158078060728754,
          -0.6879751583409635,
          1.2030021629063608,
          1.0873298065069406,
          -1.1628069379634776,
          0.9894835492205013,
          -1.2539601106537022,
          -2.2373877359023164,
          -0.2631588365834419,
          1.361965225380507,
          -0.5719167168501775,
          0.5136380454219858,
          2.68058524805295,
          0.7179977132596467,
          0.9458129117680553,
          -1.8728427934674337,
          1.3507462150713798,
          2.004330894660265,
          -0.6651732025284808,
          -0.328919945248043,
          0.691612592123649,
          1.2548065655832024,
          0.37875592667530106,
          0.17997557036559772,
          -0.5682732751177091,
          -0.6318359329537082,
          -0.5939026606920121
         ],
         "yaxis": "y14"
        },
        {
         "line": {
          "color": "rgba(128, 128, 128, 1.0)",
          "dash": "solid",
          "shape": "linear",
          "width": 1.3
         },
         "marker": {
          "size": 2,
          "symbol": "circle"
         },
         "mode": "markers",
         "name": "D",
         "text": "",
         "type": "scatter",
         "x": [
          0.695594519761371,
          -0.7451101083358315,
          -1.3092545798623205,
          -1.148967679813761,
          -2.1499901091118283,
          0.16921733208513434,
          -1.652035274965219,
          -0.06536511772995664,
          -0.451555039427988,
          2.5508875085079254,
          1.6432397771654574,
          2.175007969085216,
          -1.183349169847012,
          -0.2803436459544689,
          0.3113778761058616,
          0.6580789933974976,
          -1.2871858908274494,
          0.9421677539359915,
          -1.27898705793451,
          1.5220905163816603,
          0.172627185075392,
          -0.2920546413135475,
          -3.2200752056661366,
          -0.6595483098958985,
          -0.037209911818583956,
          -1.9113396033227792,
          0.7495406055142672,
          0.6122124912669217,
          -1.649923917785392,
          0.24031623434340352,
          -0.9305668877584682,
          -0.17927603028592373,
          -0.6189685160089439,
          -0.10426964419885773,
          -1.584842525233409,
          1.3008582838270968,
          0.9627046666914726,
          -0.07243392267314792,
          -1.0550103985991441,
          -0.42292256301955466,
          -0.0816781964074479,
          -0.3831036956544528,
          -0.18646700797564847,
          1.9161854583075255,
          1.987584099296576,
          0.503544436898424,
          -1.6917730357682448,
          1.2140789508574432,
          0.9544265944842146,
          0.07235024083734189,
          0.30208565258184666,
          0.8493376013882723,
          0.6094930176110523,
          -0.4197814073474403,
          -0.8892714466838095,
          -0.27573081018871615,
          3.06633035138194,
          1.115310615469231,
          -0.5629187882893806,
          -1.7751598399064026,
          -0.22054072021463594,
          -0.1250791946004363,
          0.20207024305742066,
          0.012822231749756524,
          0.7630588279922778,
          -0.7816538608318876,
          -1.1429232919669339,
          0.2819344067155209,
          -0.8882891798691497,
          0.31157165384845725,
          0.4059458147284747,
          2.6654818835155956,
          0.08870181610828648,
          0.622983938101566,
          0.007318167216649481,
          1.1582841684738987,
          0.3045017436015654,
          -0.96055674405388,
          -1.5729460031035347,
          -1.5352180576477532,
          2.0016917048090974,
          0.32958653439078367,
          0.6779242903392502,
          -0.3490746406178837,
          0.03283304032337678,
          -1.3940960375701712,
          -0.9332614368379432,
          -0.48306539946151844,
          0.03717416280524384,
          -1.9064036857319562,
          -0.46771930351655083,
          0.9276597763861216,
          -0.5758620461840461,
          -0.1980995575800092,
          -0.5506458950883171,
          -0.2243089631924862,
          0.1512145499046544,
          -0.3543541912031643,
          -0.16606095706018428,
          -0.31715418224932196
         ],
         "xaxis": "x15",
         "y": [
          0.1348211493105177,
          1.331072068722212,
          -1.856840393991974,
          -1.0826692199085175,
          -1.4861759389019042,
          0.9448367510453909,
          0.9002622575274538,
          0.2399951548724196,
          -2.7173109542978042,
          0.6358996172944497,
          0.013757881283311239,
          -0.30715286666621483,
          0.36698070920852155,
          -0.8241317881946497,
          -1.5208647650174614,
          -0.7354562768430071,
          -1.2537972621985167,
          0.8879858198033864,
          -0.7099413000745913,
          -0.6240399942306015,
          2.2184997482400917,
          0.2566080222408146,
          -0.7233435325170695,
          -0.36585809401055946,
          -1.5176547330218004,
          0.5428843962132254,
          -0.4398698888030055,
          0.343625536158871,
          0.1981011674381106,
          0.8065099979206843,
          -1.3603521867792383,
          -0.17187123307592236,
          -1.6779996175054712,
          0.38561612398650275,
          -2.012641034881616,
          -0.37708334812546124,
          -0.04562884599330884,
          -0.4009859990959282,
          0.6939560396032762,
          -1.78589611443427,
          -1.869929131699314,
          -1.399889560058229,
          0.15886750495167176,
          -0.3242586354086578,
          0.9034370869926133,
          -0.5786721926747008,
          -0.8674333759306216,
          0.3454016300783812,
          -0.20187575531975432,
          0.5731724210192811,
          0.23715723874630953,
          1.106720036550557,
          0.9690019581797024,
          0.5959919953305238,
          1.3582327789677624,
          -0.18367776327384572,
          -1.4022175568766304,
          -0.023017278639227246,
          0.3169347429440951,
          1.6603832291117644,
          -0.8495586844825627,
          1.1618684561968171,
          -0.948641960168968,
          0.4354038402751054,
          1.8365202541015424,
          -0.1825034667378457,
          -0.38320184376570177,
          0.41371927923165663,
          -0.4562605062334397,
          -0.29220079785319764,
          -0.041964047096023624,
          0.9246400743910076,
          0.7486839011837545,
          0.2158078060728754,
          -0.6879751583409635,
          1.2030021629063608,
          1.0873298065069406,
          -1.1628069379634776,
          0.9894835492205013,
          -1.2539601106537022,
          -2.2373877359023164,
          -0.2631588365834419,
          1.361965225380507,
          -0.5719167168501775,
          0.5136380454219858,
          2.68058524805295,
          0.7179977132596467,
          0.9458129117680553,
          -1.8728427934674337,
          1.3507462150713798,
          2.004330894660265,
          -0.6651732025284808,
          -0.328919945248043,
          0.691612592123649,
          1.2548065655832024,
          0.37875592667530106,
          0.17997557036559772,
          -0.5682732751177091,
          -0.6318359329537082,
          -0.5939026606920121
         ],
         "yaxis": "y15"
        },
        {
         "histfunc": "count",
         "histnorm": "",
         "marker": {
          "color": "rgba(128, 0, 128, 1.0)",
          "line": {
           "color": "#4D5663",
           "width": 1.3
          }
         },
         "name": "D",
         "nbinsx": 10,
         "opacity": 0.8,
         "orientation": "v",
         "type": "histogram",
         "x": [
          0.1348211493105177,
          1.331072068722212,
          -1.856840393991974,
          -1.0826692199085175,
          -1.4861759389019042,
          0.9448367510453909,
          0.9002622575274538,
          0.2399951548724196,
          -2.7173109542978042,
          0.6358996172944497,
          0.013757881283311239,
          -0.30715286666621483,
          0.36698070920852155,
          -0.8241317881946497,
          -1.5208647650174614,
          -0.7354562768430071,
          -1.2537972621985167,
          0.8879858198033864,
          -0.7099413000745913,
          -0.6240399942306015,
          2.2184997482400917,
          0.2566080222408146,
          -0.7233435325170695,
          -0.36585809401055946,
          -1.5176547330218004,
          0.5428843962132254,
          -0.4398698888030055,
          0.343625536158871,
          0.1981011674381106,
          0.8065099979206843,
          -1.3603521867792383,
          -0.17187123307592236,
          -1.6779996175054712,
          0.38561612398650275,
          -2.012641034881616,
          -0.37708334812546124,
          -0.04562884599330884,
          -0.4009859990959282,
          0.6939560396032762,
          -1.78589611443427,
          -1.869929131699314,
          -1.399889560058229,
          0.15886750495167176,
          -0.3242586354086578,
          0.9034370869926133,
          -0.5786721926747008,
          -0.8674333759306216,
          0.3454016300783812,
          -0.20187575531975432,
          0.5731724210192811,
          0.23715723874630953,
          1.106720036550557,
          0.9690019581797024,
          0.5959919953305238,
          1.3582327789677624,
          -0.18367776327384572,
          -1.4022175568766304,
          -0.023017278639227246,
          0.3169347429440951,
          1.6603832291117644,
          -0.8495586844825627,
          1.1618684561968171,
          -0.948641960168968,
          0.4354038402751054,
          1.8365202541015424,
          -0.1825034667378457,
          -0.38320184376570177,
          0.41371927923165663,
          -0.4562605062334397,
          -0.29220079785319764,
          -0.041964047096023624,
          0.9246400743910076,
          0.7486839011837545,
          0.2158078060728754,
          -0.6879751583409635,
          1.2030021629063608,
          1.0873298065069406,
          -1.1628069379634776,
          0.9894835492205013,
          -1.2539601106537022,
          -2.2373877359023164,
          -0.2631588365834419,
          1.361965225380507,
          -0.5719167168501775,
          0.5136380454219858,
          2.68058524805295,
          0.7179977132596467,
          0.9458129117680553,
          -1.8728427934674337,
          1.3507462150713798,
          2.004330894660265,
          -0.6651732025284808,
          -0.328919945248043,
          0.691612592123649,
          1.2548065655832024,
          0.37875592667530106,
          0.17997557036559772,
          -0.5682732751177091,
          -0.6318359329537082,
          -0.5939026606920121
         ],
         "xaxis": "x16",
         "yaxis": "y16"
        }
       ],
       "layout": {
        "bargap": 0.02,
        "legend": {
         "bgcolor": "#F5F6F9",
         "font": {
          "color": "#4D5663"
         }
        },
        "paper_bgcolor": "#F5F6F9",
        "plot_bgcolor": "#F5F6F9",
        "showlegend": false,
        "template": {
         "data": {
          "bar": [
           {
            "error_x": {
             "color": "#2a3f5f"
            },
            "error_y": {
             "color": "#2a3f5f"
            },
            "marker": {
             "line": {
              "color": "#E5ECF6",
              "width": 0.5
             }
            },
            "type": "bar"
           }
          ],
          "barpolar": [
           {
            "marker": {
             "line": {
              "color": "#E5ECF6",
              "width": 0.5
             }
            },
            "type": "barpolar"
           }
          ],
          "carpet": [
           {
            "aaxis": {
             "endlinecolor": "#2a3f5f",
             "gridcolor": "white",
             "linecolor": "white",
             "minorgridcolor": "white",
             "startlinecolor": "#2a3f5f"
            },
            "baxis": {
             "endlinecolor": "#2a3f5f",
             "gridcolor": "white",
             "linecolor": "white",
             "minorgridcolor": "white",
             "startlinecolor": "#2a3f5f"
            },
            "type": "carpet"
           }
          ],
          "choropleth": [
           {
            "colorbar": {
             "outlinewidth": 0,
             "ticks": ""
            },
            "type": "choropleth"
           }
          ],
          "contour": [
           {
            "colorbar": {
             "outlinewidth": 0,
             "ticks": ""
            },
            "colorscale": [
             [
              0,
              "#0d0887"
             ],
             [
              0.1111111111111111,
              "#46039f"
             ],
             [
              0.2222222222222222,
              "#7201a8"
             ],
             [
              0.3333333333333333,
              "#9c179e"
             ],
             [
              0.4444444444444444,
              "#bd3786"
             ],
             [
              0.5555555555555556,
              "#d8576b"
             ],
             [
              0.6666666666666666,
              "#ed7953"
             ],
             [
              0.7777777777777778,
              "#fb9f3a"
             ],
             [
              0.8888888888888888,
              "#fdca26"
             ],
             [
              1,
              "#f0f921"
             ]
            ],
            "type": "contour"
           }
          ],
          "contourcarpet": [
           {
            "colorbar": {
             "outlinewidth": 0,
             "ticks": ""
            },
            "type": "contourcarpet"
           }
          ],
          "heatmap": [
           {
            "colorbar": {
             "outlinewidth": 0,
             "ticks": ""
            },
            "colorscale": [
             [
              0,
              "#0d0887"
             ],
             [
              0.1111111111111111,
              "#46039f"
             ],
             [
              0.2222222222222222,
              "#7201a8"
             ],
             [
              0.3333333333333333,
              "#9c179e"
             ],
             [
              0.4444444444444444,
              "#bd3786"
             ],
             [
              0.5555555555555556,
              "#d8576b"
             ],
             [
              0.6666666666666666,
              "#ed7953"
             ],
             [
              0.7777777777777778,
              "#fb9f3a"
             ],
             [
              0.8888888888888888,
              "#fdca26"
             ],
             [
              1,
              "#f0f921"
             ]
            ],
            "type": "heatmap"
           }
          ],
          "heatmapgl": [
           {
            "colorbar": {
             "outlinewidth": 0,
             "ticks": ""
            },
            "colorscale": [
             [
              0,
              "#0d0887"
             ],
             [
              0.1111111111111111,
              "#46039f"
             ],
             [
              0.2222222222222222,
              "#7201a8"
             ],
             [
              0.3333333333333333,
              "#9c179e"
             ],
             [
              0.4444444444444444,
              "#bd3786"
             ],
             [
              0.5555555555555556,
              "#d8576b"
             ],
             [
              0.6666666666666666,
              "#ed7953"
             ],
             [
              0.7777777777777778,
              "#fb9f3a"
             ],
             [
              0.8888888888888888,
              "#fdca26"
             ],
             [
              1,
              "#f0f921"
             ]
            ],
            "type": "heatmapgl"
           }
          ],
          "histogram": [
           {
            "marker": {
             "colorbar": {
              "outlinewidth": 0,
              "ticks": ""
             }
            },
            "type": "histogram"
           }
          ],
          "histogram2d": [
           {
            "colorbar": {
             "outlinewidth": 0,
             "ticks": ""
            },
            "colorscale": [
             [
              0,
              "#0d0887"
             ],
             [
              0.1111111111111111,
              "#46039f"
             ],
             [
              0.2222222222222222,
              "#7201a8"
             ],
             [
              0.3333333333333333,
              "#9c179e"
             ],
             [
              0.4444444444444444,
              "#bd3786"
             ],
             [
              0.5555555555555556,
              "#d8576b"
             ],
             [
              0.6666666666666666,
              "#ed7953"
             ],
             [
              0.7777777777777778,
              "#fb9f3a"
             ],
             [
              0.8888888888888888,
              "#fdca26"
             ],
             [
              1,
              "#f0f921"
             ]
            ],
            "type": "histogram2d"
           }
          ],
          "histogram2dcontour": [
           {
            "colorbar": {
             "outlinewidth": 0,
             "ticks": ""
            },
            "colorscale": [
             [
              0,
              "#0d0887"
             ],
             [
              0.1111111111111111,
              "#46039f"
             ],
             [
              0.2222222222222222,
              "#7201a8"
             ],
             [
              0.3333333333333333,
              "#9c179e"
             ],
             [
              0.4444444444444444,
              "#bd3786"
             ],
             [
              0.5555555555555556,
              "#d8576b"
             ],
             [
              0.6666666666666666,
              "#ed7953"
             ],
             [
              0.7777777777777778,
              "#fb9f3a"
             ],
             [
              0.8888888888888888,
              "#fdca26"
             ],
             [
              1,
              "#f0f921"
             ]
            ],
            "type": "histogram2dcontour"
           }
          ],
          "mesh3d": [
           {
            "colorbar": {
             "outlinewidth": 0,
             "ticks": ""
            },
            "type": "mesh3d"
           }
          ],
          "parcoords": [
           {
            "line": {
             "colorbar": {
              "outlinewidth": 0,
              "ticks": ""
             }
            },
            "type": "parcoords"
           }
          ],
          "pie": [
           {
            "automargin": true,
            "type": "pie"
           }
          ],
          "scatter": [
           {
            "marker": {
             "colorbar": {
              "outlinewidth": 0,
              "ticks": ""
             }
            },
            "type": "scatter"
           }
          ],
          "scatter3d": [
           {
            "line": {
             "colorbar": {
              "outlinewidth": 0,
              "ticks": ""
             }
            },
            "marker": {
             "colorbar": {
              "outlinewidth": 0,
              "ticks": ""
             }
            },
            "type": "scatter3d"
           }
          ],
          "scattercarpet": [
           {
            "marker": {
             "colorbar": {
              "outlinewidth": 0,
              "ticks": ""
             }
            },
            "type": "scattercarpet"
           }
          ],
          "scattergeo": [
           {
            "marker": {
             "colorbar": {
              "outlinewidth": 0,
              "ticks": ""
             }
            },
            "type": "scattergeo"
           }
          ],
          "scattergl": [
           {
            "marker": {
             "colorbar": {
              "outlinewidth": 0,
              "ticks": ""
             }
            },
            "type": "scattergl"
           }
          ],
          "scattermapbox": [
           {
            "marker": {
             "colorbar": {
              "outlinewidth": 0,
              "ticks": ""
             }
            },
            "type": "scattermapbox"
           }
          ],
          "scatterpolar": [
           {
            "marker": {
             "colorbar": {
              "outlinewidth": 0,
              "ticks": ""
             }
            },
            "type": "scatterpolar"
           }
          ],
          "scatterpolargl": [
           {
            "marker": {
             "colorbar": {
              "outlinewidth": 0,
              "ticks": ""
             }
            },
            "type": "scatterpolargl"
           }
          ],
          "scatterternary": [
           {
            "marker": {
             "colorbar": {
              "outlinewidth": 0,
              "ticks": ""
             }
            },
            "type": "scatterternary"
           }
          ],
          "surface": [
           {
            "colorbar": {
             "outlinewidth": 0,
             "ticks": ""
            },
            "colorscale": [
             [
              0,
              "#0d0887"
             ],
             [
              0.1111111111111111,
              "#46039f"
             ],
             [
              0.2222222222222222,
              "#7201a8"
             ],
             [
              0.3333333333333333,
              "#9c179e"
             ],
             [
              0.4444444444444444,
              "#bd3786"
             ],
             [
              0.5555555555555556,
              "#d8576b"
             ],
             [
              0.6666666666666666,
              "#ed7953"
             ],
             [
              0.7777777777777778,
              "#fb9f3a"
             ],
             [
              0.8888888888888888,
              "#fdca26"
             ],
             [
              1,
              "#f0f921"
             ]
            ],
            "type": "surface"
           }
          ],
          "table": [
           {
            "cells": {
             "fill": {
              "color": "#EBF0F8"
             },
             "line": {
              "color": "white"
             }
            },
            "header": {
             "fill": {
              "color": "#C8D4E3"
             },
             "line": {
              "color": "white"
             }
            },
            "type": "table"
           }
          ]
         },
         "layout": {
          "annotationdefaults": {
           "arrowcolor": "#2a3f5f",
           "arrowhead": 0,
           "arrowwidth": 1
          },
          "coloraxis": {
           "colorbar": {
            "outlinewidth": 0,
            "ticks": ""
           }
          },
          "colorscale": {
           "diverging": [
            [
             0,
             "#8e0152"
            ],
            [
             0.1,
             "#c51b7d"
            ],
            [
             0.2,
             "#de77ae"
            ],
            [
             0.3,
             "#f1b6da"
            ],
            [
             0.4,
             "#fde0ef"
            ],
            [
             0.5,
             "#f7f7f7"
            ],
            [
             0.6,
             "#e6f5d0"
            ],
            [
             0.7,
             "#b8e186"
            ],
            [
             0.8,
             "#7fbc41"
            ],
            [
             0.9,
             "#4d9221"
            ],
            [
             1,
             "#276419"
            ]
           ],
           "sequential": [
            [
             0,
             "#0d0887"
            ],
            [
             0.1111111111111111,
             "#46039f"
            ],
            [
             0.2222222222222222,
             "#7201a8"
            ],
            [
             0.3333333333333333,
             "#9c179e"
            ],
            [
             0.4444444444444444,
             "#bd3786"
            ],
            [
             0.5555555555555556,
             "#d8576b"
            ],
            [
             0.6666666666666666,
             "#ed7953"
            ],
            [
             0.7777777777777778,
             "#fb9f3a"
            ],
            [
             0.8888888888888888,
             "#fdca26"
            ],
            [
             1,
             "#f0f921"
            ]
           ],
           "sequentialminus": [
            [
             0,
             "#0d0887"
            ],
            [
             0.1111111111111111,
             "#46039f"
            ],
            [
             0.2222222222222222,
             "#7201a8"
            ],
            [
             0.3333333333333333,
             "#9c179e"
            ],
            [
             0.4444444444444444,
             "#bd3786"
            ],
            [
             0.5555555555555556,
             "#d8576b"
            ],
            [
             0.6666666666666666,
             "#ed7953"
            ],
            [
             0.7777777777777778,
             "#fb9f3a"
            ],
            [
             0.8888888888888888,
             "#fdca26"
            ],
            [
             1,
             "#f0f921"
            ]
           ]
          },
          "colorway": [
           "#636efa",
           "#EF553B",
           "#00cc96",
           "#ab63fa",
           "#FFA15A",
           "#19d3f3",
           "#FF6692",
           "#B6E880",
           "#FF97FF",
           "#FECB52"
          ],
          "font": {
           "color": "#2a3f5f"
          },
          "geo": {
           "bgcolor": "white",
           "lakecolor": "white",
           "landcolor": "#E5ECF6",
           "showlakes": true,
           "showland": true,
           "subunitcolor": "white"
          },
          "hoverlabel": {
           "align": "left"
          },
          "hovermode": "closest",
          "mapbox": {
           "style": "light"
          },
          "paper_bgcolor": "white",
          "plot_bgcolor": "#E5ECF6",
          "polar": {
           "angularaxis": {
            "gridcolor": "white",
            "linecolor": "white",
            "ticks": ""
           },
           "bgcolor": "#E5ECF6",
           "radialaxis": {
            "gridcolor": "white",
            "linecolor": "white",
            "ticks": ""
           }
          },
          "scene": {
           "xaxis": {
            "backgroundcolor": "#E5ECF6",
            "gridcolor": "white",
            "gridwidth": 2,
            "linecolor": "white",
            "showbackground": true,
            "ticks": "",
            "zerolinecolor": "white"
           },
           "yaxis": {
            "backgroundcolor": "#E5ECF6",
            "gridcolor": "white",
            "gridwidth": 2,
            "linecolor": "white",
            "showbackground": true,
            "ticks": "",
            "zerolinecolor": "white"
           },
           "zaxis": {
            "backgroundcolor": "#E5ECF6",
            "gridcolor": "white",
            "gridwidth": 2,
            "linecolor": "white",
            "showbackground": true,
            "ticks": "",
            "zerolinecolor": "white"
           }
          },
          "shapedefaults": {
           "line": {
            "color": "#2a3f5f"
           }
          },
          "ternary": {
           "aaxis": {
            "gridcolor": "white",
            "linecolor": "white",
            "ticks": ""
           },
           "baxis": {
            "gridcolor": "white",
            "linecolor": "white",
            "ticks": ""
           },
           "bgcolor": "#E5ECF6",
           "caxis": {
            "gridcolor": "white",
            "linecolor": "white",
            "ticks": ""
           }
          },
          "title": {
           "x": 0.05
          },
          "xaxis": {
           "automargin": true,
           "gridcolor": "white",
           "linecolor": "white",
           "ticks": "",
           "title": {
            "standoff": 15
           },
           "zerolinecolor": "white",
           "zerolinewidth": 2
          },
          "yaxis": {
           "automargin": true,
           "gridcolor": "white",
           "linecolor": "white",
           "ticks": "",
           "title": {
            "standoff": 15
           },
           "zerolinecolor": "white",
           "zerolinewidth": 2
          }
         }
        },
        "title": {
         "font": {
          "color": "#4D5663"
         }
        },
        "xaxis": {
         "anchor": "y",
         "domain": [
          0,
          0.2125
         ],
         "gridcolor": "#E1E5ED",
         "showgrid": false,
         "tickfont": {
          "color": "#4D5663"
         },
         "title": {
          "font": {
           "color": "#4D5663"
          },
          "text": ""
         },
         "zerolinecolor": "#E1E5ED"
        },
        "xaxis10": {
         "anchor": "y10",
         "domain": [
          0.2625,
          0.475
         ],
         "gridcolor": "#E1E5ED",
         "showgrid": false,
         "tickfont": {
          "color": "#4D5663"
         },
         "title": {
          "font": {
           "color": "#4D5663"
          },
          "text": ""
         },
         "zerolinecolor": "#E1E5ED"
        },
        "xaxis11": {
         "anchor": "y11",
         "domain": [
          0.525,
          0.7375
         ],
         "gridcolor": "#E1E5ED",
         "showgrid": false,
         "tickfont": {
          "color": "#4D5663"
         },
         "title": {
          "font": {
           "color": "#4D5663"
          },
          "text": ""
         },
         "zerolinecolor": "#E1E5ED"
        },
        "xaxis12": {
         "anchor": "y12",
         "domain": [
          0.7875,
          1
         ],
         "gridcolor": "#E1E5ED",
         "showgrid": false,
         "tickfont": {
          "color": "#4D5663"
         },
         "title": {
          "font": {
           "color": "#4D5663"
          },
          "text": ""
         },
         "zerolinecolor": "#E1E5ED"
        },
        "xaxis13": {
         "anchor": "y13",
         "domain": [
          0,
          0.2125
         ],
         "gridcolor": "#E1E5ED",
         "showgrid": false,
         "tickfont": {
          "color": "#4D5663"
         },
         "title": {
          "font": {
           "color": "#4D5663"
          },
          "text": ""
         },
         "zerolinecolor": "#E1E5ED"
        },
        "xaxis14": {
         "anchor": "y14",
         "domain": [
          0.2625,
          0.475
         ],
         "gridcolor": "#E1E5ED",
         "showgrid": false,
         "tickfont": {
          "color": "#4D5663"
         },
         "title": {
          "font": {
           "color": "#4D5663"
          },
          "text": ""
         },
         "zerolinecolor": "#E1E5ED"
        },
        "xaxis15": {
         "anchor": "y15",
         "domain": [
          0.525,
          0.7375
         ],
         "gridcolor": "#E1E5ED",
         "showgrid": false,
         "tickfont": {
          "color": "#4D5663"
         },
         "title": {
          "font": {
           "color": "#4D5663"
          },
          "text": ""
         },
         "zerolinecolor": "#E1E5ED"
        },
        "xaxis16": {
         "anchor": "y16",
         "domain": [
          0.7875,
          1
         ],
         "gridcolor": "#E1E5ED",
         "showgrid": false,
         "tickfont": {
          "color": "#4D5663"
         },
         "title": {
          "font": {
           "color": "#4D5663"
          },
          "text": ""
         },
         "zerolinecolor": "#E1E5ED"
        },
        "xaxis2": {
         "anchor": "y2",
         "domain": [
          0.2625,
          0.475
         ],
         "gridcolor": "#E1E5ED",
         "showgrid": false,
         "tickfont": {
          "color": "#4D5663"
         },
         "title": {
          "font": {
           "color": "#4D5663"
          },
          "text": ""
         },
         "zerolinecolor": "#E1E5ED"
        },
        "xaxis3": {
         "anchor": "y3",
         "domain": [
          0.525,
          0.7375
         ],
         "gridcolor": "#E1E5ED",
         "showgrid": false,
         "tickfont": {
          "color": "#4D5663"
         },
         "title": {
          "font": {
           "color": "#4D5663"
          },
          "text": ""
         },
         "zerolinecolor": "#E1E5ED"
        },
        "xaxis4": {
         "anchor": "y4",
         "domain": [
          0.7875,
          1
         ],
         "gridcolor": "#E1E5ED",
         "showgrid": false,
         "tickfont": {
          "color": "#4D5663"
         },
         "title": {
          "font": {
           "color": "#4D5663"
          },
          "text": ""
         },
         "zerolinecolor": "#E1E5ED"
        },
        "xaxis5": {
         "anchor": "y5",
         "domain": [
          0,
          0.2125
         ],
         "gridcolor": "#E1E5ED",
         "showgrid": false,
         "tickfont": {
          "color": "#4D5663"
         },
         "title": {
          "font": {
           "color": "#4D5663"
          },
          "text": ""
         },
         "zerolinecolor": "#E1E5ED"
        },
        "xaxis6": {
         "anchor": "y6",
         "domain": [
          0.2625,
          0.475
         ],
         "gridcolor": "#E1E5ED",
         "showgrid": false,
         "tickfont": {
          "color": "#4D5663"
         },
         "title": {
          "font": {
           "color": "#4D5663"
          },
          "text": ""
         },
         "zerolinecolor": "#E1E5ED"
        },
        "xaxis7": {
         "anchor": "y7",
         "domain": [
          0.525,
          0.7375
         ],
         "gridcolor": "#E1E5ED",
         "showgrid": false,
         "tickfont": {
          "color": "#4D5663"
         },
         "title": {
          "font": {
           "color": "#4D5663"
          },
          "text": ""
         },
         "zerolinecolor": "#E1E5ED"
        },
        "xaxis8": {
         "anchor": "y8",
         "domain": [
          0.7875,
          1
         ],
         "gridcolor": "#E1E5ED",
         "showgrid": false,
         "tickfont": {
          "color": "#4D5663"
         },
         "title": {
          "font": {
           "color": "#4D5663"
          },
          "text": ""
         },
         "zerolinecolor": "#E1E5ED"
        },
        "xaxis9": {
         "anchor": "y9",
         "domain": [
          0,
          0.2125
         ],
         "gridcolor": "#E1E5ED",
         "showgrid": false,
         "tickfont": {
          "color": "#4D5663"
         },
         "title": {
          "font": {
           "color": "#4D5663"
          },
          "text": ""
         },
         "zerolinecolor": "#E1E5ED"
        },
        "yaxis": {
         "anchor": "x",
         "domain": [
          0.8025,
          1
         ],
         "gridcolor": "#E1E5ED",
         "showgrid": false,
         "tickfont": {
          "color": "#4D5663"
         },
         "title": {
          "font": {
           "color": "#4D5663"
          },
          "text": ""
         },
         "zerolinecolor": "#E1E5ED"
        },
        "yaxis10": {
         "anchor": "x10",
         "domain": [
          0.2675,
          0.465
         ],
         "gridcolor": "#E1E5ED",
         "showgrid": false,
         "tickfont": {
          "color": "#4D5663"
         },
         "title": {
          "font": {
           "color": "#4D5663"
          },
          "text": ""
         },
         "zerolinecolor": "#E1E5ED"
        },
        "yaxis11": {
         "anchor": "x11",
         "domain": [
          0.2675,
          0.465
         ],
         "gridcolor": "#E1E5ED",
         "showgrid": false,
         "tickfont": {
          "color": "#4D5663"
         },
         "title": {
          "font": {
           "color": "#4D5663"
          },
          "text": ""
         },
         "zerolinecolor": "#E1E5ED"
        },
        "yaxis12": {
         "anchor": "x12",
         "domain": [
          0.2675,
          0.465
         ],
         "gridcolor": "#E1E5ED",
         "showgrid": false,
         "tickfont": {
          "color": "#4D5663"
         },
         "title": {
          "font": {
           "color": "#4D5663"
          },
          "text": ""
         },
         "zerolinecolor": "#E1E5ED"
        },
        "yaxis13": {
         "anchor": "x13",
         "domain": [
          0,
          0.1975
         ],
         "gridcolor": "#E1E5ED",
         "showgrid": false,
         "tickfont": {
          "color": "#4D5663"
         },
         "title": {
          "font": {
           "color": "#4D5663"
          },
          "text": ""
         },
         "zerolinecolor": "#E1E5ED"
        },
        "yaxis14": {
         "anchor": "x14",
         "domain": [
          0,
          0.1975
         ],
         "gridcolor": "#E1E5ED",
         "showgrid": false,
         "tickfont": {
          "color": "#4D5663"
         },
         "title": {
          "font": {
           "color": "#4D5663"
          },
          "text": ""
         },
         "zerolinecolor": "#E1E5ED"
        },
        "yaxis15": {
         "anchor": "x15",
         "domain": [
          0,
          0.1975
         ],
         "gridcolor": "#E1E5ED",
         "showgrid": false,
         "tickfont": {
          "color": "#4D5663"
         },
         "title": {
          "font": {
           "color": "#4D5663"
          },
          "text": ""
         },
         "zerolinecolor": "#E1E5ED"
        },
        "yaxis16": {
         "anchor": "x16",
         "domain": [
          0,
          0.1975
         ],
         "gridcolor": "#E1E5ED",
         "showgrid": false,
         "tickfont": {
          "color": "#4D5663"
         },
         "title": {
          "font": {
           "color": "#4D5663"
          },
          "text": ""
         },
         "zerolinecolor": "#E1E5ED"
        },
        "yaxis2": {
         "anchor": "x2",
         "domain": [
          0.8025,
          1
         ],
         "gridcolor": "#E1E5ED",
         "showgrid": false,
         "tickfont": {
          "color": "#4D5663"
         },
         "title": {
          "font": {
           "color": "#4D5663"
          },
          "text": ""
         },
         "zerolinecolor": "#E1E5ED"
        },
        "yaxis3": {
         "anchor": "x3",
         "domain": [
          0.8025,
          1
         ],
         "gridcolor": "#E1E5ED",
         "showgrid": false,
         "tickfont": {
          "color": "#4D5663"
         },
         "title": {
          "font": {
           "color": "#4D5663"
          },
          "text": ""
         },
         "zerolinecolor": "#E1E5ED"
        },
        "yaxis4": {
         "anchor": "x4",
         "domain": [
          0.8025,
          1
         ],
         "gridcolor": "#E1E5ED",
         "showgrid": false,
         "tickfont": {
          "color": "#4D5663"
         },
         "title": {
          "font": {
           "color": "#4D5663"
          },
          "text": ""
         },
         "zerolinecolor": "#E1E5ED"
        },
        "yaxis5": {
         "anchor": "x5",
         "domain": [
          0.535,
          0.7325
         ],
         "gridcolor": "#E1E5ED",
         "showgrid": false,
         "tickfont": {
          "color": "#4D5663"
         },
         "title": {
          "font": {
           "color": "#4D5663"
          },
          "text": ""
         },
         "zerolinecolor": "#E1E5ED"
        },
        "yaxis6": {
         "anchor": "x6",
         "domain": [
          0.535,
          0.7325
         ],
         "gridcolor": "#E1E5ED",
         "showgrid": false,
         "tickfont": {
          "color": "#4D5663"
         },
         "title": {
          "font": {
           "color": "#4D5663"
          },
          "text": ""
         },
         "zerolinecolor": "#E1E5ED"
        },
        "yaxis7": {
         "anchor": "x7",
         "domain": [
          0.535,
          0.7325
         ],
         "gridcolor": "#E1E5ED",
         "showgrid": false,
         "tickfont": {
          "color": "#4D5663"
         },
         "title": {
          "font": {
           "color": "#4D5663"
          },
          "text": ""
         },
         "zerolinecolor": "#E1E5ED"
        },
        "yaxis8": {
         "anchor": "x8",
         "domain": [
          0.535,
          0.7325
         ],
         "gridcolor": "#E1E5ED",
         "showgrid": false,
         "tickfont": {
          "color": "#4D5663"
         },
         "title": {
          "font": {
           "color": "#4D5663"
          },
          "text": ""
         },
         "zerolinecolor": "#E1E5ED"
        },
        "yaxis9": {
         "anchor": "x9",
         "domain": [
          0.2675,
          0.465
         ],
         "gridcolor": "#E1E5ED",
         "showgrid": false,
         "tickfont": {
          "color": "#4D5663"
         },
         "title": {
          "font": {
           "color": "#4D5663"
          },
          "text": ""
         },
         "zerolinecolor": "#E1E5ED"
        }
       }
      },
      "text/html": [
       "<div>\n",
       "        \n",
       "        \n",
       "            <div id=\"5f102cf0-6d61-4dfa-a3a6-0da5909ed576\" class=\"plotly-graph-div\" style=\"height:525px; width:100%;\"></div>\n",
       "            <script type=\"text/javascript\">\n",
       "                require([\"plotly\"], function(Plotly) {\n",
       "                    window.PLOTLYENV=window.PLOTLYENV || {};\n",
       "                    window.PLOTLYENV.BASE_URL='https://plot.ly';\n",
       "                    \n",
       "                if (document.getElementById(\"5f102cf0-6d61-4dfa-a3a6-0da5909ed576\")) {\n",
       "                    Plotly.newPlot(\n",
       "                        '5f102cf0-6d61-4dfa-a3a6-0da5909ed576',\n",
       "                        [{\"histfunc\": \"count\", \"histnorm\": \"\", \"marker\": {\"color\": \"rgba(255, 153, 51, 1.0)\", \"line\": {\"color\": \"#4D5663\", \"width\": 1.3}}, \"name\": \"A\", \"nbinsx\": 10, \"opacity\": 0.8, \"orientation\": \"v\", \"type\": \"histogram\", \"x\": [-0.04385431780971637, -0.7301948168187024, -0.3496833695728504, -1.0612823737313737, 0.6591799683260353, 0.12428679487969375, -0.2628424807417794, 2.908786492446553, 0.5339220569380786, -1.5102640304281827, -0.2153849878718799, 0.14062569399657224, -1.2095030942021077, 0.45284316632611793, -1.616644761050487, 1.2057735309487918, -0.27850860903850416, 0.2661868200566413, -0.04888824105785708, 0.5466453961210647, 0.02444249995946009, -0.8803134222022471, 0.3959377294436148, -1.0125477805236467, -0.5403287337285112, -1.3969258083854257, -0.6647798643181021, 0.48996370455519694, -0.23702134521007456, 0.8259808476853691, -0.9134122472273268, -1.1689396577601616, 0.5853346423361953, 0.1165143240319178, -0.2537611614822444, -0.18422371333987664, 0.8742866058103691, -1.073458978869497, -0.11088759020331997, -1.23745560196081, -0.532207923124355, 0.4647951367313668, -0.42647882860361713, 0.6951312657084125, -1.4214167040692915, 0.902602666447066, 0.29741521616193584, 0.528548856648751, 0.9014676973634032, -0.1607135459165966, 0.35723359219153533, 0.23642409792308924, -0.3889773534472179, -2.4151038247887273, -0.09893139723269141, 0.3183672750508919, -1.0378675424182902, 0.287212016653486, -3.79126376982542, -0.8481039639987642, -0.3083120890222015, 1.793456070709133, -1.195369054487541, 1.0073436597216414, -1.2597272629060985, 1.8384369506007168, 0.37605391208689704, 0.6314748697418396, 0.5955215842189099, -0.10636349138020569, -1.4523789133361966, 2.4449306585882913, -0.29666309294170307, -0.21758145830572764, -0.7779081958035611, 0.1354671171040796, 0.15111110801098596, -0.8735875946797669, 2.108292328999151, 0.5581931925719561, -0.028223326518975078, 0.514591322068852, -0.7160014933804951, 1.0216913238644663, -1.3091472140787501, 0.25368841660167313, 0.6179071895170258, -0.34256487682349746, 1.4664115902589256, 0.6724977799274586, -0.8666211910244764, 1.0906099527040427, -2.6320438549269682, -1.2044405223200088, 0.09772313314017038, -0.18085756910776699, 0.18166012654149388, -0.6225026019819604, -1.0801935697404188, 0.6784957157116219], \"xaxis\": \"x\", \"yaxis\": \"y\"}, {\"line\": {\"color\": \"rgba(128, 128, 128, 1.0)\", \"dash\": \"solid\", \"shape\": \"linear\", \"width\": 1.3}, \"marker\": {\"size\": 2, \"symbol\": \"circle\"}, \"mode\": \"markers\", \"name\": \"A\", \"text\": \"\", \"type\": \"scatter\", \"x\": [2.954682519418268, 1.2365829943535065, 2.104707567465196, 0.6633122537619591, 0.1538540084551306, 0.23170758817037124, -0.43025246824322605, -0.8062172600617752, 0.046277835727682744, -0.1452225853859939, -0.657776484401953, 0.053257950611550565, 1.5457051738269376, -1.3621708275952347, -0.15216947551494678, -0.7568602100782479, 0.29130806187656605, -1.130874456411832, -0.4631759857994132, -0.14116155647866782, 0.7118687205278166, -1.5500933264992216, 0.23684817274769057, -0.795400792746069, -1.7188704299757898, -0.49587136119877157, 1.0845807749581031, 1.3216725689195945, -0.8772702282109345, -0.6533764162042501, 3.2761707724560956, -0.6205202155431992, -0.13674014934522996, 0.3545319778991714, 0.26694297117685484, -0.07977085536555945, -0.015089174982792847, 0.9816931248247944, -0.9110304148970944, -0.3059876199479298, 0.6662941303764393, -0.23594236213250566, 0.5387516865350658, -0.8591039221027258, -0.4438675856675307, -0.42581560653971906, 1.5211561268716567, -0.3646030143739634, 1.4187212257471844, 0.5596787266396095, -0.20374108789784603, -0.977789621874286, -0.4972843153163968, 1.0519834196489215, 0.8798947682126929, 0.57401381845951, 0.5221857963465762, -0.20410583046198696, -0.7271785758926677, -0.5507149743855863, -0.12348649822361285, -0.34865126481223113, 0.37519336960418925, 0.2054370890711027, -0.3686501583006007, -0.9308147821700553, -0.5101649714460124, -1.312756296156895, -0.6872924129121585, 0.2431653092979941, -0.4680574915932994, 0.25846307724269496, 1.109367302357436, -1.046566276737933, -0.4507778326412062, -0.9890841839195814, -1.1484905543171988, 0.13438786165027108, -2.2366854653203547, -1.7598337752374726, 0.3870442907617244, 1.2678397112271507, 1.263679739194867, -0.13001732439442706, -1.9931688174259747, 0.6132591928043307, 0.10547007627853718, 0.1228225407414566, -2.0286967006534655, 0.4496012985812599, -0.40793324413434073, 1.7038975915424757, -0.7621430975695681, 1.2001373603508956, -0.6727126847149263, -0.2901948996138198, 0.2785826649259012, 0.12294192744039334, -1.17265209109376, 0.9131529756743128], \"xaxis\": \"x2\", \"y\": [-0.04385431780971637, -0.7301948168187024, -0.3496833695728504, -1.0612823737313737, 0.6591799683260353, 0.12428679487969375, -0.2628424807417794, 2.908786492446553, 0.5339220569380786, -1.5102640304281827, -0.2153849878718799, 0.14062569399657224, -1.2095030942021077, 0.45284316632611793, -1.616644761050487, 1.2057735309487918, -0.27850860903850416, 0.2661868200566413, -0.04888824105785708, 0.5466453961210647, 0.02444249995946009, -0.8803134222022471, 0.3959377294436148, -1.0125477805236467, -0.5403287337285112, -1.3969258083854257, -0.6647798643181021, 0.48996370455519694, -0.23702134521007456, 0.8259808476853691, -0.9134122472273268, -1.1689396577601616, 0.5853346423361953, 0.1165143240319178, -0.2537611614822444, -0.18422371333987664, 0.8742866058103691, -1.073458978869497, -0.11088759020331997, -1.23745560196081, -0.532207923124355, 0.4647951367313668, -0.42647882860361713, 0.6951312657084125, -1.4214167040692915, 0.902602666447066, 0.29741521616193584, 0.528548856648751, 0.9014676973634032, -0.1607135459165966, 0.35723359219153533, 0.23642409792308924, -0.3889773534472179, -2.4151038247887273, -0.09893139723269141, 0.3183672750508919, -1.0378675424182902, 0.287212016653486, -3.79126376982542, -0.8481039639987642, -0.3083120890222015, 1.793456070709133, -1.195369054487541, 1.0073436597216414, -1.2597272629060985, 1.8384369506007168, 0.37605391208689704, 0.6314748697418396, 0.5955215842189099, -0.10636349138020569, -1.4523789133361966, 2.4449306585882913, -0.29666309294170307, -0.21758145830572764, -0.7779081958035611, 0.1354671171040796, 0.15111110801098596, -0.8735875946797669, 2.108292328999151, 0.5581931925719561, -0.028223326518975078, 0.514591322068852, -0.7160014933804951, 1.0216913238644663, -1.3091472140787501, 0.25368841660167313, 0.6179071895170258, -0.34256487682349746, 1.4664115902589256, 0.6724977799274586, -0.8666211910244764, 1.0906099527040427, -2.6320438549269682, -1.2044405223200088, 0.09772313314017038, -0.18085756910776699, 0.18166012654149388, -0.6225026019819604, -1.0801935697404188, 0.6784957157116219], \"yaxis\": \"y2\"}, {\"line\": {\"color\": \"rgba(128, 128, 128, 1.0)\", \"dash\": \"solid\", \"shape\": \"linear\", \"width\": 1.3}, \"marker\": {\"size\": 2, \"symbol\": \"circle\"}, \"mode\": \"markers\", \"name\": \"A\", \"text\": \"\", \"type\": \"scatter\", \"x\": [0.695594519761371, -0.7451101083358315, -1.3092545798623205, -1.148967679813761, -2.1499901091118283, 0.16921733208513434, -1.652035274965219, -0.06536511772995664, -0.451555039427988, 2.5508875085079254, 1.6432397771654574, 2.175007969085216, -1.183349169847012, -0.2803436459544689, 0.3113778761058616, 0.6580789933974976, -1.2871858908274494, 0.9421677539359915, -1.27898705793451, 1.5220905163816603, 0.172627185075392, -0.2920546413135475, -3.2200752056661366, -0.6595483098958985, -0.037209911818583956, -1.9113396033227792, 0.7495406055142672, 0.6122124912669217, -1.649923917785392, 0.24031623434340352, -0.9305668877584682, -0.17927603028592373, -0.6189685160089439, -0.10426964419885773, -1.584842525233409, 1.3008582838270968, 0.9627046666914726, -0.07243392267314792, -1.0550103985991441, -0.42292256301955466, -0.0816781964074479, -0.3831036956544528, -0.18646700797564847, 1.9161854583075255, 1.987584099296576, 0.503544436898424, -1.6917730357682448, 1.2140789508574432, 0.9544265944842146, 0.07235024083734189, 0.30208565258184666, 0.8493376013882723, 0.6094930176110523, -0.4197814073474403, -0.8892714466838095, -0.27573081018871615, 3.06633035138194, 1.115310615469231, -0.5629187882893806, -1.7751598399064026, -0.22054072021463594, -0.1250791946004363, 0.20207024305742066, 0.012822231749756524, 0.7630588279922778, -0.7816538608318876, -1.1429232919669339, 0.2819344067155209, -0.8882891798691497, 0.31157165384845725, 0.4059458147284747, 2.6654818835155956, 0.08870181610828648, 0.622983938101566, 0.007318167216649481, 1.1582841684738987, 0.3045017436015654, -0.96055674405388, -1.5729460031035347, -1.5352180576477532, 2.0016917048090974, 0.32958653439078367, 0.6779242903392502, -0.3490746406178837, 0.03283304032337678, -1.3940960375701712, -0.9332614368379432, -0.48306539946151844, 0.03717416280524384, -1.9064036857319562, -0.46771930351655083, 0.9276597763861216, -0.5758620461840461, -0.1980995575800092, -0.5506458950883171, -0.2243089631924862, 0.1512145499046544, -0.3543541912031643, -0.16606095706018428, -0.31715418224932196], \"xaxis\": \"x3\", \"y\": [-0.04385431780971637, -0.7301948168187024, -0.3496833695728504, -1.0612823737313737, 0.6591799683260353, 0.12428679487969375, -0.2628424807417794, 2.908786492446553, 0.5339220569380786, -1.5102640304281827, -0.2153849878718799, 0.14062569399657224, -1.2095030942021077, 0.45284316632611793, -1.616644761050487, 1.2057735309487918, -0.27850860903850416, 0.2661868200566413, -0.04888824105785708, 0.5466453961210647, 0.02444249995946009, -0.8803134222022471, 0.3959377294436148, -1.0125477805236467, -0.5403287337285112, -1.3969258083854257, -0.6647798643181021, 0.48996370455519694, -0.23702134521007456, 0.8259808476853691, -0.9134122472273268, -1.1689396577601616, 0.5853346423361953, 0.1165143240319178, -0.2537611614822444, -0.18422371333987664, 0.8742866058103691, -1.073458978869497, -0.11088759020331997, -1.23745560196081, -0.532207923124355, 0.4647951367313668, -0.42647882860361713, 0.6951312657084125, -1.4214167040692915, 0.902602666447066, 0.29741521616193584, 0.528548856648751, 0.9014676973634032, -0.1607135459165966, 0.35723359219153533, 0.23642409792308924, -0.3889773534472179, -2.4151038247887273, -0.09893139723269141, 0.3183672750508919, -1.0378675424182902, 0.287212016653486, -3.79126376982542, -0.8481039639987642, -0.3083120890222015, 1.793456070709133, -1.195369054487541, 1.0073436597216414, -1.2597272629060985, 1.8384369506007168, 0.37605391208689704, 0.6314748697418396, 0.5955215842189099, -0.10636349138020569, -1.4523789133361966, 2.4449306585882913, -0.29666309294170307, -0.21758145830572764, -0.7779081958035611, 0.1354671171040796, 0.15111110801098596, -0.8735875946797669, 2.108292328999151, 0.5581931925719561, -0.028223326518975078, 0.514591322068852, -0.7160014933804951, 1.0216913238644663, -1.3091472140787501, 0.25368841660167313, 0.6179071895170258, -0.34256487682349746, 1.4664115902589256, 0.6724977799274586, -0.8666211910244764, 1.0906099527040427, -2.6320438549269682, -1.2044405223200088, 0.09772313314017038, -0.18085756910776699, 0.18166012654149388, -0.6225026019819604, -1.0801935697404188, 0.6784957157116219], \"yaxis\": \"y3\"}, {\"line\": {\"color\": \"rgba(128, 128, 128, 1.0)\", \"dash\": \"solid\", \"shape\": \"linear\", \"width\": 1.3}, \"marker\": {\"size\": 2, \"symbol\": \"circle\"}, \"mode\": \"markers\", \"name\": \"A\", \"text\": \"\", \"type\": \"scatter\", \"x\": [0.1348211493105177, 1.331072068722212, -1.856840393991974, -1.0826692199085175, -1.4861759389019042, 0.9448367510453909, 0.9002622575274538, 0.2399951548724196, -2.7173109542978042, 0.6358996172944497, 0.013757881283311239, -0.30715286666621483, 0.36698070920852155, -0.8241317881946497, -1.5208647650174614, -0.7354562768430071, -1.2537972621985167, 0.8879858198033864, -0.7099413000745913, -0.6240399942306015, 2.2184997482400917, 0.2566080222408146, -0.7233435325170695, -0.36585809401055946, -1.5176547330218004, 0.5428843962132254, -0.4398698888030055, 0.343625536158871, 0.1981011674381106, 0.8065099979206843, -1.3603521867792383, -0.17187123307592236, -1.6779996175054712, 0.38561612398650275, -2.012641034881616, -0.37708334812546124, -0.04562884599330884, -0.4009859990959282, 0.6939560396032762, -1.78589611443427, -1.869929131699314, -1.399889560058229, 0.15886750495167176, -0.3242586354086578, 0.9034370869926133, -0.5786721926747008, -0.8674333759306216, 0.3454016300783812, -0.20187575531975432, 0.5731724210192811, 0.23715723874630953, 1.106720036550557, 0.9690019581797024, 0.5959919953305238, 1.3582327789677624, -0.18367776327384572, -1.4022175568766304, -0.023017278639227246, 0.3169347429440951, 1.6603832291117644, -0.8495586844825627, 1.1618684561968171, -0.948641960168968, 0.4354038402751054, 1.8365202541015424, -0.1825034667378457, -0.38320184376570177, 0.41371927923165663, -0.4562605062334397, -0.29220079785319764, -0.041964047096023624, 0.9246400743910076, 0.7486839011837545, 0.2158078060728754, -0.6879751583409635, 1.2030021629063608, 1.0873298065069406, -1.1628069379634776, 0.9894835492205013, -1.2539601106537022, -2.2373877359023164, -0.2631588365834419, 1.361965225380507, -0.5719167168501775, 0.5136380454219858, 2.68058524805295, 0.7179977132596467, 0.9458129117680553, -1.8728427934674337, 1.3507462150713798, 2.004330894660265, -0.6651732025284808, -0.328919945248043, 0.691612592123649, 1.2548065655832024, 0.37875592667530106, 0.17997557036559772, -0.5682732751177091, -0.6318359329537082, -0.5939026606920121], \"xaxis\": \"x4\", \"y\": [-0.04385431780971637, -0.7301948168187024, -0.3496833695728504, -1.0612823737313737, 0.6591799683260353, 0.12428679487969375, -0.2628424807417794, 2.908786492446553, 0.5339220569380786, -1.5102640304281827, -0.2153849878718799, 0.14062569399657224, -1.2095030942021077, 0.45284316632611793, -1.616644761050487, 1.2057735309487918, -0.27850860903850416, 0.2661868200566413, -0.04888824105785708, 0.5466453961210647, 0.02444249995946009, -0.8803134222022471, 0.3959377294436148, -1.0125477805236467, -0.5403287337285112, -1.3969258083854257, -0.6647798643181021, 0.48996370455519694, -0.23702134521007456, 0.8259808476853691, -0.9134122472273268, -1.1689396577601616, 0.5853346423361953, 0.1165143240319178, -0.2537611614822444, -0.18422371333987664, 0.8742866058103691, -1.073458978869497, -0.11088759020331997, -1.23745560196081, -0.532207923124355, 0.4647951367313668, -0.42647882860361713, 0.6951312657084125, -1.4214167040692915, 0.902602666447066, 0.29741521616193584, 0.528548856648751, 0.9014676973634032, -0.1607135459165966, 0.35723359219153533, 0.23642409792308924, -0.3889773534472179, -2.4151038247887273, -0.09893139723269141, 0.3183672750508919, -1.0378675424182902, 0.287212016653486, -3.79126376982542, -0.8481039639987642, -0.3083120890222015, 1.793456070709133, -1.195369054487541, 1.0073436597216414, -1.2597272629060985, 1.8384369506007168, 0.37605391208689704, 0.6314748697418396, 0.5955215842189099, -0.10636349138020569, -1.4523789133361966, 2.4449306585882913, -0.29666309294170307, -0.21758145830572764, -0.7779081958035611, 0.1354671171040796, 0.15111110801098596, -0.8735875946797669, 2.108292328999151, 0.5581931925719561, -0.028223326518975078, 0.514591322068852, -0.7160014933804951, 1.0216913238644663, -1.3091472140787501, 0.25368841660167313, 0.6179071895170258, -0.34256487682349746, 1.4664115902589256, 0.6724977799274586, -0.8666211910244764, 1.0906099527040427, -2.6320438549269682, -1.2044405223200088, 0.09772313314017038, -0.18085756910776699, 0.18166012654149388, -0.6225026019819604, -1.0801935697404188, 0.6784957157116219], \"yaxis\": \"y4\"}, {\"line\": {\"color\": \"rgba(128, 128, 128, 1.0)\", \"dash\": \"solid\", \"shape\": \"linear\", \"width\": 1.3}, \"marker\": {\"size\": 2, \"symbol\": \"circle\"}, \"mode\": \"markers\", \"name\": \"B\", \"text\": \"\", \"type\": \"scatter\", \"x\": [-0.04385431780971637, -0.7301948168187024, -0.3496833695728504, -1.0612823737313737, 0.6591799683260353, 0.12428679487969375, -0.2628424807417794, 2.908786492446553, 0.5339220569380786, -1.5102640304281827, -0.2153849878718799, 0.14062569399657224, -1.2095030942021077, 0.45284316632611793, -1.616644761050487, 1.2057735309487918, -0.27850860903850416, 0.2661868200566413, -0.04888824105785708, 0.5466453961210647, 0.02444249995946009, -0.8803134222022471, 0.3959377294436148, -1.0125477805236467, -0.5403287337285112, -1.3969258083854257, -0.6647798643181021, 0.48996370455519694, -0.23702134521007456, 0.8259808476853691, -0.9134122472273268, -1.1689396577601616, 0.5853346423361953, 0.1165143240319178, -0.2537611614822444, -0.18422371333987664, 0.8742866058103691, -1.073458978869497, -0.11088759020331997, -1.23745560196081, -0.532207923124355, 0.4647951367313668, -0.42647882860361713, 0.6951312657084125, -1.4214167040692915, 0.902602666447066, 0.29741521616193584, 0.528548856648751, 0.9014676973634032, -0.1607135459165966, 0.35723359219153533, 0.23642409792308924, -0.3889773534472179, -2.4151038247887273, -0.09893139723269141, 0.3183672750508919, -1.0378675424182902, 0.287212016653486, -3.79126376982542, -0.8481039639987642, -0.3083120890222015, 1.793456070709133, -1.195369054487541, 1.0073436597216414, -1.2597272629060985, 1.8384369506007168, 0.37605391208689704, 0.6314748697418396, 0.5955215842189099, -0.10636349138020569, -1.4523789133361966, 2.4449306585882913, -0.29666309294170307, -0.21758145830572764, -0.7779081958035611, 0.1354671171040796, 0.15111110801098596, -0.8735875946797669, 2.108292328999151, 0.5581931925719561, -0.028223326518975078, 0.514591322068852, -0.7160014933804951, 1.0216913238644663, -1.3091472140787501, 0.25368841660167313, 0.6179071895170258, -0.34256487682349746, 1.4664115902589256, 0.6724977799274586, -0.8666211910244764, 1.0906099527040427, -2.6320438549269682, -1.2044405223200088, 0.09772313314017038, -0.18085756910776699, 0.18166012654149388, -0.6225026019819604, -1.0801935697404188, 0.6784957157116219], \"xaxis\": \"x5\", \"y\": [2.954682519418268, 1.2365829943535065, 2.104707567465196, 0.6633122537619591, 0.1538540084551306, 0.23170758817037124, -0.43025246824322605, -0.8062172600617752, 0.046277835727682744, -0.1452225853859939, -0.657776484401953, 0.053257950611550565, 1.5457051738269376, -1.3621708275952347, -0.15216947551494678, -0.7568602100782479, 0.29130806187656605, -1.130874456411832, -0.4631759857994132, -0.14116155647866782, 0.7118687205278166, -1.5500933264992216, 0.23684817274769057, -0.795400792746069, -1.7188704299757898, -0.49587136119877157, 1.0845807749581031, 1.3216725689195945, -0.8772702282109345, -0.6533764162042501, 3.2761707724560956, -0.6205202155431992, -0.13674014934522996, 0.3545319778991714, 0.26694297117685484, -0.07977085536555945, -0.015089174982792847, 0.9816931248247944, -0.9110304148970944, -0.3059876199479298, 0.6662941303764393, -0.23594236213250566, 0.5387516865350658, -0.8591039221027258, -0.4438675856675307, -0.42581560653971906, 1.5211561268716567, -0.3646030143739634, 1.4187212257471844, 0.5596787266396095, -0.20374108789784603, -0.977789621874286, -0.4972843153163968, 1.0519834196489215, 0.8798947682126929, 0.57401381845951, 0.5221857963465762, -0.20410583046198696, -0.7271785758926677, -0.5507149743855863, -0.12348649822361285, -0.34865126481223113, 0.37519336960418925, 0.2054370890711027, -0.3686501583006007, -0.9308147821700553, -0.5101649714460124, -1.312756296156895, -0.6872924129121585, 0.2431653092979941, -0.4680574915932994, 0.25846307724269496, 1.109367302357436, -1.046566276737933, -0.4507778326412062, -0.9890841839195814, -1.1484905543171988, 0.13438786165027108, -2.2366854653203547, -1.7598337752374726, 0.3870442907617244, 1.2678397112271507, 1.263679739194867, -0.13001732439442706, -1.9931688174259747, 0.6132591928043307, 0.10547007627853718, 0.1228225407414566, -2.0286967006534655, 0.4496012985812599, -0.40793324413434073, 1.7038975915424757, -0.7621430975695681, 1.2001373603508956, -0.6727126847149263, -0.2901948996138198, 0.2785826649259012, 0.12294192744039334, -1.17265209109376, 0.9131529756743128], \"yaxis\": \"y5\"}, {\"histfunc\": \"count\", \"histnorm\": \"\", \"marker\": {\"color\": \"rgba(55, 128, 191, 1.0)\", \"line\": {\"color\": \"#4D5663\", \"width\": 1.3}}, \"name\": \"B\", \"nbinsx\": 10, \"opacity\": 0.8, \"orientation\": \"v\", \"type\": \"histogram\", \"x\": [2.954682519418268, 1.2365829943535065, 2.104707567465196, 0.6633122537619591, 0.1538540084551306, 0.23170758817037124, -0.43025246824322605, -0.8062172600617752, 0.046277835727682744, -0.1452225853859939, -0.657776484401953, 0.053257950611550565, 1.5457051738269376, -1.3621708275952347, -0.15216947551494678, -0.7568602100782479, 0.29130806187656605, -1.130874456411832, -0.4631759857994132, -0.14116155647866782, 0.7118687205278166, -1.5500933264992216, 0.23684817274769057, -0.795400792746069, -1.7188704299757898, -0.49587136119877157, 1.0845807749581031, 1.3216725689195945, -0.8772702282109345, -0.6533764162042501, 3.2761707724560956, -0.6205202155431992, -0.13674014934522996, 0.3545319778991714, 0.26694297117685484, -0.07977085536555945, -0.015089174982792847, 0.9816931248247944, -0.9110304148970944, -0.3059876199479298, 0.6662941303764393, -0.23594236213250566, 0.5387516865350658, -0.8591039221027258, -0.4438675856675307, -0.42581560653971906, 1.5211561268716567, -0.3646030143739634, 1.4187212257471844, 0.5596787266396095, -0.20374108789784603, -0.977789621874286, -0.4972843153163968, 1.0519834196489215, 0.8798947682126929, 0.57401381845951, 0.5221857963465762, -0.20410583046198696, -0.7271785758926677, -0.5507149743855863, -0.12348649822361285, -0.34865126481223113, 0.37519336960418925, 0.2054370890711027, -0.3686501583006007, -0.9308147821700553, -0.5101649714460124, -1.312756296156895, -0.6872924129121585, 0.2431653092979941, -0.4680574915932994, 0.25846307724269496, 1.109367302357436, -1.046566276737933, -0.4507778326412062, -0.9890841839195814, -1.1484905543171988, 0.13438786165027108, -2.2366854653203547, -1.7598337752374726, 0.3870442907617244, 1.2678397112271507, 1.263679739194867, -0.13001732439442706, -1.9931688174259747, 0.6132591928043307, 0.10547007627853718, 0.1228225407414566, -2.0286967006534655, 0.4496012985812599, -0.40793324413434073, 1.7038975915424757, -0.7621430975695681, 1.2001373603508956, -0.6727126847149263, -0.2901948996138198, 0.2785826649259012, 0.12294192744039334, -1.17265209109376, 0.9131529756743128], \"xaxis\": \"x6\", \"yaxis\": \"y6\"}, {\"line\": {\"color\": \"rgba(128, 128, 128, 1.0)\", \"dash\": \"solid\", \"shape\": \"linear\", \"width\": 1.3}, \"marker\": {\"size\": 2, \"symbol\": \"circle\"}, \"mode\": \"markers\", \"name\": \"B\", \"text\": \"\", \"type\": \"scatter\", \"x\": [0.695594519761371, -0.7451101083358315, -1.3092545798623205, -1.148967679813761, -2.1499901091118283, 0.16921733208513434, -1.652035274965219, -0.06536511772995664, -0.451555039427988, 2.5508875085079254, 1.6432397771654574, 2.175007969085216, -1.183349169847012, -0.2803436459544689, 0.3113778761058616, 0.6580789933974976, -1.2871858908274494, 0.9421677539359915, -1.27898705793451, 1.5220905163816603, 0.172627185075392, -0.2920546413135475, -3.2200752056661366, -0.6595483098958985, -0.037209911818583956, -1.9113396033227792, 0.7495406055142672, 0.6122124912669217, -1.649923917785392, 0.24031623434340352, -0.9305668877584682, -0.17927603028592373, -0.6189685160089439, -0.10426964419885773, -1.584842525233409, 1.3008582838270968, 0.9627046666914726, -0.07243392267314792, -1.0550103985991441, -0.42292256301955466, -0.0816781964074479, -0.3831036956544528, -0.18646700797564847, 1.9161854583075255, 1.987584099296576, 0.503544436898424, -1.6917730357682448, 1.2140789508574432, 0.9544265944842146, 0.07235024083734189, 0.30208565258184666, 0.8493376013882723, 0.6094930176110523, -0.4197814073474403, -0.8892714466838095, -0.27573081018871615, 3.06633035138194, 1.115310615469231, -0.5629187882893806, -1.7751598399064026, -0.22054072021463594, -0.1250791946004363, 0.20207024305742066, 0.012822231749756524, 0.7630588279922778, -0.7816538608318876, -1.1429232919669339, 0.2819344067155209, -0.8882891798691497, 0.31157165384845725, 0.4059458147284747, 2.6654818835155956, 0.08870181610828648, 0.622983938101566, 0.007318167216649481, 1.1582841684738987, 0.3045017436015654, -0.96055674405388, -1.5729460031035347, -1.5352180576477532, 2.0016917048090974, 0.32958653439078367, 0.6779242903392502, -0.3490746406178837, 0.03283304032337678, -1.3940960375701712, -0.9332614368379432, -0.48306539946151844, 0.03717416280524384, -1.9064036857319562, -0.46771930351655083, 0.9276597763861216, -0.5758620461840461, -0.1980995575800092, -0.5506458950883171, -0.2243089631924862, 0.1512145499046544, -0.3543541912031643, -0.16606095706018428, -0.31715418224932196], \"xaxis\": \"x7\", \"y\": [2.954682519418268, 1.2365829943535065, 2.104707567465196, 0.6633122537619591, 0.1538540084551306, 0.23170758817037124, -0.43025246824322605, -0.8062172600617752, 0.046277835727682744, -0.1452225853859939, -0.657776484401953, 0.053257950611550565, 1.5457051738269376, -1.3621708275952347, -0.15216947551494678, -0.7568602100782479, 0.29130806187656605, -1.130874456411832, -0.4631759857994132, -0.14116155647866782, 0.7118687205278166, -1.5500933264992216, 0.23684817274769057, -0.795400792746069, -1.7188704299757898, -0.49587136119877157, 1.0845807749581031, 1.3216725689195945, -0.8772702282109345, -0.6533764162042501, 3.2761707724560956, -0.6205202155431992, -0.13674014934522996, 0.3545319778991714, 0.26694297117685484, -0.07977085536555945, -0.015089174982792847, 0.9816931248247944, -0.9110304148970944, -0.3059876199479298, 0.6662941303764393, -0.23594236213250566, 0.5387516865350658, -0.8591039221027258, -0.4438675856675307, -0.42581560653971906, 1.5211561268716567, -0.3646030143739634, 1.4187212257471844, 0.5596787266396095, -0.20374108789784603, -0.977789621874286, -0.4972843153163968, 1.0519834196489215, 0.8798947682126929, 0.57401381845951, 0.5221857963465762, -0.20410583046198696, -0.7271785758926677, -0.5507149743855863, -0.12348649822361285, -0.34865126481223113, 0.37519336960418925, 0.2054370890711027, -0.3686501583006007, -0.9308147821700553, -0.5101649714460124, -1.312756296156895, -0.6872924129121585, 0.2431653092979941, -0.4680574915932994, 0.25846307724269496, 1.109367302357436, -1.046566276737933, -0.4507778326412062, -0.9890841839195814, -1.1484905543171988, 0.13438786165027108, -2.2366854653203547, -1.7598337752374726, 0.3870442907617244, 1.2678397112271507, 1.263679739194867, -0.13001732439442706, -1.9931688174259747, 0.6132591928043307, 0.10547007627853718, 0.1228225407414566, -2.0286967006534655, 0.4496012985812599, -0.40793324413434073, 1.7038975915424757, -0.7621430975695681, 1.2001373603508956, -0.6727126847149263, -0.2901948996138198, 0.2785826649259012, 0.12294192744039334, -1.17265209109376, 0.9131529756743128], \"yaxis\": \"y7\"}, {\"line\": {\"color\": \"rgba(128, 128, 128, 1.0)\", \"dash\": \"solid\", \"shape\": \"linear\", \"width\": 1.3}, \"marker\": {\"size\": 2, \"symbol\": \"circle\"}, \"mode\": \"markers\", \"name\": \"B\", \"text\": \"\", \"type\": \"scatter\", \"x\": [0.1348211493105177, 1.331072068722212, -1.856840393991974, -1.0826692199085175, -1.4861759389019042, 0.9448367510453909, 0.9002622575274538, 0.2399951548724196, -2.7173109542978042, 0.6358996172944497, 0.013757881283311239, -0.30715286666621483, 0.36698070920852155, -0.8241317881946497, -1.5208647650174614, -0.7354562768430071, -1.2537972621985167, 0.8879858198033864, -0.7099413000745913, -0.6240399942306015, 2.2184997482400917, 0.2566080222408146, -0.7233435325170695, -0.36585809401055946, -1.5176547330218004, 0.5428843962132254, -0.4398698888030055, 0.343625536158871, 0.1981011674381106, 0.8065099979206843, -1.3603521867792383, -0.17187123307592236, -1.6779996175054712, 0.38561612398650275, -2.012641034881616, -0.37708334812546124, -0.04562884599330884, -0.4009859990959282, 0.6939560396032762, -1.78589611443427, -1.869929131699314, -1.399889560058229, 0.15886750495167176, -0.3242586354086578, 0.9034370869926133, -0.5786721926747008, -0.8674333759306216, 0.3454016300783812, -0.20187575531975432, 0.5731724210192811, 0.23715723874630953, 1.106720036550557, 0.9690019581797024, 0.5959919953305238, 1.3582327789677624, -0.18367776327384572, -1.4022175568766304, -0.023017278639227246, 0.3169347429440951, 1.6603832291117644, -0.8495586844825627, 1.1618684561968171, -0.948641960168968, 0.4354038402751054, 1.8365202541015424, -0.1825034667378457, -0.38320184376570177, 0.41371927923165663, -0.4562605062334397, -0.29220079785319764, -0.041964047096023624, 0.9246400743910076, 0.7486839011837545, 0.2158078060728754, -0.6879751583409635, 1.2030021629063608, 1.0873298065069406, -1.1628069379634776, 0.9894835492205013, -1.2539601106537022, -2.2373877359023164, -0.2631588365834419, 1.361965225380507, -0.5719167168501775, 0.5136380454219858, 2.68058524805295, 0.7179977132596467, 0.9458129117680553, -1.8728427934674337, 1.3507462150713798, 2.004330894660265, -0.6651732025284808, -0.328919945248043, 0.691612592123649, 1.2548065655832024, 0.37875592667530106, 0.17997557036559772, -0.5682732751177091, -0.6318359329537082, -0.5939026606920121], \"xaxis\": \"x8\", \"y\": [2.954682519418268, 1.2365829943535065, 2.104707567465196, 0.6633122537619591, 0.1538540084551306, 0.23170758817037124, -0.43025246824322605, -0.8062172600617752, 0.046277835727682744, -0.1452225853859939, -0.657776484401953, 0.053257950611550565, 1.5457051738269376, -1.3621708275952347, -0.15216947551494678, -0.7568602100782479, 0.29130806187656605, -1.130874456411832, -0.4631759857994132, -0.14116155647866782, 0.7118687205278166, -1.5500933264992216, 0.23684817274769057, -0.795400792746069, -1.7188704299757898, -0.49587136119877157, 1.0845807749581031, 1.3216725689195945, -0.8772702282109345, -0.6533764162042501, 3.2761707724560956, -0.6205202155431992, -0.13674014934522996, 0.3545319778991714, 0.26694297117685484, -0.07977085536555945, -0.015089174982792847, 0.9816931248247944, -0.9110304148970944, -0.3059876199479298, 0.6662941303764393, -0.23594236213250566, 0.5387516865350658, -0.8591039221027258, -0.4438675856675307, -0.42581560653971906, 1.5211561268716567, -0.3646030143739634, 1.4187212257471844, 0.5596787266396095, -0.20374108789784603, -0.977789621874286, -0.4972843153163968, 1.0519834196489215, 0.8798947682126929, 0.57401381845951, 0.5221857963465762, -0.20410583046198696, -0.7271785758926677, -0.5507149743855863, -0.12348649822361285, -0.34865126481223113, 0.37519336960418925, 0.2054370890711027, -0.3686501583006007, -0.9308147821700553, -0.5101649714460124, -1.312756296156895, -0.6872924129121585, 0.2431653092979941, -0.4680574915932994, 0.25846307724269496, 1.109367302357436, -1.046566276737933, -0.4507778326412062, -0.9890841839195814, -1.1484905543171988, 0.13438786165027108, -2.2366854653203547, -1.7598337752374726, 0.3870442907617244, 1.2678397112271507, 1.263679739194867, -0.13001732439442706, -1.9931688174259747, 0.6132591928043307, 0.10547007627853718, 0.1228225407414566, -2.0286967006534655, 0.4496012985812599, -0.40793324413434073, 1.7038975915424757, -0.7621430975695681, 1.2001373603508956, -0.6727126847149263, -0.2901948996138198, 0.2785826649259012, 0.12294192744039334, -1.17265209109376, 0.9131529756743128], \"yaxis\": \"y8\"}, {\"line\": {\"color\": \"rgba(128, 128, 128, 1.0)\", \"dash\": \"solid\", \"shape\": \"linear\", \"width\": 1.3}, \"marker\": {\"size\": 2, \"symbol\": \"circle\"}, \"mode\": \"markers\", \"name\": \"C\", \"text\": \"\", \"type\": \"scatter\", \"x\": [-0.04385431780971637, -0.7301948168187024, -0.3496833695728504, -1.0612823737313737, 0.6591799683260353, 0.12428679487969375, -0.2628424807417794, 2.908786492446553, 0.5339220569380786, -1.5102640304281827, -0.2153849878718799, 0.14062569399657224, -1.2095030942021077, 0.45284316632611793, -1.616644761050487, 1.2057735309487918, -0.27850860903850416, 0.2661868200566413, -0.04888824105785708, 0.5466453961210647, 0.02444249995946009, -0.8803134222022471, 0.3959377294436148, -1.0125477805236467, -0.5403287337285112, -1.3969258083854257, -0.6647798643181021, 0.48996370455519694, -0.23702134521007456, 0.8259808476853691, -0.9134122472273268, -1.1689396577601616, 0.5853346423361953, 0.1165143240319178, -0.2537611614822444, -0.18422371333987664, 0.8742866058103691, -1.073458978869497, -0.11088759020331997, -1.23745560196081, -0.532207923124355, 0.4647951367313668, -0.42647882860361713, 0.6951312657084125, -1.4214167040692915, 0.902602666447066, 0.29741521616193584, 0.528548856648751, 0.9014676973634032, -0.1607135459165966, 0.35723359219153533, 0.23642409792308924, -0.3889773534472179, -2.4151038247887273, -0.09893139723269141, 0.3183672750508919, -1.0378675424182902, 0.287212016653486, -3.79126376982542, -0.8481039639987642, -0.3083120890222015, 1.793456070709133, -1.195369054487541, 1.0073436597216414, -1.2597272629060985, 1.8384369506007168, 0.37605391208689704, 0.6314748697418396, 0.5955215842189099, -0.10636349138020569, -1.4523789133361966, 2.4449306585882913, -0.29666309294170307, -0.21758145830572764, -0.7779081958035611, 0.1354671171040796, 0.15111110801098596, -0.8735875946797669, 2.108292328999151, 0.5581931925719561, -0.028223326518975078, 0.514591322068852, -0.7160014933804951, 1.0216913238644663, -1.3091472140787501, 0.25368841660167313, 0.6179071895170258, -0.34256487682349746, 1.4664115902589256, 0.6724977799274586, -0.8666211910244764, 1.0906099527040427, -2.6320438549269682, -1.2044405223200088, 0.09772313314017038, -0.18085756910776699, 0.18166012654149388, -0.6225026019819604, -1.0801935697404188, 0.6784957157116219], \"xaxis\": \"x9\", \"y\": [0.695594519761371, -0.7451101083358315, -1.3092545798623205, -1.148967679813761, -2.1499901091118283, 0.16921733208513434, -1.652035274965219, -0.06536511772995664, -0.451555039427988, 2.5508875085079254, 1.6432397771654574, 2.175007969085216, -1.183349169847012, -0.2803436459544689, 0.3113778761058616, 0.6580789933974976, -1.2871858908274494, 0.9421677539359915, -1.27898705793451, 1.5220905163816603, 0.172627185075392, -0.2920546413135475, -3.2200752056661366, -0.6595483098958985, -0.037209911818583956, -1.9113396033227792, 0.7495406055142672, 0.6122124912669217, -1.649923917785392, 0.24031623434340352, -0.9305668877584682, -0.17927603028592373, -0.6189685160089439, -0.10426964419885773, -1.584842525233409, 1.3008582838270968, 0.9627046666914726, -0.07243392267314792, -1.0550103985991441, -0.42292256301955466, -0.0816781964074479, -0.3831036956544528, -0.18646700797564847, 1.9161854583075255, 1.987584099296576, 0.503544436898424, -1.6917730357682448, 1.2140789508574432, 0.9544265944842146, 0.07235024083734189, 0.30208565258184666, 0.8493376013882723, 0.6094930176110523, -0.4197814073474403, -0.8892714466838095, -0.27573081018871615, 3.06633035138194, 1.115310615469231, -0.5629187882893806, -1.7751598399064026, -0.22054072021463594, -0.1250791946004363, 0.20207024305742066, 0.012822231749756524, 0.7630588279922778, -0.7816538608318876, -1.1429232919669339, 0.2819344067155209, -0.8882891798691497, 0.31157165384845725, 0.4059458147284747, 2.6654818835155956, 0.08870181610828648, 0.622983938101566, 0.007318167216649481, 1.1582841684738987, 0.3045017436015654, -0.96055674405388, -1.5729460031035347, -1.5352180576477532, 2.0016917048090974, 0.32958653439078367, 0.6779242903392502, -0.3490746406178837, 0.03283304032337678, -1.3940960375701712, -0.9332614368379432, -0.48306539946151844, 0.03717416280524384, -1.9064036857319562, -0.46771930351655083, 0.9276597763861216, -0.5758620461840461, -0.1980995575800092, -0.5506458950883171, -0.2243089631924862, 0.1512145499046544, -0.3543541912031643, -0.16606095706018428, -0.31715418224932196], \"yaxis\": \"y9\"}, {\"line\": {\"color\": \"rgba(128, 128, 128, 1.0)\", \"dash\": \"solid\", \"shape\": \"linear\", \"width\": 1.3}, \"marker\": {\"size\": 2, \"symbol\": \"circle\"}, \"mode\": \"markers\", \"name\": \"C\", \"text\": \"\", \"type\": \"scatter\", \"x\": [2.954682519418268, 1.2365829943535065, 2.104707567465196, 0.6633122537619591, 0.1538540084551306, 0.23170758817037124, -0.43025246824322605, -0.8062172600617752, 0.046277835727682744, -0.1452225853859939, -0.657776484401953, 0.053257950611550565, 1.5457051738269376, -1.3621708275952347, -0.15216947551494678, -0.7568602100782479, 0.29130806187656605, -1.130874456411832, -0.4631759857994132, -0.14116155647866782, 0.7118687205278166, -1.5500933264992216, 0.23684817274769057, -0.795400792746069, -1.7188704299757898, -0.49587136119877157, 1.0845807749581031, 1.3216725689195945, -0.8772702282109345, -0.6533764162042501, 3.2761707724560956, -0.6205202155431992, -0.13674014934522996, 0.3545319778991714, 0.26694297117685484, -0.07977085536555945, -0.015089174982792847, 0.9816931248247944, -0.9110304148970944, -0.3059876199479298, 0.6662941303764393, -0.23594236213250566, 0.5387516865350658, -0.8591039221027258, -0.4438675856675307, -0.42581560653971906, 1.5211561268716567, -0.3646030143739634, 1.4187212257471844, 0.5596787266396095, -0.20374108789784603, -0.977789621874286, -0.4972843153163968, 1.0519834196489215, 0.8798947682126929, 0.57401381845951, 0.5221857963465762, -0.20410583046198696, -0.7271785758926677, -0.5507149743855863, -0.12348649822361285, -0.34865126481223113, 0.37519336960418925, 0.2054370890711027, -0.3686501583006007, -0.9308147821700553, -0.5101649714460124, -1.312756296156895, -0.6872924129121585, 0.2431653092979941, -0.4680574915932994, 0.25846307724269496, 1.109367302357436, -1.046566276737933, -0.4507778326412062, -0.9890841839195814, -1.1484905543171988, 0.13438786165027108, -2.2366854653203547, -1.7598337752374726, 0.3870442907617244, 1.2678397112271507, 1.263679739194867, -0.13001732439442706, -1.9931688174259747, 0.6132591928043307, 0.10547007627853718, 0.1228225407414566, -2.0286967006534655, 0.4496012985812599, -0.40793324413434073, 1.7038975915424757, -0.7621430975695681, 1.2001373603508956, -0.6727126847149263, -0.2901948996138198, 0.2785826649259012, 0.12294192744039334, -1.17265209109376, 0.9131529756743128], \"xaxis\": \"x10\", \"y\": [0.695594519761371, -0.7451101083358315, -1.3092545798623205, -1.148967679813761, -2.1499901091118283, 0.16921733208513434, -1.652035274965219, -0.06536511772995664, -0.451555039427988, 2.5508875085079254, 1.6432397771654574, 2.175007969085216, -1.183349169847012, -0.2803436459544689, 0.3113778761058616, 0.6580789933974976, -1.2871858908274494, 0.9421677539359915, -1.27898705793451, 1.5220905163816603, 0.172627185075392, -0.2920546413135475, -3.2200752056661366, -0.6595483098958985, -0.037209911818583956, -1.9113396033227792, 0.7495406055142672, 0.6122124912669217, -1.649923917785392, 0.24031623434340352, -0.9305668877584682, -0.17927603028592373, -0.6189685160089439, -0.10426964419885773, -1.584842525233409, 1.3008582838270968, 0.9627046666914726, -0.07243392267314792, -1.0550103985991441, -0.42292256301955466, -0.0816781964074479, -0.3831036956544528, -0.18646700797564847, 1.9161854583075255, 1.987584099296576, 0.503544436898424, -1.6917730357682448, 1.2140789508574432, 0.9544265944842146, 0.07235024083734189, 0.30208565258184666, 0.8493376013882723, 0.6094930176110523, -0.4197814073474403, -0.8892714466838095, -0.27573081018871615, 3.06633035138194, 1.115310615469231, -0.5629187882893806, -1.7751598399064026, -0.22054072021463594, -0.1250791946004363, 0.20207024305742066, 0.012822231749756524, 0.7630588279922778, -0.7816538608318876, -1.1429232919669339, 0.2819344067155209, -0.8882891798691497, 0.31157165384845725, 0.4059458147284747, 2.6654818835155956, 0.08870181610828648, 0.622983938101566, 0.007318167216649481, 1.1582841684738987, 0.3045017436015654, -0.96055674405388, -1.5729460031035347, -1.5352180576477532, 2.0016917048090974, 0.32958653439078367, 0.6779242903392502, -0.3490746406178837, 0.03283304032337678, -1.3940960375701712, -0.9332614368379432, -0.48306539946151844, 0.03717416280524384, -1.9064036857319562, -0.46771930351655083, 0.9276597763861216, -0.5758620461840461, -0.1980995575800092, -0.5506458950883171, -0.2243089631924862, 0.1512145499046544, -0.3543541912031643, -0.16606095706018428, -0.31715418224932196], \"yaxis\": \"y10\"}, {\"histfunc\": \"count\", \"histnorm\": \"\", \"marker\": {\"color\": \"rgba(50, 171, 96, 1.0)\", \"line\": {\"color\": \"#4D5663\", \"width\": 1.3}}, \"name\": \"C\", \"nbinsx\": 10, \"opacity\": 0.8, \"orientation\": \"v\", \"type\": \"histogram\", \"x\": [0.695594519761371, -0.7451101083358315, -1.3092545798623205, -1.148967679813761, -2.1499901091118283, 0.16921733208513434, -1.652035274965219, -0.06536511772995664, -0.451555039427988, 2.5508875085079254, 1.6432397771654574, 2.175007969085216, -1.183349169847012, -0.2803436459544689, 0.3113778761058616, 0.6580789933974976, -1.2871858908274494, 0.9421677539359915, -1.27898705793451, 1.5220905163816603, 0.172627185075392, -0.2920546413135475, -3.2200752056661366, -0.6595483098958985, -0.037209911818583956, -1.9113396033227792, 0.7495406055142672, 0.6122124912669217, -1.649923917785392, 0.24031623434340352, -0.9305668877584682, -0.17927603028592373, -0.6189685160089439, -0.10426964419885773, -1.584842525233409, 1.3008582838270968, 0.9627046666914726, -0.07243392267314792, -1.0550103985991441, -0.42292256301955466, -0.0816781964074479, -0.3831036956544528, -0.18646700797564847, 1.9161854583075255, 1.987584099296576, 0.503544436898424, -1.6917730357682448, 1.2140789508574432, 0.9544265944842146, 0.07235024083734189, 0.30208565258184666, 0.8493376013882723, 0.6094930176110523, -0.4197814073474403, -0.8892714466838095, -0.27573081018871615, 3.06633035138194, 1.115310615469231, -0.5629187882893806, -1.7751598399064026, -0.22054072021463594, -0.1250791946004363, 0.20207024305742066, 0.012822231749756524, 0.7630588279922778, -0.7816538608318876, -1.1429232919669339, 0.2819344067155209, -0.8882891798691497, 0.31157165384845725, 0.4059458147284747, 2.6654818835155956, 0.08870181610828648, 0.622983938101566, 0.007318167216649481, 1.1582841684738987, 0.3045017436015654, -0.96055674405388, -1.5729460031035347, -1.5352180576477532, 2.0016917048090974, 0.32958653439078367, 0.6779242903392502, -0.3490746406178837, 0.03283304032337678, -1.3940960375701712, -0.9332614368379432, -0.48306539946151844, 0.03717416280524384, -1.9064036857319562, -0.46771930351655083, 0.9276597763861216, -0.5758620461840461, -0.1980995575800092, -0.5506458950883171, -0.2243089631924862, 0.1512145499046544, -0.3543541912031643, -0.16606095706018428, -0.31715418224932196], \"xaxis\": \"x11\", \"yaxis\": \"y11\"}, {\"line\": {\"color\": \"rgba(128, 128, 128, 1.0)\", \"dash\": \"solid\", \"shape\": \"linear\", \"width\": 1.3}, \"marker\": {\"size\": 2, \"symbol\": \"circle\"}, \"mode\": \"markers\", \"name\": \"C\", \"text\": \"\", \"type\": \"scatter\", \"x\": [0.1348211493105177, 1.331072068722212, -1.856840393991974, -1.0826692199085175, -1.4861759389019042, 0.9448367510453909, 0.9002622575274538, 0.2399951548724196, -2.7173109542978042, 0.6358996172944497, 0.013757881283311239, -0.30715286666621483, 0.36698070920852155, -0.8241317881946497, -1.5208647650174614, -0.7354562768430071, -1.2537972621985167, 0.8879858198033864, -0.7099413000745913, -0.6240399942306015, 2.2184997482400917, 0.2566080222408146, -0.7233435325170695, -0.36585809401055946, -1.5176547330218004, 0.5428843962132254, -0.4398698888030055, 0.343625536158871, 0.1981011674381106, 0.8065099979206843, -1.3603521867792383, -0.17187123307592236, -1.6779996175054712, 0.38561612398650275, -2.012641034881616, -0.37708334812546124, -0.04562884599330884, -0.4009859990959282, 0.6939560396032762, -1.78589611443427, -1.869929131699314, -1.399889560058229, 0.15886750495167176, -0.3242586354086578, 0.9034370869926133, -0.5786721926747008, -0.8674333759306216, 0.3454016300783812, -0.20187575531975432, 0.5731724210192811, 0.23715723874630953, 1.106720036550557, 0.9690019581797024, 0.5959919953305238, 1.3582327789677624, -0.18367776327384572, -1.4022175568766304, -0.023017278639227246, 0.3169347429440951, 1.6603832291117644, -0.8495586844825627, 1.1618684561968171, -0.948641960168968, 0.4354038402751054, 1.8365202541015424, -0.1825034667378457, -0.38320184376570177, 0.41371927923165663, -0.4562605062334397, -0.29220079785319764, -0.041964047096023624, 0.9246400743910076, 0.7486839011837545, 0.2158078060728754, -0.6879751583409635, 1.2030021629063608, 1.0873298065069406, -1.1628069379634776, 0.9894835492205013, -1.2539601106537022, -2.2373877359023164, -0.2631588365834419, 1.361965225380507, -0.5719167168501775, 0.5136380454219858, 2.68058524805295, 0.7179977132596467, 0.9458129117680553, -1.8728427934674337, 1.3507462150713798, 2.004330894660265, -0.6651732025284808, -0.328919945248043, 0.691612592123649, 1.2548065655832024, 0.37875592667530106, 0.17997557036559772, -0.5682732751177091, -0.6318359329537082, -0.5939026606920121], \"xaxis\": \"x12\", \"y\": [0.695594519761371, -0.7451101083358315, -1.3092545798623205, -1.148967679813761, -2.1499901091118283, 0.16921733208513434, -1.652035274965219, -0.06536511772995664, -0.451555039427988, 2.5508875085079254, 1.6432397771654574, 2.175007969085216, -1.183349169847012, -0.2803436459544689, 0.3113778761058616, 0.6580789933974976, -1.2871858908274494, 0.9421677539359915, -1.27898705793451, 1.5220905163816603, 0.172627185075392, -0.2920546413135475, -3.2200752056661366, -0.6595483098958985, -0.037209911818583956, -1.9113396033227792, 0.7495406055142672, 0.6122124912669217, -1.649923917785392, 0.24031623434340352, -0.9305668877584682, -0.17927603028592373, -0.6189685160089439, -0.10426964419885773, -1.584842525233409, 1.3008582838270968, 0.9627046666914726, -0.07243392267314792, -1.0550103985991441, -0.42292256301955466, -0.0816781964074479, -0.3831036956544528, -0.18646700797564847, 1.9161854583075255, 1.987584099296576, 0.503544436898424, -1.6917730357682448, 1.2140789508574432, 0.9544265944842146, 0.07235024083734189, 0.30208565258184666, 0.8493376013882723, 0.6094930176110523, -0.4197814073474403, -0.8892714466838095, -0.27573081018871615, 3.06633035138194, 1.115310615469231, -0.5629187882893806, -1.7751598399064026, -0.22054072021463594, -0.1250791946004363, 0.20207024305742066, 0.012822231749756524, 0.7630588279922778, -0.7816538608318876, -1.1429232919669339, 0.2819344067155209, -0.8882891798691497, 0.31157165384845725, 0.4059458147284747, 2.6654818835155956, 0.08870181610828648, 0.622983938101566, 0.007318167216649481, 1.1582841684738987, 0.3045017436015654, -0.96055674405388, -1.5729460031035347, -1.5352180576477532, 2.0016917048090974, 0.32958653439078367, 0.6779242903392502, -0.3490746406178837, 0.03283304032337678, -1.3940960375701712, -0.9332614368379432, -0.48306539946151844, 0.03717416280524384, -1.9064036857319562, -0.46771930351655083, 0.9276597763861216, -0.5758620461840461, -0.1980995575800092, -0.5506458950883171, -0.2243089631924862, 0.1512145499046544, -0.3543541912031643, -0.16606095706018428, -0.31715418224932196], \"yaxis\": \"y12\"}, {\"line\": {\"color\": \"rgba(128, 128, 128, 1.0)\", \"dash\": \"solid\", \"shape\": \"linear\", \"width\": 1.3}, \"marker\": {\"size\": 2, \"symbol\": \"circle\"}, \"mode\": \"markers\", \"name\": \"D\", \"text\": \"\", \"type\": \"scatter\", \"x\": [-0.04385431780971637, -0.7301948168187024, -0.3496833695728504, -1.0612823737313737, 0.6591799683260353, 0.12428679487969375, -0.2628424807417794, 2.908786492446553, 0.5339220569380786, -1.5102640304281827, -0.2153849878718799, 0.14062569399657224, -1.2095030942021077, 0.45284316632611793, -1.616644761050487, 1.2057735309487918, -0.27850860903850416, 0.2661868200566413, -0.04888824105785708, 0.5466453961210647, 0.02444249995946009, -0.8803134222022471, 0.3959377294436148, -1.0125477805236467, -0.5403287337285112, -1.3969258083854257, -0.6647798643181021, 0.48996370455519694, -0.23702134521007456, 0.8259808476853691, -0.9134122472273268, -1.1689396577601616, 0.5853346423361953, 0.1165143240319178, -0.2537611614822444, -0.18422371333987664, 0.8742866058103691, -1.073458978869497, -0.11088759020331997, -1.23745560196081, -0.532207923124355, 0.4647951367313668, -0.42647882860361713, 0.6951312657084125, -1.4214167040692915, 0.902602666447066, 0.29741521616193584, 0.528548856648751, 0.9014676973634032, -0.1607135459165966, 0.35723359219153533, 0.23642409792308924, -0.3889773534472179, -2.4151038247887273, -0.09893139723269141, 0.3183672750508919, -1.0378675424182902, 0.287212016653486, -3.79126376982542, -0.8481039639987642, -0.3083120890222015, 1.793456070709133, -1.195369054487541, 1.0073436597216414, -1.2597272629060985, 1.8384369506007168, 0.37605391208689704, 0.6314748697418396, 0.5955215842189099, -0.10636349138020569, -1.4523789133361966, 2.4449306585882913, -0.29666309294170307, -0.21758145830572764, -0.7779081958035611, 0.1354671171040796, 0.15111110801098596, -0.8735875946797669, 2.108292328999151, 0.5581931925719561, -0.028223326518975078, 0.514591322068852, -0.7160014933804951, 1.0216913238644663, -1.3091472140787501, 0.25368841660167313, 0.6179071895170258, -0.34256487682349746, 1.4664115902589256, 0.6724977799274586, -0.8666211910244764, 1.0906099527040427, -2.6320438549269682, -1.2044405223200088, 0.09772313314017038, -0.18085756910776699, 0.18166012654149388, -0.6225026019819604, -1.0801935697404188, 0.6784957157116219], \"xaxis\": \"x13\", \"y\": [0.1348211493105177, 1.331072068722212, -1.856840393991974, -1.0826692199085175, -1.4861759389019042, 0.9448367510453909, 0.9002622575274538, 0.2399951548724196, -2.7173109542978042, 0.6358996172944497, 0.013757881283311239, -0.30715286666621483, 0.36698070920852155, -0.8241317881946497, -1.5208647650174614, -0.7354562768430071, -1.2537972621985167, 0.8879858198033864, -0.7099413000745913, -0.6240399942306015, 2.2184997482400917, 0.2566080222408146, -0.7233435325170695, -0.36585809401055946, -1.5176547330218004, 0.5428843962132254, -0.4398698888030055, 0.343625536158871, 0.1981011674381106, 0.8065099979206843, -1.3603521867792383, -0.17187123307592236, -1.6779996175054712, 0.38561612398650275, -2.012641034881616, -0.37708334812546124, -0.04562884599330884, -0.4009859990959282, 0.6939560396032762, -1.78589611443427, -1.869929131699314, -1.399889560058229, 0.15886750495167176, -0.3242586354086578, 0.9034370869926133, -0.5786721926747008, -0.8674333759306216, 0.3454016300783812, -0.20187575531975432, 0.5731724210192811, 0.23715723874630953, 1.106720036550557, 0.9690019581797024, 0.5959919953305238, 1.3582327789677624, -0.18367776327384572, -1.4022175568766304, -0.023017278639227246, 0.3169347429440951, 1.6603832291117644, -0.8495586844825627, 1.1618684561968171, -0.948641960168968, 0.4354038402751054, 1.8365202541015424, -0.1825034667378457, -0.38320184376570177, 0.41371927923165663, -0.4562605062334397, -0.29220079785319764, -0.041964047096023624, 0.9246400743910076, 0.7486839011837545, 0.2158078060728754, -0.6879751583409635, 1.2030021629063608, 1.0873298065069406, -1.1628069379634776, 0.9894835492205013, -1.2539601106537022, -2.2373877359023164, -0.2631588365834419, 1.361965225380507, -0.5719167168501775, 0.5136380454219858, 2.68058524805295, 0.7179977132596467, 0.9458129117680553, -1.8728427934674337, 1.3507462150713798, 2.004330894660265, -0.6651732025284808, -0.328919945248043, 0.691612592123649, 1.2548065655832024, 0.37875592667530106, 0.17997557036559772, -0.5682732751177091, -0.6318359329537082, -0.5939026606920121], \"yaxis\": \"y13\"}, {\"line\": {\"color\": \"rgba(128, 128, 128, 1.0)\", \"dash\": \"solid\", \"shape\": \"linear\", \"width\": 1.3}, \"marker\": {\"size\": 2, \"symbol\": \"circle\"}, \"mode\": \"markers\", \"name\": \"D\", \"text\": \"\", \"type\": \"scatter\", \"x\": [2.954682519418268, 1.2365829943535065, 2.104707567465196, 0.6633122537619591, 0.1538540084551306, 0.23170758817037124, -0.43025246824322605, -0.8062172600617752, 0.046277835727682744, -0.1452225853859939, -0.657776484401953, 0.053257950611550565, 1.5457051738269376, -1.3621708275952347, -0.15216947551494678, -0.7568602100782479, 0.29130806187656605, -1.130874456411832, -0.4631759857994132, -0.14116155647866782, 0.7118687205278166, -1.5500933264992216, 0.23684817274769057, -0.795400792746069, -1.7188704299757898, -0.49587136119877157, 1.0845807749581031, 1.3216725689195945, -0.8772702282109345, -0.6533764162042501, 3.2761707724560956, -0.6205202155431992, -0.13674014934522996, 0.3545319778991714, 0.26694297117685484, -0.07977085536555945, -0.015089174982792847, 0.9816931248247944, -0.9110304148970944, -0.3059876199479298, 0.6662941303764393, -0.23594236213250566, 0.5387516865350658, -0.8591039221027258, -0.4438675856675307, -0.42581560653971906, 1.5211561268716567, -0.3646030143739634, 1.4187212257471844, 0.5596787266396095, -0.20374108789784603, -0.977789621874286, -0.4972843153163968, 1.0519834196489215, 0.8798947682126929, 0.57401381845951, 0.5221857963465762, -0.20410583046198696, -0.7271785758926677, -0.5507149743855863, -0.12348649822361285, -0.34865126481223113, 0.37519336960418925, 0.2054370890711027, -0.3686501583006007, -0.9308147821700553, -0.5101649714460124, -1.312756296156895, -0.6872924129121585, 0.2431653092979941, -0.4680574915932994, 0.25846307724269496, 1.109367302357436, -1.046566276737933, -0.4507778326412062, -0.9890841839195814, -1.1484905543171988, 0.13438786165027108, -2.2366854653203547, -1.7598337752374726, 0.3870442907617244, 1.2678397112271507, 1.263679739194867, -0.13001732439442706, -1.9931688174259747, 0.6132591928043307, 0.10547007627853718, 0.1228225407414566, -2.0286967006534655, 0.4496012985812599, -0.40793324413434073, 1.7038975915424757, -0.7621430975695681, 1.2001373603508956, -0.6727126847149263, -0.2901948996138198, 0.2785826649259012, 0.12294192744039334, -1.17265209109376, 0.9131529756743128], \"xaxis\": \"x14\", \"y\": [0.1348211493105177, 1.331072068722212, -1.856840393991974, -1.0826692199085175, -1.4861759389019042, 0.9448367510453909, 0.9002622575274538, 0.2399951548724196, -2.7173109542978042, 0.6358996172944497, 0.013757881283311239, -0.30715286666621483, 0.36698070920852155, -0.8241317881946497, -1.5208647650174614, -0.7354562768430071, -1.2537972621985167, 0.8879858198033864, -0.7099413000745913, -0.6240399942306015, 2.2184997482400917, 0.2566080222408146, -0.7233435325170695, -0.36585809401055946, -1.5176547330218004, 0.5428843962132254, -0.4398698888030055, 0.343625536158871, 0.1981011674381106, 0.8065099979206843, -1.3603521867792383, -0.17187123307592236, -1.6779996175054712, 0.38561612398650275, -2.012641034881616, -0.37708334812546124, -0.04562884599330884, -0.4009859990959282, 0.6939560396032762, -1.78589611443427, -1.869929131699314, -1.399889560058229, 0.15886750495167176, -0.3242586354086578, 0.9034370869926133, -0.5786721926747008, -0.8674333759306216, 0.3454016300783812, -0.20187575531975432, 0.5731724210192811, 0.23715723874630953, 1.106720036550557, 0.9690019581797024, 0.5959919953305238, 1.3582327789677624, -0.18367776327384572, -1.4022175568766304, -0.023017278639227246, 0.3169347429440951, 1.6603832291117644, -0.8495586844825627, 1.1618684561968171, -0.948641960168968, 0.4354038402751054, 1.8365202541015424, -0.1825034667378457, -0.38320184376570177, 0.41371927923165663, -0.4562605062334397, -0.29220079785319764, -0.041964047096023624, 0.9246400743910076, 0.7486839011837545, 0.2158078060728754, -0.6879751583409635, 1.2030021629063608, 1.0873298065069406, -1.1628069379634776, 0.9894835492205013, -1.2539601106537022, -2.2373877359023164, -0.2631588365834419, 1.361965225380507, -0.5719167168501775, 0.5136380454219858, 2.68058524805295, 0.7179977132596467, 0.9458129117680553, -1.8728427934674337, 1.3507462150713798, 2.004330894660265, -0.6651732025284808, -0.328919945248043, 0.691612592123649, 1.2548065655832024, 0.37875592667530106, 0.17997557036559772, -0.5682732751177091, -0.6318359329537082, -0.5939026606920121], \"yaxis\": \"y14\"}, {\"line\": {\"color\": \"rgba(128, 128, 128, 1.0)\", \"dash\": \"solid\", \"shape\": \"linear\", \"width\": 1.3}, \"marker\": {\"size\": 2, \"symbol\": \"circle\"}, \"mode\": \"markers\", \"name\": \"D\", \"text\": \"\", \"type\": \"scatter\", \"x\": [0.695594519761371, -0.7451101083358315, -1.3092545798623205, -1.148967679813761, -2.1499901091118283, 0.16921733208513434, -1.652035274965219, -0.06536511772995664, -0.451555039427988, 2.5508875085079254, 1.6432397771654574, 2.175007969085216, -1.183349169847012, -0.2803436459544689, 0.3113778761058616, 0.6580789933974976, -1.2871858908274494, 0.9421677539359915, -1.27898705793451, 1.5220905163816603, 0.172627185075392, -0.2920546413135475, -3.2200752056661366, -0.6595483098958985, -0.037209911818583956, -1.9113396033227792, 0.7495406055142672, 0.6122124912669217, -1.649923917785392, 0.24031623434340352, -0.9305668877584682, -0.17927603028592373, -0.6189685160089439, -0.10426964419885773, -1.584842525233409, 1.3008582838270968, 0.9627046666914726, -0.07243392267314792, -1.0550103985991441, -0.42292256301955466, -0.0816781964074479, -0.3831036956544528, -0.18646700797564847, 1.9161854583075255, 1.987584099296576, 0.503544436898424, -1.6917730357682448, 1.2140789508574432, 0.9544265944842146, 0.07235024083734189, 0.30208565258184666, 0.8493376013882723, 0.6094930176110523, -0.4197814073474403, -0.8892714466838095, -0.27573081018871615, 3.06633035138194, 1.115310615469231, -0.5629187882893806, -1.7751598399064026, -0.22054072021463594, -0.1250791946004363, 0.20207024305742066, 0.012822231749756524, 0.7630588279922778, -0.7816538608318876, -1.1429232919669339, 0.2819344067155209, -0.8882891798691497, 0.31157165384845725, 0.4059458147284747, 2.6654818835155956, 0.08870181610828648, 0.622983938101566, 0.007318167216649481, 1.1582841684738987, 0.3045017436015654, -0.96055674405388, -1.5729460031035347, -1.5352180576477532, 2.0016917048090974, 0.32958653439078367, 0.6779242903392502, -0.3490746406178837, 0.03283304032337678, -1.3940960375701712, -0.9332614368379432, -0.48306539946151844, 0.03717416280524384, -1.9064036857319562, -0.46771930351655083, 0.9276597763861216, -0.5758620461840461, -0.1980995575800092, -0.5506458950883171, -0.2243089631924862, 0.1512145499046544, -0.3543541912031643, -0.16606095706018428, -0.31715418224932196], \"xaxis\": \"x15\", \"y\": [0.1348211493105177, 1.331072068722212, -1.856840393991974, -1.0826692199085175, -1.4861759389019042, 0.9448367510453909, 0.9002622575274538, 0.2399951548724196, -2.7173109542978042, 0.6358996172944497, 0.013757881283311239, -0.30715286666621483, 0.36698070920852155, -0.8241317881946497, -1.5208647650174614, -0.7354562768430071, -1.2537972621985167, 0.8879858198033864, -0.7099413000745913, -0.6240399942306015, 2.2184997482400917, 0.2566080222408146, -0.7233435325170695, -0.36585809401055946, -1.5176547330218004, 0.5428843962132254, -0.4398698888030055, 0.343625536158871, 0.1981011674381106, 0.8065099979206843, -1.3603521867792383, -0.17187123307592236, -1.6779996175054712, 0.38561612398650275, -2.012641034881616, -0.37708334812546124, -0.04562884599330884, -0.4009859990959282, 0.6939560396032762, -1.78589611443427, -1.869929131699314, -1.399889560058229, 0.15886750495167176, -0.3242586354086578, 0.9034370869926133, -0.5786721926747008, -0.8674333759306216, 0.3454016300783812, -0.20187575531975432, 0.5731724210192811, 0.23715723874630953, 1.106720036550557, 0.9690019581797024, 0.5959919953305238, 1.3582327789677624, -0.18367776327384572, -1.4022175568766304, -0.023017278639227246, 0.3169347429440951, 1.6603832291117644, -0.8495586844825627, 1.1618684561968171, -0.948641960168968, 0.4354038402751054, 1.8365202541015424, -0.1825034667378457, -0.38320184376570177, 0.41371927923165663, -0.4562605062334397, -0.29220079785319764, -0.041964047096023624, 0.9246400743910076, 0.7486839011837545, 0.2158078060728754, -0.6879751583409635, 1.2030021629063608, 1.0873298065069406, -1.1628069379634776, 0.9894835492205013, -1.2539601106537022, -2.2373877359023164, -0.2631588365834419, 1.361965225380507, -0.5719167168501775, 0.5136380454219858, 2.68058524805295, 0.7179977132596467, 0.9458129117680553, -1.8728427934674337, 1.3507462150713798, 2.004330894660265, -0.6651732025284808, -0.328919945248043, 0.691612592123649, 1.2548065655832024, 0.37875592667530106, 0.17997557036559772, -0.5682732751177091, -0.6318359329537082, -0.5939026606920121], \"yaxis\": \"y15\"}, {\"histfunc\": \"count\", \"histnorm\": \"\", \"marker\": {\"color\": \"rgba(128, 0, 128, 1.0)\", \"line\": {\"color\": \"#4D5663\", \"width\": 1.3}}, \"name\": \"D\", \"nbinsx\": 10, \"opacity\": 0.8, \"orientation\": \"v\", \"type\": \"histogram\", \"x\": [0.1348211493105177, 1.331072068722212, -1.856840393991974, -1.0826692199085175, -1.4861759389019042, 0.9448367510453909, 0.9002622575274538, 0.2399951548724196, -2.7173109542978042, 0.6358996172944497, 0.013757881283311239, -0.30715286666621483, 0.36698070920852155, -0.8241317881946497, -1.5208647650174614, -0.7354562768430071, -1.2537972621985167, 0.8879858198033864, -0.7099413000745913, -0.6240399942306015, 2.2184997482400917, 0.2566080222408146, -0.7233435325170695, -0.36585809401055946, -1.5176547330218004, 0.5428843962132254, -0.4398698888030055, 0.343625536158871, 0.1981011674381106, 0.8065099979206843, -1.3603521867792383, -0.17187123307592236, -1.6779996175054712, 0.38561612398650275, -2.012641034881616, -0.37708334812546124, -0.04562884599330884, -0.4009859990959282, 0.6939560396032762, -1.78589611443427, -1.869929131699314, -1.399889560058229, 0.15886750495167176, -0.3242586354086578, 0.9034370869926133, -0.5786721926747008, -0.8674333759306216, 0.3454016300783812, -0.20187575531975432, 0.5731724210192811, 0.23715723874630953, 1.106720036550557, 0.9690019581797024, 0.5959919953305238, 1.3582327789677624, -0.18367776327384572, -1.4022175568766304, -0.023017278639227246, 0.3169347429440951, 1.6603832291117644, -0.8495586844825627, 1.1618684561968171, -0.948641960168968, 0.4354038402751054, 1.8365202541015424, -0.1825034667378457, -0.38320184376570177, 0.41371927923165663, -0.4562605062334397, -0.29220079785319764, -0.041964047096023624, 0.9246400743910076, 0.7486839011837545, 0.2158078060728754, -0.6879751583409635, 1.2030021629063608, 1.0873298065069406, -1.1628069379634776, 0.9894835492205013, -1.2539601106537022, -2.2373877359023164, -0.2631588365834419, 1.361965225380507, -0.5719167168501775, 0.5136380454219858, 2.68058524805295, 0.7179977132596467, 0.9458129117680553, -1.8728427934674337, 1.3507462150713798, 2.004330894660265, -0.6651732025284808, -0.328919945248043, 0.691612592123649, 1.2548065655832024, 0.37875592667530106, 0.17997557036559772, -0.5682732751177091, -0.6318359329537082, -0.5939026606920121], \"xaxis\": \"x16\", \"yaxis\": \"y16\"}],\n",
       "                        {\"bargap\": 0.02, \"legend\": {\"bgcolor\": \"#F5F6F9\", \"font\": {\"color\": \"#4D5663\"}}, \"paper_bgcolor\": \"#F5F6F9\", \"plot_bgcolor\": \"#F5F6F9\", \"showlegend\": false, \"template\": {\"data\": {\"bar\": [{\"error_x\": {\"color\": \"#2a3f5f\"}, \"error_y\": {\"color\": \"#2a3f5f\"}, \"marker\": {\"line\": {\"color\": \"#E5ECF6\", \"width\": 0.5}}, \"type\": \"bar\"}], \"barpolar\": [{\"marker\": {\"line\": {\"color\": \"#E5ECF6\", \"width\": 0.5}}, \"type\": \"barpolar\"}], \"carpet\": [{\"aaxis\": {\"endlinecolor\": \"#2a3f5f\", \"gridcolor\": \"white\", \"linecolor\": \"white\", \"minorgridcolor\": \"white\", \"startlinecolor\": \"#2a3f5f\"}, \"baxis\": {\"endlinecolor\": \"#2a3f5f\", \"gridcolor\": \"white\", \"linecolor\": \"white\", \"minorgridcolor\": \"white\", \"startlinecolor\": \"#2a3f5f\"}, \"type\": \"carpet\"}], \"choropleth\": [{\"colorbar\": {\"outlinewidth\": 0, \"ticks\": \"\"}, \"type\": \"choropleth\"}], \"contour\": [{\"colorbar\": {\"outlinewidth\": 0, \"ticks\": \"\"}, \"colorscale\": [[0.0, \"#0d0887\"], [0.1111111111111111, \"#46039f\"], [0.2222222222222222, \"#7201a8\"], [0.3333333333333333, \"#9c179e\"], [0.4444444444444444, \"#bd3786\"], [0.5555555555555556, \"#d8576b\"], [0.6666666666666666, \"#ed7953\"], [0.7777777777777778, \"#fb9f3a\"], [0.8888888888888888, \"#fdca26\"], [1.0, \"#f0f921\"]], \"type\": \"contour\"}], \"contourcarpet\": [{\"colorbar\": {\"outlinewidth\": 0, \"ticks\": \"\"}, \"type\": \"contourcarpet\"}], \"heatmap\": [{\"colorbar\": {\"outlinewidth\": 0, \"ticks\": \"\"}, \"colorscale\": [[0.0, \"#0d0887\"], [0.1111111111111111, \"#46039f\"], [0.2222222222222222, \"#7201a8\"], [0.3333333333333333, \"#9c179e\"], [0.4444444444444444, \"#bd3786\"], [0.5555555555555556, \"#d8576b\"], [0.6666666666666666, \"#ed7953\"], [0.7777777777777778, \"#fb9f3a\"], [0.8888888888888888, \"#fdca26\"], [1.0, \"#f0f921\"]], \"type\": \"heatmap\"}], \"heatmapgl\": [{\"colorbar\": {\"outlinewidth\": 0, \"ticks\": \"\"}, \"colorscale\": [[0.0, \"#0d0887\"], [0.1111111111111111, \"#46039f\"], [0.2222222222222222, \"#7201a8\"], [0.3333333333333333, \"#9c179e\"], [0.4444444444444444, \"#bd3786\"], [0.5555555555555556, \"#d8576b\"], [0.6666666666666666, \"#ed7953\"], [0.7777777777777778, \"#fb9f3a\"], [0.8888888888888888, \"#fdca26\"], [1.0, \"#f0f921\"]], \"type\": \"heatmapgl\"}], \"histogram\": [{\"marker\": {\"colorbar\": {\"outlinewidth\": 0, \"ticks\": \"\"}}, \"type\": \"histogram\"}], \"histogram2d\": [{\"colorbar\": {\"outlinewidth\": 0, \"ticks\": \"\"}, \"colorscale\": [[0.0, \"#0d0887\"], [0.1111111111111111, \"#46039f\"], [0.2222222222222222, \"#7201a8\"], [0.3333333333333333, \"#9c179e\"], [0.4444444444444444, \"#bd3786\"], [0.5555555555555556, \"#d8576b\"], [0.6666666666666666, \"#ed7953\"], [0.7777777777777778, \"#fb9f3a\"], [0.8888888888888888, \"#fdca26\"], [1.0, \"#f0f921\"]], \"type\": \"histogram2d\"}], \"histogram2dcontour\": [{\"colorbar\": {\"outlinewidth\": 0, \"ticks\": \"\"}, \"colorscale\": [[0.0, \"#0d0887\"], [0.1111111111111111, \"#46039f\"], [0.2222222222222222, \"#7201a8\"], [0.3333333333333333, \"#9c179e\"], [0.4444444444444444, \"#bd3786\"], [0.5555555555555556, \"#d8576b\"], [0.6666666666666666, \"#ed7953\"], [0.7777777777777778, \"#fb9f3a\"], [0.8888888888888888, \"#fdca26\"], [1.0, \"#f0f921\"]], \"type\": \"histogram2dcontour\"}], \"mesh3d\": [{\"colorbar\": {\"outlinewidth\": 0, \"ticks\": \"\"}, \"type\": \"mesh3d\"}], \"parcoords\": [{\"line\": {\"colorbar\": {\"outlinewidth\": 0, \"ticks\": \"\"}}, \"type\": \"parcoords\"}], \"pie\": [{\"automargin\": true, \"type\": \"pie\"}], \"scatter\": [{\"marker\": {\"colorbar\": {\"outlinewidth\": 0, \"ticks\": \"\"}}, \"type\": \"scatter\"}], \"scatter3d\": [{\"line\": {\"colorbar\": {\"outlinewidth\": 0, \"ticks\": \"\"}}, \"marker\": {\"colorbar\": {\"outlinewidth\": 0, \"ticks\": \"\"}}, \"type\": \"scatter3d\"}], \"scattercarpet\": [{\"marker\": {\"colorbar\": {\"outlinewidth\": 0, \"ticks\": \"\"}}, \"type\": \"scattercarpet\"}], \"scattergeo\": [{\"marker\": {\"colorbar\": {\"outlinewidth\": 0, \"ticks\": \"\"}}, \"type\": \"scattergeo\"}], \"scattergl\": [{\"marker\": {\"colorbar\": {\"outlinewidth\": 0, \"ticks\": \"\"}}, \"type\": \"scattergl\"}], \"scattermapbox\": [{\"marker\": {\"colorbar\": {\"outlinewidth\": 0, \"ticks\": \"\"}}, \"type\": \"scattermapbox\"}], \"scatterpolar\": [{\"marker\": {\"colorbar\": {\"outlinewidth\": 0, \"ticks\": \"\"}}, \"type\": \"scatterpolar\"}], \"scatterpolargl\": [{\"marker\": {\"colorbar\": {\"outlinewidth\": 0, \"ticks\": \"\"}}, \"type\": \"scatterpolargl\"}], \"scatterternary\": [{\"marker\": {\"colorbar\": {\"outlinewidth\": 0, \"ticks\": \"\"}}, \"type\": \"scatterternary\"}], \"surface\": [{\"colorbar\": {\"outlinewidth\": 0, \"ticks\": \"\"}, \"colorscale\": [[0.0, \"#0d0887\"], [0.1111111111111111, \"#46039f\"], [0.2222222222222222, \"#7201a8\"], [0.3333333333333333, \"#9c179e\"], [0.4444444444444444, \"#bd3786\"], [0.5555555555555556, \"#d8576b\"], [0.6666666666666666, \"#ed7953\"], [0.7777777777777778, \"#fb9f3a\"], [0.8888888888888888, \"#fdca26\"], [1.0, \"#f0f921\"]], \"type\": \"surface\"}], \"table\": [{\"cells\": {\"fill\": {\"color\": \"#EBF0F8\"}, \"line\": {\"color\": \"white\"}}, \"header\": {\"fill\": {\"color\": \"#C8D4E3\"}, \"line\": {\"color\": \"white\"}}, \"type\": \"table\"}]}, \"layout\": {\"annotationdefaults\": {\"arrowcolor\": \"#2a3f5f\", \"arrowhead\": 0, \"arrowwidth\": 1}, \"coloraxis\": {\"colorbar\": {\"outlinewidth\": 0, \"ticks\": \"\"}}, \"colorscale\": {\"diverging\": [[0, \"#8e0152\"], [0.1, \"#c51b7d\"], [0.2, \"#de77ae\"], [0.3, \"#f1b6da\"], [0.4, \"#fde0ef\"], [0.5, \"#f7f7f7\"], [0.6, \"#e6f5d0\"], [0.7, \"#b8e186\"], [0.8, \"#7fbc41\"], [0.9, \"#4d9221\"], [1, \"#276419\"]], \"sequential\": [[0.0, \"#0d0887\"], [0.1111111111111111, \"#46039f\"], [0.2222222222222222, \"#7201a8\"], [0.3333333333333333, \"#9c179e\"], [0.4444444444444444, \"#bd3786\"], [0.5555555555555556, \"#d8576b\"], [0.6666666666666666, \"#ed7953\"], [0.7777777777777778, \"#fb9f3a\"], [0.8888888888888888, \"#fdca26\"], [1.0, \"#f0f921\"]], \"sequentialminus\": [[0.0, \"#0d0887\"], [0.1111111111111111, \"#46039f\"], [0.2222222222222222, \"#7201a8\"], [0.3333333333333333, \"#9c179e\"], [0.4444444444444444, \"#bd3786\"], [0.5555555555555556, \"#d8576b\"], [0.6666666666666666, \"#ed7953\"], [0.7777777777777778, \"#fb9f3a\"], [0.8888888888888888, \"#fdca26\"], [1.0, \"#f0f921\"]]}, \"colorway\": [\"#636efa\", \"#EF553B\", \"#00cc96\", \"#ab63fa\", \"#FFA15A\", \"#19d3f3\", \"#FF6692\", \"#B6E880\", \"#FF97FF\", \"#FECB52\"], \"font\": {\"color\": \"#2a3f5f\"}, \"geo\": {\"bgcolor\": \"white\", \"lakecolor\": \"white\", \"landcolor\": \"#E5ECF6\", \"showlakes\": true, \"showland\": true, \"subunitcolor\": \"white\"}, \"hoverlabel\": {\"align\": \"left\"}, \"hovermode\": \"closest\", \"mapbox\": {\"style\": \"light\"}, \"paper_bgcolor\": \"white\", \"plot_bgcolor\": \"#E5ECF6\", \"polar\": {\"angularaxis\": {\"gridcolor\": \"white\", \"linecolor\": \"white\", \"ticks\": \"\"}, \"bgcolor\": \"#E5ECF6\", \"radialaxis\": {\"gridcolor\": \"white\", \"linecolor\": \"white\", \"ticks\": \"\"}}, \"scene\": {\"xaxis\": {\"backgroundcolor\": \"#E5ECF6\", \"gridcolor\": \"white\", \"gridwidth\": 2, \"linecolor\": \"white\", \"showbackground\": true, \"ticks\": \"\", \"zerolinecolor\": \"white\"}, \"yaxis\": {\"backgroundcolor\": \"#E5ECF6\", \"gridcolor\": \"white\", \"gridwidth\": 2, \"linecolor\": \"white\", \"showbackground\": true, \"ticks\": \"\", \"zerolinecolor\": \"white\"}, \"zaxis\": {\"backgroundcolor\": \"#E5ECF6\", \"gridcolor\": \"white\", \"gridwidth\": 2, \"linecolor\": \"white\", \"showbackground\": true, \"ticks\": \"\", \"zerolinecolor\": \"white\"}}, \"shapedefaults\": {\"line\": {\"color\": \"#2a3f5f\"}}, \"ternary\": {\"aaxis\": {\"gridcolor\": \"white\", \"linecolor\": \"white\", \"ticks\": \"\"}, \"baxis\": {\"gridcolor\": \"white\", \"linecolor\": \"white\", \"ticks\": \"\"}, \"bgcolor\": \"#E5ECF6\", \"caxis\": {\"gridcolor\": \"white\", \"linecolor\": \"white\", \"ticks\": \"\"}}, \"title\": {\"x\": 0.05}, \"xaxis\": {\"automargin\": true, \"gridcolor\": \"white\", \"linecolor\": \"white\", \"ticks\": \"\", \"title\": {\"standoff\": 15}, \"zerolinecolor\": \"white\", \"zerolinewidth\": 2}, \"yaxis\": {\"automargin\": true, \"gridcolor\": \"white\", \"linecolor\": \"white\", \"ticks\": \"\", \"title\": {\"standoff\": 15}, \"zerolinecolor\": \"white\", \"zerolinewidth\": 2}}}, \"title\": {\"font\": {\"color\": \"#4D5663\"}}, \"xaxis\": {\"anchor\": \"y\", \"domain\": [0.0, 0.2125], \"gridcolor\": \"#E1E5ED\", \"showgrid\": false, \"tickfont\": {\"color\": \"#4D5663\"}, \"title\": {\"font\": {\"color\": \"#4D5663\"}, \"text\": \"\"}, \"zerolinecolor\": \"#E1E5ED\"}, \"xaxis10\": {\"anchor\": \"y10\", \"domain\": [0.2625, 0.475], \"gridcolor\": \"#E1E5ED\", \"showgrid\": false, \"tickfont\": {\"color\": \"#4D5663\"}, \"title\": {\"font\": {\"color\": \"#4D5663\"}, \"text\": \"\"}, \"zerolinecolor\": \"#E1E5ED\"}, \"xaxis11\": {\"anchor\": \"y11\", \"domain\": [0.525, 0.7375], \"gridcolor\": \"#E1E5ED\", \"showgrid\": false, \"tickfont\": {\"color\": \"#4D5663\"}, \"title\": {\"font\": {\"color\": \"#4D5663\"}, \"text\": \"\"}, \"zerolinecolor\": \"#E1E5ED\"}, \"xaxis12\": {\"anchor\": \"y12\", \"domain\": [0.7875, 1.0], \"gridcolor\": \"#E1E5ED\", \"showgrid\": false, \"tickfont\": {\"color\": \"#4D5663\"}, \"title\": {\"font\": {\"color\": \"#4D5663\"}, \"text\": \"\"}, \"zerolinecolor\": \"#E1E5ED\"}, \"xaxis13\": {\"anchor\": \"y13\", \"domain\": [0.0, 0.2125], \"gridcolor\": \"#E1E5ED\", \"showgrid\": false, \"tickfont\": {\"color\": \"#4D5663\"}, \"title\": {\"font\": {\"color\": \"#4D5663\"}, \"text\": \"\"}, \"zerolinecolor\": \"#E1E5ED\"}, \"xaxis14\": {\"anchor\": \"y14\", \"domain\": [0.2625, 0.475], \"gridcolor\": \"#E1E5ED\", \"showgrid\": false, \"tickfont\": {\"color\": \"#4D5663\"}, \"title\": {\"font\": {\"color\": \"#4D5663\"}, \"text\": \"\"}, \"zerolinecolor\": \"#E1E5ED\"}, \"xaxis15\": {\"anchor\": \"y15\", \"domain\": [0.525, 0.7375], \"gridcolor\": \"#E1E5ED\", \"showgrid\": false, \"tickfont\": {\"color\": \"#4D5663\"}, \"title\": {\"font\": {\"color\": \"#4D5663\"}, \"text\": \"\"}, \"zerolinecolor\": \"#E1E5ED\"}, \"xaxis16\": {\"anchor\": \"y16\", \"domain\": [0.7875, 1.0], \"gridcolor\": \"#E1E5ED\", \"showgrid\": false, \"tickfont\": {\"color\": \"#4D5663\"}, \"title\": {\"font\": {\"color\": \"#4D5663\"}, \"text\": \"\"}, \"zerolinecolor\": \"#E1E5ED\"}, \"xaxis2\": {\"anchor\": \"y2\", \"domain\": [0.2625, 0.475], \"gridcolor\": \"#E1E5ED\", \"showgrid\": false, \"tickfont\": {\"color\": \"#4D5663\"}, \"title\": {\"font\": {\"color\": \"#4D5663\"}, \"text\": \"\"}, \"zerolinecolor\": \"#E1E5ED\"}, \"xaxis3\": {\"anchor\": \"y3\", \"domain\": [0.525, 0.7375], \"gridcolor\": \"#E1E5ED\", \"showgrid\": false, \"tickfont\": {\"color\": \"#4D5663\"}, \"title\": {\"font\": {\"color\": \"#4D5663\"}, \"text\": \"\"}, \"zerolinecolor\": \"#E1E5ED\"}, \"xaxis4\": {\"anchor\": \"y4\", \"domain\": [0.7875, 1.0], \"gridcolor\": \"#E1E5ED\", \"showgrid\": false, \"tickfont\": {\"color\": \"#4D5663\"}, \"title\": {\"font\": {\"color\": \"#4D5663\"}, \"text\": \"\"}, \"zerolinecolor\": \"#E1E5ED\"}, \"xaxis5\": {\"anchor\": \"y5\", \"domain\": [0.0, 0.2125], \"gridcolor\": \"#E1E5ED\", \"showgrid\": false, \"tickfont\": {\"color\": \"#4D5663\"}, \"title\": {\"font\": {\"color\": \"#4D5663\"}, \"text\": \"\"}, \"zerolinecolor\": \"#E1E5ED\"}, \"xaxis6\": {\"anchor\": \"y6\", \"domain\": [0.2625, 0.475], \"gridcolor\": \"#E1E5ED\", \"showgrid\": false, \"tickfont\": {\"color\": \"#4D5663\"}, \"title\": {\"font\": {\"color\": \"#4D5663\"}, \"text\": \"\"}, \"zerolinecolor\": \"#E1E5ED\"}, \"xaxis7\": {\"anchor\": \"y7\", \"domain\": [0.525, 0.7375], \"gridcolor\": \"#E1E5ED\", \"showgrid\": false, \"tickfont\": {\"color\": \"#4D5663\"}, \"title\": {\"font\": {\"color\": \"#4D5663\"}, \"text\": \"\"}, \"zerolinecolor\": \"#E1E5ED\"}, \"xaxis8\": {\"anchor\": \"y8\", \"domain\": [0.7875, 1.0], \"gridcolor\": \"#E1E5ED\", \"showgrid\": false, \"tickfont\": {\"color\": \"#4D5663\"}, \"title\": {\"font\": {\"color\": \"#4D5663\"}, \"text\": \"\"}, \"zerolinecolor\": \"#E1E5ED\"}, \"xaxis9\": {\"anchor\": \"y9\", \"domain\": [0.0, 0.2125], \"gridcolor\": \"#E1E5ED\", \"showgrid\": false, \"tickfont\": {\"color\": \"#4D5663\"}, \"title\": {\"font\": {\"color\": \"#4D5663\"}, \"text\": \"\"}, \"zerolinecolor\": \"#E1E5ED\"}, \"yaxis\": {\"anchor\": \"x\", \"domain\": [0.8025, 1.0], \"gridcolor\": \"#E1E5ED\", \"showgrid\": false, \"tickfont\": {\"color\": \"#4D5663\"}, \"title\": {\"font\": {\"color\": \"#4D5663\"}, \"text\": \"\"}, \"zerolinecolor\": \"#E1E5ED\"}, \"yaxis10\": {\"anchor\": \"x10\", \"domain\": [0.2675, 0.465], \"gridcolor\": \"#E1E5ED\", \"showgrid\": false, \"tickfont\": {\"color\": \"#4D5663\"}, \"title\": {\"font\": {\"color\": \"#4D5663\"}, \"text\": \"\"}, \"zerolinecolor\": \"#E1E5ED\"}, \"yaxis11\": {\"anchor\": \"x11\", \"domain\": [0.2675, 0.465], \"gridcolor\": \"#E1E5ED\", \"showgrid\": false, \"tickfont\": {\"color\": \"#4D5663\"}, \"title\": {\"font\": {\"color\": \"#4D5663\"}, \"text\": \"\"}, \"zerolinecolor\": \"#E1E5ED\"}, \"yaxis12\": {\"anchor\": \"x12\", \"domain\": [0.2675, 0.465], \"gridcolor\": \"#E1E5ED\", \"showgrid\": false, \"tickfont\": {\"color\": \"#4D5663\"}, \"title\": {\"font\": {\"color\": \"#4D5663\"}, \"text\": \"\"}, \"zerolinecolor\": \"#E1E5ED\"}, \"yaxis13\": {\"anchor\": \"x13\", \"domain\": [0.0, 0.1975], \"gridcolor\": \"#E1E5ED\", \"showgrid\": false, \"tickfont\": {\"color\": \"#4D5663\"}, \"title\": {\"font\": {\"color\": \"#4D5663\"}, \"text\": \"\"}, \"zerolinecolor\": \"#E1E5ED\"}, \"yaxis14\": {\"anchor\": \"x14\", \"domain\": [0.0, 0.1975], \"gridcolor\": \"#E1E5ED\", \"showgrid\": false, \"tickfont\": {\"color\": \"#4D5663\"}, \"title\": {\"font\": {\"color\": \"#4D5663\"}, \"text\": \"\"}, \"zerolinecolor\": \"#E1E5ED\"}, \"yaxis15\": {\"anchor\": \"x15\", \"domain\": [0.0, 0.1975], \"gridcolor\": \"#E1E5ED\", \"showgrid\": false, \"tickfont\": {\"color\": \"#4D5663\"}, \"title\": {\"font\": {\"color\": \"#4D5663\"}, \"text\": \"\"}, \"zerolinecolor\": \"#E1E5ED\"}, \"yaxis16\": {\"anchor\": \"x16\", \"domain\": [0.0, 0.1975], \"gridcolor\": \"#E1E5ED\", \"showgrid\": false, \"tickfont\": {\"color\": \"#4D5663\"}, \"title\": {\"font\": {\"color\": \"#4D5663\"}, \"text\": \"\"}, \"zerolinecolor\": \"#E1E5ED\"}, \"yaxis2\": {\"anchor\": \"x2\", \"domain\": [0.8025, 1.0], \"gridcolor\": \"#E1E5ED\", \"showgrid\": false, \"tickfont\": {\"color\": \"#4D5663\"}, \"title\": {\"font\": {\"color\": \"#4D5663\"}, \"text\": \"\"}, \"zerolinecolor\": \"#E1E5ED\"}, \"yaxis3\": {\"anchor\": \"x3\", \"domain\": [0.8025, 1.0], \"gridcolor\": \"#E1E5ED\", \"showgrid\": false, \"tickfont\": {\"color\": \"#4D5663\"}, \"title\": {\"font\": {\"color\": \"#4D5663\"}, \"text\": \"\"}, \"zerolinecolor\": \"#E1E5ED\"}, \"yaxis4\": {\"anchor\": \"x4\", \"domain\": [0.8025, 1.0], \"gridcolor\": \"#E1E5ED\", \"showgrid\": false, \"tickfont\": {\"color\": \"#4D5663\"}, \"title\": {\"font\": {\"color\": \"#4D5663\"}, \"text\": \"\"}, \"zerolinecolor\": \"#E1E5ED\"}, \"yaxis5\": {\"anchor\": \"x5\", \"domain\": [0.535, 0.7325], \"gridcolor\": \"#E1E5ED\", \"showgrid\": false, \"tickfont\": {\"color\": \"#4D5663\"}, \"title\": {\"font\": {\"color\": \"#4D5663\"}, \"text\": \"\"}, \"zerolinecolor\": \"#E1E5ED\"}, \"yaxis6\": {\"anchor\": \"x6\", \"domain\": [0.535, 0.7325], \"gridcolor\": \"#E1E5ED\", \"showgrid\": false, \"tickfont\": {\"color\": \"#4D5663\"}, \"title\": {\"font\": {\"color\": \"#4D5663\"}, \"text\": \"\"}, \"zerolinecolor\": \"#E1E5ED\"}, \"yaxis7\": {\"anchor\": \"x7\", \"domain\": [0.535, 0.7325], \"gridcolor\": \"#E1E5ED\", \"showgrid\": false, \"tickfont\": {\"color\": \"#4D5663\"}, \"title\": {\"font\": {\"color\": \"#4D5663\"}, \"text\": \"\"}, \"zerolinecolor\": \"#E1E5ED\"}, \"yaxis8\": {\"anchor\": \"x8\", \"domain\": [0.535, 0.7325], \"gridcolor\": \"#E1E5ED\", \"showgrid\": false, \"tickfont\": {\"color\": \"#4D5663\"}, \"title\": {\"font\": {\"color\": \"#4D5663\"}, \"text\": \"\"}, \"zerolinecolor\": \"#E1E5ED\"}, \"yaxis9\": {\"anchor\": \"x9\", \"domain\": [0.2675, 0.465], \"gridcolor\": \"#E1E5ED\", \"showgrid\": false, \"tickfont\": {\"color\": \"#4D5663\"}, \"title\": {\"font\": {\"color\": \"#4D5663\"}, \"text\": \"\"}, \"zerolinecolor\": \"#E1E5ED\"}},\n",
       "                        {\"showLink\": true, \"linkText\": \"Export to plot.ly\", \"plotlyServerURL\": \"https://plot.ly\", \"responsive\": true}\n",
       "                    ).then(function(){\n",
       "                            \n",
       "var gd = document.getElementById('5f102cf0-6d61-4dfa-a3a6-0da5909ed576');\n",
       "var x = new MutationObserver(function (mutations, observer) {{\n",
       "        var display = window.getComputedStyle(gd).display;\n",
       "        if (!display || display === 'none') {{\n",
       "            console.log([gd, 'removed!']);\n",
       "            Plotly.purge(gd);\n",
       "            observer.disconnect();\n",
       "        }}\n",
       "}});\n",
       "\n",
       "// Listen for the removal of the full notebook cells\n",
       "var notebookContainer = gd.closest('#notebook-container');\n",
       "if (notebookContainer) {{\n",
       "    x.observe(notebookContainer, {childList: true});\n",
       "}}\n",
       "\n",
       "// Listen for the clearing of the current output cell\n",
       "var outputEl = gd.closest('.output');\n",
       "if (outputEl) {{\n",
       "    x.observe(outputEl, {childList: true});\n",
       "}}\n",
       "\n",
       "                        })\n",
       "                };\n",
       "                });\n",
       "            </script>\n",
       "        </div>"
      ]
     },
     "metadata": {},
     "output_type": "display_data"
    }
   ],
   "source": [
    "df.scatter_matrix()"
   ]
  },
  {
   "cell_type": "code",
   "execution_count": null,
   "metadata": {},
   "outputs": [],
   "source": []
  }
 ],
 "metadata": {
  "kernelspec": {
   "display_name": "Python 3",
   "language": "python",
   "name": "python3"
  },
  "language_info": {
   "codemirror_mode": {
    "name": "ipython",
    "version": 3
   },
   "file_extension": ".py",
   "mimetype": "text/x-python",
   "name": "python",
   "nbconvert_exporter": "python",
   "pygments_lexer": "ipython3",
   "version": "3.7.4"
  }
 },
 "nbformat": 4,
 "nbformat_minor": 4
}
